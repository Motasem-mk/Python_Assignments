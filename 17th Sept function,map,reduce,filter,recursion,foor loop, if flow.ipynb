{
 "cells": [
  {
   "cell_type": "markdown",
   "id": "a3262803",
   "metadata": {},
   "source": [
    "# For Loop :-"
   ]
  },
  {
   "cell_type": "markdown",
   "id": "208d2ef5",
   "metadata": {},
   "source": [
    "1- Write a Python program to print numbers from 1 to 10 using a for loop.\n"
   ]
  },
  {
   "cell_type": "code",
   "execution_count": 1,
   "id": "7d24ffb0",
   "metadata": {},
   "outputs": [
    {
     "name": "stdout",
     "output_type": "stream",
     "text": [
      "1\n",
      "2\n",
      "3\n",
      "4\n",
      "5\n",
      "6\n",
      "7\n",
      "8\n",
      "9\n",
      "10\n"
     ]
    }
   ],
   "source": [
    "for i in range(1,11):\n",
    "    print(i)\n"
   ]
  },
  {
   "cell_type": "markdown",
   "id": "4032d229",
   "metadata": {},
   "source": [
    "2-Explain the difference between a for loop and a while loop in Python."
   ]
  },
  {
   "cell_type": "markdown",
   "id": "83806aad",
   "metadata": {},
   "source": [
    "In Python, both for loops and while loops are control flow constructs that allow you to iterate over a sequence of elements or execute a block of code repeatedly, but they have some differences in terms of their syntax and use cases:\n",
    "\n",
    "1. **For Loop:**\n",
    "   - A for loop iterates over a sequence (such as a list, tuple, string, or range) or any iterable object.\n",
    "   - It executes a block of code a fixed number of times, once for each item in the sequence.\n",
    "   - The syntax of a for loop is generally simpler and more concise than a while loop.\n",
    "   - Example:\n",
    "     ```python\n",
    "     for item in iterable:\n",
    "         # do something with item\n",
    "     ```\n",
    "\n",
    "2. **While Loop:**\n",
    "   - A while loop repeatedly executes a block of code as long as a specified condition is true.\n",
    "   - It is useful when you do not know in advance how many times the loop needs to iterate.\n",
    "   - The condition is checked before each iteration, and if it evaluates to True, the loop continues; if it evaluates to False, the loop terminates.\n",
    "   - It's important to ensure that the condition eventually becomes False to prevent an infinite loop.\n",
    "   - Example:\n",
    "     ```python\n",
    "     while condition:\n",
    "         # do something\n",
    "         # update condition\n",
    "     ```\n",
    "\n",
    "Here are some key differences summarized:\n",
    "- For loops are typically used when the number of iterations is known in advance (e.g., iterating over elements of a list).\n",
    "- While loops are suitable for situations where the number of iterations is not known beforehand, and the loop continues until a certain condition is met.\n",
    "- For loops iterate over a sequence or iterable, while while loops execute based on a condition.\n",
    "- For loops are often more readable and concise for iterating over sequences, whereas while loops offer more flexibility in controlling the iteration based on conditions."
   ]
  },
  {
   "cell_type": "markdown",
   "id": "666c250d",
   "metadata": {},
   "source": [
    "3-Write a Python program to calculate the sum of all numbers from 1 to 100 using a for loop.\n"
   ]
  },
  {
   "cell_type": "code",
   "execution_count": 3,
   "id": "d6d6bad5",
   "metadata": {},
   "outputs": [
    {
     "data": {
      "text/plain": [
       "5050"
      ]
     },
     "execution_count": 3,
     "metadata": {},
     "output_type": "execute_result"
    }
   ],
   "source": [
    "n=0\n",
    "for i in range(1,101) :\n",
    "    n+=i\n",
    "n"
   ]
  },
  {
   "cell_type": "markdown",
   "id": "a3c863cb",
   "metadata": {},
   "source": [
    "4-How do you iterate through a list using a for loop in Python?"
   ]
  },
  {
   "cell_type": "code",
   "execution_count": 4,
   "id": "00888753",
   "metadata": {},
   "outputs": [
    {
     "name": "stdout",
     "output_type": "stream",
     "text": [
      "1\n",
      "2\n",
      "3\n",
      "4\n",
      "5\n"
     ]
    }
   ],
   "source": [
    "l= [1, 2, 3, 4, 5]\n",
    "for i in l :\n",
    "    print(i)"
   ]
  },
  {
   "cell_type": "markdown",
   "id": "74abf78b",
   "metadata": {},
   "source": [
    "5-Write a Python program to find the product of all elements in a list using a for loop."
   ]
  },
  {
   "cell_type": "code",
   "execution_count": 6,
   "id": "4bc0f0bd",
   "metadata": {},
   "outputs": [
    {
     "data": {
      "text/plain": [
       "120"
      ]
     },
     "execution_count": 6,
     "metadata": {},
     "output_type": "execute_result"
    }
   ],
   "source": [
    "result = 1\n",
    "for i in l:\n",
    "    result*=i\n",
    "result"
   ]
  },
  {
   "cell_type": "markdown",
   "id": "b7f93928",
   "metadata": {},
   "source": [
    "6-Create a Python program that prints all even numbers from 1 to 20 using a for loop."
   ]
  },
  {
   "cell_type": "code",
   "execution_count": 10,
   "id": "469323cd",
   "metadata": {},
   "outputs": [
    {
     "data": {
      "text/plain": [
       "[2, 4, 6, 8, 10, 12, 14, 16, 18, 20]"
      ]
     },
     "execution_count": 10,
     "metadata": {},
     "output_type": "execute_result"
    }
   ],
   "source": [
    "even_num = [n for n in range(1,21) if n % 2 ==0]\n",
    "even_num"
   ]
  },
  {
   "cell_type": "code",
   "execution_count": 11,
   "id": "bb665fff",
   "metadata": {},
   "outputs": [
    {
     "data": {
      "text/plain": [
       "[2, 4, 6, 8, 10, 12, 14, 16, 18, 20]"
      ]
     },
     "execution_count": 11,
     "metadata": {},
     "output_type": "execute_result"
    }
   ],
   "source": [
    "even_num = []\n",
    "for n in range(1,21):\n",
    "    if n % 2 ==0:\n",
    "        even_num.append(n)\n",
    "even_num"
   ]
  },
  {
   "cell_type": "markdown",
   "id": "bcc2a17a",
   "metadata": {},
   "source": [
    "7-Write a Python program that calculates the factorial of a number using a for loop."
   ]
  },
  {
   "cell_type": "code",
   "execution_count": 14,
   "id": "a41ba049",
   "metadata": {},
   "outputs": [
    {
     "data": {
      "text/plain": [
       "120"
      ]
     },
     "execution_count": 14,
     "metadata": {},
     "output_type": "execute_result"
    }
   ],
   "source": [
    "n=5\n",
    "fact = 1\n",
    "for i in range(1,n+1):\n",
    "    fact*=i\n",
    "fact"
   ]
  },
  {
   "cell_type": "code",
   "execution_count": 22,
   "id": "8260c9b9",
   "metadata": {},
   "outputs": [
    {
     "data": {
      "text/plain": [
       "120"
      ]
     },
     "execution_count": 22,
     "metadata": {},
     "output_type": "execute_result"
    }
   ],
   "source": [
    "def factorial(n):\n",
    "    if n == 0:\n",
    "        return 1\n",
    "    else:\n",
    "        return n * factorial(n - 1)\n",
    "\n",
    "\n",
    "factorial(5)"
   ]
  },
  {
   "cell_type": "markdown",
   "id": "a4f32176",
   "metadata": {},
   "source": [
    "8-How can you iterate through the characters of a string using a for loop in Python?"
   ]
  },
  {
   "cell_type": "code",
   "execution_count": 24,
   "id": "f3238b55",
   "metadata": {},
   "outputs": [
    {
     "name": "stdout",
     "output_type": "stream",
     "text": [
      "h i   i   l o v e   p y t h o n "
     ]
    }
   ],
   "source": [
    "s= \"hi i love python\"\n",
    "for c in s :\n",
    "    print(c,end=\" \")"
   ]
  },
  {
   "cell_type": "markdown",
   "id": "553b3555",
   "metadata": {},
   "source": [
    "9-Write a Python program to find the largest number in a list using a for loop."
   ]
  },
  {
   "cell_type": "code",
   "execution_count": 31,
   "id": "79c2e2b5",
   "metadata": {},
   "outputs": [
    {
     "data": {
      "text/plain": [
       "5"
      ]
     },
     "execution_count": 31,
     "metadata": {},
     "output_type": "execute_result"
    }
   ],
   "source": [
    "l=[1,2,3,4,5]\n",
    "largest= l[0]\n",
    "largest\n",
    "for i in l:\n",
    "    if i > largest :\n",
    "        largest =i\n",
    "largest"
   ]
  },
  {
   "cell_type": "markdown",
   "id": "6d1065e8",
   "metadata": {},
   "source": [
    "10-Create a Python program that prints the Fibonacci sequence up to a specified limit using a for loop."
   ]
  },
  {
   "cell_type": "code",
   "execution_count": 32,
   "id": "e36fcb81",
   "metadata": {},
   "outputs": [
    {
     "name": "stdout",
     "output_type": "stream",
     "text": [
      "Fibonacci sequence up to 100 : [0, 1, 1, 2, 3, 5, 8, 13, 21, 34, 55, 89]\n"
     ]
    }
   ],
   "source": [
    "def fibonacci_sequence(limit):\n",
    "    # Initialize the Fibonacci sequence with the first two numbers\n",
    "    fibonacci_sequence = [0, 1]\n",
    "\n",
    "    # Generate the Fibonacci sequence using a for loop\n",
    "    for i in range(2, limit):\n",
    "        next_number = fibonacci_sequence[-1] + fibonacci_sequence[-2]\n",
    "        if next_number <= limit:\n",
    "            fibonacci_sequence.append(next_number)\n",
    "        else:\n",
    "            break\n",
    "\n",
    "    # Print the Fibonacci sequence\n",
    "    print(\"Fibonacci sequence up to\", limit, \":\", fibonacci_sequence)\n",
    "\n",
    "# Example usage:\n",
    "fibonacci_sequence(100)  # Print Fibonacci sequence up to the limit of 100\n"
   ]
  },
  {
   "cell_type": "code",
   "execution_count": 33,
   "id": "940e2d30",
   "metadata": {},
   "outputs": [
    {
     "data": {
      "text/plain": [
       "[0, 1, 1, 2, 3, 5, 8, 13, 21, 34, 55, 89]"
      ]
     },
     "execution_count": 33,
     "metadata": {},
     "output_type": "execute_result"
    }
   ],
   "source": [
    "fibo = [0,1]\n",
    "for i in range(100):\n",
    "    next_fibo = fibo[-1]+fibo[-2]\n",
    "    if next_fibo < 100 :\n",
    "        fibo.append(next_fibo)\n",
    "    else :\n",
    "        break\n",
    "fibo"
   ]
  },
  {
   "cell_type": "markdown",
   "id": "c1696820",
   "metadata": {},
   "source": [
    "11-Write a Python program to count the number of vowels in a given string using a for loop."
   ]
  },
  {
   "cell_type": "code",
   "execution_count": 36,
   "id": "09116d4d",
   "metadata": {},
   "outputs": [
    {
     "data": {
      "text/plain": [
       "5"
      ]
     },
     "execution_count": 36,
     "metadata": {},
     "output_type": "execute_result"
    }
   ],
   "source": [
    "vowels = \"aeuio\"\n",
    "count=0\n",
    "st = \"hi i love python\"\n",
    "for i in st :\n",
    "    if i.lower() in vowels :\n",
    "        count+=1\n",
    "count"
   ]
  },
  {
   "cell_type": "code",
   "execution_count": 38,
   "id": "7d738e95",
   "metadata": {},
   "outputs": [
    {
     "data": {
      "text/plain": [
       "{'i': 2, 'o': 2, 'e': 1}"
      ]
     },
     "execution_count": 38,
     "metadata": {},
     "output_type": "execute_result"
    }
   ],
   "source": [
    "count_vowels= {}\n",
    "for i in st :\n",
    "    if i.lower()in vowels:\n",
    "        count_vowels[i] =st.count(i)\n",
    "count_vowels"
   ]
  },
  {
   "cell_type": "code",
   "execution_count": 40,
   "id": "4ae43100",
   "metadata": {},
   "outputs": [
    {
     "data": {
      "text/plain": [
       "{'i': 2, 'o': 2, 'e': 1}"
      ]
     },
     "execution_count": 40,
     "metadata": {},
     "output_type": "execute_result"
    }
   ],
   "source": [
    "count_dict = {i : st.count(i) for i in st if i in vowels}\n",
    "count_dict"
   ]
  },
  {
   "cell_type": "markdown",
   "id": "ec85a57d",
   "metadata": {},
   "source": [
    "12-Create a Python program that generates a multiplication table for a given number using a for loop."
   ]
  },
  {
   "cell_type": "code",
   "execution_count": 47,
   "id": "185ede82",
   "metadata": {},
   "outputs": [
    {
     "name": "stdout",
     "output_type": "stream",
     "text": [
      "enter your number5\n",
      "  1   x   5   = 5\n",
      "  2   x   5   = 10\n",
      "  3   x   5   = 15\n",
      "  4   x   5   = 20\n",
      "  5   x   5   = 25\n",
      "  6   x   5   = 30\n",
      "  7   x   5   = 35\n",
      "  8   x   5   = 40\n",
      "  9   x   5   = 45\n",
      "  10  x   5   = 50\n"
     ]
    }
   ],
   "source": [
    "given_num = int(input(\"enter your number\"))\n",
    "\n",
    "for i in range(1,11):\n",
    "    print(f\"{str(i).center(5)} x {str(given_num).center(5)} = {i*given_num}\")"
   ]
  },
  {
   "cell_type": "code",
   "execution_count": 50,
   "id": "8a0cbfde",
   "metadata": {},
   "outputs": [
    {
     "name": "stdout",
     "output_type": "stream",
     "text": [
      "  1   x   1   = 1\n",
      "  2   x   1   = 2\n",
      "  3   x   1   = 3\n",
      "  4   x   1   = 4\n",
      "  5   x   1   = 5\n",
      "  6   x   1   = 6\n",
      "  7   x   1   = 7\n",
      "  8   x   1   = 8\n",
      "  9   x   1   = 9\n",
      "  10  x   1   = 10\n",
      "\n",
      "  1   x   2   = 2\n",
      "  2   x   2   = 4\n",
      "  3   x   2   = 6\n",
      "  4   x   2   = 8\n",
      "  5   x   2   = 10\n",
      "  6   x   2   = 12\n",
      "  7   x   2   = 14\n",
      "  8   x   2   = 16\n",
      "  9   x   2   = 18\n",
      "  10  x   2   = 20\n",
      "\n",
      "  1   x   3   = 3\n",
      "  2   x   3   = 6\n",
      "  3   x   3   = 9\n",
      "  4   x   3   = 12\n",
      "  5   x   3   = 15\n",
      "  6   x   3   = 18\n",
      "  7   x   3   = 21\n",
      "  8   x   3   = 24\n",
      "  9   x   3   = 27\n",
      "  10  x   3   = 30\n",
      "\n",
      "  1   x   4   = 4\n",
      "  2   x   4   = 8\n",
      "  3   x   4   = 12\n",
      "  4   x   4   = 16\n",
      "  5   x   4   = 20\n",
      "  6   x   4   = 24\n",
      "  7   x   4   = 28\n",
      "  8   x   4   = 32\n",
      "  9   x   4   = 36\n",
      "  10  x   4   = 40\n",
      "\n",
      "  1   x   5   = 5\n",
      "  2   x   5   = 10\n",
      "  3   x   5   = 15\n",
      "  4   x   5   = 20\n",
      "  5   x   5   = 25\n",
      "  6   x   5   = 30\n",
      "  7   x   5   = 35\n",
      "  8   x   5   = 40\n",
      "  9   x   5   = 45\n",
      "  10  x   5   = 50\n",
      "\n",
      "  1   x   6   = 6\n",
      "  2   x   6   = 12\n",
      "  3   x   6   = 18\n",
      "  4   x   6   = 24\n",
      "  5   x   6   = 30\n",
      "  6   x   6   = 36\n",
      "  7   x   6   = 42\n",
      "  8   x   6   = 48\n",
      "  9   x   6   = 54\n",
      "  10  x   6   = 60\n",
      "\n",
      "  1   x   7   = 7\n",
      "  2   x   7   = 14\n",
      "  3   x   7   = 21\n",
      "  4   x   7   = 28\n",
      "  5   x   7   = 35\n",
      "  6   x   7   = 42\n",
      "  7   x   7   = 49\n",
      "  8   x   7   = 56\n",
      "  9   x   7   = 63\n",
      "  10  x   7   = 70\n",
      "\n",
      "  1   x   8   = 8\n",
      "  2   x   8   = 16\n",
      "  3   x   8   = 24\n",
      "  4   x   8   = 32\n",
      "  5   x   8   = 40\n",
      "  6   x   8   = 48\n",
      "  7   x   8   = 56\n",
      "  8   x   8   = 64\n",
      "  9   x   8   = 72\n",
      "  10  x   8   = 80\n",
      "\n",
      "  1   x   9   = 9\n",
      "  2   x   9   = 18\n",
      "  3   x   9   = 27\n",
      "  4   x   9   = 36\n",
      "  5   x   9   = 45\n",
      "  6   x   9   = 54\n",
      "  7   x   9   = 63\n",
      "  8   x   9   = 72\n",
      "  9   x   9   = 81\n",
      "  10  x   9   = 90\n",
      "\n",
      "  1   x   10  = 10\n",
      "  2   x   10  = 20\n",
      "  3   x   10  = 30\n",
      "  4   x   10  = 40\n",
      "  5   x   10  = 50\n",
      "  6   x   10  = 60\n",
      "  7   x   10  = 70\n",
      "  8   x   10  = 80\n",
      "  9   x   10  = 90\n",
      "  10  x   10  = 100\n",
      "\n"
     ]
    }
   ],
   "source": [
    "for j in range(1,11):\n",
    "    for i in range(1,11):\n",
    "       print(f\"{str(i).center(5)} x {str(j).center(5)} = {i*j}\")\n",
    "    print()"
   ]
  },
  {
   "cell_type": "markdown",
   "id": "600b7a83",
   "metadata": {},
   "source": [
    "13-Write a Python program to reverse a list using a for loop."
   ]
  },
  {
   "cell_type": "code",
   "execution_count": 62,
   "id": "4ff4b4b2",
   "metadata": {},
   "outputs": [
    {
     "data": {
      "text/plain": [
       "[3, 2, 1]"
      ]
     },
     "execution_count": 62,
     "metadata": {},
     "output_type": "execute_result"
    }
   ],
   "source": [
    "l=(1,2,3)\n",
    "reveresed_list =list(l[i] for i in range(len(l)-1,-1,-1))#range(len(3)-1= index 2) ,-1 to stop , -1 step in reverse \n",
    "reveresed_list"
   ]
  },
  {
   "cell_type": "markdown",
   "id": "05100fc0",
   "metadata": {},
   "source": [
    "14-Write a Python program to find the common elements between two lists using a for loop."
   ]
  },
  {
   "cell_type": "code",
   "execution_count": 65,
   "id": "8f976a44",
   "metadata": {},
   "outputs": [
    {
     "data": {
      "text/plain": [
       "[1, 4, 8, 7]"
      ]
     },
     "execution_count": 65,
     "metadata": {},
     "output_type": "execute_result"
    }
   ],
   "source": [
    "l1=[1,4,3,8,5,7]\n",
    "l2 = [1,4,6,7,8]\n",
    "common_elements = list(i for i in l1 for j in l2 if i==j )\n",
    "common_elements"
   ]
  },
  {
   "cell_type": "code",
   "execution_count": 71,
   "id": "b2b06cb5",
   "metadata": {},
   "outputs": [
    {
     "data": {
      "text/plain": [
       "[8, 1, 4, 7]"
      ]
     },
     "execution_count": 71,
     "metadata": {},
     "output_type": "execute_result"
    }
   ],
   "source": [
    "common_e = list(set(l1)&(set(l2)))\n",
    "common_e"
   ]
  },
  {
   "cell_type": "markdown",
   "id": "23851751",
   "metadata": {},
   "source": [
    "15-Explain how to use a for loop to iterate through the keys and values of a dictionary in Python."
   ]
  },
  {
   "cell_type": "code",
   "execution_count": 72,
   "id": "32ddace9",
   "metadata": {},
   "outputs": [
    {
     "name": "stdout",
     "output_type": "stream",
     "text": [
      "name : Motasem \n",
      "age : 41 \n",
      "skills : ['python', 'hive', 'sql'] \n"
     ]
    }
   ],
   "source": [
    "skills={\n",
    "    \"name\" : \"Motasem\",\n",
    "    \"age\"  : 41,\n",
    "    \"skills\" :[\"python\",\"hive\",\"sql\"]\n",
    "}\n",
    "for k,v in skills.items():\n",
    "    print(f\"{k} : {v} \")"
   ]
  },
  {
   "cell_type": "markdown",
   "id": "d0f727fe",
   "metadata": {},
   "source": [
    "16-Write a Python program to find the GCD (Greatest Common Divisor) of two numbers using a for loop"
   ]
  },
  {
   "cell_type": "code",
   "execution_count": 85,
   "id": "1ca7c7a3",
   "metadata": {},
   "outputs": [
    {
     "data": {
      "text/plain": [
       "5"
      ]
     },
     "execution_count": 85,
     "metadata": {},
     "output_type": "execute_result"
    }
   ],
   "source": [
    "n1 = 10 \n",
    "n2 = 5\n",
    "ln1=list(i for i in range(1,n1+1) if n1%i == 0)\n",
    "ln2=list(i for i in range(1,n2+1) if n2%i == 0)\n",
    "gcd = max(set(ln1)&set(ln2))\n",
    "gcd"
   ]
  },
  {
   "cell_type": "code",
   "execution_count": 83,
   "id": "ae6146f4",
   "metadata": {},
   "outputs": [
    {
     "data": {
      "text/plain": [
       "5"
      ]
     },
     "execution_count": 83,
     "metadata": {},
     "output_type": "execute_result"
    }
   ],
   "source": [
    "def gcd (n1,n2):\n",
    "    gcd = 1\n",
    "    for i in range(1,min(n1,n2)+1): # we iterate over the range of the min of the two numbers + 1\n",
    "        if n1%i == 0 and n2%i == 0:\n",
    "            gcd = i\n",
    "    return gcd\n",
    "gcd(10,5)"
   ]
  },
  {
   "cell_type": "markdown",
   "id": "9013871b",
   "metadata": {},
   "source": [
    "17-Create a Python program that checks if a string is a palindrome using a for loop."
   ]
  },
  {
   "cell_type": "code",
   "execution_count": 97,
   "id": "90b0de17",
   "metadata": {},
   "outputs": [
    {
     "name": "stdout",
     "output_type": "stream",
     "text": [
      "The string is a palindrome.\n"
     ]
    }
   ],
   "source": [
    "def is_palindrome(s):\n",
    "    for i in range(len(s) // 2):  # Iterate up to half the length of the string\n",
    "        if s[i] != s[len(s) - i - 1]:  # Compare characters from start and end\n",
    "            return False\n",
    "    return True\n",
    "\n",
    "if is_palindrome(\"helleh\"):\n",
    "    print(\"The string is a palindrome.\")\n",
    "else:\n",
    "    print(\"The string is not a palindrome.\")\n"
   ]
  },
  {
   "cell_type": "markdown",
   "id": "4130ae2b",
   "metadata": {},
   "source": [
    "18-Write a Python program to remove duplicates from a list using a for loop."
   ]
  },
  {
   "cell_type": "code",
   "execution_count": 102,
   "id": "2d07871b",
   "metadata": {},
   "outputs": [
    {
     "data": {
      "text/plain": [
       "[1, 2, 3]"
      ]
     },
     "execution_count": 102,
     "metadata": {},
     "output_type": "execute_result"
    }
   ],
   "source": [
    "l = [1,2,3,1,2,1,2]\n",
    "nl=[]\n",
    "for i in range(len(l)) :\n",
    "    if l[i] not in nl:\n",
    "        nl.append(l[i])\n",
    "nl"
   ]
  },
  {
   "cell_type": "markdown",
   "id": "cb40bc55",
   "metadata": {},
   "source": [
    "19-Create a Python program that counts the number of words in a sentence using a for loop."
   ]
  },
  {
   "cell_type": "code",
   "execution_count": 104,
   "id": "88d0ef7f",
   "metadata": {},
   "outputs": [
    {
     "data": {
      "text/plain": [
       "'numbers of words are 4'"
      ]
     },
     "execution_count": 104,
     "metadata": {},
     "output_type": "execute_result"
    }
   ],
   "source": [
    "phrase = \"hi i love python\"\n",
    "counter = 0\n",
    "for s in phrase.split() :\n",
    "    counter+=1\n",
    "f\"numbers of words are {counter}\""
   ]
  },
  {
   "cell_type": "markdown",
   "id": "730a27d5",
   "metadata": {},
   "source": [
    "20-Write a Python program to find the sum of all odd numbers from 1 to 50 using a for loop."
   ]
  },
  {
   "cell_type": "code",
   "execution_count": 105,
   "id": "40d540a7",
   "metadata": {},
   "outputs": [
    {
     "data": {
      "text/plain": [
       "625"
      ]
     },
     "execution_count": 105,
     "metadata": {},
     "output_type": "execute_result"
    }
   ],
   "source": [
    "sum_odd = sum(list(i for i in range(51) if i%2!=0))\n",
    "sum_odd"
   ]
  },
  {
   "cell_type": "code",
   "execution_count": 106,
   "id": "938c4f23",
   "metadata": {},
   "outputs": [
    {
     "data": {
      "text/plain": [
       "625"
      ]
     },
     "execution_count": 106,
     "metadata": {},
     "output_type": "execute_result"
    }
   ],
   "source": [
    "sum_o=0\n",
    "for i in range(1,51,2): # 2 is the steps \n",
    "    sum_o+=i\n",
    "sum_o"
   ]
  },
  {
   "cell_type": "markdown",
   "id": "0204ac4a",
   "metadata": {},
   "source": [
    "21-Write a Python program that checks if a given year is a leap year using a for loop."
   ]
  },
  {
   "cell_type": "code",
   "execution_count": 107,
   "id": "ee330d3c",
   "metadata": {},
   "outputs": [
    {
     "name": "stdout",
     "output_type": "stream",
     "text": [
      "1900 is not a leap year.\n",
      "1901 is not a leap year.\n",
      "1902 is not a leap year.\n",
      "1903 is not a leap year.\n",
      "1904 is a leap year.\n",
      "1905 is not a leap year.\n",
      "1906 is not a leap year.\n",
      "1907 is not a leap year.\n",
      "1908 is a leap year.\n",
      "1909 is not a leap year.\n",
      "1910 is not a leap year.\n",
      "1911 is not a leap year.\n",
      "1912 is a leap year.\n",
      "1913 is not a leap year.\n",
      "1914 is not a leap year.\n",
      "1915 is not a leap year.\n",
      "1916 is a leap year.\n",
      "1917 is not a leap year.\n",
      "1918 is not a leap year.\n",
      "1919 is not a leap year.\n",
      "1920 is a leap year.\n",
      "1921 is not a leap year.\n",
      "1922 is not a leap year.\n",
      "1923 is not a leap year.\n",
      "1924 is a leap year.\n",
      "1925 is not a leap year.\n",
      "1926 is not a leap year.\n",
      "1927 is not a leap year.\n",
      "1928 is a leap year.\n",
      "1929 is not a leap year.\n",
      "1930 is not a leap year.\n",
      "1931 is not a leap year.\n",
      "1932 is a leap year.\n",
      "1933 is not a leap year.\n",
      "1934 is not a leap year.\n",
      "1935 is not a leap year.\n",
      "1936 is a leap year.\n",
      "1937 is not a leap year.\n",
      "1938 is not a leap year.\n",
      "1939 is not a leap year.\n",
      "1940 is a leap year.\n",
      "1941 is not a leap year.\n",
      "1942 is not a leap year.\n",
      "1943 is not a leap year.\n",
      "1944 is a leap year.\n",
      "1945 is not a leap year.\n",
      "1946 is not a leap year.\n",
      "1947 is not a leap year.\n",
      "1948 is a leap year.\n",
      "1949 is not a leap year.\n",
      "1950 is not a leap year.\n",
      "1951 is not a leap year.\n",
      "1952 is a leap year.\n",
      "1953 is not a leap year.\n",
      "1954 is not a leap year.\n",
      "1955 is not a leap year.\n",
      "1956 is a leap year.\n",
      "1957 is not a leap year.\n",
      "1958 is not a leap year.\n",
      "1959 is not a leap year.\n",
      "1960 is a leap year.\n",
      "1961 is not a leap year.\n",
      "1962 is not a leap year.\n",
      "1963 is not a leap year.\n",
      "1964 is a leap year.\n",
      "1965 is not a leap year.\n",
      "1966 is not a leap year.\n",
      "1967 is not a leap year.\n",
      "1968 is a leap year.\n",
      "1969 is not a leap year.\n",
      "1970 is not a leap year.\n",
      "1971 is not a leap year.\n",
      "1972 is a leap year.\n",
      "1973 is not a leap year.\n",
      "1974 is not a leap year.\n",
      "1975 is not a leap year.\n",
      "1976 is a leap year.\n",
      "1977 is not a leap year.\n",
      "1978 is not a leap year.\n",
      "1979 is not a leap year.\n",
      "1980 is a leap year.\n",
      "1981 is not a leap year.\n",
      "1982 is not a leap year.\n",
      "1983 is not a leap year.\n",
      "1984 is a leap year.\n",
      "1985 is not a leap year.\n",
      "1986 is not a leap year.\n",
      "1987 is not a leap year.\n",
      "1988 is a leap year.\n",
      "1989 is not a leap year.\n",
      "1990 is not a leap year.\n",
      "1991 is not a leap year.\n",
      "1992 is a leap year.\n",
      "1993 is not a leap year.\n",
      "1994 is not a leap year.\n",
      "1995 is not a leap year.\n",
      "1996 is a leap year.\n",
      "1997 is not a leap year.\n",
      "1998 is not a leap year.\n",
      "1999 is not a leap year.\n",
      "2000 is a leap year.\n",
      "2001 is not a leap year.\n",
      "2002 is not a leap year.\n",
      "2003 is not a leap year.\n",
      "2004 is a leap year.\n",
      "2005 is not a leap year.\n",
      "2006 is not a leap year.\n",
      "2007 is not a leap year.\n",
      "2008 is a leap year.\n",
      "2009 is not a leap year.\n",
      "2010 is not a leap year.\n",
      "2011 is not a leap year.\n",
      "2012 is a leap year.\n",
      "2013 is not a leap year.\n",
      "2014 is not a leap year.\n",
      "2015 is not a leap year.\n",
      "2016 is a leap year.\n",
      "2017 is not a leap year.\n",
      "2018 is not a leap year.\n",
      "2019 is not a leap year.\n",
      "2020 is a leap year.\n",
      "2021 is not a leap year.\n",
      "2022 is not a leap year.\n",
      "2023 is not a leap year.\n",
      "2024 is a leap year.\n"
     ]
    }
   ],
   "source": [
    "def is_leap_year(year):\n",
    "    if (year % 4 == 0 and year % 100 != 0) or (year % 400 == 0):\n",
    "        return True\n",
    "    else:\n",
    "        return False\n",
    "\n",
    "def check_leap_year(year):\n",
    "    for y in range(1900, year + 1):  # Assuming years start from 1900\n",
    "        if is_leap_year(y):\n",
    "            print(f\"{y} is a leap year.\")\n",
    "        else:\n",
    "            print(f\"{y} is not a leap year.\")\n",
    "\n",
    "check_leap_year(2024)\n",
    "\n"
   ]
  },
  {
   "cell_type": "markdown",
   "id": "e7df6840",
   "metadata": {},
   "source": [
    "22-Create a Python program that calculates the square root of a number using a for loop.\n"
   ]
  },
  {
   "cell_type": "code",
   "execution_count": 110,
   "id": "4868b05d",
   "metadata": {},
   "outputs": [
    {
     "name": "stdout",
     "output_type": "stream",
     "text": [
      "The square root of 25 is approximately 5.0\n"
     ]
    }
   ],
   "source": [
    "def square_root(num):\n",
    "    # Initial guess for the square root\n",
    "    guess = num / 2\n",
    "    \n",
    "    # Number of iterations (adjust as needed for desired accuracy)\n",
    "    iterations = 100\n",
    "    \n",
    "    # Update the guess using the Newton-Raphson method\n",
    "    for _ in range(iterations):\n",
    "        guess = (guess + num / guess) / 2\n",
    "        \n",
    "    return guess\n",
    "\n",
    "# Example usage:\n",
    "number = 25\n",
    "sqrt_number = square_root(number)\n",
    "print(f\"The square root of {number} is approximately {sqrt_number}\")\n"
   ]
  },
  {
   "cell_type": "markdown",
   "id": "ae478428",
   "metadata": {},
   "source": [
    "23-Write a Python program to find the LCM (Least Common Multiple) of two numbers using a for loop.\n"
   ]
  },
  {
   "cell_type": "code",
   "execution_count": 111,
   "id": "327c2edf",
   "metadata": {},
   "outputs": [
    {
     "name": "stdout",
     "output_type": "stream",
     "text": [
      "The LCM of 6 and 8 is 24\n"
     ]
    }
   ],
   "source": [
    "def lcm(num1, num2):\n",
    "    # Determine the maximum and minimum of the two numbers\n",
    "    max_num = max(num1, num2)\n",
    "    min_num = min(num1, num2)\n",
    "\n",
    "    # Start iterating from the larger number\n",
    "    for i in range(max_num, max_num * min_num + 1, max_num):\n",
    "        if i % min_num == 0:\n",
    "            return i\n",
    "\n",
    "# Example usage:\n",
    "num1 = 6\n",
    "num2 = 8\n",
    "result = lcm(num1, num2)\n",
    "print(f\"The LCM of {num1} and {num2} is {result}\")\n"
   ]
  },
  {
   "cell_type": "markdown",
   "id": "3f3cec92",
   "metadata": {},
   "source": [
    "# If else :"
   ]
  },
  {
   "cell_type": "markdown",
   "id": "aac73a8f",
   "metadata": {},
   "source": [
    "1-Write a Python program to check if a number is positive, negative, or zero using an if-else statement."
   ]
  },
  {
   "cell_type": "code",
   "execution_count": 112,
   "id": "8cc8e8d3",
   "metadata": {},
   "outputs": [
    {
     "name": "stdout",
     "output_type": "stream",
     "text": [
      "Enter a number: -3\n",
      "The number is negative.\n"
     ]
    }
   ],
   "source": [
    "def check_number(num):\n",
    "    if num > 0:\n",
    "        print(\"The number is positive.\")\n",
    "    elif num < 0:\n",
    "        print(\"The number is negative.\")\n",
    "    else:\n",
    "        print(\"The number is zero.\")\n",
    "        \n",
    "number = float(input(\"Enter a number: \"))\n",
    "check_number(number)\n"
   ]
  },
  {
   "cell_type": "markdown",
   "id": "f995d90c",
   "metadata": {},
   "source": [
    "2-Create a Python program that checks if a given number is even or odd using an if-else statement."
   ]
  },
  {
   "cell_type": "code",
   "execution_count": 113,
   "id": "145a1b22",
   "metadata": {},
   "outputs": [
    {
     "name": "stdout",
     "output_type": "stream",
     "text": [
      "Enter a number: 3\n",
      "The number 3 is odd.\n"
     ]
    }
   ],
   "source": [
    "def check_even_odd(num):\n",
    "    if num % 2 == 0:\n",
    "        print(f\"The number {num} is even.\")\n",
    "    else:\n",
    "        print(f\"The number {num} is odd.\")\n",
    "\n",
    "number = int(input(\"Enter a number: \"))\n",
    "check_even_odd(number)"
   ]
  },
  {
   "cell_type": "markdown",
   "id": "934c3c14",
   "metadata": {},
   "source": [
    "3-How can you use nested if-else statements in Python, and provide an example?"
   ]
  },
  {
   "cell_type": "markdown",
   "id": "0e623553",
   "metadata": {},
   "source": [
    "if condition1:\n",
    "    # Outer if block\n",
    "    if condition2:\n",
    "        # Inner if block\n",
    "        # Code block to execute if both condition1 and condition2 are true\n",
    "    else:\n",
    "        # Inner else block\n",
    "        # Code block to execute if condition1 is true but condition2 is false\n",
    "else:\n",
    "    # Outer else block\n",
    "    # Code block to execute if condition1 is false\n"
   ]
  },
  {
   "cell_type": "code",
   "execution_count": 114,
   "id": "ec918817",
   "metadata": {},
   "outputs": [
    {
     "name": "stdout",
     "output_type": "stream",
     "text": [
      "Enter your score: 4\n",
      "You need to improve your score.\n"
     ]
    }
   ],
   "source": [
    "# Example: Determine grade based on score\n",
    "score = int(input(\"Enter your score: \"))\n",
    "\n",
    "if score >= 90:\n",
    "    # Outer if block\n",
    "    if score >= 95:\n",
    "        # Inner if block\n",
    "        print(\"You got an A+!\")\n",
    "    else:\n",
    "        # Inner else block\n",
    "        print(\"You got an A.\")\n",
    "elif score >= 80:\n",
    "    # Outer elif block\n",
    "    print(\"You got a B.\")\n",
    "elif score >= 70:\n",
    "    # Outer elif block\n",
    "    print(\"You got a C.\")\n",
    "else:\n",
    "    # Outer else block\n",
    "    print(\"You need to improve your score.\")\n"
   ]
  },
  {
   "cell_type": "markdown",
   "id": "525b7910",
   "metadata": {},
   "source": [
    "4-Write a Python program to determine the largest of three numbers using if-else."
   ]
  },
  {
   "cell_type": "code",
   "execution_count": 116,
   "id": "564ade1c",
   "metadata": {},
   "outputs": [
    {
     "name": "stdout",
     "output_type": "stream",
     "text": [
      "Enter the first number: 1\n",
      "Enter the second number: 2\n",
      "Enter the third number: -6\n",
      "The largest number is: 2\n"
     ]
    }
   ],
   "source": [
    "def find_largest(num1, num2, num3):\n",
    "    if num1 >= num2 and num1 >= num3:\n",
    "        largest = num1\n",
    "    elif num2 >= num1 and num2 >= num3:\n",
    "        largest = num2\n",
    "    else:\n",
    "        largest = num3\n",
    "    return largest\n",
    "\n",
    "# Example usage:\n",
    "num1 = int(input(\"Enter the first number: \"))\n",
    "num2 = int(input(\"Enter the second number: \"))\n",
    "num3 = int(input(\"Enter the third number: \"))\n",
    "\n",
    "largest_number = find_largest(num1, num2, num3)\n",
    "print(f\"The largest number is: {largest_number}\")\n"
   ]
  },
  {
   "cell_type": "markdown",
   "id": "c0bda1ed",
   "metadata": {},
   "source": [
    "5-Write a Python program that calculates the absolute value of a number using if-else."
   ]
  },
  {
   "cell_type": "code",
   "execution_count": 120,
   "id": "d1694488",
   "metadata": {},
   "outputs": [
    {
     "name": "stdout",
     "output_type": "stream",
     "text": [
      "Enter a number: -19\n",
      "The absolute value of -19.0 is: 19.0\n"
     ]
    }
   ],
   "source": [
    "def absolute_value(num):\n",
    "    if num >= 0:\n",
    "        return num\n",
    "    else:\n",
    "        return -num\n",
    "\n",
    "number = float(input(\"Enter a number: \"))\n",
    "abs_value = absolute_value(number)\n",
    "print(f\"The absolute value of {number} is: {abs_value}\")\n"
   ]
  },
  {
   "cell_type": "markdown",
   "id": "90fc5f3e",
   "metadata": {},
   "source": [
    "6-Create a Python program that checks if a given character is a vowel or consonant using if-else."
   ]
  },
  {
   "cell_type": "code",
   "execution_count": 121,
   "id": "aaf40f5f",
   "metadata": {},
   "outputs": [
    {
     "name": "stdout",
     "output_type": "stream",
     "text": [
      "enter the character w\n",
      "w is a consonant\n"
     ]
    }
   ],
   "source": [
    "vowels = \"aieou\"\n",
    "char = input(\"enter the character \").strip().lower()\n",
    "if char in vowels :\n",
    "    print(f\"{char} is a vowel \")\n",
    "else :\n",
    "    print(f\"{char} is a consonant\")"
   ]
  },
  {
   "cell_type": "markdown",
   "id": "e8c665f4",
   "metadata": {},
   "source": [
    "7-Write a Python program to determine if a user is eligible to vote based on their age using if-else."
   ]
  },
  {
   "cell_type": "code",
   "execution_count": 123,
   "id": "c8288344",
   "metadata": {},
   "outputs": [
    {
     "name": "stdout",
     "output_type": "stream",
     "text": [
      "enter you age : 11\n",
      "not eligible to vote\n"
     ]
    }
   ],
   "source": [
    "age = int(input(\"enter you age : \"))\n",
    "if age >=18 :\n",
    "    print(\"you are eligible to vote \")\n",
    "else :\n",
    "    print(\"not eligible to vote\")"
   ]
  },
  {
   "cell_type": "markdown",
   "id": "0ffb2c1b",
   "metadata": {},
   "source": [
    "8-Create a Python program that calculates the discount amount based on the purchase amount using if-else."
   ]
  },
  {
   "cell_type": "code",
   "execution_count": 125,
   "id": "7d16bd61",
   "metadata": {},
   "outputs": [
    {
     "name": "stdout",
     "output_type": "stream",
     "text": [
      "Enter the purchase amount: $590\n",
      "The discount amount is: $29.50\n"
     ]
    }
   ],
   "source": [
    "def calculate_discount(purchase_amount):\n",
    "    if purchase_amount >= 1000:\n",
    "        discount = 0.1 * purchase_amount  # 10% discount for purchase amount >= $1000\n",
    "    elif purchase_amount >= 500:\n",
    "        discount = 0.05 * purchase_amount  # 5% discount for purchase amount >= $500\n",
    "    else:\n",
    "        discount = 0  # No discount for purchase amount less than $500\n",
    "    return discount\n",
    "\n",
    "amount = float(input(\"Enter the purchase amount: $\"))\n",
    "discount_amount = calculate_discount(amount)\n",
    "print(f\"The discount amount is: ${discount_amount:.2f}\")\n"
   ]
  },
  {
   "cell_type": "markdown",
   "id": "63205978",
   "metadata": {},
   "source": [
    "9-Write a Python program to check if a number is within a specified range using if-else."
   ]
  },
  {
   "cell_type": "code",
   "execution_count": 126,
   "id": "f935da7d",
   "metadata": {},
   "outputs": [
    {
     "name": "stdout",
     "output_type": "stream",
     "text": [
      "Enter a number: 3\n",
      "Enter the lower bound of the range: 2\n",
      "Enter the upper bound of the range: 90\n",
      "The number 3.0 is within the specified range [2.0, 90.0].\n"
     ]
    }
   ],
   "source": [
    "def check_within_range(number, lower_bound, upper_bound):\n",
    "    if lower_bound <= number <= upper_bound:\n",
    "        print(f\"The number {number} is within the specified range [{lower_bound}, {upper_bound}].\")\n",
    "    else:\n",
    "        print(f\"The number {number} is not within the specified range [{lower_bound}, {upper_bound}].\")\n",
    "\n",
    "num = float(input(\"Enter a number: \"))\n",
    "lower_limit = float(input(\"Enter the lower bound of the range: \"))\n",
    "upper_limit = float(input(\"Enter the upper bound of the range: \"))\n",
    "\n",
    "check_within_range(num, lower_limit, upper_limit)\n"
   ]
  },
  {
   "cell_type": "markdown",
   "id": "0d2db7f7",
   "metadata": {},
   "source": [
    "10-Create a Python program that determines the grade of a student based on their score using if-else."
   ]
  },
  {
   "cell_type": "code",
   "execution_count": 127,
   "id": "e86c418b",
   "metadata": {},
   "outputs": [
    {
     "name": "stdout",
     "output_type": "stream",
     "text": [
      "Enter the student's score: 50\n",
      "The student's grade is: F\n"
     ]
    }
   ],
   "source": [
    "def determine_grade(score):\n",
    "    if score >= 90:\n",
    "        grade = 'A'\n",
    "    elif score >= 80:\n",
    "        grade = 'B'\n",
    "    elif score >= 70:\n",
    "        grade = 'C'\n",
    "    elif score >= 60:\n",
    "        grade = 'D'\n",
    "    else:\n",
    "        grade = 'F'\n",
    "    return grade\n",
    "\n",
    "score = float(input(\"Enter the student's score: \"))\n",
    "\n",
    "if 0 <= score <= 100:\n",
    "    student_grade = determine_grade(score)\n",
    "    print(f\"The student's grade is: {student_grade}\")\n",
    "else:\n",
    "    print(\"Invalid score! Score must be between 0 and 100.\")\n"
   ]
  },
  {
   "cell_type": "markdown",
   "id": "fe50c5d0",
   "metadata": {},
   "source": [
    "11-Write a Python program to check if a string is empty or not using if-else."
   ]
  },
  {
   "cell_type": "code",
   "execution_count": 129,
   "id": "00ef939b",
   "metadata": {},
   "outputs": [
    {
     "name": "stdout",
     "output_type": "stream",
     "text": [
      "Enter a string: \n",
      "The string is empty.\n"
     ]
    }
   ],
   "source": [
    "def check_empty_string(string):\n",
    "    if string:\n",
    "        print(\"The string is not empty.\")\n",
    "    else:\n",
    "        print(\"The string is empty.\")\n",
    "\n",
    "\n",
    "user_input = input(\"Enter a string: \")\n",
    "check_empty_string(user_input)\n"
   ]
  },
  {
   "cell_type": "markdown",
   "id": "b1e3c3b3",
   "metadata": {},
   "source": [
    "12-Create a Python program that identifies the type of a triangle (e.g., equilateral, isosceles, or scalene) based on input values using if-else."
   ]
  },
  {
   "cell_type": "code",
   "execution_count": 130,
   "id": "a2601f7b",
   "metadata": {},
   "outputs": [
    {
     "name": "stdout",
     "output_type": "stream",
     "text": [
      "Enter the length of side a: 1\n",
      "Enter the length of side b: 1\n",
      "Enter the length of side c: 2\n",
      "The triangle is a(n) Isosceles triangle.\n"
     ]
    }
   ],
   "source": [
    "def triangle_type(side1, side2, side3):\n",
    "    if side1 == side2 == side3:\n",
    "        return \"Equilateral\"\n",
    "    elif side1 == side2 or side1 == side3 or side2 == side3:\n",
    "        return \"Isosceles\"\n",
    "    else:\n",
    "        return \"Scalene\"\n",
    "\n",
    "side_a = float(input(\"Enter the length of side a: \"))\n",
    "side_b = float(input(\"Enter the length of side b: \"))\n",
    "side_c = float(input(\"Enter the length of side c: \"))\n",
    "\n",
    "if side_a > 0 and side_b > 0 and side_c > 0:\n",
    "    triangle = triangle_type(side_a, side_b, side_c)\n",
    "    print(f\"The triangle is a(n) {triangle} triangle.\")\n",
    "else:\n",
    "    print(\"Invalid side lengths! Please enter positive values for all sides.\")\n"
   ]
  },
  {
   "cell_type": "markdown",
   "id": "57c05f00",
   "metadata": {},
   "source": [
    "13-Write a Python program to determine the day of the week based on a user-provided number using if-else."
   ]
  },
  {
   "cell_type": "code",
   "execution_count": 133,
   "id": "3369ec10",
   "metadata": {},
   "outputs": [
    {
     "name": "stdout",
     "output_type": "stream",
     "text": [
      "Enter the number (1-7): 5\n",
      "Friday\n"
     ]
    }
   ],
   "source": [
    "day = {1: \"Monday\", 2: \"Tuesday\", 3: \"Wednesday\", 4: \"Thursday\", 5: \"Friday\", 6: \"Saturday\", 7: \"Sunday\"}\n",
    "\n",
    "n = int(input(\"Enter the number (1-7): \"))\n",
    "if n in day:\n",
    "    print(day[n])\n",
    "else:\n",
    "    print(\"Number out of range\")\n"
   ]
  },
  {
   "cell_type": "markdown",
   "id": "8658f63f",
   "metadata": {},
   "source": [
    "14-Create a Python program that checks if a given year is a leap year using both if-else and a function."
   ]
  },
  {
   "cell_type": "code",
   "execution_count": 139,
   "id": "cd43f438",
   "metadata": {},
   "outputs": [
    {
     "data": {
      "text/plain": [
       "'not a leap year'"
      ]
     },
     "execution_count": 139,
     "metadata": {},
     "output_type": "execute_result"
    }
   ],
   "source": [
    "def check_leap(year):\n",
    "     if (year % 4 == 0 and year % 100 != 0) or (year % 400 == 0):\n",
    "        return \"leap year\"\n",
    "    \n",
    "     else:\n",
    "        return \"not a leap year\"\n",
    "check_leap(1995)"
   ]
  },
  {
   "cell_type": "markdown",
   "id": "5ccf03a8",
   "metadata": {},
   "source": [
    "15-How do you use the \"assert\" statement in Python to add debugging checks within if-else blocks?"
   ]
  },
  {
   "cell_type": "code",
   "execution_count": 144,
   "id": "265181da",
   "metadata": {},
   "outputs": [
    {
     "name": "stdout",
     "output_type": "stream",
     "text": [
      "Result: 5.0\n"
     ]
    },
    {
     "ename": "AssertionError",
     "evalue": "Division by zero",
     "output_type": "error",
     "traceback": [
      "\u001b[0;31m---------------------------------------------------------------------------\u001b[0m",
      "\u001b[0;31mAssertionError\u001b[0m                            Traceback (most recent call last)",
      "Input \u001b[0;32mIn [144]\u001b[0m, in \u001b[0;36m<cell line: 13>\u001b[0;34m()\u001b[0m\n\u001b[1;32m     10\u001b[0m result \u001b[38;5;241m=\u001b[39m divide(\u001b[38;5;241m10\u001b[39m, \u001b[38;5;241m2\u001b[39m)\n\u001b[1;32m     11\u001b[0m \u001b[38;5;28mprint\u001b[39m(\u001b[38;5;124m\"\u001b[39m\u001b[38;5;124mResult:\u001b[39m\u001b[38;5;124m\"\u001b[39m, result)\n\u001b[0;32m---> 13\u001b[0m result \u001b[38;5;241m=\u001b[39m \u001b[43mdivide\u001b[49m\u001b[43m(\u001b[49m\u001b[38;5;241;43m10\u001b[39;49m\u001b[43m,\u001b[49m\u001b[43m \u001b[49m\u001b[38;5;241;43m0\u001b[39;49m\u001b[43m)\u001b[49m  \u001b[38;5;66;03m# Attempt to divide by zero\u001b[39;00m\n\u001b[1;32m     14\u001b[0m \u001b[38;5;28mprint\u001b[39m(\u001b[38;5;124m\"\u001b[39m\u001b[38;5;124mResult:\u001b[39m\u001b[38;5;124m\"\u001b[39m, result)\n",
      "Input \u001b[0;32mIn [144]\u001b[0m, in \u001b[0;36mdivide\u001b[0;34m(a, b)\u001b[0m\n\u001b[1;32m      1\u001b[0m \u001b[38;5;28;01mdef\u001b[39;00m \u001b[38;5;21mdivide\u001b[39m(a, b):\n\u001b[1;32m      2\u001b[0m     \u001b[38;5;28;01mif\u001b[39;00m b \u001b[38;5;241m==\u001b[39m \u001b[38;5;241m0\u001b[39m:\n\u001b[1;32m      3\u001b[0m         \u001b[38;5;66;03m# Ensure b is not zero\u001b[39;00m\n\u001b[0;32m----> 4\u001b[0m         \u001b[38;5;28;01massert\u001b[39;00m b \u001b[38;5;241m!=\u001b[39m \u001b[38;5;241m0\u001b[39m, \u001b[38;5;124m\"\u001b[39m\u001b[38;5;124mDivision by zero\u001b[39m\u001b[38;5;124m\"\u001b[39m\n\u001b[1;32m      5\u001b[0m         \u001b[38;5;28;01mreturn\u001b[39;00m \u001b[38;5;28;01mNone\u001b[39;00m\n\u001b[1;32m      6\u001b[0m     \u001b[38;5;28;01melse\u001b[39;00m:\n",
      "\u001b[0;31mAssertionError\u001b[0m: Division by zero"
     ]
    }
   ],
   "source": [
    "def divide(a, b):\n",
    "    if b == 0:\n",
    "        # Ensure b is not zero\n",
    "        assert b != 0, \"Division by zero\"\n",
    "        return None\n",
    "    else:\n",
    "        return a / b\n",
    "\n",
    "# Example usage:\n",
    "result = divide(10, 2)\n",
    "print(\"Result:\", result)\n",
    "\n",
    "result = divide(10, 0)  # Attempt to divide by zero\n",
    "print(\"Result:\", result)  # This line won't be reached due to the assertion failure\n",
    "\n"
   ]
  },
  {
   "cell_type": "markdown",
   "id": "4af32d98",
   "metadata": {},
   "source": [
    "16-Create a Python program that determines the eligibility of a person for a senior citizen discount based on age using if-else."
   ]
  },
  {
   "cell_type": "code",
   "execution_count": 145,
   "id": "56bb31a0",
   "metadata": {},
   "outputs": [
    {
     "name": "stdout",
     "output_type": "stream",
     "text": [
      "Enter your age: 41\n",
      "You are not eligible for the senior citizen discount.\n"
     ]
    }
   ],
   "source": [
    "def check_senior_discount(age):\n",
    "    if age >= 60:\n",
    "        return \"You are eligible for the senior citizen discount.\"\n",
    "    else:\n",
    "        return \"You are not eligible for the senior citizen discount.\"\n",
    "\n",
    "age = int(input(\"Enter your age: \"))\n",
    "result = check_senior_discount(age)\n",
    "print(result)\n"
   ]
  },
  {
   "cell_type": "markdown",
   "id": "fea58e3b",
   "metadata": {},
   "source": [
    "17-Write a Python program to categorize a given character as uppercase, lowercase, or neither using if-else."
   ]
  },
  {
   "cell_type": "code",
   "execution_count": 146,
   "id": "f3faedb8",
   "metadata": {},
   "outputs": [
    {
     "name": "stdout",
     "output_type": "stream",
     "text": [
      "Enter a character: M\n",
      "The character 'M' is Uppercase.\n"
     ]
    }
   ],
   "source": [
    "def categorize_character(char):\n",
    "    if char.isupper():\n",
    "        return \"Uppercase\"\n",
    "    elif char.islower():\n",
    "        return \"Lowercase\"\n",
    "    else:\n",
    "        return \"Neither uppercase nor lowercase\"\n",
    "\n",
    "character = input(\"Enter a character: \")\n",
    "\n",
    "if len(character) == 1:\n",
    "    result = categorize_character(character)\n",
    "    print(f\"The character '{character}' is {result}.\")\n",
    "else:\n",
    "    print(\"Please enter only one character.\")\n"
   ]
  },
  {
   "cell_type": "markdown",
   "id": "94977b08",
   "metadata": {},
   "source": [
    "18-Write a Python program to determine the roots of a quadratic equation using if-else."
   ]
  },
  {
   "cell_type": "code",
   "execution_count": 149,
   "id": "36750174",
   "metadata": {},
   "outputs": [
    {
     "name": "stdout",
     "output_type": "stream",
     "text": [
      "Enter the coefficient of x^2 (a): 2\n",
      "Enter the coefficient of x (b): 4\n",
      "Enter the constant term (c): 2\n",
      "Roots: (-1.0, -1.0)\n"
     ]
    }
   ],
   "source": [
    "def find_roots(a, b, c):\n",
    "    discriminant = b**2 - 4*a*c\n",
    "\n",
    "    if discriminant > 0:\n",
    "        # Two real and distinct roots\n",
    "        root1 = (-b + discriminant**0.5) / (2*a)\n",
    "        root2 = (-b - discriminant**0.5) / (2*a)\n",
    "        return root1, root2\n",
    "    elif discriminant == 0:\n",
    "        # Two real and identical roots\n",
    "        root = -b / (2*a)\n",
    "        return root, root\n",
    "    else:\n",
    "        # Complex roots\n",
    "        real_part = -b / (2*a)\n",
    "        imaginary_part = (-discriminant)**0.5 / (2*a)\n",
    "        root1 = complex(real_part, imaginary_part)\n",
    "        root2 = complex(real_part, -imaginary_part)\n",
    "        return root1, root2\n",
    "\n",
    "a = float(input(\"Enter the coefficient of x^2 (a): \"))\n",
    "b = float(input(\"Enter the coefficient of x (b): \"))\n",
    "c = float(input(\"Enter the constant term (c): \"))\n",
    "\n",
    "roots = find_roots(a, b, c)\n",
    "print(\"Roots:\", roots)\n"
   ]
  },
  {
   "cell_type": "markdown",
   "id": "c741c33a",
   "metadata": {},
   "source": [
    "19-Create a Python program that checks if a given year is a century year or not using if-else."
   ]
  },
  {
   "cell_type": "code",
   "execution_count": 150,
   "id": "06968bd6",
   "metadata": {},
   "outputs": [
    {
     "name": "stdout",
     "output_type": "stream",
     "text": [
      "Enter a year: 2024\n",
      "2024 is not a century year.\n"
     ]
    }
   ],
   "source": [
    "def check_century_year(year):\n",
    "    if year % 100 == 0:\n",
    "        if year % 400 == 0:\n",
    "            return f\"{year} is a century leap year.\"\n",
    "        else:\n",
    "            return f\"{year} is a century year, but not a leap year.\"\n",
    "    else:\n",
    "        return f\"{year} is not a century year.\"\n",
    "\n",
    "# Example usage:\n",
    "year = int(input(\"Enter a year: \"))\n",
    "result = check_century_year(year)\n",
    "print(result)\n"
   ]
  },
  {
   "cell_type": "markdown",
   "id": "f131ba45",
   "metadata": {},
   "source": [
    "20-Write a Python program to determine if a given number is a perfect square using if-else.\n"
   ]
  },
  {
   "cell_type": "code",
   "execution_count": 151,
   "id": "9cc9c91f",
   "metadata": {},
   "outputs": [
    {
     "name": "stdout",
     "output_type": "stream",
     "text": [
      "Enter a number: 4\n",
      "4 is a perfect square.\n"
     ]
    }
   ],
   "source": [
    "def is_perfect_square(number):\n",
    "    if number < 0:\n",
    "        return False  # Negative numbers are not perfect squares\n",
    "    elif number == 0:\n",
    "        return True   # Zero is a perfect square\n",
    "    else:\n",
    "        # Binary search approach to find if the number is a perfect square\n",
    "        left, right = 1, number\n",
    "        while left <= right:\n",
    "            mid = (left + right) // 2\n",
    "            square = mid * mid\n",
    "            if square == number:\n",
    "                return True\n",
    "            elif square < number:\n",
    "                left = mid + 1\n",
    "            else:\n",
    "                right = mid - 1\n",
    "        return False\n",
    "\n",
    "num = int(input(\"Enter a number: \"))\n",
    "if is_perfect_square(num):\n",
    "    print(f\"{num} is a perfect square.\")\n",
    "else:\n",
    "    print(f\"{num} is not a perfect square.\")\n"
   ]
  },
  {
   "cell_type": "markdown",
   "id": "b54e6856",
   "metadata": {},
   "source": [
    "21-Explain the purpose of the \"continue\" and \"break\" statements within if-else loops."
   ]
  },
  {
   "cell_type": "code",
   "execution_count": 152,
   "id": "130de6b5",
   "metadata": {},
   "outputs": [
    {
     "name": "stdout",
     "output_type": "stream",
     "text": [
      "1\n",
      "2\n",
      "4\n",
      "5\n"
     ]
    }
   ],
   "source": [
    "for i in range(1, 6):\n",
    "    if i == 3:\n",
    "        continue  # Skip iteration when i equals 3\n",
    "    print(i)"
   ]
  },
  {
   "cell_type": "code",
   "execution_count": 153,
   "id": "168bc8c2",
   "metadata": {},
   "outputs": [
    {
     "name": "stdout",
     "output_type": "stream",
     "text": [
      "1\n",
      "2\n",
      "3\n"
     ]
    }
   ],
   "source": [
    "for i in range(1, 6):\n",
    "    if i == 4:\n",
    "        break  # Exit the loop when i equals 4\n",
    "    print(i)\n"
   ]
  },
  {
   "cell_type": "markdown",
   "id": "bc81856e",
   "metadata": {},
   "source": [
    "22-Create a Python program that calculates the BMI (Body Mass Index) of a person based on their weight and height using if-else."
   ]
  },
  {
   "cell_type": "code",
   "execution_count": 154,
   "id": "c5a8fd54",
   "metadata": {},
   "outputs": [
    {
     "name": "stdout",
     "output_type": "stream",
     "text": [
      "Enter your weight in kilograms: 91\n",
      "Enter your height in meters: 1.7\n",
      "Your BMI: 31.487889273356405\n",
      "Interpretation: Obese\n"
     ]
    }
   ],
   "source": [
    "def calculate_bmi(weight, height):\n",
    "    bmi = weight / (height ** 2)\n",
    "    return bmi\n",
    "\n",
    "def interpret_bmi(bmi):\n",
    "    if bmi < 18.5:\n",
    "        return \"Underweight\"\n",
    "    elif 18.5 <= bmi < 25:\n",
    "        return \"Normal weight\"\n",
    "    elif 25 <= bmi < 30:\n",
    "        return \"Overweight\"\n",
    "    else:\n",
    "        return \"Obese\"\n",
    "\n",
    "weight = float(input(\"Enter your weight in kilograms: \"))\n",
    "height = float(input(\"Enter your height in meters: \"))\n",
    "\n",
    "bmi = calculate_bmi(weight, height)\n",
    "print(\"Your BMI:\", bmi)\n",
    "\n",
    "interpretation = interpret_bmi(bmi)\n",
    "print(\"Interpretation:\", interpretation)\n"
   ]
  },
  {
   "cell_type": "markdown",
   "id": "deb90be4",
   "metadata": {},
   "source": [
    "23-How can you use the \"filter()\" function with if-else statements to filter elements from a list?\n",
    "\n"
   ]
  },
  {
   "cell_type": "code",
   "execution_count": 158,
   "id": "1200a2fc",
   "metadata": {},
   "outputs": [
    {
     "data": {
      "text/plain": [
       "[2, 4, 6, 8, 10]"
      ]
     },
     "execution_count": 158,
     "metadata": {},
     "output_type": "execute_result"
    }
   ],
   "source": [
    "numbers = [1, 2, 3, 4, 5, 6, 7, 8, 9, 10]\n",
    "filtered_even = filter(lambda a : a%2 == 0,numbers)\n",
    "list(filtered_even)"
   ]
  },
  {
   "cell_type": "markdown",
   "id": "cfd8928d",
   "metadata": {},
   "source": [
    "24-Write a Python program to determine if a given number is prime or not using if-else."
   ]
  },
  {
   "cell_type": "code",
   "execution_count": 159,
   "id": "b91dc980",
   "metadata": {},
   "outputs": [
    {
     "name": "stdout",
     "output_type": "stream",
     "text": [
      "Enter a number: 4\n",
      "4 is not a prime number.\n"
     ]
    }
   ],
   "source": [
    "def is_prime(num):\n",
    "    if num <= 1:\n",
    "        return False  # 1 and numbers less than 1 are not prime\n",
    "    elif num == 2:\n",
    "        return True   # 2 is a prime number\n",
    "    else:\n",
    "        # Check for divisibility by all numbers from 2 to the square root of the number\n",
    "        for i in range(2, int(num**0.5) + 1):\n",
    "            if num % i == 0:\n",
    "                return False  # If divisible by any number, it's not prime\n",
    "        return True  # If not divisible by any number, it's prime\n",
    "number = int(input(\"Enter a number: \"))\n",
    "if is_prime(number):\n",
    "    print(f\"{number} is a prime number.\")\n",
    "else:\n",
    "    print(f\"{number} is not a prime number.\")\n"
   ]
  },
  {
   "cell_type": "markdown",
   "id": "8bd7b1f7",
   "metadata": {},
   "source": [
    "# Map :-"
   ]
  },
  {
   "cell_type": "markdown",
   "id": "7d66721d",
   "metadata": {},
   "source": [
    "1-Explain the purpose of the `map()` function in Python and provide an example of how it can be used to apply a function to each element of an iterable."
   ]
  },
  {
   "cell_type": "markdown",
   "id": "2128667b",
   "metadata": {},
   "source": [
    "he map() function in Python is used to apply a given function to each item in an iterable (such as a list, tuple, or string) and returns a new iterable containing the results of applying the function to each item.\n",
    "\n",
    "The syntax of the map() function is:\n",
    "\n",
    "map(function, iterable)"
   ]
  },
  {
   "cell_type": "code",
   "execution_count": 162,
   "id": "e28ce95b",
   "metadata": {},
   "outputs": [
    {
     "data": {
      "text/plain": [
       "[3, 4, 5, 6, 7]"
      ]
     },
     "execution_count": 162,
     "metadata": {},
     "output_type": "execute_result"
    }
   ],
   "source": [
    "l=[1,2,3,4,5]\n",
    "add2 = map(lambda a :a+2 ,l)\n",
    "list(add2)"
   ]
  },
  {
   "cell_type": "markdown",
   "id": "245d1bbb",
   "metadata": {},
   "source": [
    "2-Write a Python program that uses the `map()` function to square each element of a list of numbers."
   ]
  },
  {
   "cell_type": "code",
   "execution_count": 163,
   "id": "1c1fa678",
   "metadata": {},
   "outputs": [
    {
     "data": {
      "text/plain": [
       "[1, 4, 9, 16, 25]"
      ]
     },
     "execution_count": 163,
     "metadata": {},
     "output_type": "execute_result"
    }
   ],
   "source": [
    "square = list(map(lambda a : a**2,l))\n",
    "square"
   ]
  },
  {
   "cell_type": "markdown",
   "id": "ceea038f",
   "metadata": {},
   "source": [
    "3-How does the `map()` function differ from a list comprehension in Python, and when would you choose one over the other?"
   ]
  },
  {
   "cell_type": "markdown",
   "id": "fbd2fe22",
   "metadata": {},
   "source": [
    "The `map()` function and list comprehensions both transform iterables, but list comprehensions offer more readability and flexibility, while `map()` may be slightly faster for simple transformations or when using pre-defined functions. Use list comprehensions for readability and complex transformations, and `map()` for simplicity and performance in some cases."
   ]
  },
  {
   "cell_type": "markdown",
   "id": "c1bd80af",
   "metadata": {},
   "source": [
    "4-Create a Python program that uses the `map()` function to convert a list of names to uppercase."
   ]
  },
  {
   "cell_type": "code",
   "execution_count": 164,
   "id": "f3632f8f",
   "metadata": {},
   "outputs": [
    {
     "data": {
      "text/plain": [
       "['MOHAMMED', 'ALI', 'MOTASEM']"
      ]
     },
     "execution_count": 164,
     "metadata": {},
     "output_type": "execute_result"
    }
   ],
   "source": [
    "names = [\"mohammed\", \"ali\", \"motasem\"]\n",
    "upper_names = list(map(lambda a : a.upper(),names))\n",
    "upper_names"
   ]
  },
  {
   "cell_type": "markdown",
   "id": "742c8cd4",
   "metadata": {},
   "source": [
    "5-Write a Python program that uses the `map()` function to calculate the length of each word in a list of strings."
   ]
  },
  {
   "cell_type": "code",
   "execution_count": 165,
   "id": "b2930d52",
   "metadata": {},
   "outputs": [
    {
     "data": {
      "text/plain": [
       "[8, 3, 7]"
      ]
     },
     "execution_count": 165,
     "metadata": {},
     "output_type": "execute_result"
    }
   ],
   "source": [
    "length = list(map(lambda a : len(a) ,names))\n",
    "length"
   ]
  },
  {
   "cell_type": "markdown",
   "id": "5a1928e5",
   "metadata": {},
   "source": [
    "6-How can you use the `map()` function to apply a custom function to elements of multiple lists simultaneously in Python?"
   ]
  },
  {
   "cell_type": "code",
   "execution_count": 166,
   "id": "bab7fd7e",
   "metadata": {},
   "outputs": [
    {
     "data": {
      "text/plain": [
       "[2, 4, 6]"
      ]
     },
     "execution_count": 166,
     "metadata": {},
     "output_type": "execute_result"
    }
   ],
   "source": [
    "list1 = [1,2,3]\n",
    "list2 = [1,2,3]\n",
    "r = list(map(lambda a,b :a+b,list1,list2))\n",
    "r"
   ]
  },
  {
   "cell_type": "markdown",
   "id": "5c5fb583",
   "metadata": {},
   "source": [
    "7-Create a Python program that uses `map()` to convert a list of temperatures from Celsius to Fahrenheit."
   ]
  },
  {
   "cell_type": "code",
   "execution_count": 167,
   "id": "8aa9deac",
   "metadata": {},
   "outputs": [
    {
     "data": {
      "text/plain": [
       "[86.0, 53.6, 102.2]"
      ]
     },
     "execution_count": 167,
     "metadata": {},
     "output_type": "execute_result"
    }
   ],
   "source": [
    "temperture = [30, 12, 39] # °F = (°C × 9/5) + 32\n",
    "fh = list(map(lambda a : ((a*(9/5))+32) ,temperture))\n",
    "fh"
   ]
  },
  {
   "cell_type": "markdown",
   "id": "023bdebb",
   "metadata": {},
   "source": [
    "8-Write a Python program that uses the `map()` function to round each element of a list of floating-point numbers to the nearest integer."
   ]
  },
  {
   "cell_type": "code",
   "execution_count": 168,
   "id": "2012bb82",
   "metadata": {},
   "outputs": [
    {
     "data": {
      "text/plain": [
       "[3, 3, 2, 5, 7]"
      ]
     },
     "execution_count": 168,
     "metadata": {},
     "output_type": "execute_result"
    }
   ],
   "source": [
    "float_numbers = [3.14, 2.718, 1.618, 4.669, 6.626]\n",
    "int_numbers = list(map(round,float_numbers))\n",
    "int_numbers"
   ]
  },
  {
   "cell_type": "markdown",
   "id": "7b0da168",
   "metadata": {},
   "source": [
    "# Reduce :-"
   ]
  },
  {
   "cell_type": "markdown",
   "id": "24c7e043",
   "metadata": {},
   "source": [
    "1-What is the `reduce()` function in Python, and what module should you import to use it? Provide an example of its basic usage.\n"
   ]
  },
  {
   "cell_type": "markdown",
   "id": "02db823b",
   "metadata": {},
   "source": [
    "The reduce() function in Python is used to apply a function of two arguments cumulatively to the items of an iterable, from left to right, so as to reduce the iterable to a single value. It is part of the functools module, so you need to import the functools module to use it."
   ]
  },
  {
   "cell_type": "code",
   "execution_count": 169,
   "id": "b078dff2",
   "metadata": {},
   "outputs": [
    {
     "data": {
      "text/plain": [
       "120"
      ]
     },
     "execution_count": 169,
     "metadata": {},
     "output_type": "execute_result"
    }
   ],
   "source": [
    "from functools import reduce \n",
    "l=[1,2,3,4,5]\n",
    "m_all = reduce(lambda x,y : x*y,l)\n",
    "m_all"
   ]
  },
  {
   "cell_type": "markdown",
   "id": "fa8b2312",
   "metadata": {},
   "source": [
    "\n",
    "2-Write a Python program that uses the `reduce()` function to find the product of all elements in a list.\n",
    "\n"
   ]
  },
  {
   "cell_type": "code",
   "execution_count": 171,
   "id": "9c5e8ab7",
   "metadata": {},
   "outputs": [
    {
     "data": {
      "text/plain": [
       "120"
      ]
     },
     "execution_count": 171,
     "metadata": {},
     "output_type": "execute_result"
    }
   ],
   "source": [
    "def multiply(x,y):\n",
    "    return x*y\n",
    "    \n",
    "m_all = reduce(multiply,l)\n",
    "m_all"
   ]
  },
  {
   "cell_type": "markdown",
   "id": "c83f5221",
   "metadata": {},
   "source": [
    "3-Create a Python program that uses `reduce()` to find the maximum element in a list of numbers.\n",
    "\n"
   ]
  },
  {
   "cell_type": "code",
   "execution_count": 176,
   "id": "4dfbd314",
   "metadata": {},
   "outputs": [
    {
     "data": {
      "text/plain": [
       "5"
      ]
     },
     "execution_count": 176,
     "metadata": {},
     "output_type": "execute_result"
    }
   ],
   "source": [
    "l=[1,2,3,4,5]\n",
    "max_element = reduce(lambda x,y : x if x > y else y,l)\n",
    "max_element"
   ]
  },
  {
   "cell_type": "markdown",
   "id": "35ca3662",
   "metadata": {},
   "source": [
    "4-How can you use the `reduce()` function to concatenate a list of strings into a single string?\n"
   ]
  },
  {
   "cell_type": "code",
   "execution_count": 178,
   "id": "0672e7c9",
   "metadata": {},
   "outputs": [
    {
     "data": {
      "text/plain": [
       "'i love python'"
      ]
     },
     "execution_count": 178,
     "metadata": {},
     "output_type": "execute_result"
    }
   ],
   "source": [
    "lst =[\"i\", \"love\", \"python\"]\n",
    "st = reduce(lambda a,b : a+\" \"+b ,lst)\n",
    "st"
   ]
  },
  {
   "cell_type": "markdown",
   "id": "d05f0c1b",
   "metadata": {},
   "source": [
    "5-Write a Python program that calculates the factorial of a number using the `reduce()` function.\n"
   ]
  },
  {
   "cell_type": "code",
   "execution_count": 179,
   "id": "22df1fb5",
   "metadata": {},
   "outputs": [
    {
     "name": "stdout",
     "output_type": "stream",
     "text": [
      "enter the numver : 5\n"
     ]
    },
    {
     "data": {
      "text/plain": [
       "120"
      ]
     },
     "execution_count": 179,
     "metadata": {},
     "output_type": "execute_result"
    }
   ],
   "source": [
    "n=int(input(\"enter the numver : \"))\n",
    "factorial = reduce(lambda x, y: x * y, range(1, n + 1))\n",
    "factorial"
   ]
  },
  {
   "cell_type": "markdown",
   "id": "40963772",
   "metadata": {},
   "source": [
    "6-Create a Python program that uses `reduce()` to find the GCD (Greatest Common Divisor) of a list of numbers.\n"
   ]
  },
  {
   "cell_type": "code",
   "execution_count": 180,
   "id": "ee3a4344",
   "metadata": {},
   "outputs": [
    {
     "data": {
      "text/plain": [
       "12"
      ]
     },
     "execution_count": 180,
     "metadata": {},
     "output_type": "execute_result"
    }
   ],
   "source": [
    "import math \n",
    "numbers = [24, 36, 48, 60]\n",
    "gcd = reduce(lambda x,y : math.gcd(x,y),numbers)\n",
    "gcd"
   ]
  },
  {
   "cell_type": "markdown",
   "id": "ac7d31ea",
   "metadata": {},
   "source": [
    "7-Write a Python program that uses the `reduce()` function to find the sum of the digits of a given number."
   ]
  },
  {
   "cell_type": "code",
   "execution_count": 199,
   "id": "883558cb",
   "metadata": {},
   "outputs": [
    {
     "data": {
      "text/plain": [
       "10"
      ]
     },
     "execution_count": 199,
     "metadata": {},
     "output_type": "execute_result"
    }
   ],
   "source": [
    "n=1234\n",
    "strn = str(n)\n",
    "ln = [int(i) for i in strn]\n",
    "sum_digit = reduce(lambda a,b : a+b ,ln)\n",
    "sum_digit"
   ]
  },
  {
   "cell_type": "code",
   "execution_count": 197,
   "id": "99687ffe",
   "metadata": {},
   "outputs": [
    {
     "data": {
      "text/plain": [
       "10"
      ]
     },
     "execution_count": 197,
     "metadata": {},
     "output_type": "execute_result"
    }
   ],
   "source": [
    "def sum_of_digits(num):\n",
    "    # Convert the number to a string and then map each character to an integer\n",
    "    digits = map(int, str(num))\n",
    "    # Use reduce() to sum up the digits\n",
    "    return reduce(lambda x, y: x + y, digits)\n",
    "sum_of_digits(1234)"
   ]
  },
  {
   "cell_type": "markdown",
   "id": "b54b1b55",
   "metadata": {},
   "source": [
    "# Filter :-\n"
   ]
  },
  {
   "cell_type": "markdown",
   "id": "89269f60",
   "metadata": {},
   "source": [
    "1-Explain the purpose of the `filter()` function in Python and provide an example of how it can be used to filter elements from an iterable."
   ]
  },
  {
   "cell_type": "markdown",
   "id": "27eb6acd",
   "metadata": {},
   "source": [
    "\n",
    "The filter() function in Python is used to filter elements from an iterable (such as a list) based on a specified condition"
   ]
  },
  {
   "cell_type": "code",
   "execution_count": 202,
   "id": "43a43db7",
   "metadata": {},
   "outputs": [
    {
     "data": {
      "text/plain": [
       "[2, 4, 6, 8, 10]"
      ]
     },
     "execution_count": 202,
     "metadata": {},
     "output_type": "execute_result"
    }
   ],
   "source": [
    "l = [1,2,3,4,5,6,7,8,9,10]\n",
    "even_l = filter(lambda a:a%2==0,l)\n",
    "list(even_l)"
   ]
  },
  {
   "cell_type": "markdown",
   "id": "2401a3a9",
   "metadata": {},
   "source": [
    "2-Write a Python program that uses the `filter()` function to select even numbers from a list of integers."
   ]
  },
  {
   "cell_type": "code",
   "execution_count": 204,
   "id": "2a6ba68d",
   "metadata": {},
   "outputs": [
    {
     "data": {
      "text/plain": [
       "[2, 4, 6, 8, 10]"
      ]
     },
     "execution_count": 204,
     "metadata": {},
     "output_type": "execute_result"
    }
   ],
   "source": [
    "def find_even (*lst) :\n",
    "    even_l=[]\n",
    "    for i in lst :\n",
    "        if i % 2 == 0 :\n",
    "            even_l.append(i)\n",
    "    return even_l \n",
    "even_list = filter(find_even,l)\n",
    "list(even_list)"
   ]
  },
  {
   "cell_type": "markdown",
   "id": "dc4d11b7",
   "metadata": {},
   "source": [
    "3=Create a Python program that uses the `filter()` function to select names that start with a specific letter from a list of strings."
   ]
  },
  {
   "cell_type": "code",
   "execution_count": 206,
   "id": "9e24e341",
   "metadata": {},
   "outputs": [
    {
     "data": {
      "text/plain": [
       "['python', 'prpgramming']"
      ]
     },
     "execution_count": 206,
     "metadata": {},
     "output_type": "execute_result"
    }
   ],
   "source": [
    "list_string = [\"python\", \"hadoop\", \"sql\", \"prpgramming\"]\n",
    "selected_l = filter(lambda a : a.startswith(\"p\"),list_string)\n",
    "list(selected_l)"
   ]
  },
  {
   "cell_type": "markdown",
   "id": "ca09d0fd",
   "metadata": {},
   "source": [
    "4-Write a Python program that uses the `filter()` function to select prime numbers from a list of integers."
   ]
  },
  {
   "cell_type": "code",
   "execution_count": 207,
   "id": "a585571c",
   "metadata": {},
   "outputs": [
    {
     "name": "stdout",
     "output_type": "stream",
     "text": [
      "Prime numbers: [2, 3, 5, 7]\n"
     ]
    }
   ],
   "source": [
    "# Function to check if a number is prime\n",
    "def is_prime(n):\n",
    "    if n <= 1:\n",
    "        return False\n",
    "    for i in range(2, int(n ** 0.5) + 1):\n",
    "        if n % i == 0:\n",
    "            return False\n",
    "    return True\n",
    "\n",
    "# List of numbers\n",
    "numbers = [1, 2, 3, 4, 5, 6, 7, 8, 9, 10]\n",
    "\n",
    "# Use filter() with the is_prime function to filter prime numbers\n",
    "prime_numbers = filter(is_prime, numbers)\n",
    "\n",
    "# Convert the filtered iterator to a list\n",
    "prime_list = list(prime_numbers)\n",
    "\n",
    "print(\"Prime numbers:\", prime_list)\n"
   ]
  },
  {
   "cell_type": "markdown",
   "id": "decaf35b",
   "metadata": {},
   "source": [
    "5-How can you use the `filter()` function to remove None values from a list in Python?"
   ]
  },
  {
   "cell_type": "code",
   "execution_count": 211,
   "id": "464bff7a",
   "metadata": {},
   "outputs": [
    {
     "data": {
      "text/plain": [
       "['A', 'B', 1, 2]"
      ]
     },
     "execution_count": 211,
     "metadata": {},
     "output_type": "execute_result"
    }
   ],
   "source": [
    "l=[\"A\", \"B\" , 1, 2, None]\n",
    "remove_n = filter(lambda a : a is not None ,l)\n",
    "list(remove_n)"
   ]
  },
  {
   "cell_type": "markdown",
   "id": "a40a5fab",
   "metadata": {},
   "source": [
    "6-Create a Python program that uses `filter()` to select words longer than a certain length from a list of strings"
   ]
  },
  {
   "cell_type": "code",
   "execution_count": 212,
   "id": "0a58b3be",
   "metadata": {},
   "outputs": [
    {
     "data": {
      "text/plain": [
       "['python', 'hadoop', 'prpgramming']"
      ]
     },
     "execution_count": 212,
     "metadata": {},
     "output_type": "execute_result"
    }
   ],
   "source": [
    "list_string = [\"python\", \"hadoop\", \"sql\", \"prpgramming\"] \n",
    "select_length = list(filter(lambda a : len(a) > 3 ,list_string))\n",
    "select_length"
   ]
  },
  {
   "cell_type": "markdown",
   "id": "d960d3f4",
   "metadata": {},
   "source": [
    "7-Write a Python program that uses the `filter()` function to select elements greater than a specified threshold from a list of values."
   ]
  },
  {
   "cell_type": "code",
   "execution_count": 213,
   "id": "27bbb559",
   "metadata": {},
   "outputs": [
    {
     "name": "stdout",
     "output_type": "stream",
     "text": [
      "Values greater than 30 : [40, 50, 60]\n"
     ]
    }
   ],
   "source": [
    "# List of values\n",
    "values = [10, 20, 30, 40, 50, 60]\n",
    "\n",
    "# Threshold\n",
    "threshold = 30\n",
    "\n",
    "# Use filter() with a lambda function to select elements greater than the threshold\n",
    "filtered_values = filter(lambda x: x > threshold, values)\n",
    "\n",
    "# Convert the filtered iterator to a list\n",
    "result = list(filtered_values)\n",
    "\n",
    "print(\"Values greater than\", threshold, \":\", result)\n"
   ]
  },
  {
   "cell_type": "markdown",
   "id": "571c2f7e",
   "metadata": {},
   "source": [
    "# Recursion:-"
   ]
  },
  {
   "cell_type": "markdown",
   "id": "ade2c8b3",
   "metadata": {},
   "source": [
    "1-Explain the concept of recursion in Python. How does it differ from iteration?"
   ]
  },
  {
   "cell_type": "code",
   "execution_count": null,
   "id": "a4e9c019",
   "metadata": {},
   "outputs": [],
   "source": []
  },
  {
   "cell_type": "markdown",
   "id": "b992ff0b",
   "metadata": {},
   "source": [
    "2-Write a Python program to calculate the factorial of a number using recursion."
   ]
  },
  {
   "cell_type": "code",
   "execution_count": 215,
   "id": "eac06261",
   "metadata": {},
   "outputs": [
    {
     "data": {
      "text/plain": [
       "120"
      ]
     },
     "execution_count": 215,
     "metadata": {},
     "output_type": "execute_result"
    }
   ],
   "source": [
    "def factorial (n):\n",
    "    if n==0 or n==1 :\n",
    "        return 1\n",
    "    else :\n",
    "        return n * factorial(n-1)\n",
    "factorial(5)"
   ]
  },
  {
   "cell_type": "markdown",
   "id": "f5add873",
   "metadata": {},
   "source": [
    "3-Create a recursive Python function to find the nth Fibonacci number."
   ]
  },
  {
   "cell_type": "code",
   "execution_count": 217,
   "id": "fcd5ae20",
   "metadata": {},
   "outputs": [
    {
     "name": "stdout",
     "output_type": "stream",
     "text": [
      "The 9th Fibonacci number is: 34\n"
     ]
    }
   ],
   "source": [
    "def fibonacci(n):\n",
    "    # Base cases: Fibonacci numbers for n=0 and n=1 are 0 and 1, respectively\n",
    "    if n <= 1:\n",
    "        return n\n",
    "    # Recursive case: Fibonacci number for n is the sum of the previous two Fibonacci numbers\n",
    "    else:\n",
    "        return fibonacci(n-1) + fibonacci(n-2)\n",
    "n = 9\n",
    "print(f\"The {n}th Fibonacci number is:\", fibonacci(n))\n"
   ]
  },
  {
   "cell_type": "markdown",
   "id": "d5b5d7ad",
   "metadata": {},
   "source": [
    "4-Write a recursive Python function to calculate the sum of all elements in a list."
   ]
  },
  {
   "cell_type": "code",
   "execution_count": 221,
   "id": "cdad6eb6",
   "metadata": {},
   "outputs": [
    {
     "data": {
      "text/plain": [
       "10"
      ]
     },
     "execution_count": 221,
     "metadata": {},
     "output_type": "execute_result"
    }
   ],
   "source": [
    "def sum_all(n):\n",
    "    if len(n) == 0:\n",
    "        return 0\n",
    "    else :\n",
    "        return n[0] + sum_all(n[1:])\n",
    "sum_all([1,2,3,4])"
   ]
  },
  {
   "cell_type": "markdown",
   "id": "7edf0922",
   "metadata": {},
   "source": [
    "5-How can you prevent a recursive function from running indefinitely, causing a stack overflow error?"
   ]
  },
  {
   "cell_type": "code",
   "execution_count": null,
   "id": "bcd6e607",
   "metadata": {},
   "outputs": [],
   "source": []
  },
  {
   "cell_type": "markdown",
   "id": "dcf2cb12",
   "metadata": {},
   "source": [
    "6-Create a recursive Python function to find the greatest common divisor (GCD) of two numbers using the Euclidean algorithm."
   ]
  },
  {
   "cell_type": "code",
   "execution_count": 223,
   "id": "3d4515b3",
   "metadata": {},
   "outputs": [
    {
     "name": "stdout",
     "output_type": "stream",
     "text": [
      "GCD of 48 and 18 is: 6\n"
     ]
    }
   ],
   "source": [
    "def gcd(a, b):\n",
    "    # Base case: if b is 0, the GCD is a\n",
    "    if b == 0:\n",
    "        return a\n",
    "    # Recursive case: recursively call gcd with b and the remainder of a divided by b\n",
    "    else:\n",
    "        return gcd(b, a % b)\n",
    "\n",
    "# Example usage:\n",
    "num1 = 48\n",
    "num2 = 18\n",
    "print(\"GCD of\", num1, \"and\", num2, \"is:\", gcd(num1, num2))\n"
   ]
  },
  {
   "cell_type": "markdown",
   "id": "9a36112e",
   "metadata": {},
   "source": [
    "7-Write a recursive Python function to reverse a string."
   ]
  },
  {
   "cell_type": "code",
   "execution_count": 234,
   "id": "7b8c5703",
   "metadata": {},
   "outputs": [
    {
     "data": {
      "text/plain": [
       "'olleh'"
      ]
     },
     "execution_count": 234,
     "metadata": {},
     "output_type": "execute_result"
    }
   ],
   "source": [
    "def reverse_string(s):\n",
    "    if len(s) <= 1:\n",
    "        return s\n",
    "    else:\n",
    "        return s[-1] + reverse_string(s[:-1])\n",
    "\n",
    "reverse_string(\"hello\")"
   ]
  },
  {
   "cell_type": "markdown",
   "id": "18614f9d",
   "metadata": {},
   "source": [
    "8-Create a recursive Python function to calculate the power of a number (x^n)."
   ]
  },
  {
   "cell_type": "code",
   "execution_count": 238,
   "id": "d3664fef",
   "metadata": {},
   "outputs": [
    {
     "name": "stdout",
     "output_type": "stream",
     "text": [
      "Result of 2 raised to the power of 5 is: 32\n"
     ]
    }
   ],
   "source": [
    "def power(x, n):\n",
    "    # Base case: if n is 0, return 1 (x^0 = 1)\n",
    "    if n == 0:\n",
    "        return 1\n",
    "    # Recursive case: x^n = x * x^(n-1)\n",
    "    else:\n",
    "        return x * power(x, n-1)\n",
    "\n",
    "\n",
    "base = 2\n",
    "exponent = 5\n",
    "print(\"Result of\", base, \"raised to the power of\", exponent, \"is:\", power(base, exponent))\n"
   ]
  },
  {
   "cell_type": "markdown",
   "id": "3ff32207",
   "metadata": {},
   "source": [
    "9-Write a recursive Python function to find all permutations of a given string."
   ]
  },
  {
   "cell_type": "code",
   "execution_count": 237,
   "id": "0fffa9b0",
   "metadata": {},
   "outputs": [
    {
     "name": "stdout",
     "output_type": "stream",
     "text": [
      "Permutations of abc are:\n",
      "abc\n",
      "acb\n",
      "bac\n",
      "bca\n",
      "cba\n",
      "cab\n"
     ]
    }
   ],
   "source": [
    "def permute_string(s, left, right):\n",
    "    if left == right:\n",
    "        print(\"\".join(s))\n",
    "    else:\n",
    "        for i in range(left, right + 1):\n",
    "            s[left], s[i] = s[i], s[left]  # Swap characters\n",
    "            permute_string(s, left + 1, right)  # Recur with the next character fixed\n",
    "            s[left], s[i] = s[i], s[left]  # Backtrack\n",
    "\n",
    "# Wrapper function to initialize parameters\n",
    "def find_permutations(input_string):\n",
    "    s = list(input_string)\n",
    "    permute_string(s, 0, len(s) - 1)\n",
    "\n",
    "input_string = \"abc\"\n",
    "print(\"Permutations of\", input_string, \"are:\")\n",
    "find_permutations(input_string)\n"
   ]
  },
  {
   "cell_type": "markdown",
   "id": "747a6ad8",
   "metadata": {},
   "source": [
    "10-Write a recursive Python function to check if a string is a palindrome."
   ]
  },
  {
   "cell_type": "code",
   "execution_count": 239,
   "id": "c1cbf1ea",
   "metadata": {},
   "outputs": [
    {
     "name": "stdout",
     "output_type": "stream",
     "text": [
      "Is radar a palindrome? True\n"
     ]
    }
   ],
   "source": [
    "def is_palindrome(s):\n",
    "    # Base case: if the string has 0 or 1 characters, it's a palindrome\n",
    "    if len(s) <= 1:\n",
    "        return True\n",
    "    # Recursive case: compare first and last characters, then check the rest of the string\n",
    "    else:\n",
    "        return s[0] == s[-1] and is_palindrome(s[1:-1])\n",
    "\n",
    "input_string = \"radar\"\n",
    "print(\"Is\", input_string, \"a palindrome?\", is_palindrome(input_string))\n"
   ]
  },
  {
   "cell_type": "markdown",
   "id": "ce3e6a7f",
   "metadata": {},
   "source": [
    "11-Create a recursive Python function to generate all possible combinations of a list of elements."
   ]
  },
  {
   "cell_type": "code",
   "execution_count": 240,
   "id": "19fa1cdd",
   "metadata": {},
   "outputs": [
    {
     "name": "stdout",
     "output_type": "stream",
     "text": [
      "All possible combinations of [1, 2, 3] are:\n",
      "[1, 2, 3]\n",
      "[1, 2]\n",
      "[1, 3]\n",
      "[1]\n",
      "[2, 3]\n",
      "[2]\n",
      "[3]\n",
      "[]\n"
     ]
    }
   ],
   "source": [
    "def generate_combinations(lst, current_combo, index):\n",
    "    if index == len(lst):\n",
    "        print(current_combo)\n",
    "    else:\n",
    "        # Include current element in the combination and recurse\n",
    "        generate_combinations(lst, current_combo + [lst[index]], index + 1)\n",
    "        # Exclude current element from the combination and recurse\n",
    "        generate_combinations(lst, current_combo, index + 1)\n",
    "\n",
    "# Wrapper function to initialize parameters\n",
    "def find_combinations(lst):\n",
    "    generate_combinations(lst, [], 0)\n",
    "\n",
    "\n",
    "input_list = [1, 2, 3]\n",
    "print(\"All possible combinations of\", input_list, \"are:\")\n",
    "find_combinations(input_list)\n"
   ]
  },
  {
   "cell_type": "markdown",
   "id": "663dab3f",
   "metadata": {},
   "source": [
    "# Basics of Functions:"
   ]
  },
  {
   "cell_type": "markdown",
   "id": "79277041",
   "metadata": {},
   "source": [
    "1-What is a function in Python, and why is it used?"
   ]
  },
  {
   "cell_type": "markdown",
   "id": "cc6d12e9",
   "metadata": {},
   "source": [
    "\n",
    "A function in Python is a block of code that performs a specific task. It is used to modularize code, promote code reuse, abstract implementation details, encapsulate operations, and enhance code readability."
   ]
  },
  {
   "cell_type": "markdown",
   "id": "dae5892b",
   "metadata": {},
   "source": [
    "2-How do you define a function in Python? Provide an example."
   ]
  },
  {
   "cell_type": "markdown",
   "id": "88cf50e6",
   "metadata": {},
   "source": [
    "\n",
    "In Python, you can define a function using the def keyword followed by the function name, parentheses (), and a colon :. The function body is indented and contains the code to be executed when the function is called. Here's an example:"
   ]
  },
  {
   "cell_type": "code",
   "execution_count": 241,
   "id": "58e73f1b",
   "metadata": {},
   "outputs": [
    {
     "name": "stdout",
     "output_type": "stream",
     "text": [
      "Hello, Alice!\n"
     ]
    }
   ],
   "source": [
    "def greet(name):\n",
    "    \"\"\"This function greets the user.\"\"\"\n",
    "    print(\"Hello, \" + name + \"!\")\n",
    "\n",
    "# Call the function\n",
    "greet(\"Alice\")\n"
   ]
  },
  {
   "cell_type": "markdown",
   "id": "afda8313",
   "metadata": {},
   "source": [
    "3-Explain the difference between a function definition and a function call."
   ]
  },
  {
   "cell_type": "markdown",
   "id": "f68ad4cf",
   "metadata": {},
   "source": [
    "In Python, a function definition is the process of creating a function with a specified name, parameters (if any), and code block. This is done using the `def` keyword followed by the function name, parentheses containing any parameters, and a colon. Here's an example:\n",
    "\n",
    "```python\n",
    "def greet(name):\n",
    "    print(\"Hello, \" + name + \"!\")\n",
    "```\n",
    "\n",
    "On the other hand, a function call is the process of executing or invoking a function that has been defined elsewhere in the code. This is done by writing the function name followed by parentheses containing any required arguments. Here's an example:\n",
    "\n",
    "```python\n",
    "greet(\"Alice\")\n",
    "```\n",
    "\n",
    "In this example, `greet` is a function that prints a greeting message, and `\"Alice\"` is passed as an argument to the function when it is called."
   ]
  },
  {
   "cell_type": "markdown",
   "id": "ff662aa6",
   "metadata": {},
   "source": [
    "4-Write a Python program that defines a function to calculate the sum of two numbers and then calls the function"
   ]
  },
  {
   "cell_type": "code",
   "execution_count": 242,
   "id": "d9ab9356",
   "metadata": {},
   "outputs": [
    {
     "name": "stdout",
     "output_type": "stream",
     "text": [
      "The sum is: 8\n"
     ]
    }
   ],
   "source": [
    "def calculate_sum(a, b):\n",
    "    \"\"\"This function calculates the sum of two numbers.\"\"\"\n",
    "    return a + b\n",
    "\n",
    "# Call the function\n",
    "result = calculate_sum(5, 3)\n",
    "print(\"The sum is:\", result)\n"
   ]
  },
  {
   "cell_type": "markdown",
   "id": "2d4a5582",
   "metadata": {},
   "source": [
    "5-What is a function signature, and what information does it typically include?"
   ]
  },
  {
   "cell_type": "markdown",
   "id": "1233ed36",
   "metadata": {},
   "source": [
    "A function signature typically includes the function's name, parameters, return type (if any), and possibly exceptions it may raise. It provides a concise summary of the function's interface."
   ]
  },
  {
   "cell_type": "code",
   "execution_count": 243,
   "id": "3c7252b3",
   "metadata": {},
   "outputs": [],
   "source": [
    "def calculate_sum(a: int, b: int) -> int:\n",
    "    \"\"\"Calculates the sum of two integers.\"\"\"\n",
    "    return a + b\n"
   ]
  },
  {
   "cell_type": "markdown",
   "id": "9a9fa653",
   "metadata": {},
   "source": [
    "6-Create a Python function that takes two arguments and returns their product."
   ]
  },
  {
   "cell_type": "code",
   "execution_count": 244,
   "id": "e2b34e54",
   "metadata": {},
   "outputs": [
    {
     "name": "stdout",
     "output_type": "stream",
     "text": [
      "The product is: 12\n"
     ]
    }
   ],
   "source": [
    "def multiply(a, b):\n",
    "    \"\"\"Returns the product of two numbers.\"\"\"\n",
    "    return a * b\n",
    "\n",
    "# Example usage:\n",
    "result = multiply(3, 4)\n",
    "print(\"The product is:\", result)\n"
   ]
  },
  {
   "cell_type": "markdown",
   "id": "16802a1d",
   "metadata": {},
   "source": [
    "# Function Parameters and Arguments:"
   ]
  },
  {
   "cell_type": "markdown",
   "id": "ba7d3d4a",
   "metadata": {},
   "source": [
    "1-Explain the concepts of formal parameters and actual arguments in Python functions.\n",
    "\n"
   ]
  },
  {
   "cell_type": "markdown",
   "id": "3c8657b1",
   "metadata": {},
   "source": [
    "In Python functions, formal parameters are the variables listed in the function definition, while actual arguments are the values passed to the function when it's called. Formal parameters act as placeholders, and actual arguments are the real values used during function execution."
   ]
  },
  {
   "cell_type": "code",
   "execution_count": 245,
   "id": "8e3721b0",
   "metadata": {},
   "outputs": [
    {
     "name": "stdout",
     "output_type": "stream",
     "text": [
      "Hello, Motasem!\n"
     ]
    }
   ],
   "source": [
    "def greet(name):\n",
    "    print(\"Hello, \" + name + \"!\")\n",
    "greet(\"Motasem\")"
   ]
  },
  {
   "cell_type": "markdown",
   "id": "cb0c219f",
   "metadata": {},
   "source": [
    "2-Write a Python program that defines a function with default argument values."
   ]
  },
  {
   "cell_type": "code",
   "execution_count": 246,
   "id": "564aee8f",
   "metadata": {},
   "outputs": [
    {
     "name": "stdout",
     "output_type": "stream",
     "text": [
      "Hello, World!\n",
      "Hello, Alice!\n"
     ]
    }
   ],
   "source": [
    "def greet(name=\"World\"):\n",
    "    \"\"\"Greets the user with the given name.\"\"\"\n",
    "    print(\"Hello, \" + name + \"!\")\n",
    "\n",
    "# Call the function with default argument\n",
    "greet()\n",
    "\n",
    "# Call the function with a specific argument\n",
    "greet(\"Alice\")\n"
   ]
  },
  {
   "cell_type": "markdown",
   "id": "81d85502",
   "metadata": {},
   "source": [
    "3-How do you use keyword arguments in Python function calls? Provide an example."
   ]
  },
  {
   "cell_type": "code",
   "execution_count": 247,
   "id": "539c5808",
   "metadata": {},
   "outputs": [
    {
     "name": "stdout",
     "output_type": "stream",
     "text": [
      "Hello, Alice! How are you?\n"
     ]
    }
   ],
   "source": [
    "def greet(name, message):\n",
    "    \"\"\"Greets the user with the given name and message.\"\"\"\n",
    "    print(\"Hello, \" + name + \"! \" + message)\n",
    "\n",
    "# Call the function using keyword arguments\n",
    "greet(name=\"Alice\", message=\"How are you?\")\n"
   ]
  },
  {
   "cell_type": "markdown",
   "id": "ba45fa68",
   "metadata": {},
   "source": [
    "4-Create a Python function that accepts a variable number of arguments and calculates their sum."
   ]
  },
  {
   "cell_type": "code",
   "execution_count": 249,
   "id": "20be30ab",
   "metadata": {},
   "outputs": [
    {
     "name": "stdout",
     "output_type": "stream",
     "text": [
      "The sum is: 15\n"
     ]
    }
   ],
   "source": [
    "def calculate_sum(*args):\n",
    "    \"\"\"Calculates the sum of variable number of arguments.\"\"\"\n",
    "    total = 0\n",
    "    for num in args:\n",
    "        total += num\n",
    "    return total\n",
    "\n",
    "# Example usage:\n",
    "result = calculate_sum(1, 2, 3, 4, 5)\n",
    "print(\"The sum is:\", result)\n"
   ]
  },
  {
   "cell_type": "markdown",
   "id": "cb91bdb9",
   "metadata": {},
   "source": [
    "5-What is the purpose of the `*args` and `**kwargs` syntax in function parameter lists?"
   ]
  },
  {
   "cell_type": "code",
   "execution_count": 250,
   "id": "b25c2d37",
   "metadata": {},
   "outputs": [
    {
     "name": "stdout",
     "output_type": "stream",
     "text": [
      "name Alice\n",
      "age 30\n",
      "city New York\n"
     ]
    }
   ],
   "source": [
    "def my_function(**kwargs):\n",
    "    for key, value in kwargs.items():\n",
    "        print(key, value)\n",
    "\n",
    "my_function(name=\"Alice\", age=30, city=\"New York\")\n"
   ]
  },
  {
   "cell_type": "markdown",
   "id": "f9cf5d39",
   "metadata": {},
   "source": [
    "# Return Values and Scoping:"
   ]
  },
  {
   "cell_type": "markdown",
   "id": "dd3c9765",
   "metadata": {},
   "source": [
    "1-Describe the role of the `return` statement in Python functions and provide examples.\n"
   ]
  },
  {
   "cell_type": "markdown",
   "id": "624ee2de",
   "metadata": {},
   "source": [
    "1. Role of the return statement in Python functions:\n",
    "\n",
    "The return statement in Python functions is used to exit the function and return a value back to the caller. It allows the function to pass data or results back to the calling code. Here are some key points:\n",
    "\n",
    "A function may have zero or more return statements.\n",
    "When a return statement is executed, the function immediately exits, and control is returned to the caller.\n",
    "The value specified in the return statement is the output of the function and can be of any data type.\n",
    "If a return statement is not specified or no value is provided, the function returns None by default.\n",
    "Examples:"
   ]
  },
  {
   "cell_type": "code",
   "execution_count": 253,
   "id": "9511fda6",
   "metadata": {},
   "outputs": [
    {
     "name": "stdout",
     "output_type": "stream",
     "text": [
      "Result: 8\n",
      "True\n",
      "False\n"
     ]
    }
   ],
   "source": [
    "# Function to add two numbers and return the result\n",
    "def add_numbers(a, b):\n",
    "    return a + b\n",
    "\n",
    "# Call the function and store the result\n",
    "result = add_numbers(3, 5)\n",
    "print(\"Result:\", result)  # Output: 8\n",
    "\n",
    "\n",
    "# Function to check if a number is even and return True or False\n",
    "def is_even(num):\n",
    "    return num % 2 == 0\n",
    "\n",
    "# Call the function and print the result\n",
    "print(is_even(4))  # Output: True\n",
    "print(is_even(7))  # Output: False"
   ]
  },
  {
   "cell_type": "markdown",
   "id": "e1923a2c",
   "metadata": {},
   "source": [
    "2-Explain the concept of variable scope in Python, including local and global variables.\n"
   ]
  },
  {
   "cell_type": "markdown",
   "id": "58c20347",
   "metadata": {},
   "source": [
    "Variable scope in Python refers to the accessibility and visibility of variables within different parts of the code. There are two main types of variable scope:\n",
    "\n",
    "Local variables: Defined within a function and are only accessible within that function.\n",
    "Global variables: Defined outside of any function and can be accessed from any part of the code."
   ]
  },
  {
   "cell_type": "markdown",
   "id": "5aa08ddb",
   "metadata": {},
   "source": [
    "3-Write a Python program that demonstrates the use of global variables within functions.\n"
   ]
  },
  {
   "cell_type": "code",
   "execution_count": 254,
   "id": "fefd275e",
   "metadata": {},
   "outputs": [
    {
     "name": "stdout",
     "output_type": "stream",
     "text": [
      "Modified global variable: 15\n"
     ]
    }
   ],
   "source": [
    "# Global variable\n",
    "global_var = 10\n",
    "\n",
    "# Function that modifies the global variable\n",
    "def modify_global():\n",
    "    global global_var  # Use the global keyword to access global_var\n",
    "    global_var += 5\n",
    "\n",
    "# Call the function\n",
    "modify_global()\n",
    "\n",
    "# Print the value of the global variable\n",
    "print(\"Modified global variable:\", global_var)  # Output: 15\n"
   ]
  },
  {
   "cell_type": "markdown",
   "id": "428645d2",
   "metadata": {},
   "source": [
    "4-Create a Python function that calculates the factorial of a number and returns it.\n"
   ]
  },
  {
   "cell_type": "code",
   "execution_count": 256,
   "id": "c347a590",
   "metadata": {},
   "outputs": [
    {
     "name": "stdout",
     "output_type": "stream",
     "text": [
      "Factorial of 5: 120\n"
     ]
    }
   ],
   "source": [
    "def factorial(n):\n",
    "    if n == 0:\n",
    "        return 1\n",
    "    else:\n",
    "        return n * factorial(n-1)\n",
    "\n",
    "# Call the function to calculate factorial of 5\n",
    "result = factorial(5)\n",
    "print(\"Factorial of 5:\", result)  "
   ]
  },
  {
   "cell_type": "markdown",
   "id": "0fe24682",
   "metadata": {},
   "source": [
    "5-How can you access variables defined outside a function from within the function?"
   ]
  },
  {
   "cell_type": "code",
   "execution_count": 257,
   "id": "2a1256b7",
   "metadata": {},
   "outputs": [
    {
     "name": "stdout",
     "output_type": "stream",
     "text": [
      "Global variable: 10\n"
     ]
    }
   ],
   "source": [
    "# Global variable\n",
    "global_var = 10\n",
    "\n",
    "# Function to access global variable\n",
    "def access_global():\n",
    "    print(\"Global variable:\", global_var)\n",
    "\n",
    "# Call the function\n",
    "access_global()  "
   ]
  },
  {
   "cell_type": "markdown",
   "id": "524a45ec",
   "metadata": {},
   "source": [
    "# Lambda Functions and Higher-Order Functions:"
   ]
  },
  {
   "cell_type": "markdown",
   "id": "7efa236a",
   "metadata": {},
   "source": [
    "1-What are lambda functions in Python, and when are they typically used?\n"
   ]
  },
  {
   "cell_type": "markdown",
   "id": "6c42bcb1",
   "metadata": {},
   "source": [
    "\n",
    "1. Lambda functions in Python:\n",
    "Lambda functions, also known as anonymous functions, are small, inline functions that are defined using the lambda keyword. They are typically used in situations where a simple function is needed for a short duration and defining a separate function using the def keyword would be overkill. Lambda functions are commonly used in conjunction with functions like map(), filter(), and sorted()."
   ]
  },
  {
   "cell_type": "markdown",
   "id": "c9262750",
   "metadata": {},
   "source": [
    "2-Write a Python program that uses lambda functions to sort a list of tuples based on the second element.\n"
   ]
  },
  {
   "cell_type": "code",
   "execution_count": 258,
   "id": "91f8db02",
   "metadata": {},
   "outputs": [
    {
     "name": "stdout",
     "output_type": "stream",
     "text": [
      "Sorted list of tuples: [(3, 2), (1, 5), (4, 6), (7, 8)]\n"
     ]
    }
   ],
   "source": [
    "# List of tuples\n",
    "pairs = [(1, 5), (3, 2), (7, 8), (4, 6)]\n",
    "\n",
    "# Sort the list of tuples based on the second element\n",
    "sorted_pairs = sorted(pairs, key=lambda x: x[1])\n",
    "\n",
    "print(\"Sorted list of tuples:\", sorted_pairs)\n"
   ]
  },
  {
   "cell_type": "markdown",
   "id": "91651a19",
   "metadata": {},
   "source": [
    "3-Explain the concept of higher-order functions in Python, and provide an example.\n"
   ]
  },
  {
   "cell_type": "markdown",
   "id": "2422602b",
   "metadata": {},
   "source": [
    " Higher-order functions in Python:\n",
    "Higher-order functions are functions that take other functions as arguments or return functions as results. In Python, functions are first-class citizens, which means they can be passed as arguments to other functions, returned from other functions, and assigned to variables. Higher-order functions are commonly used in functional programming paradigms."
   ]
  },
  {
   "cell_type": "code",
   "execution_count": 259,
   "id": "d7b2e8da",
   "metadata": {},
   "outputs": [
    {
     "name": "stdout",
     "output_type": "stream",
     "text": [
      "Result of addition: 8\n",
      "Result of multiplication: 15\n"
     ]
    }
   ],
   "source": [
    "# Higher-order function that takes a function as an argument\n",
    "def apply_operation(operation, x, y):\n",
    "    return operation(x, y)\n",
    "\n",
    "# Function to add two numbers\n",
    "def add(x, y):\n",
    "    return x + y\n",
    "\n",
    "# Function to multiply two numbers\n",
    "def multiply(x, y):\n",
    "    return x * y\n",
    "\n",
    "# Call apply_operation with different operations\n",
    "result_add = apply_operation(add, 3, 5)\n",
    "result_multiply = apply_operation(multiply, 3, 5)\n",
    "\n",
    "print(\"Result of addition:\", result_add)       \n",
    "print(\"Result of multiplication:\", result_multiply)  \n"
   ]
  },
  {
   "cell_type": "markdown",
   "id": "6134b5b0",
   "metadata": {},
   "source": [
    "4-Create a Python function that takes a list of numbers and a function as arguments, applying the function to each element in the list"
   ]
  },
  {
   "cell_type": "code",
   "execution_count": 260,
   "id": "48dd1e24",
   "metadata": {},
   "outputs": [
    {
     "name": "stdout",
     "output_type": "stream",
     "text": [
      "Squared numbers: [1, 4, 9, 16, 25]\n"
     ]
    }
   ],
   "source": [
    "def apply_function_to_list(func, lst):\n",
    "    \"\"\"Applies the given function to each element in the list.\"\"\"\n",
    "    return [func(item) for item in lst]\n",
    "\n",
    "# Example usage:\n",
    "numbers = [1, 2, 3, 4, 5]\n",
    "\n",
    "# Function to square a number\n",
    "square = lambda x: x * x\n",
    "\n",
    "# Apply the square function to each element in the list\n",
    "squared_numbers = apply_function_to_list(square, numbers)\n",
    "print(\"Squared numbers:\", squared_numbers)\n"
   ]
  },
  {
   "cell_type": "markdown",
   "id": "1c91d0ac",
   "metadata": {},
   "source": [
    "# Built-in Functions:"
   ]
  },
  {
   "cell_type": "markdown",
   "id": "0199e01c",
   "metadata": {},
   "source": [
    "1-Describe the role of built-in functions like `len()`, `max()`, and `min()` in Python.\n"
   ]
  },
  {
   "cell_type": "code",
   "execution_count": 261,
   "id": "8d106f77",
   "metadata": {},
   "outputs": [
    {
     "name": "stdout",
     "output_type": "stream",
     "text": [
      "5\n"
     ]
    }
   ],
   "source": [
    "#len(): Returns the length (number of items) of an object such as a string, list, tuple, dictionary, etc.\n",
    "my_list = [1, 2, 3, 4, 5]\n",
    "length = len(my_list)\n",
    "print(length) "
   ]
  },
  {
   "cell_type": "code",
   "execution_count": null,
   "id": "9655b433",
   "metadata": {},
   "outputs": [],
   "source": [
    "#max(): Returns the largest item in an iterable or the largest of two or more arguments.\n",
    "numbers = [10, 5, 8, 20, 15]\n",
    "maximum = max(numbers)\n",
    "print(maximum)  # Output: 20\n"
   ]
  },
  {
   "cell_type": "code",
   "execution_count": 262,
   "id": "2d685062",
   "metadata": {},
   "outputs": [
    {
     "name": "stdout",
     "output_type": "stream",
     "text": [
      "5\n"
     ]
    }
   ],
   "source": [
    "#min(): Returns the smallest item in an iterable or the smallest of two or more arguments.\n",
    "numbers = [10, 5, 8, 20, 15]\n",
    "minimum = min(numbers)\n",
    "print(minimum) "
   ]
  },
  {
   "cell_type": "markdown",
   "id": "d24ea82b",
   "metadata": {},
   "source": [
    "2-Write a Python program that uses the `map()` function to apply a function to each element of a list.\n"
   ]
  },
  {
   "cell_type": "code",
   "execution_count": 263,
   "id": "6a9ce36c",
   "metadata": {},
   "outputs": [
    {
     "name": "stdout",
     "output_type": "stream",
     "text": [
      "Squared numbers: [1, 4, 9, 16, 25]\n"
     ]
    }
   ],
   "source": [
    "# Function to square a number\n",
    "def square(x):\n",
    "    return x * x\n",
    "\n",
    "# List of numbers\n",
    "numbers = [1, 2, 3, 4, 5]\n",
    "\n",
    "# Apply the square function to each element using map()\n",
    "squared_numbers = list(map(square, numbers))\n",
    "\n",
    "print(\"Squared numbers:\", squared_numbers)\n"
   ]
  },
  {
   "cell_type": "markdown",
   "id": "ac909e55",
   "metadata": {},
   "source": [
    "3-How does the `filter()` function work in Python, and when would you use it?\n"
   ]
  },
  {
   "cell_type": "markdown",
   "id": "7fc04114",
   "metadata": {},
   "source": [
    "The filter() function is used to filter elements from an iterable based on a specified condition. It takes two arguments: a function that returns a boolean value (True or False), and an iterable. The function is applied to each element of the iterable, and only the elements for which the function returns True are included in the result."
   ]
  },
  {
   "cell_type": "code",
   "execution_count": 264,
   "id": "9b7390ab",
   "metadata": {},
   "outputs": [
    {
     "name": "stdout",
     "output_type": "stream",
     "text": [
      "Even numbers: [2, 4, 6, 8, 10]\n"
     ]
    }
   ],
   "source": [
    "# Function to filter even numbers\n",
    "def is_even(x):\n",
    "    return x % 2 == 0\n",
    "\n",
    "# List of numbers\n",
    "numbers = [1, 2, 3, 4, 5, 6, 7, 8, 9, 10]\n",
    "\n",
    "# Filter even numbers using filter()\n",
    "even_numbers = list(filter(is_even, numbers))\n",
    "\n",
    "print(\"Even numbers:\", even_numbers)\n"
   ]
  },
  {
   "cell_type": "markdown",
   "id": "f9a32fca",
   "metadata": {},
   "source": [
    "4-Create a Python program that uses the `reduce()` function to find the product of all elements in a list."
   ]
  },
  {
   "cell_type": "code",
   "execution_count": 265,
   "id": "b14c63d6",
   "metadata": {},
   "outputs": [
    {
     "name": "stdout",
     "output_type": "stream",
     "text": [
      "Product of all elements: 120\n"
     ]
    }
   ],
   "source": [
    "from functools import reduce\n",
    "\n",
    "# Function to multiply two numbers\n",
    "def multiply(x, y):\n",
    "    return x * y\n",
    "\n",
    "# List of numbers\n",
    "numbers = [1, 2, 3, 4, 5]\n",
    "\n",
    "# Find the product of all elements using reduce()\n",
    "product = reduce(multiply, numbers)\n",
    "\n",
    "print(\"Product of all elements:\", product)\n"
   ]
  },
  {
   "cell_type": "markdown",
   "id": "f3bfdb22",
   "metadata": {},
   "source": [
    "# Function Documentation and Best Practices:"
   ]
  },
  {
   "cell_type": "markdown",
   "id": "a1f54e4a",
   "metadata": {},
   "source": [
    "1-Explain the purpose of docstrings in Python functions and how to write them."
   ]
  },
  {
   "cell_type": "markdown",
   "id": "aea29daa",
   "metadata": {},
   "source": [
    "Docstrings in Python functions serve to document the purpose, parameters, and return values of the function. They are written as string literals enclosed in triple quotes (`\"\"\"`) immediately after the function definition. Docstrings follow a specific format, typically including sections for function purpose, parameters, return value, and examples. They help in understanding and using the function correctly and are also used by tools for generating documentation automatically."
   ]
  },
  {
   "cell_type": "markdown",
   "id": "a8535649",
   "metadata": {},
   "source": [
    "2-Describe some best practices for naming functions and variables in Python, including naming conventions and guidelines."
   ]
  },
  {
   "cell_type": "markdown",
   "id": "1eaa82b6",
   "metadata": {},
   "source": [
    "When naming functions and variables in Python, follow these best practices:\n",
    "\n",
    "1. Be descriptive: Choose names that clearly convey the purpose or content.\n",
    "2. Stick to conventions: Use lowercase with underscores for variables (`snake_case`) and descriptive names for functions.\n",
    "3. Stay consistent: Maintain uniformity in naming style throughout your code.\n",
    "4. Avoid ambiguity: Use clear and understandable names, avoiding cryptic abbreviations.\n",
    "5. Use verbs for functions: Start function names with verbs to indicate actions.\n",
    "6. Use nouns for variables: Describe the data represented by variables with meaningful nouns.\n",
    "7. Consider prefixes or suffixes: Add prefixes or suffixes to denote type or purpose, like `is_valid` for boolean variables.\n",
    "8. Avoid reserved words: Steer clear of using reserved words or built-in function names to prevent conflicts.\n",
    "\n",
    "Following these guidelines ensures clarity, readability, and maintainability in your Python code."
   ]
  },
  {
   "cell_type": "code",
   "execution_count": null,
   "id": "6611c797",
   "metadata": {},
   "outputs": [],
   "source": []
  }
 ],
 "metadata": {
  "kernelspec": {
   "display_name": "Python 3 (ipykernel)",
   "language": "python",
   "name": "python3"
  },
  "language_info": {
   "codemirror_mode": {
    "name": "ipython",
    "version": 3
   },
   "file_extension": ".py",
   "mimetype": "text/x-python",
   "name": "python",
   "nbconvert_exporter": "python",
   "pygments_lexer": "ipython3",
   "version": "3.9.12"
  }
 },
 "nbformat": 4,
 "nbformat_minor": 5
}
