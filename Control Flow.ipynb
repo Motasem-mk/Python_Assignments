{
 "cells": [
  {
   "cell_type": "markdown",
   "id": "46b0cb05",
   "metadata": {},
   "source": [
    "# Control Flow"
   ]
  },
  {
   "cell_type": "markdown",
   "id": "81ba3d6e",
   "metadata": {},
   "source": [
    "# Basic If-Else Statements:"
   ]
  },
  {
   "cell_type": "markdown",
   "id": "88ce0cf7",
   "metadata": {},
   "source": [
    "1. Write a Python program to check if a given number is positive or negative."
   ]
  },
  {
   "cell_type": "code",
   "execution_count": 4,
   "id": "31a40001",
   "metadata": {},
   "outputs": [
    {
     "name": "stdout",
     "output_type": "stream",
     "text": [
      "enter your number : -9\n",
      "negative\n"
     ]
    }
   ],
   "source": [
    "n = int(input(\"enter your number : \"))\n",
    "if n > 0 :\n",
    "    print(\"positive\")\n",
    "else :\n",
    "    print(\"negative\")"
   ]
  },
  {
   "cell_type": "markdown",
   "id": "77ea6c3e",
   "metadata": {},
   "source": [
    "2. Create a program that determines if a person is eligible to vote based on their age."
   ]
  },
  {
   "cell_type": "code",
   "execution_count": 4,
   "id": "52717597",
   "metadata": {},
   "outputs": [
    {
     "name": "stdout",
     "output_type": "stream",
     "text": [
      "enter your age : 18\n",
      "you are eligible \n"
     ]
    }
   ],
   "source": [
    "eligible_age = 18 \n",
    "your_age = int(input(\"enter your age : \"))\n",
    "if your_age >= eligible_age :\n",
    "    print(\"you are eligible \")\n",
    "else :\n",
    "    print(\"you're not eligible to vote\")"
   ]
  },
  {
   "cell_type": "markdown",
   "id": "49aa14aa",
   "metadata": {},
   "source": [
    "3. Develop a program to find the maximum of two numbers using if-else statements."
   ]
  },
  {
   "cell_type": "code",
   "execution_count": 6,
   "id": "8f34cf83",
   "metadata": {},
   "outputs": [
    {
     "name": "stdout",
     "output_type": "stream",
     "text": [
      "n2 > n1\n"
     ]
    }
   ],
   "source": [
    "n1 = 1\n",
    "n2 = 3\n",
    "if n1 > n2 :\n",
    "    print(f\"n1 > n2\")\n",
    "else :\n",
    "    print(f\"n2 > n1\")"
   ]
  },
  {
   "cell_type": "markdown",
   "id": "d8bb29f8",
   "metadata": {},
   "source": [
    "4. Write a Python script to classify a given year as a leap year or not."
   ]
  },
  {
   "cell_type": "code",
   "execution_count": 24,
   "id": "25cd4e9b",
   "metadata": {},
   "outputs": [
    {
     "name": "stdout",
     "output_type": "stream",
     "text": [
      "2003 is not a leap year\n"
     ]
    }
   ],
   "source": [
    "year = 2003\n",
    "if year % 100 != 0:\n",
    "    print(f\"{year} is not a leap year\")\n",
    "elif year % 400 == 0 or year % 4 == 0:\n",
    "    print(f\"{year} is a leap year\")\n",
    "else:\n",
    "    print(f\"{year} is not a leap year\")"
   ]
  },
  {
   "cell_type": "markdown",
   "id": "316257b4",
   "metadata": {},
   "source": [
    "5. Create a program that checks whether a character is a vowel or a consonant."
   ]
  },
  {
   "cell_type": "code",
   "execution_count": 25,
   "id": "63765fc2",
   "metadata": {},
   "outputs": [
    {
     "name": "stdout",
     "output_type": "stream",
     "text": [
      "enter your characterf\n",
      "The character 'f' is a consonant.\n"
     ]
    }
   ],
   "source": [
    "vowels = (\"aeiouAEIOU\")\n",
    "char = input(\"enter your character\").strip()\n",
    "if char in vowels :\n",
    "    print(f\"character {char} is a vowel \")\n",
    "else:\n",
    "    print(f\"The character '{char}' is a consonant.\")"
   ]
  },
  {
   "cell_type": "markdown",
   "id": "55b87a8e",
   "metadata": {},
   "source": [
    "6. Implement a program to determine whether a given number is even or odd."
   ]
  },
  {
   "cell_type": "code",
   "execution_count": 26,
   "id": "6d6d781f",
   "metadata": {},
   "outputs": [
    {
     "name": "stdout",
     "output_type": "stream",
     "text": [
      "enter your number3\n",
      "3 is odd\n"
     ]
    }
   ],
   "source": [
    "number = int(input(\"enter your number\")) \n",
    "if number % 2 == 0 :\n",
    "    print(f\"{number} is even\")\n",
    "else :\n",
    "        print(f\"{number} is odd\")"
   ]
  },
  {
   "cell_type": "markdown",
   "id": "7451f698",
   "metadata": {},
   "source": [
    "7. Write a Python function to calculate the absolute value of a number without using the `abs()` function."
   ]
  },
  {
   "cell_type": "code",
   "execution_count": 30,
   "id": "028d55df",
   "metadata": {},
   "outputs": [
    {
     "data": {
      "text/plain": [
       "4"
      ]
     },
     "execution_count": 30,
     "metadata": {},
     "output_type": "execute_result"
    }
   ],
   "source": [
    "def absolute_value (num):\n",
    "    \n",
    "    if num < 0 :\n",
    "        return -num\n",
    "     \n",
    "    else :\n",
    "        \n",
    "        return num\n",
    "absolute_value(-4)\n"
   ]
  },
  {
   "cell_type": "markdown",
   "id": "345424bd",
   "metadata": {},
   "source": [
    "8. Develop a program that determines the largest of three given numbers using if-else statements."
   ]
  },
  {
   "cell_type": "code",
   "execution_count": 33,
   "id": "2961fc5c",
   "metadata": {},
   "outputs": [
    {
     "name": "stdout",
     "output_type": "stream",
     "text": [
      "enter three numbers : 1\n",
      "enter three numbers : 2\n",
      "enter three numbers : 3\n",
      "3 is bigger thatn 1 and 2\n"
     ]
    }
   ],
   "source": [
    "a = int(input(\"enter three numbers : \"))\n",
    "b = int(input(\"enter three numbers : \"))\n",
    "c = int(input(\"enter three numbers : \"))\n",
    "if a > b and a > c :\n",
    "    print(f\"{a} is bigger than {b} and {c}\")\n",
    "elif b > a and b >c :\n",
    "    print(f\"{b} is bigger than {a} and  {c}\")\n",
    "else :\n",
    "    print(f\"{c} is bigger thatn {a} and {b}\")\n"
   ]
  },
  {
   "cell_type": "markdown",
   "id": "29c1ed7e",
   "metadata": {},
   "source": [
    "9. Create a program that checks if a given string is a palindrome."
   ]
  },
  {
   "cell_type": "code",
   "execution_count": 38,
   "id": "ea228c2e",
   "metadata": {},
   "outputs": [
    {
     "data": {
      "text/plain": [
       "'helleh is palindrome'"
      ]
     },
     "execution_count": 38,
     "metadata": {},
     "output_type": "execute_result"
    }
   ],
   "source": [
    "def is_palindrome (text) :\n",
    "    \n",
    "    if text == text[::-1]:\n",
    "        return (f\"{text} is palindrome\")\n",
    "    else :\n",
    "        return f\"{text} is not palindrome\"\n",
    "is_palindrome(\"helleh\")"
   ]
  },
  {
   "cell_type": "markdown",
   "id": "766e89a5",
   "metadata": {},
   "source": [
    "10. Write a Python program to calculate the grade based on a student's score."
   ]
  },
  {
   "cell_type": "code",
   "execution_count": 41,
   "id": "df7140a6",
   "metadata": {},
   "outputs": [
    {
     "name": "stdout",
     "output_type": "stream",
     "text": [
      "enter your score : 73\n",
      "your score is. : 73 youre grade is \"c\" \n"
     ]
    }
   ],
   "source": [
    "score = int(input(\"enter your score : \"))\n",
    "if score >= 90 :\n",
    "    print(f\"your score is : {score} youre grade is \\\"A\\\" \")\n",
    "elif score < 90 and score >= 80 :\n",
    "      print(f\"your score is : {score} youre grade is \\\"B\\\" \")\n",
    "elif score < 80 and score >= 70 :\n",
    "      print(f\"your score is. : {score} youre grade is \\\"c\\\" \")\n",
    "elif score < 70 and score >=60 :\n",
    "      print(f\"your score is. : {score} youre grade is \\\"D\\\" \")\n",
    "elif score > 101 :\n",
    "    print(\"enter correct number , normally less than 100\")\n",
    "else :\n",
    "    print(\"F : your failed \")"
   ]
  },
  {
   "cell_type": "markdown",
   "id": "c9386651",
   "metadata": {},
   "source": [
    "# Nested If-Else Statements:"
   ]
  },
  {
   "cell_type": "markdown",
   "id": "35b461e0",
   "metadata": {},
   "source": [
    "11. Write a program to find the largest among three numbers using nested if-else statements."
   ]
  },
  {
   "cell_type": "code",
   "execution_count": 45,
   "id": "b7dfe44f",
   "metadata": {},
   "outputs": [
    {
     "name": "stdout",
     "output_type": "stream",
     "text": [
      "enter three numbers : 1\n",
      "enter three numbers : 2\n",
      "enter three numbers : 3\n",
      "3 is bigger thatn 1 and 2\n"
     ]
    }
   ],
   "source": [
    "a = int(input(\"enter three numbers : \"))\n",
    "b = int(input(\"enter three numbers : \"))\n",
    "c = int(input(\"enter three numbers : \"))\n",
    "\n",
    "if a > b:\n",
    "    \n",
    "    if a > c :\n",
    "         print(f\"{a} is bigger than {b} and {c}\")\n",
    "    else : \n",
    "        print(f\"from if ::: {c} is bigger thatn {a} and {b}\")\n",
    "        \n",
    "else :\n",
    "  \n",
    "    if  b > c :\n",
    "        print(f\"{b} is bigger than {a} and  {c}\")\n",
    "    else :\n",
    "        print(f\"{c} is bigger thatn {a} and {b}\")"
   ]
  },
  {
   "cell_type": "markdown",
   "id": "c7d03f37",
   "metadata": {},
   "source": [
    "12. Implement a program to determine if a triangle is equilateral, isosceles, or scalene."
   ]
  },
  {
   "cell_type": "code",
   "execution_count": 58,
   "id": "9e70fb69",
   "metadata": {},
   "outputs": [
    {
     "name": "stdout",
     "output_type": "stream",
     "text": [
      "This is an isosceles triangle\n"
     ]
    }
   ],
   "source": [
    "def determine_triangle(base, height, legs):\n",
    "    if base == height and base == legs:\n",
    "        return \"This is an equilateral triangle\"\n",
    "    elif base == height or base == legs or height == legs:\n",
    "        return \"This is an isosceles triangle\"\n",
    "    else:\n",
    "        return \"This is a scalene triangle\"\n",
    "\n",
    "result = determine_triangle(1, 2, 1)\n",
    "print(result)\n"
   ]
  },
  {
   "cell_type": "markdown",
   "id": "4a656e97",
   "metadata": {},
   "source": [
    "13. Develop a program that checks if a year is a leap year and also if it is a century year."
   ]
  },
  {
   "cell_type": "code",
   "execution_count": 67,
   "id": "be83eca9",
   "metadata": {},
   "outputs": [
    {
     "name": "stdout",
     "output_type": "stream",
     "text": [
      "is not a leap year  and   is not a century year\n"
     ]
    }
   ],
   "source": [
    "def check_leap (year):\n",
    "    if year % 400 == 0 or year % 4 == 0 :\n",
    "        return \"is a leap year\"\n",
    "    else : \n",
    "        return \"is not a leap year\"\n",
    "def check_century(year) :\n",
    "    if year % 100 == 0 :\n",
    "        return \"is a century year\"\n",
    "    else :\n",
    "        return \" is not a century year\"\n",
    "print(check_leap(1991),\" and \",check_century(1991))"
   ]
  },
  {
   "cell_type": "markdown",
   "id": "91bba283",
   "metadata": {},
   "source": [
    "14. Write a Python script to determine if a number is positive, negative, or zero."
   ]
  },
  {
   "cell_type": "code",
   "execution_count": 68,
   "id": "41941c80",
   "metadata": {},
   "outputs": [
    {
     "data": {
      "text/plain": [
       "'it is a negative number'"
      ]
     },
     "execution_count": 68,
     "metadata": {},
     "output_type": "execute_result"
    }
   ],
   "source": [
    "def check_number_charge (n):\n",
    "    if n == 0 :\n",
    "        return f\"the number is {n}\"\n",
    "    elif n > 0 :\n",
    "        return \"it is a positive\"\n",
    "    else :\n",
    "        return \"it is a negative number\"\n",
    "check_number_charge(-34)"
   ]
  },
  {
   "cell_type": "markdown",
   "id": "fb99c60e",
   "metadata": {},
   "source": [
    "15. Create a program to check if a person is a teenager (between 13 and 19 years old)."
   ]
  },
  {
   "cell_type": "code",
   "execution_count": 70,
   "id": "1626ab58",
   "metadata": {},
   "outputs": [
    {
     "data": {
      "text/plain": [
       "'is not a teenager'"
      ]
     },
     "execution_count": 70,
     "metadata": {},
     "output_type": "execute_result"
    }
   ],
   "source": [
    "def check_teenage(age):\n",
    "    if age >=13 and age <=19 :\n",
    "        return \"is a teenager\"\n",
    "    else :\n",
    "        return \"is not a teenager\"\n",
    "check_teenage(41)"
   ]
  },
  {
   "cell_type": "markdown",
   "id": "6aa19fab",
   "metadata": {},
   "source": [
    "16. Develop a program that determines the type of angle based on its measure (acute, obtuse, or right)."
   ]
  },
  {
   "cell_type": "code",
   "execution_count": 85,
   "id": "30780566",
   "metadata": {},
   "outputs": [
    {
     "data": {
      "text/plain": [
       "'out of range'"
      ]
     },
     "execution_count": 85,
     "metadata": {},
     "output_type": "execute_result"
    }
   ],
   "source": [
    "def check_angle_type(angle):\n",
    "    if 90>angle > 0  :\n",
    "        return \"is a cute angle\"\n",
    "    elif    180>=angle >90 : \n",
    "        return \"is a obtuse angle\"\n",
    "    elif angle == 90 : \n",
    "        return \"is a right angle\"\n",
    "    else :\n",
    "        return  \"out of range\"\n",
    "check_angle_type(300)"
   ]
  },
  {
   "cell_type": "markdown",
   "id": "5cd564cf",
   "metadata": {},
   "source": [
    "17. Write a Python program to calculate the roots of a quadratic equation."
   ]
  },
  {
   "cell_type": "code",
   "execution_count": 102,
   "id": "bed71907",
   "metadata": {},
   "outputs": [
    {
     "name": "stdout",
     "output_type": "stream",
     "text": [
      "Roots: ((1.5+0.5j), (1.5-0.5j))\n"
     ]
    }
   ],
   "source": [
    "import math\n",
    "\n",
    "def calculate_roots(a, b, c):\n",
    "    # Calculate the discriminant\n",
    "    discriminant = b**2 - 4*a*c\n",
    "    \n",
    "    # Check if the discriminant is positive, negative, or zero\n",
    "    if discriminant > 0:\n",
    "        # Two distinct real roots\n",
    "        root1 = (-b + math.sqrt(discriminant)) / (2*a)\n",
    "        root2 = (-b - math.sqrt(discriminant)) / (2*a)\n",
    "        return root1, root2\n",
    "    elif discriminant == 0:\n",
    "        # One real root (repeated)\n",
    "        root = -b / (2*a)\n",
    "        return root\n",
    "    else:\n",
    "        # Complex roots\n",
    "        real_part = -b / (2*a)\n",
    "        imaginary_part = math.sqrt(abs(discriminant)) / (2*a)\n",
    "        root1 = complex(real_part, imaginary_part)\n",
    "        root2 = complex(real_part, -imaginary_part)\n",
    "        return root1, root2\n",
    "\n",
    "# Test the function\n",
    "a = 2\n",
    "b = -6\n",
    "c = 5\n",
    "roots = calculate_roots(a, b, c)\n",
    "print(\"Roots:\", roots)\n"
   ]
  },
  {
   "cell_type": "markdown",
   "id": "46e36e8d",
   "metadata": {},
   "source": [
    "18. Implement a program to determine the day of the week based on a user-provided number (1 for Monday, 2\n",
    "for Tuesday, etc.)."
   ]
  },
  {
   "cell_type": "code",
   "execution_count": 109,
   "id": "4d4f3316",
   "metadata": {},
   "outputs": [
    {
     "name": "stdout",
     "output_type": "stream",
     "text": [
      "enter the number of the day : 3\n",
      "Wednesday\n"
     ]
    }
   ],
   "source": [
    "days_dict = {\n",
    "    \"monday\" : 1,\n",
    "    \"tuesday\" : 2,\n",
    "    \"Wednesday\" : 3,\n",
    "    \"thursday\" :4,\n",
    "    \"friday\" : 5,\n",
    "    \"saturday\" : 6,\n",
    "    \"sunday\" :7\n",
    "}\n",
    "day_num = int(input(\"enter the number of the day : \"))\n",
    "if day_num >0 and day_num <= 7 :\n",
    "    for k ,v in days_dict.items() :\n",
    "        if v == day_num:\n",
    "            print(k)\n",
    "else :\n",
    "    print(\"out of range , enter numbers between 1 and 7 \")\n"
   ]
  },
  {
   "cell_type": "markdown",
   "id": "f0901fc0",
   "metadata": {},
   "source": [
    "19. Create a program that determines if a year is a leap year and also if it is evenly divisible by 400."
   ]
  },
  {
   "cell_type": "code",
   "execution_count": 105,
   "id": "8a937bf2",
   "metadata": {},
   "outputs": [
    {
     "name": "stdout",
     "output_type": "stream",
     "text": [
      "is a leap year and  is evenly divisible by 400\n"
     ]
    }
   ],
   "source": [
    "def check_leap(year) :\n",
    "    if year % 400 == 0 and year % 4 == 0 :\n",
    "        return \"is a leap year\"\n",
    "def check_evenly_divisible_by_400 ( year):\n",
    "    if year % 400 == 0 :\n",
    "        return \"is evenly divisible by 400\"\n",
    "    else :\n",
    "        return \"it is not evenly divisible by 400\"\n",
    "print(check_leap (2000) ,\"and \" , check_evenly_divisible_by_400(2000))\n",
    "    "
   ]
  },
  {
   "cell_type": "markdown",
   "id": "8c23edd4",
   "metadata": {},
   "source": [
    "20. Develop a program that checks if a given number is prime or not using nested if-else statements."
   ]
  },
  {
   "cell_type": "code",
   "execution_count": 1,
   "id": "c9e3d496",
   "metadata": {},
   "outputs": [
    {
     "name": "stdout",
     "output_type": "stream",
     "text": [
      "enter the number : 56\n",
      "is not a prime number \n"
     ]
    }
   ],
   "source": [
    "def prime_list(n):\n",
    "    prime_list = []\n",
    "    \n",
    "    for i in range(2,n+1):\n",
    "        is_prime = True \n",
    "        for num in range(2, int(i**0.5 )+ 1):\n",
    "            if i % num == 0 :\n",
    "                is_prime = False\n",
    "                break\n",
    "        else :\n",
    "            prime_list.append(i)\n",
    "    return prime_list\n",
    "\n",
    "number = int(input(\"enter the number : \"))\n",
    "if number in prime_list(number) :\n",
    "    print(f\"{number}  is a prime number\")\n",
    "else :\n",
    "    print(\"is not a prime number \")"
   ]
  },
  {
   "cell_type": "markdown",
   "id": "8c5ad1da",
   "metadata": {},
   "source": [
    "# Elif Statements:"
   ]
  },
  {
   "cell_type": "markdown",
   "id": "a754efa5",
   "metadata": {},
   "source": [
    "21. Write a Python program to assign grades based on different ranges of scores using elif statements."
   ]
  },
  {
   "cell_type": "code",
   "execution_count": 9,
   "id": "d0c03c3b",
   "metadata": {},
   "outputs": [
    {
     "name": "stdout",
     "output_type": "stream",
     "text": [
      "Enter your score: 45\n",
      "{'Your Grade': 'F'}\n"
     ]
    }
   ],
   "source": [
    "your_score = int(input(\"Enter your score: \"))\n",
    "\n",
    "if your_score > 100:\n",
    "    raise ValueError(\"Score must be less than or equal to 100\")\n",
    "\n",
    "grade = {}\n",
    "\n",
    "if your_score >= 90:\n",
    "    grade.update({\"Your Grade\": \"A\"})\n",
    "elif 80 <= your_score < 90:\n",
    "    grade.update({\"Your Grade\": \"B+\"})\n",
    "elif 70 <= your_score < 80:\n",
    "    grade.update({\"Your Grade\": \"C+\"})\n",
    "elif 60 <= your_score < 70:\n",
    "    grade.update({\"Your Grade\": \"D\"})\n",
    "else:\n",
    "    grade.update({\"Your Grade\": \"F\"})\n",
    "\n",
    "print(grade)\n"
   ]
  },
  {
   "cell_type": "markdown",
   "id": "d0b727c5",
   "metadata": {},
   "source": [
    "22. Implement a program to determine the type of a triangle based on its angles."
   ]
  },
  {
   "cell_type": "code",
   "execution_count": 15,
   "id": "7a2aff79",
   "metadata": {},
   "outputs": [
    {
     "name": "stdout",
     "output_type": "stream",
     "text": [
      "Enter the angle in degrees: 179\n",
      "Obtuse angle\n"
     ]
    }
   ],
   "source": [
    "def check_angle_type(angle):\n",
    "    if 0 < angle < 90:\n",
    "        return \"Acute angle\"\n",
    "    elif angle == 90:\n",
    "        return \"Right angle\"\n",
    "    elif 90 < angle < 180:\n",
    "        return \"Obtuse angle\"\n",
    "    else:\n",
    "        return \"Out of range\"\n",
    "\n",
    "angle = int(input(\"Enter the angle in degrees: \"))\n",
    "print(check_angle_type(angle))\n"
   ]
  },
  {
   "cell_type": "markdown",
   "id": "6c49de94",
   "metadata": {},
   "source": [
    "23. Develop a program to categorize a given person's BMI into underweight, normal, overweight, or obese using\n",
    "elif statements."
   ]
  },
  {
   "cell_type": "code",
   "execution_count": 24,
   "id": "dc2e8033",
   "metadata": {},
   "outputs": [
    {
     "name": "stdout",
     "output_type": "stream",
     "text": [
      "Enter your weight : 91\n",
      "enter your height : 170\n",
      "Obese\n"
     ]
    }
   ],
   "source": [
    "# Underweight: BMI less than 18.5\n",
    "# Normal weight: BMI between 18.5 and 24.9\n",
    "# Overweight: BMI between 25.0 and 29.9\n",
    "# Obese: BMI 30.0 and above\n",
    "\n",
    "weight = int(input(\"Enter your weight : \"))\n",
    "height = int(input(\"enter your height : \"))\n",
    "height_in_meters = height / 100\n",
    "bmi = weight/(height_in_meters**2)\n",
    "if bmi <18.5  :\n",
    "    print(\"Underweight\")\n",
    "elif 18.5 < bmi < 24.9 :\n",
    "    print(\"Normal weight\") \n",
    "elif 29.9 < bmi < 24.9 :\n",
    "    print(\"Overweight\")\n",
    "elif bmi > 30 :\n",
    "    print(\"Obese\")\n",
    "else :\n",
    "    print(\"error\")"
   ]
  },
  {
   "cell_type": "markdown",
   "id": "537be4d2",
   "metadata": {},
   "source": [
    "24. Create a program that determines whether a given number is positive, negative, or zero using elif\n",
    "statements."
   ]
  },
  {
   "cell_type": "code",
   "execution_count": 25,
   "id": "fa7df378",
   "metadata": {},
   "outputs": [
    {
     "name": "stdout",
     "output_type": "stream",
     "text": [
      "enter the number : 0\n",
      "zero\n"
     ]
    }
   ],
   "source": [
    "number = int(input(\"enter the number : \"))\n",
    "if number > 0 : \n",
    "    print(\"positive\")\n",
    "elif number < 0 :\n",
    "    print(\"negative\")\n",
    "else :\n",
    "    print(\"zero\")"
   ]
  },
  {
   "cell_type": "markdown",
   "id": "6e6b85d3",
   "metadata": {},
   "source": [
    "25. Write a Python script to determine the type of a character (uppercase, lowercase, or special) using elif\n",
    "statements."
   ]
  },
  {
   "cell_type": "code",
   "execution_count": 37,
   "id": "927901b1",
   "metadata": {},
   "outputs": [
    {
     "name": "stdout",
     "output_type": "stream",
     "text": [
      "Enter a character:  \n",
      "Whitespace character\n"
     ]
    }
   ],
   "source": [
    "char = input(\"Enter a character: \")\n",
    "\n",
    "if char.isupper():\n",
    "    print(\"Uppercase letter\")\n",
    "elif char.islower():\n",
    "    print(\"Lowercase letter\")\n",
    "elif char.isdigit():\n",
    "    print(\"Digit\")\n",
    "elif char.isspace():\n",
    "    print(\"Whitespace character\")\n",
    "else:\n",
    "    print(\"Special character\")\n"
   ]
  },
  {
   "cell_type": "markdown",
   "id": "bfd36592",
   "metadata": {},
   "source": [
    "26. Implement a program to calculate the discounted price based on different purchase amounts using elif\n",
    "statements."
   ]
  },
  {
   "cell_type": "code",
   "execution_count": 43,
   "id": "674a9690",
   "metadata": {},
   "outputs": [
    {
     "name": "stdout",
     "output_type": "stream",
     "text": [
      "enter the total of your purchaes99\n",
      "no discount , total 99\n"
     ]
    }
   ],
   "source": [
    "purchases = int(input(\"enter the total of your purchaes\"))\n",
    "if purchases >500 :\n",
    "    print(f\"you have got a discount of 40 % , total  = {purchases - purchases*(0.4)}\")\n",
    "elif 500 >purchases > 250 :\n",
    "        print(f\"you have got a discount of 20 % , total  = {purchases - purchases*(0.2)}\")\n",
    "elif 250 > purchases >100 :\n",
    "        print(f\"you have got a discount of 10 % , total  = {purchases - purchases*(0.1)}\")\n",
    "else :\n",
    "    print(f\"no discount , total {purchases}\")\n",
    "\n"
   ]
  },
  {
   "cell_type": "markdown",
   "id": "8c6a8dc7",
   "metadata": {},
   "source": [
    "27. Develop a program to calculate the electricity bill based on different consumption slabs using elif\n",
    "statements."
   ]
  },
  {
   "cell_type": "code",
   "execution_count": 44,
   "id": "577f6a92",
   "metadata": {},
   "outputs": [
    {
     "name": "stdout",
     "output_type": "stream",
     "text": [
      "Enter the number of units consumed: 90\n",
      "The electricity bill for 90 units is Rs. 135.00\n"
     ]
    }
   ],
   "source": [
    "def calculate_electricity_bill(units):\n",
    "    if units <= 100:\n",
    "        # For the first 100 units, the rate is Rs. 1.50 per unit\n",
    "        bill_amount = units * 1.50\n",
    "    elif units <= 200:\n",
    "        # For the next 100 units (101 to 200), the rate is Rs. 2.00 per unit\n",
    "        bill_amount = 100 * 1.50 + (units - 100) * 2.00\n",
    "    elif units <= 300:\n",
    "        # For the next 100 units (201 to 300), the rate is Rs. 2.50 per unit\n",
    "        bill_amount = 100 * 1.50 + 100 * 2.00 + (units - 200) * 2.50\n",
    "    else:\n",
    "        # For units above 300, the rate is Rs. 3.00 per unit\n",
    "        bill_amount = units * 3.00\n",
    "    \n",
    "    return bill_amount\n",
    "\n",
    "# Example usage:\n",
    "units_consumed = int(input(\"Enter the number of units consumed: \"))\n",
    "bill = calculate_electricity_bill(units_consumed)\n",
    "print(f\"The electricity bill for {units_consumed} units is Rs. {bill:.2f}\")\n"
   ]
  },
  {
   "cell_type": "markdown",
   "id": "3a40bc91",
   "metadata": {},
   "source": [
    "28. Create a program to determine the type of quadrilateral based on its angles and sides using elif\n",
    "statements."
   ]
  },
  {
   "cell_type": "code",
   "execution_count": 45,
   "id": "b28b49a6",
   "metadata": {},
   "outputs": [
    {
     "name": "stdout",
     "output_type": "stream",
     "text": [
      "The quadrilateral is a Square\n"
     ]
    }
   ],
   "source": [
    "def determine_quadrilateral_type(sides, angles):\n",
    "    if all(angle == 90 for angle in angles):\n",
    "        if all(side == sides[0] for side in sides):\n",
    "            return \"Square\" if len(set(sides)) == 1 else \"Rectangle\"\n",
    "        else:\n",
    "            return \"Rhombus\"\n",
    "    elif sum(angles) == 360:\n",
    "        if all(angle == 90 for angle in angles):\n",
    "            return \"Parallelogram\"\n",
    "        elif sides[0] == sides[2] and sides[1] == sides[3]:\n",
    "            return \"Trapezium\"\n",
    "        else:\n",
    "            return \"Quadrilateral\"\n",
    "    else:\n",
    "        return \"Unknown\"\n",
    "\n",
    "# Example usage\n",
    "sides = [4, 4, 4, 4]  # All sides are equal\n",
    "angles = [90, 90, 90, 90]  # All angles are right angles\n",
    "quadrilateral_type = determine_quadrilateral_type(sides, angles)\n",
    "print(f\"The quadrilateral is a {quadrilateral_type}\")\n"
   ]
  },
  {
   "cell_type": "markdown",
   "id": "b99e0cdf",
   "metadata": {},
   "source": [
    "29. Write a Python script to determine the season based on a user-provided month using elif statements."
   ]
  },
  {
   "cell_type": "code",
   "execution_count": 47,
   "id": "7d10bafa",
   "metadata": {},
   "outputs": [
    {
     "name": "stdout",
     "output_type": "stream",
     "text": [
      "Enter the month: april\n",
      "Spring\n"
     ]
    }
   ],
   "source": [
    "month = input(\"Enter the month: \").lower().strip()\n",
    "\n",
    "spring = [\"april\", \"may\", \"june\"]\n",
    "summer = [\"june\", \"july\", \"august\", \"september\"]\n",
    "fall = [\"october\", \"november\", \"december\"]\n",
    "winter = [\"january\", \"february\", \"march\"]\n",
    "\n",
    "if month in spring:\n",
    "    print(\"Spring\")\n",
    "elif month in summer:\n",
    "    print(\"Summer\")\n",
    "elif month in fall:\n",
    "    print(\"Fall\")\n",
    "else:\n",
    "    print(\"Winter\")\n"
   ]
  },
  {
   "cell_type": "markdown",
   "id": "cde06b93",
   "metadata": {},
   "source": [
    "30. Implement a program to determine the type of a year (leap or common) and month (30 or 31 days) using\n",
    "elif statements."
   ]
  },
  {
   "cell_type": "code",
   "execution_count": 53,
   "id": "cc3f6622",
   "metadata": {},
   "outputs": [
    {
     "name": "stdout",
     "output_type": "stream",
     "text": [
      "enter the year : 1000\n",
      "it is a leap year \n"
     ]
    }
   ],
   "source": [
    "def type_of_year (year) :\n",
    "    \n",
    "    if year % 4 == 0 or year % 400 == 0:\n",
    "        print(\"it is a leap year \")\n",
    "    elif year % 100 :\n",
    "        print(\"it is not a leap year \")\n",
    "    else :\n",
    "        print(\"it is a common year\")\n",
    "year = int(input(\"enter the year : \"))\n",
    "type_of_year(year)\n",
    "# def month_30_31 (month):"
   ]
  },
  {
   "cell_type": "markdown",
   "id": "542eb3d1",
   "metadata": {},
   "source": [
    "# Basic Level:"
   ]
  },
  {
   "cell_type": "markdown",
   "id": "1eff17ec",
   "metadata": {},
   "source": [
    "1. Write a Python program that checks if a given number is positive, negative, or zero."
   ]
  },
  {
   "cell_type": "code",
   "execution_count": 54,
   "id": "e2c07829",
   "metadata": {},
   "outputs": [
    {
     "name": "stdout",
     "output_type": "stream",
     "text": [
      "enter the number : -3\n",
      "negative\n"
     ]
    }
   ],
   "source": [
    "number = int(input(\"enter the number : \"))\n",
    "if number > 0 : \n",
    "    print(\"positive\")\n",
    "elif number < 0 :\n",
    "    print(\"negative\")\n",
    "else :\n",
    "    print(\"zero\")"
   ]
  },
  {
   "cell_type": "markdown",
   "id": "3f00d0cd",
   "metadata": {},
   "source": [
    "2. Create a program to determine if a person is eligible to vote based on their age."
   ]
  },
  {
   "cell_type": "code",
   "execution_count": 55,
   "id": "b486e8ea",
   "metadata": {},
   "outputs": [
    {
     "name": "stdout",
     "output_type": "stream",
     "text": [
      "enter your age. : 18\n",
      "you are eligible to vote\n"
     ]
    }
   ],
   "source": [
    "age = int(input(\"enter your age. : \"))\n",
    "if age >= 18 :\n",
    "    print(\"you are eligible to vote\")\n",
    "else : \n",
    "    print(\"you are not  eligible to vote\")"
   ]
  },
  {
   "cell_type": "markdown",
   "id": "9f5a59e4",
   "metadata": {},
   "source": [
    "3. Write a program to find the maximum of two given numbers using conditional statements."
   ]
  },
  {
   "cell_type": "code",
   "execution_count": 60,
   "id": "835adac5",
   "metadata": {},
   "outputs": [
    {
     "name": "stdout",
     "output_type": "stream",
     "text": [
      "enter the 1st number3\n",
      "enter the 2nd number4\n",
      "4 is the maximum\n"
     ]
    }
   ],
   "source": [
    "num1 = int(input(\"enter the 1st number\"))\n",
    "num2 = int(input(\"enter the 2nd number\"))\n",
    "if num1 > num2:\n",
    "    print(f\"{num1} is maximum \")\n",
    "else :\n",
    "    print(f\"{num2} is the maximum\")"
   ]
  },
  {
   "cell_type": "markdown",
   "id": "c698b546",
   "metadata": {},
   "source": [
    "4. Develop a program that calculates the grade of a student based on their exam score."
   ]
  },
  {
   "cell_type": "code",
   "execution_count": 61,
   "id": "06004e13",
   "metadata": {},
   "outputs": [
    {
     "name": "stdout",
     "output_type": "stream",
     "text": [
      "Enter your score: 90\n",
      "{'Your Grade': 'A'}\n"
     ]
    }
   ],
   "source": [
    "your_score = int(input(\"Enter your score: \"))\n",
    "\n",
    "if your_score > 100:\n",
    "    raise ValueError(\"Score must be less than or equal to 100\")\n",
    "\n",
    "grade = {}\n",
    "\n",
    "if your_score >= 90:\n",
    "    grade.update({\"Your Grade\": \"A\"})\n",
    "elif 80 <= your_score < 90:\n",
    "    grade.update({\"Your Grade\": \"B+\"})\n",
    "elif 70 <= your_score < 80:\n",
    "    grade.update({\"Your Grade\": \"C+\"})\n",
    "elif 60 <= your_score < 70:\n",
    "    grade.update({\"Your Grade\": \"D\"})\n",
    "else:\n",
    "    grade.update({\"Your Grade\": \"F\"})\n",
    "\n",
    "print(grade)"
   ]
  },
  {
   "cell_type": "markdown",
   "id": "9b26cccd",
   "metadata": {},
   "source": [
    "5. Create a program that checks if a year is a leap year or not."
   ]
  },
  {
   "cell_type": "code",
   "execution_count": 62,
   "id": "0e360219",
   "metadata": {},
   "outputs": [
    {
     "name": "stdout",
     "output_type": "stream",
     "text": [
      "Enter the year: 1996\n",
      "It is a leap year\n"
     ]
    }
   ],
   "source": [
    "def type_of_year(year):\n",
    "    if year % 400 == 0:\n",
    "        print(\"It is a leap year\")\n",
    "    elif year % 100 == 0:\n",
    "        print(\"It is not a leap year\")\n",
    "    elif year % 4 == 0:\n",
    "        print(\"It is a leap year\")\n",
    "    else:\n",
    "        print(\"It is a common year\")\n",
    "\n",
    "year = int(input(\"Enter the year: \"))\n",
    "type_of_year(year)\n"
   ]
  },
  {
   "cell_type": "markdown",
   "id": "fbc69533",
   "metadata": {},
   "source": [
    "6. Write a program to classify a triangle based on its sides' lengths."
   ]
  },
  {
   "cell_type": "code",
   "execution_count": 71,
   "id": "af4dd113",
   "metadata": {},
   "outputs": [
    {
     "name": "stdout",
     "output_type": "stream",
     "text": [
      "enter side one : 2\n",
      "enter side two : 2\n",
      "enter side three : 2\n",
      "Equilateral triangle\n"
     ]
    }
   ],
   "source": [
    "side1 = int(input(\"enter side one : \"))\n",
    "side2 = int(input(\"enter side two : \"))\n",
    "side3 = int(input(\"enter side three : \"))\n",
    "if side1 == side2 == side3:\n",
    "    print( \"Equilateral triangle\" )# All sides are equal\n",
    "elif side1 == side2 or side1 == side3 or side2 == side3:\n",
    "    print( \"Isosceles triangle\")   # Two sides are equal\n",
    "else:\n",
    "    print( \"Scalene triangle\")"
   ]
  },
  {
   "cell_type": "markdown",
   "id": "94e975b0",
   "metadata": {},
   "source": [
    "7. Build a program that determines the largest of three given numbers."
   ]
  },
  {
   "cell_type": "code",
   "execution_count": 63,
   "id": "50d6a061",
   "metadata": {},
   "outputs": [
    {
     "name": "stdout",
     "output_type": "stream",
     "text": [
      "enter the 1st number3\n",
      "enter the 2nd number4\n",
      "enter the 3rd number5\n",
      "5 is the maximum\n"
     ]
    }
   ],
   "source": [
    "num1 = int(input(\"enter the 1st number\"))\n",
    "num2 = int(input(\"enter the 2nd number\"))\n",
    "num3 = int(input(\"enter the 3rd number\"))\n",
    "\n",
    "if num1 >num2 and num1 >num3 :\n",
    "    print(f\"{num1} is the maximum\")\n",
    "elif num2>num1 and num2 >num3 :\n",
    "    print(f\"{num2} is the maximum\")\n",
    "else :\n",
    "    print(f\"{num3} is the maximum\")"
   ]
  },
  {
   "cell_type": "markdown",
   "id": "155ee3e7",
   "metadata": {},
   "source": [
    "8. Develop a program that checks whether a character is a vowel or a consonant."
   ]
  },
  {
   "cell_type": "code",
   "execution_count": 64,
   "id": "a973faf2",
   "metadata": {},
   "outputs": [
    {
     "name": "stdout",
     "output_type": "stream",
     "text": [
      "enter your charracter: s\n",
      "is a consent\n"
     ]
    }
   ],
   "source": [
    "vowels = \"aeiou\"\n",
    "char = input(\"enter your charracter: \").lower().strip()\n",
    "if char in vowels :\n",
    "    print(\"is a vowel\") \n",
    "else :\n",
    "    print(\"is a consent\")"
   ]
  },
  {
   "cell_type": "markdown",
   "id": "72796d24",
   "metadata": {},
   "source": [
    "9. Create a program to calculate the total cost of a shopping cart based on discounts."
   ]
  },
  {
   "cell_type": "code",
   "execution_count": 68,
   "id": "e0547c4d",
   "metadata": {},
   "outputs": [
    {
     "data": {
      "text/plain": [
       "450.0"
      ]
     },
     "execution_count": 68,
     "metadata": {},
     "output_type": "execute_result"
    }
   ],
   "source": [
    "def cost_of_shopping (cost):\n",
    "    discount = 0.10\n",
    "    total = cost - (cost * discount) \n",
    "    return total \n",
    "cost_of_shopping(500)"
   ]
  },
  {
   "cell_type": "markdown",
   "id": "2cd4075f",
   "metadata": {},
   "source": [
    "10. Write a program that checks if a given number is even or odd."
   ]
  },
  {
   "cell_type": "code",
   "execution_count": 69,
   "id": "e39f4f18",
   "metadata": {},
   "outputs": [
    {
     "name": "stdout",
     "output_type": "stream",
     "text": [
      "enter your number : -2\n",
      "even\n"
     ]
    }
   ],
   "source": [
    "number = int(input(\"enter your number : \"))\n",
    "if number % 2 == 0 :\n",
    "    print(\"even\")\n",
    "else :\n",
    "    print(\"odd\")"
   ]
  },
  {
   "cell_type": "markdown",
   "id": "879e86ef",
   "metadata": {},
   "source": [
    "# Intermediate Level:"
   ]
  },
  {
   "cell_type": "markdown",
   "id": "287b3941",
   "metadata": {},
   "source": [
    "11. Write a program that calculates the roots of a quadratic equation ."
   ]
  },
  {
   "cell_type": "code",
   "execution_count": 72,
   "id": "a1a57452",
   "metadata": {},
   "outputs": [
    {
     "name": "stdout",
     "output_type": "stream",
     "text": [
      "Roots: ((1.5+0.5j), (1.5-0.5j))\n"
     ]
    }
   ],
   "source": [
    "import math\n",
    "\n",
    "def calculate_roots(a, b, c):\n",
    "    # Calculate the discriminant\n",
    "    discriminant = b**2 - 4*a*c\n",
    "    \n",
    "    # Check if the discriminant is positive, negative, or zero\n",
    "    if discriminant > 0:\n",
    "        # Two distinct real roots\n",
    "        root1 = (-b + math.sqrt(discriminant)) / (2*a)\n",
    "        root2 = (-b - math.sqrt(discriminant)) / (2*a)\n",
    "        return root1, root2\n",
    "    elif discriminant == 0:\n",
    "        # One real root (repeated)\n",
    "        root = -b / (2*a)\n",
    "        return root\n",
    "    else:\n",
    "        # Complex roots\n",
    "        real_part = -b / (2*a)\n",
    "        imaginary_part = math.sqrt(abs(discriminant)) / (2*a)\n",
    "        root1 = complex(real_part, imaginary_part)\n",
    "        root2 = complex(real_part, -imaginary_part)\n",
    "        return root1, root2\n",
    "\n",
    "# Test the function\n",
    "a = 2\n",
    "b = -6\n",
    "c = 5\n",
    "roots = calculate_roots(a, b, c)\n",
    "print(\"Roots:\", roots)"
   ]
  },
  {
   "cell_type": "markdown",
   "id": "96e4ead0",
   "metadata": {},
   "source": [
    "12. Create a program that determines the day of the week based on the day number (1-7)."
   ]
  },
  {
   "cell_type": "code",
   "execution_count": 73,
   "id": "c16b8901",
   "metadata": {},
   "outputs": [
    {
     "name": "stdout",
     "output_type": "stream",
     "text": [
      "enter the number of the day : 5\n",
      "friday\n"
     ]
    }
   ],
   "source": [
    "days_dict = {\n",
    "    \"monday\" : 1,\n",
    "    \"tuesday\" : 2,\n",
    "    \"Wednesday\" : 3,\n",
    "    \"thursday\" :4,\n",
    "    \"friday\" : 5,\n",
    "    \"saturday\" : 6,\n",
    "    \"sunday\" :7\n",
    "}\n",
    "day_num = int(input(\"enter the number of the day : \"))\n",
    "if day_num >0 and day_num <= 7 :\n",
    "    for k ,v in days_dict.items() :\n",
    "        if v == day_num:\n",
    "            print(k)\n",
    "else :\n",
    "    print(\"out of range , enter numbers between 1 and 7 \")"
   ]
  },
  {
   "cell_type": "markdown",
   "id": "add87c24",
   "metadata": {},
   "source": [
    "13. Develop a program that calculates the factorial of a given number using recursion."
   ]
  },
  {
   "cell_type": "code",
   "execution_count": 75,
   "id": "76e6a1a4",
   "metadata": {},
   "outputs": [
    {
     "data": {
      "text/plain": [
       "120"
      ]
     },
     "execution_count": 75,
     "metadata": {},
     "output_type": "execute_result"
    }
   ],
   "source": [
    "def factorial(n):\n",
    "    if n == 0:\n",
    "        return 1 \n",
    "    else :\n",
    "        fact = n * factorial(n-1)\n",
    "    return fact\n",
    "factorial(5)"
   ]
  },
  {
   "cell_type": "markdown",
   "id": "b0c74bc1",
   "metadata": {},
   "source": [
    "14. Write a program to find the largest among three numbers without using the `max()` function."
   ]
  },
  {
   "cell_type": "code",
   "execution_count": 79,
   "id": "a6a9c8bb",
   "metadata": {},
   "outputs": [
    {
     "name": "stdout",
     "output_type": "stream",
     "text": [
      "enter the 1st number : 1\n",
      "enter the 2nd number : 2\n",
      "enter the 3rd number : 3\n",
      "3 is the largest\n"
     ]
    }
   ],
   "source": [
    "num1 = int(input(\"enter the 1st number : \"))\n",
    "num2 = int(input(\"enter the 2nd number : \"))\n",
    "num3 = int(input(\"enter the 3rd number : \"))\n",
    "\n",
    "if num1 >num2 and num1 >num3 :\n",
    "    print(f\"{num1} is the largest\")\n",
    "elif num2>num1 and num2 >num3 :\n",
    "    print(f\"{num2} is the largest\")\n",
    "else :\n",
    "    print(f\"{num3} is the largest\")"
   ]
  },
  {
   "cell_type": "markdown",
   "id": "cf76aa71",
   "metadata": {},
   "source": [
    "15. Create a program that simulates a basic ATM transaction menu."
   ]
  },
  {
   "cell_type": "code",
   "execution_count": null,
   "id": "1472a39d",
   "metadata": {},
   "outputs": [
    {
     "name": "stdout",
     "output_type": "stream",
     "text": [
      "\n",
      "ATM Menu:\n",
      "1. Check Balance\n",
      "2. Deposit\n",
      "3. Withdraw\n",
      "4. Exit\n",
      "Enter your choice: 7\n",
      "Invalid choice. Please select a valid option.\n",
      "\n",
      "ATM Menu:\n",
      "1. Check Balance\n",
      "2. Deposit\n",
      "3. Withdraw\n",
      "4. Exit\n"
     ]
    }
   ],
   "source": [
    "def check_balance(balance):\n",
    "    print(f\"Your current balance is: ${balance}\")\n",
    "\n",
    "def deposit(balance, amount):\n",
    "    balance += amount\n",
    "    print(f\"Deposit successful. Your new balance is: ${balance}\")\n",
    "    return balance\n",
    "\n",
    "def withdraw(balance, amount):\n",
    "    if amount > balance:\n",
    "        print(\"Insufficient funds.\")\n",
    "    else:\n",
    "        balance -= amount\n",
    "        print(f\"Withdrawal successful. Your new balance is: ${balance}\")\n",
    "    return balance\n",
    "\n",
    "def main():\n",
    "    balance = 1000  # Initial balance\n",
    "    while True:\n",
    "        print(\"\\nATM Menu:\")\n",
    "        print(\"1. Check Balance\")\n",
    "        print(\"2. Deposit\")\n",
    "        print(\"3. Withdraw\")\n",
    "        print(\"4. Exit\")\n",
    "\n",
    "        choice = input(\"Enter your choice: \")\n",
    "\n",
    "        if choice == '1':\n",
    "            check_balance(balance)\n",
    "        elif choice == '2':\n",
    "            amount = float(input(\"Enter deposit amount: $\"))\n",
    "            balance = deposit(balance, amount)\n",
    "        elif choice == '3':\n",
    "            amount = float(input(\"Enter withdrawal amount: $\"))\n",
    "            balance = withdraw(balance, amount)\n",
    "        elif choice == '4':\n",
    "            print(\"Thank you for using the ATM. Goodbye!\")\n",
    "            break\n",
    "        else:\n",
    "            print(\"Invalid choice. Please select a valid option.\")\n",
    "\n",
    "if __name__ == \"__main__\":\n",
    "    main()\n"
   ]
  },
  {
   "cell_type": "markdown",
   "id": "c18777d3",
   "metadata": {},
   "source": [
    "16. Build a program that checks if a given string is a palindrome or not."
   ]
  },
  {
   "cell_type": "code",
   "execution_count": 80,
   "id": "9d7bdab6",
   "metadata": {},
   "outputs": [
    {
     "name": "stdout",
     "output_type": "stream",
     "text": [
      "is palindrome\n"
     ]
    }
   ],
   "source": [
    "s = \"helleh\"\n",
    "if s == s[::-1]:\n",
    "    print(\"is palindrome\")\n",
    "else :\n",
    "    print(\"is not\")"
   ]
  },
  {
   "cell_type": "markdown",
   "id": "0f0a106a",
   "metadata": {},
   "source": [
    "17. Write a program that calculates the average of a list of numbers, excluding the smallest and largest values."
   ]
  },
  {
   "cell_type": "code",
   "execution_count": 85,
   "id": "3a4ba95d",
   "metadata": {},
   "outputs": [
    {
     "data": {
      "text/plain": [
       "23.0"
      ]
     },
     "execution_count": 85,
     "metadata": {},
     "output_type": "execute_result"
    }
   ],
   "source": [
    "l = [15,-4,6,66,34,8,9,100]\n",
    "l.sort()\n",
    "le = len(l)\n",
    "new_l = l[1:le-1]\n",
    "ave = sum(new_l)/len(new_l)\n",
    "ave"
   ]
  },
  {
   "cell_type": "markdown",
   "id": "1186b383",
   "metadata": {},
   "source": [
    "18. Develop a program that converts a given temperature from Celsius to Fahrenheit."
   ]
  },
  {
   "cell_type": "code",
   "execution_count": 4,
   "id": "ac31e079",
   "metadata": {},
   "outputs": [
    {
     "data": {
      "text/plain": [
       "86.0"
      ]
     },
     "execution_count": 4,
     "metadata": {},
     "output_type": "execute_result"
    }
   ],
   "source": [
    "def convert_fahrenheit(C):\n",
    "    F = (9/5)*C + 32\n",
    "    return F\n",
    "convert_fahrenheit(30)"
   ]
  },
  {
   "cell_type": "markdown",
   "id": "01dd0280",
   "metadata": {},
   "source": [
    "19. Create a program that simulates a basic calculator for addition, subtraction, multiplication, and division."
   ]
  },
  {
   "cell_type": "code",
   "execution_count": 5,
   "id": "ccc44ade",
   "metadata": {},
   "outputs": [
    {
     "name": "stdout",
     "output_type": "stream",
     "text": [
      "Select operation:\n",
      "1. Addition\n",
      "2. Subtraction\n",
      "3. Multiplication\n",
      "4. Division\n",
      "Enter choice (1/2/3/4): 1\n",
      "Enter first number: 2\n",
      "Enter second number: 3\n",
      "Result: 5.0\n"
     ]
    }
   ],
   "source": [
    "def add(x, y):\n",
    "    return x + y\n",
    "\n",
    "def subtract(x, y):\n",
    "    return x - y\n",
    "\n",
    "def multiply(x, y):\n",
    "    return x * y\n",
    "\n",
    "def divide(x, y):\n",
    "    if y == 0:\n",
    "        return \"Error! Division by zero is not allowed.\"\n",
    "    else:\n",
    "        return x / y\n",
    "\n",
    "print(\"Select operation:\")\n",
    "print(\"1. Addition\")\n",
    "print(\"2. Subtraction\")\n",
    "print(\"3. Multiplication\")\n",
    "print(\"4. Division\")\n",
    "\n",
    "choice = input(\"Enter choice (1/2/3/4): \")\n",
    "\n",
    "if choice in ('1', '2', '3', '4'):\n",
    "    num1 = float(input(\"Enter first number: \"))\n",
    "    num2 = float(input(\"Enter second number: \"))\n",
    "\n",
    "    if choice == '1':\n",
    "        print(\"Result:\", add(num1, num2))\n",
    "    elif choice == '2':\n",
    "        print(\"Result:\", subtract(num1, num2))\n",
    "    elif choice == '3':\n",
    "        print(\"Result:\", multiply(num1, num2))\n",
    "    elif choice == '4':\n",
    "        print(\"Result:\", divide(num1, num2))\n",
    "else:\n",
    "    print(\"Invalid input\")\n",
    "\n",
    "    "
   ]
  },
  {
   "cell_type": "markdown",
   "id": "8ccc5430",
   "metadata": {},
   "source": [
    "20. Write a program that determines the roots of a cubic equation using the Cardano formula."
   ]
  },
  {
   "cell_type": "code",
   "execution_count": null,
   "id": "c519bf41",
   "metadata": {},
   "outputs": [],
   "source": []
  },
  {
   "cell_type": "markdown",
   "id": "9e2fed24",
   "metadata": {},
   "source": [
    "# Advanced Level:"
   ]
  },
  {
   "cell_type": "markdown",
   "id": "a03eb69c",
   "metadata": {},
   "source": [
    "21. Create a program that calculates the income tax based on the user's income and tax brackets."
   ]
  },
  {
   "cell_type": "code",
   "execution_count": 7,
   "id": "985a864d",
   "metadata": {},
   "outputs": [
    {
     "name": "stdout",
     "output_type": "stream",
     "text": [
      "enter your yearly income300000\n"
     ]
    },
    {
     "data": {
      "text/plain": [
       "'your yearly tax is:60000.0\\nsalary after taxes : 240000.0'"
      ]
     },
     "execution_count": 7,
     "metadata": {},
     "output_type": "execute_result"
    }
   ],
   "source": [
    "def tax () :\n",
    "    \n",
    "    i = float (input(\"enter your yearly income\"))\n",
    "    if i > 25000 :\n",
    "        incom_after_taxes = i * 0.20\n",
    "    elif i > 50000:\n",
    "        incom_after_taxes = i * 0.25\n",
    "    elif i >100000 : \n",
    "        incom_after_taxes = i *0.30\n",
    "    elif i > 2500000 :\n",
    "        incom_after_taxes = i *0.40\n",
    "    return f\"your yearly tax is:{incom_after_taxes}\\nsalary after taxes : {i-incom_after_taxes}\" \n",
    "tax()"
   ]
  },
  {
   "cell_type": "markdown",
   "id": "fbd77687",
   "metadata": {},
   "source": [
    "22. Write a program that simulates a rock-paper-scissors game against the computer."
   ]
  },
  {
   "cell_type": "code",
   "execution_count": 23,
   "id": "03b06d57",
   "metadata": {},
   "outputs": [
    {
     "name": "stdout",
     "output_type": "stream",
     "text": [
      "Enter your choice (rock, paper, scissors): paper\n",
      "Computer chooses: scissors\n",
      "Computer wins!\n"
     ]
    }
   ],
   "source": [
    "import random\n",
    "\n",
    "def play_rps():\n",
    "    choices = [\"rock\", \"paper\", \"scissors\"]\n",
    "    your_choice = input(\"Enter your choice (rock, paper, scissors): \").lower()\n",
    "    \n",
    "    if your_choice not in choices:\n",
    "        print(\"Invalid choice. Please choose from rock, paper, or scissors.\")\n",
    "        return\n",
    "    \n",
    "    computer_choice = random.choice(choices)\n",
    "    print(f\"Computer chooses: {computer_choice}\")\n",
    "    \n",
    "    if your_choice == computer_choice:\n",
    "        print(\"It's a tie!\")\n",
    "    elif (your_choice == \"rock\" and computer_choice == \"scissors\") or \\\n",
    "         (your_choice == \"paper\" and computer_choice == \"rock\") or \\\n",
    "         (your_choice == \"scissors\" and computer_choice == \"paper\"):\n",
    "        print(\"You win!\")\n",
    "    else:\n",
    "        print(\"Computer wins!\")\n",
    "\n",
    "play_rps()\n"
   ]
  },
  {
   "cell_type": "markdown",
   "id": "34176d90",
   "metadata": {},
   "source": [
    "23. Develop a program that generates a random password based on user preferences (length, complexity)."
   ]
  },
  {
   "cell_type": "code",
   "execution_count": 24,
   "id": "2684639b",
   "metadata": {},
   "outputs": [
    {
     "name": "stdout",
     "output_type": "stream",
     "text": [
      "Enter the length of the password: 9\n",
      "Enter the complexity level (low, medium, high): medium\n",
      "Generated Password: K#0BXIL@`\n"
     ]
    }
   ],
   "source": [
    "import random\n",
    "import string\n",
    "\n",
    "def generate_password(length, complexity):\n",
    "    if complexity == \"low\":\n",
    "        charset = string.ascii_letters + string.digits\n",
    "    elif complexity == \"medium\":\n",
    "        charset = string.ascii_letters + string.digits + string.punctuation\n",
    "    elif complexity == \"high\":\n",
    "        charset = string.ascii_letters + string.digits + string.punctuation + string.ascii_uppercase\n",
    "    \n",
    "    password = ''.join(random.choice(charset) for _ in range(length))\n",
    "    return password\n",
    "\n",
    "def main():\n",
    "    length = int(input(\"Enter the length of the password: \"))\n",
    "    complexity = input(\"Enter the complexity level (low, medium, high): \").lower()\n",
    "    \n",
    "    if complexity not in [\"low\", \"medium\", \"high\"]:\n",
    "        print(\"Invalid complexity level. Please choose from low, medium, or high.\")\n",
    "        return\n",
    "    \n",
    "    password = generate_password(length, complexity)\n",
    "    print(\"Generated Password:\", password)\n",
    "\n",
    "if __name__ == \"__main__\":\n",
    "    main()\n"
   ]
  },
  {
   "cell_type": "markdown",
   "id": "03793a19",
   "metadata": {},
   "source": [
    "24. Create a program that implements a simple text-based adventure game with branching scenarios."
   ]
  },
  {
   "cell_type": "code",
   "execution_count": 29,
   "id": "4a3a3a0f",
   "metadata": {},
   "outputs": [
    {
     "name": "stdout",
     "output_type": "stream",
     "text": [
      "welcome to the text-based adventure game yay \n",
      "you are in the walking in the forest an found a lion what would you do ? \n",
      "-Attack or Run , quit ? attack\n",
      "there are two weapons to use pick one \"sword\" or \"gun\": gun\n",
      "Amazing thats a good weapon and easy to use \n",
      "but do you know how to use it ? yes/nono\n",
      "no prblem i will teach you how to use \n",
      "now pick it up and try to feel if it is heavy \n",
      "pull the trigger and shoot\n"
     ]
    }
   ],
   "source": [
    "def start():\n",
    "    print(\"welcome to the text-based adventure game yay \")\n",
    "    print(\"you are in the walking in the forest an found a lion what would you do ? \") \n",
    "    choice_play = input(\"-Attack or Run , quit ? \").strip().lower()\n",
    "    if choice_play == \"attack\" :\n",
    "        attack()\n",
    "    elif choice_play == \"run\" :\n",
    "        run()\n",
    "    elif choice_play == \"quit\" :\n",
    "        quit()\n",
    "    else :\n",
    "        print(\"Invalid choice. Please enter 'left' or 'right'.\")\n",
    "        start()\n",
    "\n",
    "def attack():\n",
    "    weapon = input(\"there are two weapons to use pick one \\\"sword\\\" or \\\"gun\\\": \" )\n",
    "    if weapon == \"sword\":\n",
    "        print(\"great you got a strong weapon but \")\n",
    "        knoweldge = input(\"but do you know how to use it ? yes/no\").lower().strip()\n",
    "        if knoweldge == \"yes\" :\n",
    "            print(\"Awesome now attack and hit the neck\")\n",
    "        elif knoweldge == \"no\":\n",
    "            print(\"no prblem i will teach you how to use \")\n",
    "            print(\"now pick it up and try to feel if it is heavy \")\n",
    "            \n",
    "    \n",
    "    \n",
    "    elif weapon == \"gun\" :\n",
    "        print(\"Amazing thats a good weapon and easy to use \")\n",
    "        knoweldge = input(\"but do you know how to use it ? yes/no\").lower().strip()\n",
    "        if knoweldge == \"yes\" :\n",
    "            print(\"Awesome now attack and shoot the head\")\n",
    "        elif knoweldge == \"no\":\n",
    "            print(\"no prblem i will teach you how to use \")\n",
    "            print(\"now pick it up and try to feel if it is heavy \")\n",
    "            print(\"pull the trigger and shoot\")\n",
    "def quit():\n",
    "    print(\"it is sad you surrender quicly , are you sure > ? i know you are a courageous\" )\n",
    "    answer = input(\"wanna try again ? yes / no\")\n",
    "    if answer == \"yes\" :\n",
    "                 print(\"great i nknow youre a brave person \")\n",
    "                 start()\n",
    "    else : \n",
    "               print(\"Goodbye\")\n",
    "start()"
   ]
  },
  {
   "cell_type": "markdown",
   "id": "715c1d53",
   "metadata": {},
   "source": [
    "25. Build a program that solves a linear equation for x, considering different cases."
   ]
  },
  {
   "cell_type": "code",
   "execution_count": 33,
   "id": "74855f72",
   "metadata": {},
   "outputs": [
    {
     "name": "stdout",
     "output_type": "stream",
     "text": [
      "Example 1:\n",
      "The equation has no solution.\n",
      "\n",
      "Example 2:\n",
      "The equation is satisfied for all real numbers.\n",
      "\n",
      "Example 3:\n",
      "The solution to the equation 2x + 4 = 0 is x = -2.0\n",
      "\n",
      "Example 4:\n",
      "The solution to the equation -3x + 0 = 0 is x = -0.0\n"
     ]
    }
   ],
   "source": [
    "def solve_linear_equation(a, b):\n",
    "    if a == 0:\n",
    "        if b == 0:\n",
    "            print(\"The equation is satisfied for all real numbers.\")\n",
    "        else:\n",
    "            print(\"The equation has no solution.\")\n",
    "    else:\n",
    "        x = -b / a\n",
    "        print(f\"The solution to the equation {a}x + {b} = 0 is x = {x}\")\n",
    "\n",
    "# Examples\n",
    "print(\"Example 1:\")\n",
    "solve_linear_equation(0, 5)  # b ≠ 0, a = 0\n",
    "print(\"\\nExample 2:\")\n",
    "solve_linear_equation(0, 0)  # a = b = 0\n",
    "print(\"\\nExample 3:\")\n",
    "solve_linear_equation(2, 4)  # a ≠ 0, b ≠ 0\n",
    "print(\"\\nExample 4:\")\n",
    "solve_linear_equation(-3, 0)  # a ≠ 0, b = 0\n",
    "\n"
   ]
  },
  {
   "cell_type": "markdown",
   "id": "c84c18f0",
   "metadata": {},
   "source": [
    "26. Write a program that simulates a basic quiz game with multiple-choice questions and scoring."
   ]
  },
  {
   "cell_type": "code",
   "execution_count": 34,
   "id": "82e8a3cb",
   "metadata": {},
   "outputs": [
    {
     "name": "stdout",
     "output_type": "stream",
     "text": [
      "What is the capital of France?\n",
      "1. London\n",
      "2. Paris\n",
      "3. Berlin\n",
      "4. Rome\n",
      "Your answer (enter the option number): 2\n",
      "Correct!\n",
      "Who wrote 'Romeo and Juliet'?\n",
      "1. William Shakespeare\n",
      "2. Charles Dickens\n",
      "3. Jane Austen\n",
      "4. Leo Tolstoy\n",
      "Your answer (enter the option number): 1\n",
      "Correct!\n",
      "What is the largest planet in our solar system?\n",
      "1. Mars\n",
      "2. Earth\n",
      "3. Jupiter\n",
      "4. Saturn\n",
      "Your answer (enter the option number): 4\n",
      "Incorrect. The correct answer is: Jupiter\n",
      "Quiz complete! Your final score is: 2/3\n"
     ]
    }
   ],
   "source": [
    "def quiz_game(questions):\n",
    "    score = 0\n",
    "    \n",
    "    for question, options, correct_answer in questions:\n",
    "        print(question)\n",
    "        for i, option in enumerate(options, start=1):\n",
    "            print(f\"{i}. {option}\")\n",
    "        \n",
    "        user_answer = input(\"Your answer (enter the option number): \")\n",
    "        if user_answer.isdigit():\n",
    "            user_answer_index = int(user_answer) - 1\n",
    "            if 0 <= user_answer_index < len(options):\n",
    "                if options[user_answer_index] == correct_answer:\n",
    "                    print(\"Correct!\")\n",
    "                    score += 1\n",
    "                else:\n",
    "                    print(f\"Incorrect. The correct answer is: {correct_answer}\")\n",
    "            else:\n",
    "                print(\"Invalid option number.\")\n",
    "        else:\n",
    "            print(\"Invalid input. Please enter a number.\")\n",
    "\n",
    "    print(f\"Quiz complete! Your final score is: {score}/{len(questions)}\")\n",
    "\n",
    "# Define quiz questions: (Question, [Options], Correct answer)\n",
    "questions = [\n",
    "    (\"What is the capital of France?\", [\"London\", \"Paris\", \"Berlin\", \"Rome\"], \"Paris\"),\n",
    "    (\"Who wrote 'Romeo and Juliet'?\", [\"William Shakespeare\", \"Charles Dickens\", \"Jane Austen\", \"Leo Tolstoy\"], \"William Shakespeare\"),\n",
    "    (\"What is the largest planet in our solar system?\", [\"Mars\", \"Earth\", \"Jupiter\", \"Saturn\"], \"Jupiter\"),\n",
    "]\n",
    "\n",
    "# Start the quiz\n",
    "quiz_game(questions)\n"
   ]
  },
  {
   "cell_type": "markdown",
   "id": "e79ff764",
   "metadata": {},
   "source": [
    "27. Develop a program that determines whether a given year is a prime number or not."
   ]
  },
  {
   "cell_type": "code",
   "execution_count": 35,
   "id": "5e80a99e",
   "metadata": {},
   "outputs": [
    {
     "name": "stdout",
     "output_type": "stream",
     "text": [
      "Enter a year: 1996\n",
      "1996 is not a prime number.\n"
     ]
    }
   ],
   "source": [
    "def is_prime(year):\n",
    "    if year <= 1:\n",
    "        return False\n",
    "    for i in range(2, int(year**0.5) + 1):\n",
    "        if year % i == 0:\n",
    "            return False\n",
    "    return True\n",
    "\n",
    "# Test the function\n",
    "year = int(input(\"Enter a year: \"))\n",
    "if is_prime(year):\n",
    "    print(f\"{year} is a prime number.\")\n",
    "else:\n",
    "    print(f\"{year} is not a prime number.\")\n"
   ]
  },
  {
   "cell_type": "markdown",
   "id": "e0860e83",
   "metadata": {},
   "source": [
    "28. Create a program that sorts three numbers in ascending order using conditional statements."
   ]
  },
  {
   "cell_type": "code",
   "execution_count": 37,
   "id": "d2c948b2",
   "metadata": {},
   "outputs": [
    {
     "name": "stdout",
     "output_type": "stream",
     "text": [
      "Sorted numbers: 3 7 9\n"
     ]
    }
   ],
   "source": [
    "def sort_numbers(a, b, c):\n",
    "    if a <= b and a <= c:\n",
    "        smallest = a\n",
    "        if b <= c:\n",
    "            middle = b\n",
    "            largest = c\n",
    "        else:\n",
    "            middle = c\n",
    "            largest = b\n",
    "    elif b <= a and b <= c:\n",
    "        smallest = b\n",
    "        if a <= c:\n",
    "            middle = a\n",
    "            largest = c\n",
    "        else:\n",
    "            middle = c\n",
    "            largest = a\n",
    "    else:\n",
    "        smallest = c\n",
    "        if a <= b:\n",
    "            middle = a\n",
    "            largest = b\n",
    "        else:\n",
    "            middle = b\n",
    "            largest = a\n",
    "    return smallest, middle, largest\n",
    "\n",
    "# Example usage:\n",
    "num1 = 7\n",
    "num2 = 3\n",
    "num3 = 9\n",
    "sorted_num1, sorted_num2, sorted_num3 = sort_numbers(num1, num2, num3)\n",
    "print(\"Sorted numbers:\", sorted_num1, sorted_num2, sorted_num3)\n"
   ]
  },
  {
   "cell_type": "markdown",
   "id": "c6fb9208",
   "metadata": {},
   "source": [
    "29. Build a program that determines the roots of a quartic equation using numerical methods."
   ]
  },
  {
   "cell_type": "code",
   "execution_count": 5,
   "id": "8d3667b6",
   "metadata": {},
   "outputs": [
    {
     "name": "stdout",
     "output_type": "stream",
     "text": [
      "Roots of the quartic equation: [1. 1. 2. 3.]\n"
     ]
    }
   ],
   "source": [
    "from scipy.optimize import fsolve\n",
    "\n",
    "def quartic_equation(x, a, b, c, d, e):\n",
    "    return a*x**4 + b*x**3 + c*x**2 + d*x + e\n",
    "\n",
    "# Coefficients of the quartic equation: ax^4 + bx^3 + cx^2 + dx + e = 0\n",
    "a = 1\n",
    "b = -10\n",
    "c = 35\n",
    "d = -50\n",
    "e = 24\n",
    "\n",
    "# Solve the quartic equation\n",
    "roots = fsolve(quartic_equation, [0, 1, 2, 3], args=(a, b, c, d, e))\n",
    "\n",
    "print(\"Roots of the quartic equation:\", roots)\n"
   ]
  },
  {
   "cell_type": "markdown",
   "id": "4a0b6627",
   "metadata": {},
   "source": [
    "30. Write a program that calculates the BMI (Body Mass Index) and provides health recommendations based\n",
    "on the user's input."
   ]
  },
  {
   "cell_type": "code",
   "execution_count": 6,
   "id": "179d585f",
   "metadata": {},
   "outputs": [
    {
     "name": "stdout",
     "output_type": "stream",
     "text": [
      "Enter your weight (in kilograms): 91\n",
      "Enter your height (in meters): 1.7\n",
      "Your BMI is: 31.49\n",
      "Health Recommendation: Obese: It's important to consult with a healthcare professional for personalized advice and support.\n"
     ]
    }
   ],
   "source": [
    "def calculate_bmi(weight, height):\n",
    "    \"\"\"\n",
    "    Calculate the Body Mass Index (BMI) using the weight (in kilograms) and height (in meters).\n",
    "    Formula: BMI = weight (kg) / (height (m))^2\n",
    "    \"\"\"\n",
    "    return weight / (height ** 2)\n",
    "\n",
    "def get_health_recommendation(bmi):\n",
    "    \"\"\"\n",
    "    Provide health recommendations based on the BMI value.\n",
    "    \"\"\"\n",
    "    if bmi < 18.5:\n",
    "        return \"Underweight: You may need to increase your calorie intake and consult with a healthcare professional.\"\n",
    "    elif 18.5 <= bmi < 25:\n",
    "        return \"Normal weight: Maintain a balanced diet and regular physical activity for overall health.\"\n",
    "    elif 25 <= bmi < 30:\n",
    "        return \"Overweight: Consider reducing calorie intake and increasing physical activity to achieve a healthy weight.\"\n",
    "    else:\n",
    "        return \"Obese: It's important to consult with a healthcare professional for personalized advice and support.\"\n",
    "\n",
    "def main():\n",
    "    # Input weight (in kilograms) and height (in meters) from the user\n",
    "    weight = float(input(\"Enter your weight (in kilograms): \"))\n",
    "    height = float(input(\"Enter your height (in meters): \"))\n",
    "\n",
    "    # Calculate BMI\n",
    "    bmi = calculate_bmi(weight, height)\n",
    "\n",
    "    # Provide health recommendation based on BMI\n",
    "    recommendation = get_health_recommendation(bmi)\n",
    "\n",
    "    # Display the BMI and health recommendation\n",
    "    print(f\"Your BMI is: {bmi:.2f}\")\n",
    "    print(\"Health Recommendation:\", recommendation)\n",
    "\n",
    "if __name__ == \"__main__\":\n",
    "    main()\n"
   ]
  },
  {
   "cell_type": "markdown",
   "id": "9037aa22",
   "metadata": {},
   "source": [
    "# Challenge Level:"
   ]
  },
  {
   "cell_type": "markdown",
   "id": "b11cec8c",
   "metadata": {},
   "source": [
    "31. Create a program that validates a password based on complexity rules (length, characters, etc.)."
   ]
  },
  {
   "cell_type": "code",
   "execution_count": 7,
   "id": "6fea7bf6",
   "metadata": {},
   "outputs": [
    {
     "name": "stdout",
     "output_type": "stream",
     "text": [
      "Enter your password: Neso123@\n",
      "Password is valid.\n"
     ]
    }
   ],
   "source": [
    "import re\n",
    "\n",
    "def validate_password(password):\n",
    "    \"\"\"\n",
    "    Validate the password based on complexity rules:\n",
    "    1. Length should be between 8 and 16 characters.\n",
    "    2. Should contain at least one uppercase letter.\n",
    "    3. Should contain at least one lowercase letter.\n",
    "    4. Should contain at least one digit.\n",
    "    5. Should not contain spaces.\n",
    "    \"\"\"\n",
    "    # Check length\n",
    "    if not 8 <= len(password) <= 16:\n",
    "        return False, \"Password length should be between 8 and 16 characters.\"\n",
    "\n",
    "    # Check uppercase letter\n",
    "    if not any(char.isupper() for char in password):\n",
    "        return False, \"Password should contain at least one uppercase letter.\"\n",
    "\n",
    "    # Check lowercase letter\n",
    "    if not any(char.islower() for char in password):\n",
    "        return False, \"Password should contain at least one lowercase letter.\"\n",
    "\n",
    "    # Check digit\n",
    "    if not any(char.isdigit() for char in password):\n",
    "        return False, \"Password should contain at least one digit.\"\n",
    "\n",
    "    # Check for spaces\n",
    "    if ' ' in password:\n",
    "        return False, \"Password should not contain spaces.\"\n",
    "\n",
    "    # Password meets all complexity rules\n",
    "    return True, \"Password is valid.\"\n",
    "\n",
    "\n",
    "def main():\n",
    "    password = input(\"Enter your password: \")\n",
    "\n",
    "    # Validate the password\n",
    "    is_valid, message = validate_password(password)\n",
    "\n",
    "    # Display validation result\n",
    "    if is_valid:\n",
    "        print(\"Password is valid.\")\n",
    "    else:\n",
    "        print(\"Password validation failed:\", message)\n",
    "\n",
    "\n",
    "if __name__ == \"__main__\":\n",
    "    \n",
    "    main()\n"
   ]
  },
  {
   "cell_type": "markdown",
   "id": "65de1114",
   "metadata": {},
   "source": [
    "32. Develop a program that performs matrix addition and subtraction based on user input."
   ]
  },
  {
   "cell_type": "code",
   "execution_count": 19,
   "id": "3ef9635a",
   "metadata": {},
   "outputs": [
    {
     "name": "stdout",
     "output_type": "stream",
     "text": [
      "Enter the number of rows: 1\n",
      "Enter the number of columns: 1\n",
      "Enter elements of the first matrix:\n",
      "1\n",
      "Enter elements of the second matrix:\n",
      "1\n",
      "Matrix Addition:\n",
      "[2]\n",
      "Matrix Subtraction:\n",
      "[0]\n",
      " type <class 'list'>\n"
     ]
    }
   ],
   "source": [
    "def add_matrices(matrix1, matrix2):\n",
    "    \"\"\"\n",
    "    Add two matrices element-wise.\n",
    "    \"\"\"\n",
    "    result = []\n",
    "    for i in range(len(matrix1)):\n",
    "        row = []\n",
    "        for j in range(len(matrix1[0])):\n",
    "            row.append(matrix1[i][j] + matrix2[i][j])\n",
    "        result.append(row)\n",
    "    return result\n",
    "\n",
    "def subtract_matrices(matrix1, matrix2):\n",
    "    \"\"\"\n",
    "    Subtract one matrix from another element-wise.\n",
    "    \"\"\"\n",
    "    result = []\n",
    "    for i in range(len(matrix1)):\n",
    "        row = []\n",
    "        for j in range(len(matrix1[0])):\n",
    "            row.append(matrix1[i][j] - matrix2[i][j])\n",
    "        result.append(row)\n",
    "    return result\n",
    "\n",
    "def display_matrix(matrix):\n",
    "    \"\"\"\n",
    "    Display the matrix in a readable format.\n",
    "    \"\"\"\n",
    "    for row in matrix:\n",
    "        print(row)\n",
    "\n",
    "def main():\n",
    "    # Input matrices from the user\n",
    "    rows = int(input(\"Enter the number of rows: \"))\n",
    "    cols = int(input(\"Enter the number of columns: \"))\n",
    "\n",
    "    matrix1 = []\n",
    "    print(\"Enter elements of the first matrix:\")\n",
    "    for i in range(rows):\n",
    "        row = [int(x) for x in input().split()]\n",
    "        matrix1.append(row)\n",
    "\n",
    "    matrix2 = []\n",
    "    print(\"Enter elements of the second matrix:\")\n",
    "    for i in range(rows):\n",
    "        row = [int(x) for x in input().split()]\n",
    "        matrix2.append(row)\n",
    "    \n",
    "    # Perform addition and subtraction\n",
    "    print(\"Matrix Addition:\")\n",
    "    result_addition = add_matrices(matrix1, matrix2)\n",
    "    display_matrix(result_addition)\n",
    "\n",
    "    print(\"Matrix Subtraction:\")\n",
    "    result_subtraction = subtract_matrices(matrix1, matrix2)\n",
    "    display_matrix(result_subtraction)\n",
    "    \n",
    " \n",
    "\n",
    "if __name__ == \"__main__\":\n",
    "    main()\n"
   ]
  },
  {
   "cell_type": "markdown",
   "id": "33130209",
   "metadata": {},
   "source": [
    "33. Write a program that calculates the greatest common divisor (GCD) of two numbers using the Euclidean\n",
    "algorithm."
   ]
  },
  {
   "cell_type": "code",
   "execution_count": 20,
   "id": "22bbf6ef",
   "metadata": {},
   "outputs": [
    {
     "name": "stdout",
     "output_type": "stream",
     "text": [
      "Enter the first number: 1\n",
      "Enter the second number: 2\n",
      "The greatest common divisor (GCD) of 1 and 2 is: 1\n"
     ]
    }
   ],
   "source": [
    "def gcd(a, b):\n",
    "    while b != 0:\n",
    "        a, b = b, a % b\n",
    "    return a\n",
    "\n",
    "# Taking input from the user\n",
    "num1 = int(input(\"Enter the first number: \"))\n",
    "num2 = int(input(\"Enter the second number: \"))\n",
    "\n",
    "# Calculating the GCD\n",
    "result = gcd(num1, num2)\n",
    "\n",
    "# Displaying the result\n",
    "print(\"The greatest common divisor (GCD) of\", num1, \"and\", num2, \"is:\", result)\n"
   ]
  },
  {
   "cell_type": "markdown",
   "id": "04b72077",
   "metadata": {},
   "source": [
    "34. Build a program that performs matrix multiplication using nested loops and conditional statements."
   ]
  },
  {
   "cell_type": "code",
   "execution_count": 21,
   "id": "73973eca",
   "metadata": {},
   "outputs": [
    {
     "name": "stdout",
     "output_type": "stream",
     "text": [
      "Result of matrix multiplication:\n",
      "[58, 64]\n",
      "[139, 154]\n"
     ]
    }
   ],
   "source": [
    "def matrix_multiplication(matrix1, matrix2):\n",
    "    rows1 = len(matrix1)\n",
    "    cols1 = len(matrix1[0])\n",
    "    rows2 = len(matrix2)\n",
    "    cols2 = len(matrix2[0])\n",
    "\n",
    "    # Check if matrices can be multiplied\n",
    "    if cols1 != rows2:\n",
    "        print(\"Cannot perform matrix multiplication. Number of columns in the first matrix must be equal to the number of rows in the second matrix.\")\n",
    "        return None\n",
    "\n",
    "    result = [[0 for _ in range(cols2)] for _ in range(rows1)]\n",
    "\n",
    "    # Perform matrix multiplication\n",
    "    for i in range(rows1):\n",
    "        for j in range(cols2):\n",
    "            for k in range(cols1):\n",
    "                result[i][j] += matrix1[i][k] * matrix2[k][j]\n",
    "\n",
    "    return result\n",
    "\n",
    "# Example matrices\n",
    "matrix1 = [[1, 2, 3],\n",
    "           [4, 5, 6]]\n",
    "\n",
    "matrix2 = [[7, 8],\n",
    "           [9, 10],\n",
    "           [11, 12]]\n",
    "\n",
    "# Perform matrix multiplication\n",
    "result_matrix = matrix_multiplication(matrix1, matrix2)\n",
    "\n",
    "# Display the result\n",
    "if result_matrix:\n",
    "    print(\"Result of matrix multiplication:\")\n",
    "    for row in result_matrix:\n",
    "        print(row)\n"
   ]
  },
  {
   "cell_type": "markdown",
   "id": "8b5ea4db",
   "metadata": {},
   "source": [
    "35. Create a program that simulates a basic text-based tic-tac-toe game against the computer."
   ]
  },
  {
   "cell_type": "code",
   "execution_count": 23,
   "id": "6a0080e6",
   "metadata": {},
   "outputs": [
    {
     "name": "stdout",
     "output_type": "stream",
     "text": [
      "Welcome to Tic-Tac-Toe!\n",
      "  |   |  \n",
      "---------\n",
      "  |   |  \n",
      "---------\n",
      "  |   |  \n",
      "---------\n",
      "Enter row and column (0-2) separated by space: 1 2\n",
      "  |   |  \n",
      "---------\n",
      "  |   | X\n",
      "---------\n",
      "  |   |  \n",
      "---------\n",
      "Computer's turn:\n",
      "Computer placed O at row 1 and column 1\n",
      "  |   |  \n",
      "---------\n",
      "  | O | X\n",
      "---------\n",
      "  |   |  \n",
      "---------\n",
      "Enter row and column (0-2) separated by space: 0 2\n",
      "  |   | X\n",
      "---------\n",
      "  | O | X\n",
      "---------\n",
      "  |   |  \n",
      "---------\n",
      "Computer's turn:\n",
      "Computer placed O at row 0 and column 1\n",
      "  | O | X\n",
      "---------\n",
      "  | O | X\n",
      "---------\n",
      "  |   |  \n",
      "---------\n",
      "Enter row and column (0-2) separated by space: 2 2\n",
      "  | O | X\n",
      "---------\n",
      "  | O | X\n",
      "---------\n",
      "  |   | X\n",
      "---------\n",
      "X wins!\n"
     ]
    }
   ],
   "source": [
    "import random\n",
    "\n",
    "def print_board(board):\n",
    "    for row in board:\n",
    "        print(\" | \".join(row))\n",
    "        print(\"-\" * 9)\n",
    "\n",
    "def check_winner(board, player):\n",
    "    for row in board:\n",
    "        if all(cell == player for cell in row):\n",
    "            return True\n",
    "    for col in range(3):\n",
    "        if all(board[row][col] == player for row in range(3)):\n",
    "            return True\n",
    "    if all(board[i][i] == player for i in range(3)) or all(board[i][2-i] == player for i in range(3)):\n",
    "        return True\n",
    "    return False\n",
    "\n",
    "def check_draw(board):\n",
    "    for row in board:\n",
    "        if \" \" in row:\n",
    "            return False\n",
    "    return True\n",
    "\n",
    "def get_empty_cells(board):\n",
    "    return [(i, j) for i in range(3) for j in range(3) if board[i][j] == \" \"]\n",
    "\n",
    "def computer_move(board):\n",
    "    empty_cells = get_empty_cells(board)\n",
    "    return random.choice(empty_cells)\n",
    "\n",
    "def main():\n",
    "    board = [[\" \" for _ in range(3)] for _ in range(3)]\n",
    "    players = [\"X\", \"O\"]\n",
    "    current_player = players[0]\n",
    "\n",
    "    print(\"Welcome to Tic-Tac-Toe!\")\n",
    "    print_board(board)\n",
    "\n",
    "    while True:\n",
    "        if current_player == \"X\":\n",
    "            row, col = map(int, input(\"Enter row and column (0-2) separated by space: \").split())\n",
    "            if board[row][col] != \" \":\n",
    "                print(\"Cell already occupied. Try again.\")\n",
    "                continue\n",
    "            board[row][col] = current_player\n",
    "        else:\n",
    "            print(\"Computer's turn:\")\n",
    "            row, col = computer_move(board)\n",
    "            board[row][col] = current_player\n",
    "            print(f\"Computer placed {current_player} at row {row} and column {col}\")\n",
    "\n",
    "        print_board(board)\n",
    "\n",
    "        if check_winner(board, current_player):\n",
    "            print(f\"{current_player} wins!\")\n",
    "            break\n",
    "        elif check_draw(board):\n",
    "            print(\"It's a draw!\")\n",
    "            break\n",
    "\n",
    "        current_player = players[(players.index(current_player) + 1) % 2]\n",
    "\n",
    "if __name__ == \"__main__\":\n",
    "    main()\n"
   ]
  },
  {
   "cell_type": "markdown",
   "id": "24e36e70",
   "metadata": {},
   "source": [
    "36. Write a program that generates Fibonacci numbers up to a specified term using iterative methods."
   ]
  },
  {
   "cell_type": "code",
   "execution_count": 24,
   "id": "59a07382",
   "metadata": {},
   "outputs": [
    {
     "name": "stdout",
     "output_type": "stream",
     "text": [
      "Enter the number of Fibonacci terms to generate: 4\n",
      "Fibonacci sequence up to term 4 : [0, 1, 1, 2]\n"
     ]
    }
   ],
   "source": [
    "def generate_fibonacci(n):\n",
    "    fibonacci_sequence = []\n",
    "    if n <= 0:\n",
    "        return fibonacci_sequence\n",
    "    elif n == 1:\n",
    "        fibonacci_sequence.append(0)\n",
    "    elif n >= 2:\n",
    "        fibonacci_sequence.extend([0, 1])\n",
    "        for i in range(2, n):\n",
    "            next_term = fibonacci_sequence[i - 1] + fibonacci_sequence[i - 2]\n",
    "            fibonacci_sequence.append(next_term)\n",
    "    return fibonacci_sequence\n",
    "\n",
    "def main():\n",
    "    try:\n",
    "        n = int(input(\"Enter the number of Fibonacci terms to generate: \"))\n",
    "        fibonacci_sequence = generate_fibonacci(n)\n",
    "        print(\"Fibonacci sequence up to term\", n, \":\", fibonacci_sequence)\n",
    "    except ValueError:\n",
    "        print(\"Invalid input. Please enter a valid integer.\")\n",
    "\n",
    "if __name__ == \"__main__\":\n",
    "    main()\n"
   ]
  },
  {
   "cell_type": "markdown",
   "id": "d1c6fc5c",
   "metadata": {},
   "source": [
    "37. Develop a program that calculates the nth term of the Fibonacci sequence using memoization."
   ]
  },
  {
   "cell_type": "code",
   "execution_count": 25,
   "id": "21bd5564",
   "metadata": {},
   "outputs": [
    {
     "name": "stdout",
     "output_type": "stream",
     "text": [
      "Enter the value of n to calculate the nth Fibonacci term: 4\n",
      "The 4th Fibonacci term is: 3\n"
     ]
    }
   ],
   "source": [
    "def fibonacci(n, memo={}):\n",
    "    if n in memo:\n",
    "        return memo[n]\n",
    "    if n <= 1:\n",
    "        return n\n",
    "    memo[n] = fibonacci(n-1, memo) + fibonacci(n-2, memo)\n",
    "    return memo[n]\n",
    "\n",
    "def main():\n",
    "    try:\n",
    "        n = int(input(\"Enter the value of n to calculate the nth Fibonacci term: \"))\n",
    "        if n < 0:\n",
    "            print(\"Please enter a non-negative integer.\")\n",
    "            return\n",
    "        result = fibonacci(n)\n",
    "        print(f\"The {n}th Fibonacci term is: {result}\")\n",
    "    except ValueError:\n",
    "        print(\"Invalid input. Please enter a valid integer.\")\n",
    "\n",
    "if __name__ == \"__main__\":\n",
    "    main()\n"
   ]
  },
  {
   "cell_type": "markdown",
   "id": "8d1cfe9a",
   "metadata": {},
   "source": [
    "38. Create a program that generates a calendar for a given month and year using conditional statements."
   ]
  },
  {
   "cell_type": "code",
   "execution_count": 26,
   "id": "f119fd57",
   "metadata": {},
   "outputs": [
    {
     "name": "stdout",
     "output_type": "stream",
     "text": [
      "Enter the year: 1996\n",
      "Enter the month (1-12): 6\n",
      "Calendar for June, 1996:\n",
      " Mo Tu We Th Fr Sa Su\n",
      "                 1  2\n",
      "  3  4  5  6  7  8  9\n",
      " 10 11 12 13 14 15 16\n",
      " 17 18 19 20 21 22 23\n",
      " 24 25 26 27 28 29 30\n"
     ]
    }
   ],
   "source": [
    "import calendar\n",
    "\n",
    "def generate_calendar(year, month):\n",
    "    cal = calendar.monthcalendar(year, month)\n",
    "    month_name = calendar.month_name[month]\n",
    "    print(f\"Calendar for {month_name}, {year}:\")\n",
    "    print(\" Mo Tu We Th Fr Sa Su\")\n",
    "    for week in cal:\n",
    "        for day in week:\n",
    "            if day == 0:\n",
    "                print(\"   \", end=\"\")\n",
    "            else:\n",
    "                print(f\"{day:3}\", end=\"\")\n",
    "        print()\n",
    "\n",
    "def main():\n",
    "    try:\n",
    "        year = int(input(\"Enter the year: \"))\n",
    "        month = int(input(\"Enter the month (1-12): \"))\n",
    "        if month < 1 or month > 12:\n",
    "            print(\"Invalid month. Please enter a month between 1 and 12.\")\n",
    "            return\n",
    "        generate_calendar(year, month)\n",
    "    except ValueError:\n",
    "        print(\"Invalid input. Please enter valid integers for year and month.\")\n",
    "\n",
    "if __name__ == \"__main__\":\n",
    "    main()\n"
   ]
  },
  {
   "cell_type": "markdown",
   "id": "3fef030d",
   "metadata": {},
   "source": [
    "39. Build a program that simulates a basic text-based blackjack game against the computer.\n"
   ]
  },
  {
   "cell_type": "code",
   "execution_count": 29,
   "id": "7b89a421",
   "metadata": {},
   "outputs": [
    {
     "name": "stdout",
     "output_type": "stream",
     "text": [
      "Welcome to Blackjack!\n",
      "Your hand:\n",
      "3 of Diamonds\n",
      "A of Diamonds\n",
      "Computer's hand:\n",
      "2 of Clubs\n",
      "Unknown card\n",
      "Do you want to hit or stand? (h/s): s\n",
      "Computer's hand:\n",
      "2 of Clubs\n",
      "Q of Diamonds\n",
      "Computer's hand:\n",
      "2 of Clubs\n",
      "Q of Diamonds\n",
      "A of Hearts\n",
      "Q of Spades\n",
      "Computer busted! You win!\n"
     ]
    }
   ],
   "source": [
    "import random\n",
    "\n",
    "def initialize_deck():\n",
    "    deck = []\n",
    "    suits = ['Hearts', 'Diamonds', 'Clubs', 'Spades']\n",
    "    values = ['2', '3', '4', '5', '6', '7', '8', '9', '10', 'J', 'Q', 'K', 'A']\n",
    "    for suit in suits:\n",
    "        for value in values:\n",
    "            deck.append((value, suit))\n",
    "    random.shuffle(deck)\n",
    "    return deck\n",
    "\n",
    "def calculate_total(hand):\n",
    "    total = 0\n",
    "    num_aces = 0\n",
    "    for card in hand:\n",
    "        if card[0] in ['J', 'Q', 'K']:\n",
    "            total += 10\n",
    "        elif card[0] == 'A':\n",
    "            num_aces += 1\n",
    "            total += 11\n",
    "        else:\n",
    "            total += int(card[0])\n",
    "    while total > 21 and num_aces:\n",
    "        total -= 10\n",
    "        num_aces -= 1\n",
    "    return total\n",
    "\n",
    "def display_hand(hand):\n",
    "    for card in hand:\n",
    "        print(f\"{card[0]} of {card[1]}\")\n",
    "\n",
    "def main():\n",
    "    print(\"Welcome to Blackjack!\")\n",
    "    deck = initialize_deck()\n",
    "    player_hand = [deck.pop(), deck.pop()]\n",
    "    computer_hand = [deck.pop(), deck.pop()]\n",
    "\n",
    "    print(\"Your hand:\")\n",
    "    display_hand(player_hand)\n",
    "    print(\"Computer's hand:\")\n",
    "    print(f\"{computer_hand[0][0]} of {computer_hand[0][1]}\")\n",
    "    print(\"Unknown card\")\n",
    "\n",
    "    while True:\n",
    "        player_total = calculate_total(player_hand)\n",
    "        if player_total == 21:\n",
    "            print(\"Blackjack! You win!\")\n",
    "            break\n",
    "        elif player_total > 21:\n",
    "            print(\"Busted! You lose!\")\n",
    "            break\n",
    "\n",
    "        action = input(\"Do you want to hit or stand? (h/s): \").lower()\n",
    "        if action == 'h':\n",
    "            player_hand.append(deck.pop())\n",
    "            print(\"Your hand:\")\n",
    "            display_hand(player_hand)\n",
    "        elif action == 's':\n",
    "            break\n",
    "\n",
    "    if player_total <= 21:\n",
    "        print(\"Computer's hand:\")\n",
    "        display_hand(computer_hand)\n",
    "        while calculate_total(computer_hand) < 17:\n",
    "            computer_hand.append(deck.pop())\n",
    "        print(\"Computer's hand:\")\n",
    "        display_hand(computer_hand)\n",
    "        computer_total = calculate_total(computer_hand)\n",
    "\n",
    "        if computer_total > 21:\n",
    "            print(\"Computer busted! You win!\")\n",
    "        elif computer_total == player_total:\n",
    "            print(\"It's a tie!\")\n",
    "        elif computer_total > player_total:\n",
    "            print(\"Computer wins!\")\n",
    "        else:\n",
    "            print(\"You win!\")\n",
    "\n",
    "if __name__ == \"__main__\":\n",
    "    main()\n"
   ]
  },
  {
   "cell_type": "markdown",
   "id": "d4d32cda",
   "metadata": {},
   "source": [
    "40. Write a program that generates the prime factors of a given number using trial division."
   ]
  },
  {
   "cell_type": "code",
   "execution_count": 30,
   "id": "754779d0",
   "metadata": {},
   "outputs": [
    {
     "name": "stdout",
     "output_type": "stream",
     "text": [
      "Enter a number to find its prime factors: 100\n",
      "The prime factors of 100 are: [2, 2, 5, 5]\n"
     ]
    }
   ],
   "source": [
    "def prime_factors(n):\n",
    "    factors = []\n",
    "    divisor = 2\n",
    "    while n > 1:\n",
    "        while n % divisor == 0:\n",
    "            factors.append(divisor)\n",
    "            n //= divisor\n",
    "        divisor += 1\n",
    "    return factors\n",
    "\n",
    "def main():\n",
    "    try:\n",
    "        num = int(input(\"Enter a number to find its prime factors: \"))\n",
    "        if num <= 0:\n",
    "            print(\"Please enter a positive integer.\")\n",
    "            return\n",
    "        factors = prime_factors(num)\n",
    "        if len(factors) == 1:\n",
    "            print(f\"{num} is a prime number.\")\n",
    "        else:\n",
    "            print(f\"The prime factors of {num} are: {factors}\")\n",
    "    except ValueError:\n",
    "        print(\"Invalid input. Please enter a valid integer.\")\n",
    "\n",
    "if __name__ == \"__main__\":\n",
    "    main()\n"
   ]
  },
  {
   "cell_type": "code",
   "execution_count": null,
   "id": "319b8e3c",
   "metadata": {},
   "outputs": [],
   "source": []
  }
 ],
 "metadata": {
  "kernelspec": {
   "display_name": "Python 3 (ipykernel)",
   "language": "python",
   "name": "python3"
  },
  "language_info": {
   "codemirror_mode": {
    "name": "ipython",
    "version": 3
   },
   "file_extension": ".py",
   "mimetype": "text/x-python",
   "name": "python",
   "nbconvert_exporter": "python",
   "pygments_lexer": "ipython3",
   "version": "3.9.12"
  }
 },
 "nbformat": 4,
 "nbformat_minor": 5
}
