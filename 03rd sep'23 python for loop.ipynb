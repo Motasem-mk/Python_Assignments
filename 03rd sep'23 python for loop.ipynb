{
 "cells": [
  {
   "cell_type": "markdown",
   "id": "c43bfb28",
   "metadata": {},
   "source": [
    "# For Loop Basic Level:"
   ]
  },
  {
   "cell_type": "markdown",
   "id": "a479d410",
   "metadata": {},
   "source": [
    "1. Write a Python program to print the numbers from 1 to 10 using a `for` loop."
   ]
  },
  {
   "cell_type": "code",
   "execution_count": 2,
   "id": "0ac00778",
   "metadata": {},
   "outputs": [
    {
     "name": "stdout",
     "output_type": "stream",
     "text": [
      "1 2 3 4 5 6 7 8 9 10 "
     ]
    }
   ],
   "source": [
    "for i in range(1,11):\n",
    "    print(i,end= \" \")"
   ]
  },
  {
   "cell_type": "markdown",
   "id": "12ff0832",
   "metadata": {},
   "source": [
    "2. Create a program that calculates the sum of all numbers in a list using a `for` loop."
   ]
  },
  {
   "cell_type": "code",
   "execution_count": 5,
   "id": "16fabbd1",
   "metadata": {},
   "outputs": [
    {
     "data": {
      "text/plain": [
       "55"
      ]
     },
     "execution_count": 5,
     "metadata": {},
     "output_type": "execute_result"
    }
   ],
   "source": [
    "sum_all = 0\n",
    "for i in range(1,11):\n",
    "    sum_all+=i\n",
    "sum_all"
   ]
  },
  {
   "cell_type": "markdown",
   "id": "ddee6ccb",
   "metadata": {},
   "source": [
    "3. Write a program to print the characters of a string in reverse order using a `for` loop."
   ]
  },
  {
   "cell_type": "code",
   "execution_count": 8,
   "id": "2c3d5e7e",
   "metadata": {},
   "outputs": [
    {
     "name": "stdout",
     "output_type": "stream",
     "text": [
      "mesatoM"
     ]
    }
   ],
   "source": [
    "st = \"Motasem\"\n",
    "for l in reversed (st) :\n",
    "    print(l, end = \"\")\n"
   ]
  },
  {
   "cell_type": "markdown",
   "id": "8470dea8",
   "metadata": {},
   "source": [
    "4. Develop a program that finds the factorial of a given number using a `for` loop."
   ]
  },
  {
   "cell_type": "code",
   "execution_count": 12,
   "id": "daa6a8b3",
   "metadata": {
    "scrolled": true
   },
   "outputs": [
    {
     "name": "stdout",
     "output_type": "stream",
     "text": [
      "Factorial of 5 is: 120\n"
     ]
    }
   ],
   "source": [
    "# Define the number for which you want to find the factorial\n",
    "number = 5\n",
    "\n",
    "# Initialize the factorial variable to store the result\n",
    "factorial = 1\n",
    "\n",
    "# Loop through numbers from 1 to the given number\n",
    "for i in range(1, number + 1):\n",
    "    # Multiply each number to the factorial variable\n",
    "    factorial *= i\n",
    "\n",
    "# Print the factorial\n",
    "print(\"Factorial of\", number, \"is:\", factorial)\n"
   ]
  },
  {
   "cell_type": "markdown",
   "id": "2ad5b67e",
   "metadata": {},
   "source": [
    "5. Create a program to print the multiplication table of a given number using a `for` loop."
   ]
  },
  {
   "cell_type": "code",
   "execution_count": 19,
   "id": "30e9cadf",
   "metadata": {
    "scrolled": true
   },
   "outputs": [
    {
     "name": "stdout",
     "output_type": "stream",
     "text": [
      "1 x 10 = 10\n",
      "2 x 10 = 20\n",
      "3 x 10 = 30\n",
      "4 x 10 = 40\n",
      "5 x 10 = 50\n",
      "6 x 10 = 60\n",
      "7 x 10 = 70\n",
      "8 x 10 = 80\n",
      "9 x 10 = 90\n",
      "10 x 10 = 100\n"
     ]
    }
   ],
   "source": [
    "n=10\n",
    "\n",
    "for i in range(1,n+1):\n",
    "  print(f\"{i} x {n} = {i*n}\")\n",
    "    "
   ]
  },
  {
   "cell_type": "code",
   "execution_count": 20,
   "id": "81817235",
   "metadata": {},
   "outputs": [
    {
     "name": "stdout",
     "output_type": "stream",
     "text": [
      "1 x 1 = 1\t\n",
      "2 x 1 = 2\t2 x 2 = 4\t\n",
      "3 x 1 = 3\t3 x 2 = 6\t3 x 3 = 9\t\n",
      "4 x 1 = 4\t4 x 2 = 8\t4 x 3 = 12\t4 x 4 = 16\t\n",
      "5 x 1 = 5\t5 x 2 = 10\t5 x 3 = 15\t5 x 4 = 20\t5 x 5 = 25\t\n",
      "6 x 1 = 6\t6 x 2 = 12\t6 x 3 = 18\t6 x 4 = 24\t6 x 5 = 30\t6 x 6 = 36\t\n",
      "7 x 1 = 7\t7 x 2 = 14\t7 x 3 = 21\t7 x 4 = 28\t7 x 5 = 35\t7 x 6 = 42\t7 x 7 = 49\t\n",
      "8 x 1 = 8\t8 x 2 = 16\t8 x 3 = 24\t8 x 4 = 32\t8 x 5 = 40\t8 x 6 = 48\t8 x 7 = 56\t8 x 8 = 64\t\n",
      "9 x 1 = 9\t9 x 2 = 18\t9 x 3 = 27\t9 x 4 = 36\t9 x 5 = 45\t9 x 6 = 54\t9 x 7 = 63\t9 x 8 = 72\t9 x 9 = 81\t\n",
      "10 x 1 = 10\t10 x 2 = 20\t10 x 3 = 30\t10 x 4 = 40\t10 x 5 = 50\t10 x 6 = 60\t10 x 7 = 70\t10 x 8 = 80\t10 x 9 = 90\t10 x 10 = 100\t\n"
     ]
    }
   ],
   "source": [
    "n = 10\n",
    "\n",
    "for i in range(1, n + 1):\n",
    "    for x in range(1, i + 1):\n",
    "        print(f\"{i} x {x} = {i * x}\\t\", end=\"\")\n",
    "    print()  # Move to the next line after printing all multiplications for the current i\n"
   ]
  },
  {
   "cell_type": "markdown",
   "id": "36c5f9f0",
   "metadata": {},
   "source": [
    "6. Write a program that counts the number of even and odd numbers in a list using a `for` loop."
   ]
  },
  {
   "cell_type": "code",
   "execution_count": 23,
   "id": "f8920bcd",
   "metadata": {},
   "outputs": [
    {
     "name": "stdout",
     "output_type": "stream",
     "text": [
      "the list has 5 even elements and 5 odd elements \n"
     ]
    }
   ],
   "source": [
    "l = [1, 2, 3, 4, 5, 6, 7, 8, 9, 10]\n",
    "count_even = 0\n",
    "count_odd = 0\n",
    "for i in l :\n",
    "    if i % 2 == 0 :\n",
    "        count_even += 1\n",
    "    else : \n",
    "        count_odd += 1\n",
    "print(f\"the list has {count_even} even elements and {count_odd} odd elements \")"
   ]
  },
  {
   "cell_type": "markdown",
   "id": "4b602edd",
   "metadata": {},
   "source": [
    "7. Develop a program that prints the squares of numbers from 1 to 5 using a `for` loop."
   ]
  },
  {
   "cell_type": "code",
   "execution_count": 26,
   "id": "0fb83314",
   "metadata": {},
   "outputs": [
    {
     "data": {
      "text/plain": [
       "[1, 4, 9, 16, 25]"
      ]
     },
     "execution_count": 26,
     "metadata": {},
     "output_type": "execute_result"
    }
   ],
   "source": [
    "sq_list = list (x**2 for x in range(1,6))\n",
    "sq_list"
   ]
  },
  {
   "cell_type": "markdown",
   "id": "3a449c6b",
   "metadata": {},
   "source": [
    "8. Create a program to find the length of a string without using the `len()` function."
   ]
  },
  {
   "cell_type": "code",
   "execution_count": 28,
   "id": "66e802bd",
   "metadata": {},
   "outputs": [
    {
     "data": {
      "text/plain": [
       "19"
      ]
     },
     "execution_count": 28,
     "metadata": {},
     "output_type": "execute_result"
    }
   ],
   "source": [
    "s = \"hello i love python\"\n",
    "count  = 0\n",
    "for i in s :\n",
    "    count+=1\n",
    "count"
   ]
  },
  {
   "cell_type": "markdown",
   "id": "67d4c497",
   "metadata": {},
   "source": [
    "9. Write a program that calculates the average of a list of numbers using a `for` loop."
   ]
  },
  {
   "cell_type": "code",
   "execution_count": 29,
   "id": "38ef3d04",
   "metadata": {},
   "outputs": [
    {
     "data": {
      "text/plain": [
       "5.5"
      ]
     },
     "execution_count": 29,
     "metadata": {},
     "output_type": "execute_result"
    }
   ],
   "source": [
    "l = [1, 2, 3, 4, 5, 6, 7, 8, 9, 10]\n",
    "sum_list = 0\n",
    "count = 0\n",
    "for i in l :\n",
    "    sum_list+=i\n",
    "    count+=1\n",
    "av = sum_list/count\n",
    "av"
   ]
  },
  {
   "cell_type": "markdown",
   "id": "1f274122",
   "metadata": {},
   "source": [
    "10. Develop a program that prints the first `n` Fibonacci numbers using a `for` loop."
   ]
  },
  {
   "cell_type": "code",
   "execution_count": 30,
   "id": "8fa7c081",
   "metadata": {},
   "outputs": [
    {
     "name": "stdout",
     "output_type": "stream",
     "text": [
      "First 10 Fibonacci numbers: [0, 1, 1, 2, 3, 5, 8, 13, 21, 34]\n"
     ]
    }
   ],
   "source": [
    "def fibonacci(n):\n",
    "    fib_sequence = []\n",
    "    a, b = 0, 1\n",
    "    for _ in range(n):\n",
    "        fib_sequence.append(a)\n",
    "        a, b = b, a + b\n",
    "    return fib_sequence\n",
    "\n",
    "n = 10  # Change this value to print a different number of Fibonacci numbers\n",
    "fib_numbers = fibonacci(n)\n",
    "print(\"First\", n, \"Fibonacci numbers:\", fib_numbers)"
   ]
  },
  {
   "cell_type": "markdown",
   "id": "e06f3e51",
   "metadata": {},
   "source": [
    "# Intermediate Level:"
   ]
  },
  {
   "cell_type": "markdown",
   "id": "b0d894aa",
   "metadata": {},
   "source": [
    "11. Write a program to check if a given list contains any duplicates using a `for` loop."
   ]
  },
  {
   "cell_type": "code",
   "execution_count": 34,
   "id": "718a38eb",
   "metadata": {},
   "outputs": [
    {
     "name": "stdout",
     "output_type": "stream",
     "text": [
      "the list contains duclicates elements\n"
     ]
    }
   ],
   "source": [
    "l = [1,2,1,1,4,5,2,3]\n",
    "d = {} \n",
    "for i in l :\n",
    "    d[i] = l.count(i)\n",
    "for k , v in d.items():\n",
    "    if v > 1 :\n",
    "        print(\"the list contains duclicates elements\")\n",
    "        break"
   ]
  },
  {
   "cell_type": "code",
   "execution_count": 35,
   "id": "91b699be",
   "metadata": {},
   "outputs": [
    {
     "name": "stdout",
     "output_type": "stream",
     "text": [
      "The list contains duplicate elements.\n"
     ]
    }
   ],
   "source": [
    "l = [1, 2, 1, 1, 4, 5, 2, 3]\n",
    "d = {} \n",
    "for i in l:\n",
    "    if i in d:\n",
    "        print(\"The list contains duplicate elements.\")\n",
    "        break\n",
    "    else:\n",
    "        d[i] = 1\n",
    "else:\n",
    "    print(\"The list does not contain duplicate elements.\")\n"
   ]
  },
  {
   "cell_type": "markdown",
   "id": "12ed0d81",
   "metadata": {},
   "source": [
    "12. Create a program that prints the prime numbers in a given range using a `for` loop."
   ]
  },
  {
   "cell_type": "code",
   "execution_count": 38,
   "id": "393aadfb",
   "metadata": {},
   "outputs": [
    {
     "name": "stdout",
     "output_type": "stream",
     "text": [
      "Prime numbers in the range: [2, 3, 5, 7, 11, 13, 17, 19]\n"
     ]
    }
   ],
   "source": [
    "# Define the range\n",
    "r = range(2, 21)  # Start from 2 since 1 is not prime\n",
    "\n",
    "# List to store prime numbers\n",
    "prime_list = []\n",
    "\n",
    "# Iterate over each number in the range\n",
    "for num in r:\n",
    "    # Check if the number is prime\n",
    "    is_prime = True\n",
    "    for i in range(2, int(num**0.5) + 1):\n",
    "        if num % i == 0:\n",
    "            is_prime = False\n",
    "            break\n",
    "    # If the number is prime, add it to the prime_list\n",
    "    if is_prime:\n",
    "        prime_list.append(num)\n",
    "\n",
    "# Print the prime numbers\n",
    "print(\"Prime numbers in the range:\", prime_list)\n"
   ]
  },
  {
   "cell_type": "markdown",
   "id": "02e22804",
   "metadata": {},
   "source": [
    "13. Develop a program that counts the number of vowels in a string using a `for` loop."
   ]
  },
  {
   "cell_type": "code",
   "execution_count": 43,
   "id": "b9d94c27",
   "metadata": {},
   "outputs": [
    {
     "name": "stdout",
     "output_type": "stream",
     "text": [
      "i appears 2 times \n",
      "o appears 3 times \n",
      "a appears 2 times \n",
      "e appears 2 times \n",
      "u appears 1 times \n"
     ]
    }
   ],
   "source": [
    "vowels = \"aeiouAEIOU\"\n",
    "text = \"hi i'm motasem how are you\"\n",
    "vdict = {}\n",
    "for i in text : \n",
    "    if i in vowels : \n",
    "        vdict[i] = text.count(i)\n",
    "vdict\n",
    "for k,v in vdict.items():\n",
    "    print(f\"{k} appears {v} times \")\n"
   ]
  },
  {
   "cell_type": "code",
   "execution_count": 46,
   "id": "0e48906b",
   "metadata": {},
   "outputs": [
    {
     "data": {
      "text/plain": [
       "10"
      ]
     },
     "execution_count": 46,
     "metadata": {},
     "output_type": "execute_result"
    }
   ],
   "source": [
    "vowels_count = 0 \n",
    "for value in vdict.values():\n",
    "    vowels_count+=value\n",
    "vowels_count"
   ]
  },
  {
   "cell_type": "markdown",
   "id": "bdd82059",
   "metadata": {},
   "source": [
    "\n",
    "14. Write a program to find the maximum element in a 2D list using a nested `for` loop."
   ]
  },
  {
   "cell_type": "code",
   "execution_count": 55,
   "id": "3631270a",
   "metadata": {},
   "outputs": [
    {
     "data": {
      "text/plain": [
       "9"
      ]
     },
     "execution_count": 55,
     "metadata": {},
     "output_type": "execute_result"
    }
   ],
   "source": [
    "l2d= [[1,2,3],\n",
    "      [4,5,6],\n",
    "      [7,8,9]]\n",
    "max_element = l2d[0][0]\n",
    "for i in (l2d):\n",
    "    for j in i :\n",
    "        if j >max_element :\n",
    "            max_element = j\n",
    "max_element"
   ]
  },
  {
   "cell_type": "markdown",
   "id": "5a3ed450",
   "metadata": {},
   "source": [
    "15. Create a program that removes all occurrences of a specific element from a list using a `for` loop."
   ]
  },
  {
   "cell_type": "code",
   "execution_count": null,
   "id": "9e165a0f",
   "metadata": {},
   "outputs": [],
   "source": [
    "l = [1, 2, 1, 1, 4, 5, 2, 3]\n",
    "element_to_remove = 1\n",
    "\n",
    "result = []\n",
    "for item in l:\n",
    "    if item != element_to_remove:\n",
    "        result.append(item)\n",
    "result"
   ]
  },
  {
   "cell_type": "code",
   "execution_count": null,
   "id": "84cab990",
   "metadata": {},
   "outputs": [],
   "source": [
    "l = [1, 2, 1, 1, 4, 5, 2, 3]\n",
    "element_to_remove = 1\n",
    "\n",
    "result = []\n",
    "for item in l:\n",
    "    if item != element_to_remove:\n",
    "        result.append(item)\n",
    "print(result)"
   ]
  },
  {
   "cell_type": "markdown",
   "id": "19aa7e42",
   "metadata": {},
   "source": [
    "16. Develop a program that generates a multiplication table for numbers from 1 to 5 using a nested `for` loop."
   ]
  },
  {
   "cell_type": "code",
   "execution_count": 15,
   "id": "64fe6ede",
   "metadata": {},
   "outputs": [
    {
     "name": "stdout",
     "output_type": "stream",
     "text": [
      "1\t2\t3\t4\t5\t\n",
      "2\t4\t6\t8\t10\t\n",
      "3\t6\t9\t12\t15\t\n",
      "4\t8\t12\t16\t20\t\n",
      "5\t10\t15\t20\t25\t\n"
     ]
    }
   ],
   "source": [
    "\n",
    "for i in range (1,6) :\n",
    "    for j in range(1,6) :\n",
    "        print(i * j,end = \"\\t\")\n",
    "    print()"
   ]
  },
  {
   "cell_type": "markdown",
   "id": "4de20ae3",
   "metadata": {},
   "source": [
    "17. Write a program that converts a list of Fahrenheit temperatures to Celsius using a `for` loop."
   ]
  },
  {
   "cell_type": "code",
   "execution_count": 22,
   "id": "99f58956",
   "metadata": {},
   "outputs": [
    {
     "data": {
      "text/plain": [
       "[32.22222222222222, 37.77777777777778, 40.55555555555556, 36.66666666666667]"
      ]
     },
     "execution_count": 22,
     "metadata": {},
     "output_type": "execute_result"
    }
   ],
   "source": [
    "def F_to_C(F):\n",
    "   \n",
    "    Cl = []\n",
    "    for f in F :\n",
    "        C = 5/9 * (f - 32)\n",
    "        Cl.append(C)\n",
    "    return Cl\n",
    "\n",
    "tf = [90,100,105,98]\n",
    "F_to_C(tf)"
   ]
  },
  {
   "cell_type": "markdown",
   "id": "4eb35de9",
   "metadata": {},
   "source": [
    "18. Create a program to print the common elements from two lists using a `for` loop."
   ]
  },
  {
   "cell_type": "code",
   "execution_count": 23,
   "id": "d8d22f4e",
   "metadata": {},
   "outputs": [
    {
     "data": {
      "text/plain": [
       "[1, 3]"
      ]
     },
     "execution_count": 23,
     "metadata": {},
     "output_type": "execute_result"
    }
   ],
   "source": [
    "l1 = [1, 2, 3, 4]\n",
    "l2 = [1, 3, 7, 9]\n",
    "common = []\n",
    "for i in l1 :\n",
    "    if i in l2 :\n",
    "        common.append(i)\n",
    "common"
   ]
  },
  {
   "cell_type": "markdown",
   "id": "46b939cb",
   "metadata": {},
   "source": [
    "19. Develop a program that prints the pattern of right-angled triangles using a `for` loop. Use ‘*’ to draw the\n",
    "pattern"
   ]
  },
  {
   "cell_type": "code",
   "execution_count": 41,
   "id": "cb09d23c",
   "metadata": {},
   "outputs": [
    {
     "name": "stdout",
     "output_type": "stream",
     "text": [
      "* \n",
      "* * \n",
      "* * * \n",
      "* * * * \n",
      "* * * * * \n"
     ]
    }
   ],
   "source": [
    "# Define the size of the triangle (number of rows)\n",
    "triangle_size = 5\n",
    "\n",
    "# Outer loop for rows\n",
    "for i in range(1, triangle_size + 1):\n",
    "    # Inner loop for columns (printing asterisks)\n",
    "    for j in range(i):\n",
    "        print(\"*\", end=\" \")  # Print asterisk with a space after\n",
    "    print()  # Move to the next line after printing each row\n"
   ]
  },
  {
   "cell_type": "markdown",
   "id": "925cdd62",
   "metadata": {},
   "source": [
    "20. Write a program to find the greatest common divisor (GCD) of two numbers using a `for` loop."
   ]
  },
  {
   "cell_type": "code",
   "execution_count": 46,
   "id": "db1ed8a7",
   "metadata": {},
   "outputs": [
    {
     "name": "stdout",
     "output_type": "stream",
     "text": [
      "GCD of 12 and 18 is : {1, 2, 3, 6}\n"
     ]
    }
   ],
   "source": [
    "def gcd (num1,num2) :\n",
    "    l1 = []\n",
    "    l2 = []\n",
    "    for i in range(1,num1+1):\n",
    "        if num1 % i == 0 :\n",
    "            l1.append (i)\n",
    "    \n",
    "    for n in range(1,num2+1):\n",
    "        if num2 % n == 0 :\n",
    "            l2.append (n)\n",
    "            \n",
    "    gcd = set(l1).intersection(set(l2))\n",
    "    return print(f\"GCD of {num1} and {num2} is : {gcd}\")\n",
    "gcd(12,18)"
   ]
  },
  {
   "cell_type": "markdown",
   "id": "d6cd7704",
   "metadata": {},
   "source": [
    "# Advanced Level:"
   ]
  },
  {
   "cell_type": "markdown",
   "id": "0bc503a0",
   "metadata": {},
   "source": [
    "21. Create a program that calculates the sum of the digits of numbers in a list using a list comprehension."
   ]
  },
  {
   "cell_type": "code",
   "execution_count": 64,
   "id": "81f4e3ea",
   "metadata": {},
   "outputs": [
    {
     "name": "stdout",
     "output_type": "stream",
     "text": [
      "Sum of digits for each number: 9\n"
     ]
    }
   ],
   "source": [
    "l = [200, 3000, 4000]\n",
    "sum_digit = sum(sum(int(digit) for digit in str(num)) for num in l)\n",
    "print(\"Sum of digits for each number:\", sum_digit)\n"
   ]
  },
  {
   "cell_type": "code",
   "execution_count": 66,
   "id": "a89e6b34",
   "metadata": {},
   "outputs": [
    {
     "name": "stdout",
     "output_type": "stream",
     "text": [
      "Sum of digits for each number: [6, 15, 24]\n"
     ]
    }
   ],
   "source": [
    "def sum_of_digits(numbers):\n",
    "    sums = []  # Initialize an empty list to store the sums\n",
    "    for number in numbers:\n",
    "        digit_sum = 0  # Initialize a variable to store the sum of digits for the current number\n",
    "        for digit_char in str(number):  # Convert the number to a string and iterate over its digits\n",
    "            digit_sum += int(digit_char)  # Convert each digit character back to integer and add it to the sum\n",
    "        sums.append(digit_sum)  # Append the sum of digits for the current number to the list\n",
    "    return sums\n",
    "\n",
    "# Test the function\n",
    "numbers = [123, 456, 789]\n",
    "result = sum_of_digits(numbers)\n",
    "print(\"Sum of digits for each number:\", result)\n"
   ]
  },
  {
   "cell_type": "markdown",
   "id": "01f71125",
   "metadata": {},
   "source": [
    "22. Write a program to find the prime factors of a given number using a `for` loop and list comprehension."
   ]
  },
  {
   "cell_type": "code",
   "execution_count": 81,
   "id": "095e1fa4",
   "metadata": {},
   "outputs": [
    {
     "data": {
      "text/plain": [
       "[3, 7, 21]"
      ]
     },
     "execution_count": 81,
     "metadata": {},
     "output_type": "execute_result"
    }
   ],
   "source": [
    "# first of all i will get the prime numbers \n",
    "\n",
    "def prime_list(n):\n",
    "    prime_list = []\n",
    "\n",
    "    for i in range(2,n+1):\n",
    "        is_prime = True\n",
    "        for num in range(2,i):\n",
    "            if i%num==0:\n",
    "                is_prime = False\n",
    "        else :\n",
    "            prime_list.append(i)\n",
    "    return prime_list\n",
    "# we create a function that calculate the prime factor of a given number \n",
    "\n",
    "def prime_factor (n):\n",
    "    prime_factor= []\n",
    "    for i in (prime_list(n)) : \n",
    "        if n % i == 0 :\n",
    "            prime_factor.append(i)\n",
    "    return prime_factor\n",
    "prime_factor(21)"
   ]
  },
  {
   "cell_type": "markdown",
   "id": "372ddfe7",
   "metadata": {},
   "source": [
    "23. Develop a program that extracts unique elements from a list and stores them in a new list using a list\n",
    "comprehension."
   ]
  },
  {
   "cell_type": "code",
   "execution_count": 85,
   "id": "3f91986c",
   "metadata": {},
   "outputs": [
    {
     "name": "stdout",
     "output_type": "stream",
     "text": [
      "[3, 4, 5, 6, 7]\n"
     ]
    }
   ],
   "source": [
    "lst = [1, 2, 1, 1, 3, 4, 2, 5, 6, 7]\n",
    "unique_elements = [x for x in lst if lst.count(x) == 1]\n",
    "print(unique_elements)\n"
   ]
  },
  {
   "cell_type": "code",
   "execution_count": 84,
   "id": "58344be1",
   "metadata": {},
   "outputs": [
    {
     "data": {
      "text/plain": [
       "[3, 4, 5, 6, 7]"
      ]
     },
     "execution_count": 84,
     "metadata": {},
     "output_type": "execute_result"
    }
   ],
   "source": [
    "lst = [1,2,1,1,3,4,2,5,6,7]\n",
    "ldict = {}\n",
    "unique_elements = []\n",
    "for i in lst :\n",
    "    ldict[i] = lst.count(i)\n",
    "for k ,v in ldict . items():\n",
    "    if v == 1 :\n",
    "        unique_elements.append(k)\n",
    "unique_elements    "
   ]
  },
  {
   "cell_type": "markdown",
   "id": "67696003",
   "metadata": {},
   "source": [
    "24. Create a program that generates a list of all palindromic numbers up to a specified limit using a list\n",
    "comprehension."
   ]
  },
  {
   "cell_type": "code",
   "execution_count": 101,
   "id": "45657474",
   "metadata": {},
   "outputs": [
    {
     "data": {
      "text/plain": [
       "[101, 111, 121, 131, 141, 151, 161, 171, 181, 191]"
      ]
     },
     "execution_count": 101,
     "metadata": {},
     "output_type": "execute_result"
    }
   ],
   "source": [
    "\n",
    "def palindromic_list (limit) : \n",
    "    import random\n",
    "    r = random.randint(100,900)\n",
    "    pal_list = [] \n",
    "    count = limit\n",
    "    for i in range(100 ,r ) : \n",
    "        if str(i) == str(i)[::-1]:\n",
    "            pal_list.append(i)\n",
    "            count-=1\n",
    "        if count == 0:\n",
    "            break\n",
    "    return pal_list\n",
    "palindromic_list(10)"
   ]
  },
  {
   "cell_type": "markdown",
   "id": "6703b3a9",
   "metadata": {},
   "source": [
    "25. Write a program to flatten a nested list using list comprehension."
   ]
  },
  {
   "cell_type": "code",
   "execution_count": 113,
   "id": "8420a9f7",
   "metadata": {},
   "outputs": [
    {
     "name": "stdout",
     "output_type": "stream",
     "text": [
      "[1, 2, 3, 4, 5, 6, 7, 8]\n"
     ]
    }
   ],
   "source": [
    "nested_list = [[1, 2, 3], [4, 5], [6, 7, 8]]\n",
    "flattened_list = [element for sublist in nested_list for element in sublist]\n",
    "print(flattened_list)\n"
   ]
  },
  {
   "cell_type": "code",
   "execution_count": 117,
   "id": "0fadffac",
   "metadata": {},
   "outputs": [
    {
     "name": "stdout",
     "output_type": "stream",
     "text": [
      "[1, 2, 3, 4, 5, 6, 7, 8, 1, 2, 3]\n"
     ]
    }
   ],
   "source": [
    "nested_list = [[1, 2, 3], [4, 5], [6, 7, 8], 1, 2, 3]\n",
    "\n",
    "flattened_list = []\n",
    "for element in nested_list:\n",
    "    if isinstance(element, list):\n",
    "        flattened_list.extend(element)\n",
    "    else:\n",
    "        flattened_list.append(element)\n",
    "\n",
    "print(flattened_list)"
   ]
  },
  {
   "cell_type": "markdown",
   "id": "32e897b8",
   "metadata": {},
   "source": [
    "26. Develop a program that computes the sum of even and odd numbers in a list separately using list\n",
    "comprehension."
   ]
  },
  {
   "cell_type": "code",
   "execution_count": 124,
   "id": "dcac8e2c",
   "metadata": {},
   "outputs": [
    {
     "name": "stdout",
     "output_type": "stream",
     "text": [
      "sum even :30 , sum odd : 25\n"
     ]
    }
   ],
   "source": [
    "l = [1, 2, 3, 4, 5, 6, 7, 8, 9, 10]\n",
    "sum_even = 0 \n",
    "sum_odd = 0\n",
    "for i in l :\n",
    "    if i%2 ==0:\n",
    "        sum_even+=i\n",
    "    else :\n",
    "        sum_odd+=i\n",
    "\n",
    "print(f\"sum even :{sum_even} , sum odd : {sum_odd}\")"
   ]
  },
  {
   "cell_type": "markdown",
   "id": "91c1153e",
   "metadata": {},
   "source": [
    "27. Create a program that generates a list of squares of odd numbers between 1 and 10 using list\n",
    "comprehension."
   ]
  },
  {
   "cell_type": "code",
   "execution_count": 128,
   "id": "447075c3",
   "metadata": {},
   "outputs": [
    {
     "data": {
      "text/plain": [
       "[1, 9, 25, 49, 81]"
      ]
     },
     "execution_count": 128,
     "metadata": {},
     "output_type": "execute_result"
    }
   ],
   "source": [
    "l = [1, 2, 3, 4, 5, 6, 7, 8, 9, 10]\n",
    "l_odd_square = list(i**2 for i in l if i%2!=0)\n",
    "l_odd_square\n"
   ]
  },
  {
   "cell_type": "markdown",
   "id": "92dd5dc0",
   "metadata": {},
   "source": [
    "28. Write a program that combines two lists into a dictionary using list comprehension."
   ]
  },
  {
   "cell_type": "code",
   "execution_count": 129,
   "id": "1b77ffca",
   "metadata": {},
   "outputs": [
    {
     "data": {
      "text/plain": [
       "{'A': 1, 'B': 2, 'C': 3}"
      ]
     },
     "execution_count": 129,
     "metadata": {},
     "output_type": "execute_result"
    }
   ],
   "source": [
    "# use function zip(key,value)\n",
    "l1 = [\"A\", \"B\", \"C\"]\n",
    "l2 = [1, 2, 3]\n",
    "combined_dict = {k:v for k , v in zip(l1,l2)}\n",
    "combined_dict"
   ]
  },
  {
   "cell_type": "markdown",
   "id": "135986a0",
   "metadata": {},
   "source": [
    "29. Develop a program that extracts the vowels from a string and stores them in a list using list comprehension."
   ]
  },
  {
   "cell_type": "code",
   "execution_count": 131,
   "id": "85938831",
   "metadata": {},
   "outputs": [
    {
     "name": "stdout",
     "output_type": "stream",
     "text": [
      "['e', 'o', 'i', 'o', 'u', 'u', 'e']\n"
     ]
    }
   ],
   "source": [
    "word = \"Hello i'm from future\"\n",
    "vowels = \"aeiouAEIOU\"\n",
    "\n",
    "vowel_list = [char for char in word if char in vowels]\n",
    "\n",
    "print(vowel_list)"
   ]
  },
  {
   "cell_type": "markdown",
   "id": "7d6c69bf",
   "metadata": {},
   "source": [
    "30. Create a program that removes all non-numeric characters from a list of strings using list comprehension."
   ]
  },
  {
   "cell_type": "code",
   "execution_count": 149,
   "id": "1a830141",
   "metadata": {},
   "outputs": [
    {
     "name": "stdout",
     "output_type": "stream",
     "text": [
      "['123', '456', '789']\n"
     ]
    }
   ],
   "source": [
    "original_list = [\"abc123\", \"456def\", \"789ghi\"]\n",
    "only_digit = [\"\".join(char for char in string if char.isdigit()) for string in original_list]\n",
    "print(only_digit)"
   ]
  },
  {
   "cell_type": "code",
   "execution_count": 151,
   "id": "27f6639e",
   "metadata": {},
   "outputs": [
    {
     "data": {
      "text/plain": [
       "['123', '456', '789']"
      ]
     },
     "execution_count": 151,
     "metadata": {},
     "output_type": "execute_result"
    }
   ],
   "source": [
    "original_list = [\"abc123\", \"456def\", \"789ghi\"]\n",
    "only_digit = []\n",
    "\n",
    "for string in original_list : \n",
    "    digit = \"\"\n",
    "    for s in string :\n",
    "        if s.isdigit():\n",
    "            digit+=s\n",
    "    only_digit.append(digit)\n",
    "only_digit"
   ]
  },
  {
   "cell_type": "markdown",
   "id": "2a2c5853",
   "metadata": {},
   "source": [
    "31. Write a program to generate a list of prime numbers using the Sieve of Eratosthenes algorithm and list\n",
    "comprehension."
   ]
  },
  {
   "cell_type": "code",
   "execution_count": 152,
   "id": "2a758c4b",
   "metadata": {},
   "outputs": [
    {
     "name": "stdout",
     "output_type": "stream",
     "text": [
      "Prime numbers up to 20 : [2, 3, 5, 7, 11, 13, 17, 19]\n"
     ]
    }
   ],
   "source": [
    "def sieve_of_eratosthenes(n):\n",
    "    primes = []\n",
    "    sieve = [True] * (n + 1)\n",
    "    for p in range(2, n + 1):\n",
    "        if sieve[p]:\n",
    "            primes.append(p)\n",
    "            for i in range(p * p, n + 1, p):\n",
    "                sieve[i] = False\n",
    "    return primes\n",
    "\n",
    "# Example usage:\n",
    "n = 20\n",
    "print(\"Prime numbers up to\", n, \":\", sieve_of_eratosthenes(n))\n"
   ]
  },
  {
   "cell_type": "markdown",
   "id": "7ad7e427",
   "metadata": {},
   "source": [
    "32. Create a program that generates a list of all Pythagorean triplets up to a specified limit using list\n",
    "comprehension."
   ]
  },
  {
   "cell_type": "markdown",
   "id": "9a388381",
   "metadata": {},
   "source": [
    " \n",
    "a \n",
    "2\n",
    " +b \n",
    "2\n",
    " =c \n",
    "2\n",
    " "
   ]
  },
  {
   "cell_type": "code",
   "execution_count": 153,
   "id": "df45b6f3",
   "metadata": {},
   "outputs": [
    {
     "name": "stdout",
     "output_type": "stream",
     "text": [
      "[(3, 4, 5), (6, 8, 10), (5, 12, 13), (9, 12, 15), (8, 15, 17), (12, 16, 20)]\n"
     ]
    }
   ],
   "source": [
    "def generate_pythagorean_triplets(limit):\n",
    "    triplets = []\n",
    "    for c in range(1, limit + 1):\n",
    "        for b in range(1, c):\n",
    "            for a in range(1, b):\n",
    "                if a**2 + b**2 == c**2:\n",
    "                    triplets.append((a, b, c))\n",
    "    return triplets\n",
    "\n",
    "limit = 20\n",
    "pythagorean_triplets = generate_pythagorean_triplets(limit)\n",
    "print(pythagorean_triplets)"
   ]
  },
  {
   "cell_type": "markdown",
   "id": "a2f8220e",
   "metadata": {},
   "source": [
    "33. Develop a program that generates a list of all possible combinations of two lists using list comprehension."
   ]
  },
  {
   "cell_type": "code",
   "execution_count": 154,
   "id": "5c40d894",
   "metadata": {},
   "outputs": [
    {
     "name": "stdout",
     "output_type": "stream",
     "text": [
      "[(1, 'a'), (1, 'b'), (1, 'c'), (2, 'a'), (2, 'b'), (2, 'c'), (3, 'a'), (3, 'b'), (3, 'c')]\n"
     ]
    }
   ],
   "source": [
    "list1 = [1, 2, 3]\n",
    "list2 = ['a', 'b', 'c']\n",
    "\n",
    "combinations = [(x, y) for x in list1 for y in list2]\n",
    "print(combinations)"
   ]
  },
  {
   "cell_type": "markdown",
   "id": "145818ae",
   "metadata": {},
   "source": [
    "34. Write a program that calculates the mean, median, and mode of a list of numbers using list\n",
    "comprehension."
   ]
  },
  {
   "cell_type": "code",
   "execution_count": 156,
   "id": "6d88c2a3",
   "metadata": {},
   "outputs": [
    {
     "name": "stdout",
     "output_type": "stream",
     "text": [
      "Mean: 5.0\n",
      "Median: 5.0\n",
      "Mode: [5]\n"
     ]
    }
   ],
   "source": [
    "from collections import Counter # to create a dictionary \n",
    "\n",
    "def mean(lst):\n",
    "    return sum(lst) / len(lst)\n",
    "\n",
    "def median(lst):\n",
    "    sorted_lst = sorted(lst)\n",
    "    n = len(sorted_lst)\n",
    "    mid = n // 2\n",
    "    if n % 2 == 0:\n",
    "        return (sorted_lst[mid - 1] + sorted_lst[mid]) / 2\n",
    "    else:\n",
    "        return sorted_lst[mid]\n",
    "\n",
    "def mode(lst):\n",
    "    freq = Counter(lst)\n",
    "    max_freq = max(freq.values())\n",
    "    mode_values = [num for num, f in freq.items() if f == max_freq]\n",
    "    return mode_values\n",
    "\n",
    "# Example list of numbers\n",
    "numbers = [1, 2, 3, 4, 5, 5, 6, 7, 8, 9]\n",
    "\n",
    "# Calculate mean, median, and mode\n",
    "mean_value = mean(numbers)\n",
    "median_value = median(numbers)\n",
    "mode_values = mode(numbers)\n",
    "\n",
    "print(\"Mean:\", mean_value)\n",
    "print(\"Median:\", median_value)\n",
    "print(\"Mode:\", mode_values)\n"
   ]
  },
  {
   "cell_type": "code",
   "execution_count": 169,
   "id": "ddc1fa57",
   "metadata": {},
   "outputs": [
    {
     "data": {
      "text/plain": [
       "[5]"
      ]
     },
     "execution_count": 169,
     "metadata": {},
     "output_type": "execute_result"
    }
   ],
   "source": [
    "l =[1, 2, 3, 4, 5, 5, 6, 7, 8, 9]\n",
    "ldict = {}\n",
    "for i in l :\n",
    "    ldict[i] = l.count(i)\n",
    "max_value = max(ldict.values())\n",
    "mode_values = [k for k , v in ldict.items() if v == max_value]\n",
    "mode_values"
   ]
  },
  {
   "cell_type": "markdown",
   "id": "0f51ee1d",
   "metadata": {},
   "source": [
    "35. Create a program that generates Pascal's triangle up to a specified number of rows using list\n",
    "comprehension."
   ]
  },
  {
   "cell_type": "code",
   "execution_count": 203,
   "id": "24217f73",
   "metadata": {},
   "outputs": [
    {
     "name": "stdout",
     "output_type": "stream",
     "text": [
      "Enter the number of rows for Pascal's triangle: 5\n",
      "Pascal's Triangle:\n",
      "                                       1                                        \n",
      "                                      1 1                                       \n",
      "                                     1 2 1                                      \n",
      "                                    1 3 3 1                                     \n",
      "                                   1 4 6 4 1                                    \n"
     ]
    }
   ],
   "source": [
    "def generate_pascals_triangle(num_rows):\n",
    "    triangle = []\n",
    "    for row in range(num_rows):\n",
    "        current_row = []\n",
    "        for col in range(row + 1):\n",
    "            if col == 0 or col == row:\n",
    "                current_row.append(1)\n",
    "            else:\n",
    "                previous_row = triangle[row - 1]\n",
    "                current_value = previous_row[col - 1] + previous_row[col]\n",
    "                current_row.append(current_value)\n",
    "        triangle.append(current_row)\n",
    "    return triangle\n",
    "\n",
    "def print_pascals_triangle(triangle):\n",
    "    for row in triangle:\n",
    "        print(\" \".join(map(str, row)).center(80))\n",
    "\n",
    "num_rows = int(input(\"Enter the number of rows for Pascal's triangle: \"))\n",
    "pascals_triangle = generate_pascals_triangle(num_rows)\n",
    "print(\"Pascal's Triangle:\")\n",
    "print_pascals_triangle(pascals_triangle)\n"
   ]
  },
  {
   "cell_type": "code",
   "execution_count": 205,
   "id": "68140e3b",
   "metadata": {},
   "outputs": [
    {
     "name": "stdout",
     "output_type": "stream",
     "text": [
      "enter the numbers of rows : 5\n",
      "        1   \n",
      "      1   1   \n",
      "    1   2   1   \n",
      "  1   3   3   1   \n",
      "1   4   6   4   1   \n"
     ]
    }
   ],
   "source": [
    "n = int(input(\"enter the numbers of rows : \"))\n",
    "list1 = []\n",
    "for i in range(n):\n",
    "    temporary_list = []\n",
    "    for j in range(i+1):\n",
    "        if j == 0 or j == i :\n",
    "            temporary_list.append(1)\n",
    "        else : \n",
    "            temporary_list.append(list1[i-1][j-1] + list1[i-1][j])\n",
    "    list1.append(temporary_list)\n",
    "\n",
    "#######################################################################\n",
    "\n",
    "for i in range (n) :\n",
    "    for j in range(n-i-1):\n",
    "        print(format(\" \",\"<2\"),end=\"\")\n",
    "    for j in range(i+1):\n",
    "        print(format(list1[i][j],\"<3\"),end=\" \")\n",
    "    print()\n",
    "    "
   ]
  },
  {
   "cell_type": "markdown",
   "id": "041e12ca",
   "metadata": {},
   "source": [
    "36. Develop a program that calculates the sum of the digits of a factorial of numbers from 1 to 5 using list\n",
    "comprehension."
   ]
  },
  {
   "cell_type": "code",
   "execution_count": 223,
   "id": "8794c628",
   "metadata": {},
   "outputs": [
    {
     "data": {
      "text/plain": [
       "6"
      ]
     },
     "execution_count": 223,
     "metadata": {},
     "output_type": "execute_result"
    }
   ],
   "source": [
    "# Function to calculate factorial\n",
    "def factorial(n):\n",
    "    if n == 0:\n",
    "        return 1\n",
    "    else:\n",
    "        return n * factorial(n - 1)\n",
    "\n",
    "# Calculate factorials for numbers from 1 to 5\n",
    "factorials = [factorial(i) for i in range(1, 6)]\n",
    "\n",
    "# Function to calculate sum of digits\n",
    "def sum_of_digits(num):\n",
    "    return sum(int(digit) for digit in str(num))\n",
    "\n",
    "# Calculate sum of digits for each factorial\n",
    "sums_of_digits = [sum_of_digits(factorial) for factorial in factorials]\n",
    "\n",
    "# Sum the results\n",
    "total_sum = sum(sums_of_digits)\n",
    "\n",
    "print(\"Sum of digits of factorials from 1 to 5:\", total_sum)\n"
   ]
  },
  {
   "cell_type": "code",
   "execution_count": 3,
   "id": "03836a4b",
   "metadata": {},
   "outputs": [
    {
     "name": "stdout",
     "output_type": "stream",
     "text": [
      "120\n"
     ]
    }
   ],
   "source": [
    "def factorial(n):\n",
    "    result = 1\n",
    "    for i in range(1, n + 1):\n",
    "        result *= i\n",
    "    return result\n",
    "\n",
    "# Test the function\n",
    "print(factorial(5))  "
   ]
  },
  {
   "cell_type": "markdown",
   "id": "c1be9c04",
   "metadata": {},
   "source": [
    "37. Write a program that finds the longest word in a sentence using list comprehension."
   ]
  },
  {
   "cell_type": "code",
   "execution_count": 1,
   "id": "d2c94f3c",
   "metadata": {},
   "outputs": [
    {
     "name": "stdout",
     "output_type": "stream",
     "text": [
      "The longest word is: sentence\n"
     ]
    }
   ],
   "source": [
    "sentence = \"This is a sample sentence to find the longest word\"\n",
    "words = sentence.split()  # Split the sentence into words\n",
    "\n",
    "# Find the longest word using list comprehension\n",
    "longest_word = max(words, key=len)\n",
    "\n",
    "print(\"The longest word is:\", longest_word)\n"
   ]
  },
  {
   "cell_type": "markdown",
   "id": "e0936604",
   "metadata": {},
   "source": [
    "38. Create a program that filters a list of strings to include only those with more than three vowels using list\n",
    "comprehension."
   ]
  },
  {
   "cell_type": "code",
   "execution_count": 4,
   "id": "cd83b32d",
   "metadata": {},
   "outputs": [
    {
     "name": "stdout",
     "output_type": "stream",
     "text": [
      "Filtered words with more than three vowels: ['education', 'openAI']\n"
     ]
    }
   ],
   "source": [
    "# Define a function to count vowels in a string\n",
    "def count_vowels(word):\n",
    "    vowels = \"aeiouAEIOU\"\n",
    "    return sum(1 for char in word if char in vowels)\n",
    "\n",
    "# List of strings\n",
    "words = [\"hello\", \"world\", \"python\", \"education\", \"apple\", \"banana\", \"openAI\"]\n",
    "\n",
    "# Filter strings with more than three vowels using list comprehension\n",
    "filtered_words = [word for word in words if count_vowels(word) > 3]\n",
    "\n",
    "print(\"Filtered words with more than three vowels:\", filtered_words)\n"
   ]
  },
  {
   "cell_type": "markdown",
   "id": "3808e678",
   "metadata": {},
   "source": [
    "39. Develop a program that calculates the sum of the digits of numbers from 1 to 1000 using list\n",
    "comprehension."
   ]
  },
  {
   "cell_type": "code",
   "execution_count": 5,
   "id": "965a7457",
   "metadata": {},
   "outputs": [
    {
     "name": "stdout",
     "output_type": "stream",
     "text": [
      "The sum of digits from 1 to 1000 is: 13501\n"
     ]
    }
   ],
   "source": [
    "# Define a function to calculate the sum of digits in a number\n",
    "def sum_of_digits(number):\n",
    "    return sum(int(digit) for digit in str(number))\n",
    "\n",
    "# Generate the list of numbers from 1 to 1000\n",
    "numbers = range(1, 1001)\n",
    "\n",
    "# Calculate the sum of digits for each number and sum them up using list comprehension\n",
    "total_sum = sum(sum_of_digits(number) for number in numbers)\n",
    "\n",
    "print(\"The sum of digits from 1 to 1000 is:\", total_sum)\n"
   ]
  },
  {
   "cell_type": "markdown",
   "id": "03f50ec1",
   "metadata": {},
   "source": [
    "40. Write a program that generates a list of prime palindromic numbers using list comprehension."
   ]
  },
  {
   "cell_type": "code",
   "execution_count": 6,
   "id": "b2dd80f9",
   "metadata": {},
   "outputs": [
    {
     "name": "stdout",
     "output_type": "stream",
     "text": [
      "Prime palindromic numbers: [2, 3, 5, 7, 11, 101, 131, 151, 181, 191, 313, 353, 373, 383, 727, 757, 787, 797, 919, 929]\n"
     ]
    }
   ],
   "source": [
    "def is_prime(n):\n",
    "    if n <= 1:\n",
    "        return False\n",
    "    for i in range(2, int(n**0.5) + 1):\n",
    "        if n % i == 0:\n",
    "            return False\n",
    "    return True\n",
    "\n",
    "def is_palindrome(n):\n",
    "    return str(n) == str(n)[::-1]\n",
    "\n",
    "# Generate a list of prime palindromic numbers using list comprehension\n",
    "prime_palindromes = [num for num in range(1, 1000) if is_prime(num) and is_palindrome(num)]\n",
    "\n",
    "print(\"Prime palindromic numbers:\", prime_palindromes)\n"
   ]
  },
  {
   "cell_type": "code",
   "execution_count": null,
   "id": "b9535c46",
   "metadata": {},
   "outputs": [],
   "source": []
  }
 ],
 "metadata": {
  "kernelspec": {
   "display_name": "Python 3 (ipykernel)",
   "language": "python",
   "name": "python3"
  },
  "language_info": {
   "codemirror_mode": {
    "name": "ipython",
    "version": 3
   },
   "file_extension": ".py",
   "mimetype": "text/x-python",
   "name": "python",
   "nbconvert_exporter": "python",
   "pygments_lexer": "ipython3",
   "version": "3.9.12"
  }
 },
 "nbformat": 4,
 "nbformat_minor": 5
}
