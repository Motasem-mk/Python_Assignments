{
 "cells": [
  {
   "cell_type": "markdown",
   "id": "27237b8c",
   "metadata": {},
   "source": [
    "# OOP Asseignment"
   ]
  },
  {
   "cell_type": "markdown",
   "id": "d5a098f7",
   "metadata": {},
   "source": [
    "1- Problem 1: Bank Account Create a class representing a bank account with attributes like account number, account holder name, and balance. Implement methods to deposit and withdraw money from the account."
   ]
  },
  {
   "cell_type": "code",
   "execution_count": 33,
   "id": "b24ab291",
   "metadata": {},
   "outputs": [
    {
     "name": "stdout",
     "output_type": "stream",
     "text": [
      "Hello Motasem, your bank account number is: 12345\n",
      "Your balance is: 2500\n",
      "Hello Motasem, welcome to the main menu.\n",
      "W: to withdraw\n",
      "D: to deposit\n",
      "Enter your choice: d\n",
      "Enter the amount you would like to deposit: 345\n"
     ]
    }
   ],
   "source": [
    "class Bank:\n",
    "    def __init__(self, account_no, holder_name, balance):\n",
    "        self.acc_no = account_no\n",
    "        self.name = holder_name\n",
    "        self.balance = balance\n",
    "        \n",
    "    def show_details(self):\n",
    "        print(f\"Hello {self.name}, your bank account number is: {self.acc_no}\")\n",
    "        print(f\"Your balance is: {self.balance}\")\n",
    "    \n",
    "    def deposit(self):\n",
    "        depo_amount = int(input(\"Enter the amount you would like to deposit: \"))\n",
    "        self.balance += depo_amount\n",
    "    \n",
    "    def withdraw(self):\n",
    "        withdraw = int(input(\"Enter the amount you would like to withdraw: \"))\n",
    "        if withdraw > self.balance:\n",
    "            print(\"Insufficient balance.\")\n",
    "        else:\n",
    "            self.balance -= withdraw\n",
    "            print(f\"Your new balance is: {self.balance}\")\n",
    "    \n",
    "    def main(self):\n",
    "        print(f\"Hello {self.name}, welcome to the main menu.\")\n",
    "        print(\"W: to withdraw\\nD: to deposit\")\n",
    "        choice = input(\"Enter your choice: \").lower().strip()\n",
    "        if choice == \"w\":\n",
    "            self.withdraw()\n",
    "        elif choice == \"d\":\n",
    "            self.deposit()\n",
    "        else:\n",
    "            print(\"Invalid choice.\")\n",
    "\n",
    "motasem = Bank(12345, \"Motasem\", 2500)\n",
    "motasem.show_details()\n",
    "motasem.main()\n"
   ]
  },
  {
   "cell_type": "code",
   "execution_count": 34,
   "id": "d835dec7",
   "metadata": {},
   "outputs": [
    {
     "name": "stdout",
     "output_type": "stream",
     "text": [
      "Hello Motasem, your bank account number is: 12345\n",
      "Your balance is: 2845\n"
     ]
    }
   ],
   "source": [
    "motasem.show_details()"
   ]
  },
  {
   "cell_type": "markdown",
   "id": "79f4c3f3",
   "metadata": {},
   "source": [
    "Problem 2: Employee Management Create a class representing an employee with attributes like employee ID, name, and salary. Implement methods to calculate the yearly bonus and display employee details."
   ]
  },
  {
   "cell_type": "code",
   "execution_count": 39,
   "id": "6362460a",
   "metadata": {},
   "outputs": [
    {
     "name": "stdout",
     "output_type": "stream",
     "text": [
      "hello Naima your id : 103\n",
      "and your salary is 2450\n",
      "your yearly  bonus  is 245.0\n"
     ]
    }
   ],
   "source": [
    "class employees:\n",
    "    def __init__(self, name, employee_id, salary):\n",
    "        self.name = name \n",
    "        self.employee_id = employee_id\n",
    "        self.salary= salary\n",
    "    \n",
    "    def show_details (self):\n",
    "        print(f\"hello {self.name} your id : {self.employee_id}\\nand your salary is {self.salary}\")\n",
    "    \n",
    "    def bonus (self):\n",
    "        if self.salary >= 200 :\n",
    "            print(f\"your yearly  bonus  is {self.salary*0.1}\")\n",
    "naima = employees(\"Naima\", 103 , 2450)\n",
    "naima.show_details()\n",
    "naima.bonus()"
   ]
  },
  {
   "cell_type": "markdown",
   "id": "52ebb7b1",
   "metadata": {},
   "source": [
    "Problem 3: Vehicle Rental Create a class representing a vehicle rental system. Implement methods to rent a vehicle, return a vehicle, and display available vehicles."
   ]
  },
  {
   "cell_type": "code",
   "execution_count": 46,
   "id": "45706d7a",
   "metadata": {},
   "outputs": [
    {
     "name": "stdout",
     "output_type": "stream",
     "text": [
      "Available cars: toyota, nissan, ford, bmw\n",
      "Which car would you like to rent? bmw\n",
      "Great choice! This will cost you $100 a day.\n"
     ]
    }
   ],
   "source": [
    "class RentCars:\n",
    "    def __init__(self, *cars):\n",
    "        self.available_cars = cars\n",
    "\n",
    "    def rent(self):\n",
    "        print(\"Available cars:\", \", \".join(self.available_cars))\n",
    "        choice = input(\"Which car would you like to rent? \").lower().strip()\n",
    "        if choice in self.available_cars:\n",
    "            if choice == \"bmw\":\n",
    "                print(\"Great choice! This will cost you $100 a day.\")\n",
    "            elif choice == \"toyota\":\n",
    "                print(\"Great choice! This will cost you $90 a day.\")\n",
    "            elif choice == \"ford\":\n",
    "                print(\"Great choice! This will cost you $70 a day.\")\n",
    "            elif choice == \"nissan\":\n",
    "                print(\"Great choice! This will cost you $50 a day.\")\n",
    "        else:\n",
    "            print(\"Invalid choice. Please select from the available cars.\")\n",
    "\n",
    "    def return_car(self):\n",
    "        print(\"You can return the car any time you like.\")\n",
    "\n",
    "rental_system = RentCars(\"toyota\", \"nissan\", \"ford\", \"bmw\")\n",
    "rental_system.rent()\n"
   ]
  },
  {
   "cell_type": "markdown",
   "id": "0201b3c7",
   "metadata": {},
   "source": [
    "Problem 4: Library Catalog Create classes representing a library and a book. Implement methods to add books to the library, borrow books, and display available books."
   ]
  },
  {
   "cell_type": "code",
   "execution_count": 57,
   "id": "94821f95",
   "metadata": {},
   "outputs": [
    {
     "name": "stdout",
     "output_type": "stream",
     "text": [
      "thank you ,add the name of the book : KAFKA\n"
     ]
    },
    {
     "data": {
      "text/plain": [
       "['python basics',\n",
       " 'hive from zero to advance',\n",
       " 'hadoop hdfs',\n",
       " 'sql from beginner to advance',\n",
       " 'KAFKA']"
      ]
     },
     "execution_count": 57,
     "metadata": {},
     "output_type": "execute_result"
    }
   ],
   "source": [
    "class Library:\n",
    "    def __init__(self, *books):\n",
    "        self.available_books = list(books)\n",
    "\n",
    "    def borrow(self):\n",
    "        take = input(f\"Hello, which book would you like to borrow?\\nAvailable books: {self.available_books}\\n\")\n",
    "        if take in self.available_books:\n",
    "            print(\"Great choice!\")\n",
    "            self.available_books.remove(take)\n",
    "        else:\n",
    "            print(\"Sorry, that book is not available.\")\n",
    "    \n",
    "    def add(self):\n",
    "        add = input(\"thank you ,add the name of the book : \")\n",
    "        self.available_books.append(add)\n",
    "\n",
    "# Example usage:\n",
    "book_store = Library('python basics', 'hive from zero to advance', 'hadoop hdfs', 'sql from beginner to advance')\n",
    "book_store.add()\n",
    "book_store.available_books\n"
   ]
  },
  {
   "cell_type": "markdown",
   "id": "105c5459",
   "metadata": {},
   "source": [
    "Problem 5: Product Inventory Create classes representing a product and an inventory system. Implement methods to add products to the inventory, update product quantity, and display available products."
   ]
  },
  {
   "cell_type": "code",
   "execution_count": 72,
   "id": "333b2449",
   "metadata": {},
   "outputs": [
    {
     "name": "stdout",
     "output_type": "stream",
     "text": [
      "enter the name of the product you would like to add : speakers\n",
      "enter the quantity234\n",
      "tv : quantity : 120\n",
      "laptop : quantity : 230\n",
      "iphone : quantity : 434\n",
      "samsung : quantity : 780\n",
      "Speakers : quantity : 234\n"
     ]
    }
   ],
   "source": [
    "class Inventory:\n",
    "    def __init__(self, **products):\n",
    "        self.inventory = products\n",
    "        \n",
    "    def add_product(self):\n",
    "        product_name = input(\"enter the name of the product you would like to add : \").strip().capitalize()\n",
    "        product_quantity = int(input(\"enter the quantity\"))\n",
    "        self.inventory[product_name] = product_quantity\n",
    "        \n",
    "    def display_product(self):\n",
    "         for k,v in self.inventory.items ():\n",
    "                print(f\"{k} : quantity : {v}\")\n",
    "\n",
    "products = {\n",
    "    \"tv\": 120,\n",
    "    \"laptop\": 230,\n",
    "    \"iphone\": 434,\n",
    "    \"samsung\": 780\n",
    "}\n",
    "\n",
    "a = Inventory(**products)\n",
    "a.add_product()\n",
    "a.display_product()\n"
   ]
  },
  {
   "cell_type": "markdown",
   "id": "bb5501c2",
   "metadata": {},
   "source": [
    "Problem 6: Shape Calculation Create a class representing a shape with attributes like length, width, and height. Implement methods to calculate the area and perimeter of the shape."
   ]
  },
  {
   "cell_type": "code",
   "execution_count": 73,
   "id": "38a9b607",
   "metadata": {},
   "outputs": [
    {
     "name": "stdout",
     "output_type": "stream",
     "text": [
      "Rectangle Area: 15\n",
      "Rectangle Perimeter: 16\n",
      "Square Area: 16\n",
      "Square Perimeter: 16\n",
      "Triangle Area: 6.0\n",
      "Triangle Perimeter: 12\n"
     ]
    }
   ],
   "source": [
    "import math\n",
    "\n",
    "class Shape:\n",
    "    def __init__(self, length=0, width=0, height=0):\n",
    "        self.length = length\n",
    "        self.width = width\n",
    "        self.height = height\n",
    "\n",
    "    def calculate_area(self):\n",
    "        raise NotImplementedError(\"Subclasses must implement calculate_area method\")\n",
    "\n",
    "    def calculate_perimeter(self):\n",
    "        raise NotImplementedError(\"Subclasses must implement calculate_perimeter method\")\n",
    "\n",
    "class Rectangle(Shape):\n",
    "    def calculate_area(self):\n",
    "        return self.length * self.width\n",
    "\n",
    "    def calculate_perimeter(self):\n",
    "        return 2 * (self.length + self.width)\n",
    "\n",
    "class Square(Shape):\n",
    "    def __init__(self, side_length):\n",
    "        super().__init__(length=side_length, width=side_length)\n",
    "\n",
    "    def calculate_area(self):\n",
    "        return self.length ** 2\n",
    "\n",
    "    def calculate_perimeter(self):\n",
    "        return 4 * self.length\n",
    "\n",
    "class Triangle(Shape):\n",
    "    def calculate_area(self):\n",
    "        # Using Heron's formula\n",
    "        s = (self.length + self.width + self.height) / 2\n",
    "        return math.sqrt(s * (s - self.length) * (s - self.width) * (s - self.height))\n",
    "\n",
    "    def calculate_perimeter(self):\n",
    "        return self.length + self.width + self.height\n",
    "\n",
    "\n",
    "rectangle = Rectangle(length=5, width=3)\n",
    "print(\"Rectangle Area:\", rectangle.calculate_area())\n",
    "print(\"Rectangle Perimeter:\", rectangle.calculate_perimeter())\n",
    "\n",
    "square = Square(side_length=4)\n",
    "print(\"Square Area:\", square.calculate_area())\n",
    "print(\"Square Perimeter:\", square.calculate_perimeter())\n",
    "\n",
    "triangle = Triangle(length=3, width=4, height=5)\n",
    "print(\"Triangle Area:\", triangle.calculate_area())\n",
    "print(\"Triangle Perimeter:\", triangle.calculate_perimeter())\n"
   ]
  },
  {
   "cell_type": "markdown",
   "id": "ab16fe1a",
   "metadata": {},
   "source": [
    "Problem 7: Student Management Create a class representing a student with attributes like student ID, name, and grades. Implement methods to calculate the average grade and display student details."
   ]
  },
  {
   "cell_type": "code",
   "execution_count": 74,
   "id": "024acc26",
   "metadata": {},
   "outputs": [
    {
     "name": "stdout",
     "output_type": "stream",
     "text": [
      "Student ID: 1\n",
      "Name: Alice\n",
      "Grades: [90, 85, 88, 92]\n",
      "Average Grade: 88.75\n",
      "Student ID: 2\n",
      "Name: Bob\n",
      "Grades: [78, 80]\n",
      "Average Grade: 79.0\n"
     ]
    }
   ],
   "source": [
    "class Student:\n",
    "    def __init__(self, student_id, name, grades=[]):\n",
    "        self.student_id = student_id\n",
    "        self.name = name\n",
    "        self.grades = grades\n",
    "\n",
    "    def add_grade(self, grade):\n",
    "        self.grades.append(grade)\n",
    "\n",
    "    def calculate_average_grade(self):\n",
    "        if not self.grades:\n",
    "            return 0\n",
    "        return sum(self.grades) / len(self.grades)\n",
    "\n",
    "    def display_details(self):\n",
    "        print(f\"Student ID: {self.student_id}\")\n",
    "        print(f\"Name: {self.name}\")\n",
    "        print(f\"Grades: {self.grades}\")\n",
    "        print(f\"Average Grade: {self.calculate_average_grade()}\")\n",
    "\n",
    "student1 = Student(student_id=1, name=\"Alice\", grades=[90, 85, 88])\n",
    "student1.add_grade(92)\n",
    "student1.display_details()\n",
    "\n",
    "student2 = Student(student_id=2, name=\"Bob\")\n",
    "student2.add_grade(78)\n",
    "student2.add_grade(80)\n",
    "student2.display_details()\n"
   ]
  },
  {
   "cell_type": "code",
   "execution_count": null,
   "id": "d747986f",
   "metadata": {},
   "outputs": [],
   "source": []
  },
  {
   "cell_type": "markdown",
   "id": "58fcf19b",
   "metadata": {},
   "source": [
    "Problem 8: Email Management Create a class representing an email with attributes like sender, recipient, and subject. Implement methods to send an email and display email details."
   ]
  },
  {
   "cell_type": "code",
   "execution_count": 76,
   "id": "9d71b9f8",
   "metadata": {},
   "outputs": [
    {
     "name": "stdout",
     "output_type": "stream",
     "text": [
      "Sending email from sender@example.com to recipient@example.com...\n",
      "Email sent successfully!\n",
      "Email Details:\n",
      "Sender: sender@example.com\n",
      "Recipient: recipient@example.com\n",
      "Subject: Test Email\n",
      "Message:\n",
      "Hello, this is a test email.\n",
      "^^^^^^^^^^^^^^^^^^^^^^^^^^^^^^\n",
      "Sending email from john@example.com to jane@example.com...\n",
      "Email sent successfully!\n",
      "Email Details:\n",
      "Sender: john@example.com\n",
      "Recipient: jane@example.com\n",
      "Subject: Meeting Reminder\n",
      "Message:\n",
      "Hi Jane, just a reminder about our meeting tomorrow at 10 AM.\n"
     ]
    }
   ],
   "source": [
    "class Email:\n",
    "    def __init__(self, sender, recipient, subject, message):\n",
    "        self.sender = sender\n",
    "        self.recipient = recipient\n",
    "        self.subject = subject\n",
    "        self.message = message\n",
    "\n",
    "    def send_email(self):\n",
    "        print(f\"Sending email from {self.sender} to {self.recipient}...\")\n",
    "        print(\"Email sent successfully!\")\n",
    "\n",
    "    def display_details(self):\n",
    "        print(\"Email Details:\")\n",
    "        print(f\"Sender: {self.sender}\")\n",
    "        print(f\"Recipient: {self.recipient}\")\n",
    "        print(f\"Subject: {self.subject}\")\n",
    "        print(\"Message:\")\n",
    "        print(self.message)\n",
    "\n",
    "\n",
    "email1 = Email(sender=\"sender@example.com\", recipient=\"recipient@example.com\", subject=\"Test Email\", message=\"Hello, this is a test email.\")\n",
    "email1.send_email()\n",
    "email1.display_details()\n",
    "print(\"^\"*30)\n",
    "email2 = Email(sender=\"john@example.com\", recipient=\"jane@example.com\", subject=\"Meeting Reminder\", message=\"Hi Jane, just a reminder about our meeting tomorrow at 10 AM.\")\n",
    "email2.send_email()\n",
    "email2.display_details()\n"
   ]
  },
  {
   "cell_type": "markdown",
   "id": "77c693dc",
   "metadata": {},
   "source": [
    "Problem 9: Social Media Profile Create a class representing a social media profile with attributes like username and posts. Implement methods to add posts, display posts, and search for posts by keyword."
   ]
  },
  {
   "cell_type": "code",
   "execution_count": 77,
   "id": "3db5d926",
   "metadata": {},
   "outputs": [
    {
     "name": "stdout",
     "output_type": "stream",
     "text": [
      "Post added successfully!\n",
      "Post added successfully!\n",
      "Post added successfully!\n",
      "Posts by user123:\n",
      "Post 1: Just had a great day at the beach!\n",
      "Post 2: Trying out a new recipe for dinner tonight.\n",
      "Post 3: Finished reading a fantastic book.\n",
      "\n",
      "Searching for posts containing 'beach':\n",
      "Posts containing 'beach':\n",
      "Post 1: Just had a great day at the beach!\n",
      "\n",
      "Searching for posts containing 'movie':\n",
      "No posts found containing 'movie'.\n"
     ]
    }
   ],
   "source": [
    "class SocialMediaProfile:\n",
    "    def __init__(self, username):\n",
    "        self.username = username\n",
    "        self.posts = []\n",
    "\n",
    "    def add_post(self, post):\n",
    "        self.posts.append(post)\n",
    "        print(\"Post added successfully!\")\n",
    "\n",
    "    def display_posts(self):\n",
    "        print(f\"Posts by {self.username}:\")\n",
    "        for i, post in enumerate(self.posts, start=1):\n",
    "            print(f\"Post {i}: {post}\")\n",
    "\n",
    "    def search_posts(self, keyword):\n",
    "        found_posts = [post for post in self.posts if keyword.lower() in post.lower()]\n",
    "        if found_posts:\n",
    "            print(f\"Posts containing '{keyword}':\")\n",
    "            for i, post in enumerate(found_posts, start=1):\n",
    "                print(f\"Post {i}: {post}\")\n",
    "        else:\n",
    "            print(f\"No posts found containing '{keyword}'.\")\n",
    "\n",
    "\n",
    "profile = SocialMediaProfile(username=\"user123\")\n",
    "profile.add_post(\"Just had a great day at the beach!\")\n",
    "profile.add_post(\"Trying out a new recipe for dinner tonight.\")\n",
    "profile.add_post(\"Finished reading a fantastic book.\")\n",
    "profile.display_posts()\n",
    "\n",
    "print(\"\\nSearching for posts containing 'beach':\")\n",
    "profile.search_posts(\"beach\")\n",
    "\n",
    "print(\"\\nSearching for posts containing 'movie':\")\n",
    "profile.search_posts(\"movie\")\n"
   ]
  },
  {
   "cell_type": "code",
   "execution_count": 86,
   "id": "c67daf9b",
   "metadata": {},
   "outputs": [
    {
     "name": "stdout",
     "output_type": "stream",
     "text": [
      "add post: hi kifak\n",
      "add post: i'm okay and you ?\n",
      "add post: hi how are ?\n",
      "add post: hi i like that \n",
      "['hi kifak', \"i'm okay and you ?\", 'hi how are ?', 'hi i like that ']\n",
      "hi found in hi kifak\n",
      "hi found in hi how are ?\n",
      "hi found in hi i like that \n",
      "['hi kifak', \"i'm okay and you ?\", 'hi how are ?', 'hi i like that ']\n"
     ]
    }
   ],
   "source": [
    "class social ():\n",
    "    def __init__(self, user_name):\n",
    "        self.name = user_name\n",
    "        self.post = []\n",
    "    def add_post(self):\n",
    "        self.post.append(input(\"add post: \"))\n",
    "    def search_post(self,search):\n",
    "        for i in self.post :\n",
    "            if search in i :\n",
    "                print(f\"{search} found in {i}\")\n",
    "    def display_posts (self):\n",
    "        print(self.post)\n",
    "user1=social(\"motasem\")\n",
    "user1.add_post()\n",
    "user1.add_post()\n",
    "user1.add_post()\n",
    "user1.add_post()\n",
    "user1.display_posts()\n",
    "user1.search_post(\"hi\")\n",
    "user1.display_posts()"
   ]
  },
  {
   "cell_type": "markdown",
   "id": "1b0b678e",
   "metadata": {},
   "source": [
    "Problem 10: ToDo List Create a class representing a ToDo list with attributes like tasks and due dates. Implement methods to add tasks, mark tasks as completed, and display pending tasks."
   ]
  },
  {
   "cell_type": "code",
   "execution_count": 87,
   "id": "1f6e78a0",
   "metadata": {},
   "outputs": [
    {
     "name": "stdout",
     "output_type": "stream",
     "text": [
      "Task added successfully!\n",
      "Task added successfully!\n",
      "Task added successfully!\n",
      "Task marked as completed!\n",
      "Pending Tasks:\n",
      "Complete assignment (Due Date: 2024-03-05)\n",
      "Prepare presentation (Due Date: 2024-03-15)\n"
     ]
    }
   ],
   "source": [
    "class ToDoList:\n",
    "    def __init__(self):\n",
    "        self.tasks = {}\n",
    "        self.due_dates = {}\n",
    "\n",
    "    def add_task(self, task, due_date):\n",
    "        self.tasks[task] = False  # Task initially not completed\n",
    "        self.due_dates[task] = due_date\n",
    "        print(\"Task added successfully!\")\n",
    "\n",
    "    def mark_task_completed(self, task):\n",
    "        if task in self.tasks:\n",
    "            self.tasks[task] = True\n",
    "            print(\"Task marked as completed!\")\n",
    "        else:\n",
    "            print(\"Task not found.\")\n",
    "\n",
    "    def display_pending_tasks(self):\n",
    "        print(\"Pending Tasks:\")\n",
    "        for task, completed in self.tasks.items():\n",
    "            if not completed:\n",
    "                print(f\"{task} (Due Date: {self.due_dates[task]})\")\n",
    "\n",
    "todo_list = ToDoList()\n",
    "todo_list.add_task(\"Complete assignment\", \"2024-03-05\")\n",
    "todo_list.add_task(\"Submit report\", \"2024-03-10\")\n",
    "todo_list.add_task(\"Prepare presentation\", \"2024-03-15\")\n",
    "todo_list.mark_task_completed(\"Submit report\")\n",
    "todo_list.display_pending_tasks()\n"
   ]
  },
  {
   "cell_type": "code",
   "execution_count": null,
   "id": "fe7cbf4d",
   "metadata": {},
   "outputs": [],
   "source": []
  }
 ],
 "metadata": {
  "kernelspec": {
   "display_name": "Python 3 (ipykernel)",
   "language": "python",
   "name": "python3"
  },
  "language_info": {
   "codemirror_mode": {
    "name": "ipython",
    "version": 3
   },
   "file_extension": ".py",
   "mimetype": "text/x-python",
   "name": "python",
   "nbconvert_exporter": "python",
   "pygments_lexer": "ipython3",
   "version": "3.9.12"
  }
 },
 "nbformat": 4,
 "nbformat_minor": 5
}
