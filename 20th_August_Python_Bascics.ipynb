{
 "cells": [
  {
   "cell_type": "markdown",
   "id": "9e3cc6f6",
   "metadata": {},
   "source": [
    "#                                           TOPIC: String Based Assignment Problem"
   ]
  },
  {
   "cell_type": "markdown",
   "id": "15ab02ae",
   "metadata": {},
   "source": [
    "1. Write a program to reverse a string.     "
   ]
  },
  {
   "cell_type": "code",
   "execution_count": 14,
   "id": "7277efef",
   "metadata": {},
   "outputs": [
    {
     "data": {
      "text/plain": [
       "'mesaatoom'"
      ]
     },
     "execution_count": 14,
     "metadata": {},
     "output_type": "execute_result"
    }
   ],
   "source": [
    "s= \"mootaasem\"\n",
    "s[::-1]"
   ]
  },
  {
   "cell_type": "markdown",
   "id": "6200b5aa",
   "metadata": {},
   "source": [
    "2. Check if a string is a palindrome."
   ]
  },
  {
   "cell_type": "code",
   "execution_count": 3,
   "id": "97e6eca0",
   "metadata": {},
   "outputs": [
    {
     "name": "stdout",
     "output_type": "stream",
     "text": [
      "level is palindrome\n"
     ]
    }
   ],
   "source": [
    "s1 = \"level\"\n",
    "if s1[::1] == s1[::-1]:\n",
    "    print(f\"{s1} is palindrome\")\n",
    "else : \n",
    "    print(\"is not \")"
   ]
  },
  {
   "cell_type": "markdown",
   "id": "e6547649",
   "metadata": {},
   "source": [
    "3. Convert a string to uppercase."
   ]
  },
  {
   "cell_type": "code",
   "execution_count": 4,
   "id": "a73a170c",
   "metadata": {},
   "outputs": [
    {
     "data": {
      "text/plain": [
       "'LEVEL'"
      ]
     },
     "execution_count": 4,
     "metadata": {},
     "output_type": "execute_result"
    }
   ],
   "source": [
    "s1.upper()"
   ]
  },
  {
   "cell_type": "markdown",
   "id": "0c6b12dd",
   "metadata": {},
   "source": [
    "4. Convert a string to lowercase."
   ]
  },
  {
   "cell_type": "code",
   "execution_count": 5,
   "id": "b2d873de",
   "metadata": {},
   "outputs": [
    {
     "data": {
      "text/plain": [
       "'motasem'"
      ]
     },
     "execution_count": 5,
     "metadata": {},
     "output_type": "execute_result"
    }
   ],
   "source": [
    "s.lower()"
   ]
  },
  {
   "cell_type": "markdown",
   "id": "6f30efcd",
   "metadata": {},
   "source": [
    "5. Count the number of vowels in a string."
   ]
  },
  {
   "cell_type": "code",
   "execution_count": 31,
   "id": "8dbe58cf",
   "metadata": {},
   "outputs": [
    {
     "data": {
      "text/plain": [
       "{'o': 2, 'a': 2, 'e': 1}"
      ]
     },
     "execution_count": 31,
     "metadata": {},
     "output_type": "execute_result"
    }
   ],
   "source": [
    "vowels = [\"i\",\"e\",\"u\",\"a\",\"o\"] \n",
    "vowels_count = {}\n",
    "for v in s :\n",
    "    if v in vowels :\n",
    "        if v not in vowels_count :\n",
    "           vowels_count[v] = s.count(v) \n",
    "#         print(f\"number of vowel '{v}' is : {s.count(v)}  \")\n",
    "vowels_count"
   ]
  },
  {
   "cell_type": "code",
   "execution_count": 34,
   "id": "fc9ef513",
   "metadata": {},
   "outputs": [
    {
     "name": "stdout",
     "output_type": "stream",
     "text": [
      "o 2\n",
      "a 2\n",
      "e 1\n"
     ]
    }
   ],
   "source": [
    "for k,v in vowels_count.items ():\n",
    "    print(k , v)"
   ]
  },
  {
   "cell_type": "code",
   "execution_count": 30,
   "id": "6e01b6b6",
   "metadata": {},
   "outputs": [
    {
     "data": {
      "text/plain": [
       "9"
      ]
     },
     "execution_count": 30,
     "metadata": {},
     "output_type": "execute_result"
    }
   ],
   "source": [
    "def vo (text):\n",
    "    \n",
    "   vowels = [\"i\",\"e\",\"u\",\"a\",\"o\"]\n",
    "   count = []\n",
    "   for v in s :\n",
    "       if v in vowels :\n",
    "           c = s.count(v)\n",
    "           count.append(c)\n",
    "   return sum(count)\n",
    "vo(\"aaooeeuu\")"
   ]
  },
  {
   "cell_type": "markdown",
   "id": "ed3bc070",
   "metadata": {},
   "source": [
    "6. Count the number of consonants in a string."
   ]
  },
  {
   "cell_type": "code",
   "execution_count": 36,
   "id": "561a0d5e",
   "metadata": {},
   "outputs": [
    {
     "data": {
      "text/plain": [
       "{'m': 2, 't': 1, 's': 1}"
      ]
     },
     "execution_count": 36,
     "metadata": {},
     "output_type": "execute_result"
    }
   ],
   "source": [
    "consonants_count = {}\n",
    "for c in s :\n",
    "    if c not in vowels :\n",
    "        if c not in consonants_count :\n",
    "            consonants_count[c] = s.count(c)\n",
    "consonants_count"
   ]
  },
  {
   "cell_type": "markdown",
   "id": "ef67b3c8",
   "metadata": {},
   "source": [
    "7. Remove all whitespaces from a string."
   ]
  },
  {
   "cell_type": "code",
   "execution_count": 38,
   "id": "10069676",
   "metadata": {},
   "outputs": [
    {
     "data": {
      "text/plain": [
       "'Helloilovepython'"
      ]
     },
     "execution_count": 38,
     "metadata": {},
     "output_type": "execute_result"
    }
   ],
   "source": [
    "s1 = \"Hello i love python\"\n",
    "s1.replace(\" \" ,\"\")"
   ]
  },
  {
   "cell_type": "markdown",
   "id": "c4f4f19b",
   "metadata": {},
   "source": [
    "8. Find the length of a string without using the `len()` function."
   ]
  },
  {
   "cell_type": "code",
   "execution_count": 46,
   "id": "fb8558d7",
   "metadata": {},
   "outputs": [
    {
     "name": "stdout",
     "output_type": "stream",
     "text": [
      "length of Hello i love python is. : 19\n"
     ]
    }
   ],
   "source": [
    "letter = 0\n",
    "for i in s1 :\n",
    "    letter+=1\n",
    "print(f\"length of {s1} is. : {letter}\")"
   ]
  },
  {
   "cell_type": "markdown",
   "id": "cd52e6cc",
   "metadata": {},
   "source": [
    "9. Check if a string contains a specific word."
   ]
  },
  {
   "cell_type": "code",
   "execution_count": 73,
   "id": "fa347445",
   "metadata": {},
   "outputs": [
    {
     "name": "stdout",
     "output_type": "stream",
     "text": [
      "enter the word : dfskajn\n",
      "not found\n"
     ]
    }
   ],
   "source": [
    "my_string = \"HeLlo I lOvE Python\"\n",
    "ss=my_string.lower()\n",
    "def check_word ():\n",
    "    text = input (\"enter the word : \").lower().strip()\n",
    "    ss=my_string.lower()\n",
    "    l=ss.split()\n",
    "    for t in l:\n",
    "  \n",
    "        if t == text :\n",
    "            print(f\"{text} found\")\n",
    "            break\n",
    "    else :\n",
    "            print(\"not found\")\n",
    "        \n",
    "check_word()"
   ]
  },
  {
   "cell_type": "markdown",
   "id": "0ff3b779",
   "metadata": {},
   "source": [
    "10. Replace a word in a string with another word."
   ]
  },
  {
   "cell_type": "code",
   "execution_count": 79,
   "id": "da2ef9d3",
   "metadata": {},
   "outputs": [
    {
     "data": {
      "text/plain": [
       "'hello i love sql'"
      ]
     },
     "execution_count": 79,
     "metadata": {},
     "output_type": "execute_result"
    }
   ],
   "source": [
    "ss.replace(\"python\",\"sql\")\n"
   ]
  },
  {
   "cell_type": "markdown",
   "id": "c7cad371",
   "metadata": {},
   "source": [
    "11. Count the occurrences of a word in a string."
   ]
  },
  {
   "cell_type": "code",
   "execution_count": 107,
   "id": "30d1b74b",
   "metadata": {},
   "outputs": [
    {
     "name": "stdout",
     "output_type": "stream",
     "text": [
      "enter your text :  i love the love of my love\n",
      "enter the word that you are looking for : sql\n"
     ]
    },
    {
     "data": {
      "text/plain": [
       "'word doesnt exist'"
      ]
     },
     "execution_count": 107,
     "metadata": {},
     "output_type": "execute_result"
    }
   ],
   "source": [
    "def occurence():\n",
    "    text = input (\"enter your text : \").lower().strip()\n",
    "    l1=text.split()\n",
    "    search = input(\"enter the word that you are looking for : \")\n",
    "    count=0\n",
    "    for i in l1 :\n",
    "        if i == search :\n",
    "            count+=1\n",
    "    if count>0 :\n",
    "        return f\"the word \\\"{search}\\\" appeard {count} times \"\n",
    "    else :\n",
    "        return \"word doesnt exist\"\n",
    "occurence()"
   ]
  },
  {
   "cell_type": "markdown",
   "id": "bc543e21",
   "metadata": {},
   "source": [
    "12. Find the first occurrence of a word in a string."
   ]
  },
  {
   "cell_type": "code",
   "execution_count": 94,
   "id": "bcdcad83",
   "metadata": {},
   "outputs": [
    {
     "name": "stdout",
     "output_type": "stream",
     "text": [
      "enter your text : i love the love of my love\n",
      "enter the word that you are looking for : love\n",
      " first occurence of love happened at index 1\n"
     ]
    }
   ],
   "source": [
    "text = input (\"enter your text : \").lower().strip()\n",
    "l1=text.split()\n",
    "search = input(\"enter the word that you are looking for : \")\n",
    "if  search in l1 :\n",
    "        print(f\" first occurence of {search} happened at index {l1.index(search)}\")"
   ]
  },
  {
   "cell_type": "markdown",
   "id": "2cf6d77d",
   "metadata": {},
   "source": [
    "13. Find the last occurrence of a word in a string."
   ]
  },
  {
   "cell_type": "code",
   "execution_count": 114,
   "id": "74270e14",
   "metadata": {},
   "outputs": [
    {
     "name": "stdout",
     "output_type": "stream",
     "text": [
      "enter your text : hi i love python , python is python\n",
      "enter the word that you are looking for : python\n"
     ]
    },
    {
     "data": {
      "text/plain": [
       "'Last occurence happend at index 7 '"
      ]
     },
     "execution_count": 114,
     "metadata": {},
     "output_type": "execute_result"
    }
   ],
   "source": [
    "text = input (\"enter your text : \").lower().strip()\n",
    "l1=text.split()\n",
    "search = input(\"enter the word that you are looking for : \")\n",
    "occ_counter = []\n",
    "for index , word in enumerate (l1) : \n",
    "  if search == word :\n",
    "    occ_counter.append(index)\n",
    "occ_counter\n",
    "f\"Last occurence happend at index {occ_counter[-1]} \""
   ]
  },
  {
   "cell_type": "markdown",
   "id": "a83b8c16",
   "metadata": {},
   "source": [
    "14. Split a string into a list of words."
   ]
  },
  {
   "cell_type": "code",
   "execution_count": 116,
   "id": "9ee4e35c",
   "metadata": {},
   "outputs": [
    {
     "data": {
      "text/plain": [
       "['HeLlo', 'I', 'lOvE', 'Python']"
      ]
     },
     "execution_count": 116,
     "metadata": {},
     "output_type": "execute_result"
    }
   ],
   "source": [
    "nl = my_string.split()\n",
    "nl"
   ]
  },
  {
   "cell_type": "markdown",
   "id": "8747d6d1",
   "metadata": {},
   "source": [
    "15. Join a list of words into a string."
   ]
  },
  {
   "cell_type": "code",
   "execution_count": 119,
   "id": "69ff896d",
   "metadata": {},
   "outputs": [
    {
     "data": {
      "text/plain": [
       "'HeLlo I lOvE Python'"
      ]
     },
     "execution_count": 119,
     "metadata": {},
     "output_type": "execute_result"
    }
   ],
   "source": [
    "ns =\" \".join(nl)\n",
    "ns"
   ]
  },
  {
   "cell_type": "markdown",
   "id": "9713fe65",
   "metadata": {},
   "source": [
    "\n",
    "\n",
    "\n",
    "16. Convert a string where words are separated by spaces to one where words\n",
    "are separated by underscores."
   ]
  },
  {
   "cell_type": "code",
   "execution_count": 122,
   "id": "c1215a79",
   "metadata": {},
   "outputs": [
    {
     "data": {
      "text/plain": [
       "'hello_i_love_python'"
      ]
     },
     "execution_count": 122,
     "metadata": {},
     "output_type": "execute_result"
    }
   ],
   "source": [
    "ss1 = \"hello i love python\"\n",
    "ss1.replace(\" \",\"_\")\n"
   ]
  },
  {
   "cell_type": "markdown",
   "id": "cb95ab4f",
   "metadata": {},
   "source": [
    "17. Check if a string starts with a specific word or phrase."
   ]
  },
  {
   "cell_type": "code",
   "execution_count": 123,
   "id": "bc7d2912",
   "metadata": {},
   "outputs": [
    {
     "data": {
      "text/plain": [
       "True"
      ]
     },
     "execution_count": 123,
     "metadata": {},
     "output_type": "execute_result"
    }
   ],
   "source": [
    "ss1.startswith(\"hello\")"
   ]
  },
  {
   "cell_type": "markdown",
   "id": "84edd482",
   "metadata": {},
   "source": [
    "18. Check if a string ends with a specific word or phrase."
   ]
  },
  {
   "cell_type": "code",
   "execution_count": 125,
   "id": "8775e8bd",
   "metadata": {},
   "outputs": [
    {
     "data": {
      "text/plain": [
       "True"
      ]
     },
     "execution_count": 125,
     "metadata": {},
     "output_type": "execute_result"
    }
   ],
   "source": [
    "ss1.endswith(\"python\")"
   ]
  },
  {
   "cell_type": "markdown",
   "id": "adf52497",
   "metadata": {},
   "source": [
    "19. Convert a string to title case (e.g., \"hello world\" to \"Hello World\")."
   ]
  },
  {
   "cell_type": "code",
   "execution_count": 129,
   "id": "4e3e2cbe",
   "metadata": {},
   "outputs": [
    {
     "data": {
      "text/plain": [
       "'Hello I Love Python'"
      ]
     },
     "execution_count": 129,
     "metadata": {},
     "output_type": "execute_result"
    }
   ],
   "source": [
    "ss1.title()"
   ]
  },
  {
   "cell_type": "markdown",
   "id": "04c34986",
   "metadata": {},
   "source": [
    "20. Find the longest word in a string."
   ]
  },
  {
   "cell_type": "code",
   "execution_count": 164,
   "id": "7d70db5e",
   "metadata": {},
   "outputs": [
    {
     "data": {
      "text/plain": [
       "'love'"
      ]
     },
     "execution_count": 164,
     "metadata": {},
     "output_type": "execute_result"
    }
   ],
   "source": [
    "text = \"i love you\"\n",
    "l = text.split()\n",
    "longest_word =[]\n",
    "for i in l :\n",
    "    if len(i)>len(longest_word):\n",
    "        longest_word =i\n",
    "longest_word\n",
    "\n",
    "# ind={}\n",
    "# for n,i in enumerate (l) :\n",
    "#    x = len(i)\n",
    "#    ind[n] = len(i)\n",
    "    \n",
    "# max(ind.values())\n",
    "\n",
    "\n"
   ]
  },
  {
   "cell_type": "markdown",
   "id": "f34bbe08",
   "metadata": {},
   "source": [
    "21. Find the shortest word in a string."
   ]
  },
  {
   "cell_type": "code",
   "execution_count": 170,
   "id": "7bf2e3e7",
   "metadata": {},
   "outputs": [
    {
     "data": {
      "text/plain": [
       "'i'"
      ]
     },
     "execution_count": 170,
     "metadata": {},
     "output_type": "execute_result"
    }
   ],
   "source": [
    "text = \"i love you\"\n",
    "l = text.split()\n",
    "shortest_word = None\n",
    "for w in l :\n",
    "    if  shortest_word is None or len (w) < len (shortest_word) :\n",
    "        shortest_word = w\n",
    "shortest_word"
   ]
  },
  {
   "cell_type": "markdown",
   "id": "e181dd55",
   "metadata": {},
   "source": [
    "22. Reverse the order of words in a string."
   ]
  },
  {
   "cell_type": "code",
   "execution_count": 172,
   "id": "e7e0646f",
   "metadata": {},
   "outputs": [
    {
     "data": {
      "text/plain": [
       "'you love i'"
      ]
     },
     "execution_count": 172,
     "metadata": {},
     "output_type": "execute_result"
    }
   ],
   "source": [
    "reversed_string = \" \".join(l[::-1])\n",
    "reversed_string"
   ]
  },
  {
   "cell_type": "markdown",
   "id": "b0c756fd",
   "metadata": {},
   "source": [
    "23. Check if a string is alphanumeric."
   ]
  },
  {
   "cell_type": "code",
   "execution_count": 181,
   "id": "134e4909",
   "metadata": {},
   "outputs": [
    {
     "data": {
      "text/plain": [
       "True"
      ]
     },
     "execution_count": 181,
     "metadata": {},
     "output_type": "execute_result"
    }
   ],
   "source": [
    "sg=\"hey i havegot $50 thank you\" # it contains spaces and special character it will give False\n",
    "# remove the speacial characters and spaces \n",
    "sg_cleanedL =[]\n",
    "for c in sg:\n",
    "    if c.isalnum():\n",
    "        sg_cleanedL.append(c)\n",
    "cleaned_sgS=\"\".join(sg_cleanedL)\n",
    "cleaned_sgS.isalnum()"
   ]
  },
  {
   "cell_type": "markdown",
   "id": "928c7e19",
   "metadata": {},
   "source": [
    "24. Extract all digits from a string."
   ]
  },
  {
   "cell_type": "code",
   "execution_count": 184,
   "id": "ea84bec4",
   "metadata": {},
   "outputs": [
    {
     "data": {
      "text/plain": [
       "['41', '99']"
      ]
     },
     "execution_count": 184,
     "metadata": {},
     "output_type": "execute_result"
    }
   ],
   "source": [
    "newS = \"hey i'm motasem i'm 41 years old and my progress level is 99 %\"\n",
    "Sl = newS.split()\n",
    "num=[]\n",
    "for w in Sl :\n",
    "    if w.isdigit():\n",
    "        num.append(w)\n",
    "num\n",
    "        "
   ]
  },
  {
   "cell_type": "markdown",
   "id": "2706f481",
   "metadata": {},
   "source": [
    "25. Extract all alphabets from a string."
   ]
  },
  {
   "cell_type": "code",
   "execution_count": 185,
   "id": "6efadcf6",
   "metadata": {},
   "outputs": [
    {
     "data": {
      "text/plain": [
       "'heymotasemyearsoldandmyprogresslevelis'"
      ]
     },
     "execution_count": 185,
     "metadata": {},
     "output_type": "execute_result"
    }
   ],
   "source": [
    "alpha=\"\"\n",
    "for w in Sl :\n",
    "    if w.isalpha():\n",
    "        alpha+=w\n",
    "alpha"
   ]
  },
  {
   "cell_type": "markdown",
   "id": "a9c76b5f",
   "metadata": {},
   "source": [
    "26. Count the number of uppercase letters in a string."
   ]
  },
  {
   "cell_type": "code",
   "execution_count": 186,
   "id": "797d3dc7",
   "metadata": {},
   "outputs": [
    {
     "data": {
      "text/plain": [
       "4"
      ]
     },
     "execution_count": 186,
     "metadata": {},
     "output_type": "execute_result"
    }
   ],
   "source": [
    "my_word = \"Hello How Are You ?\"\n",
    "count=0\n",
    "for w in my_word :\n",
    "    if w.isupper():\n",
    "        count+=1\n",
    "count\n",
    "        "
   ]
  },
  {
   "cell_type": "markdown",
   "id": "61238700",
   "metadata": {},
   "source": [
    "27. Count the number of lowercase letters in a string."
   ]
  },
  {
   "cell_type": "code",
   "execution_count": 188,
   "id": "3f7aa2e8",
   "metadata": {},
   "outputs": [
    {
     "data": {
      "text/plain": [
       "{'e': 2, 'l': 2, 'o': 3, 'w': 1, 'r': 1, 'u': 1}"
      ]
     },
     "execution_count": 188,
     "metadata": {},
     "output_type": "execute_result"
    }
   ],
   "source": [
    "my_word = \"Hello How Are You ?\"\n",
    "lower_case = {}\n",
    "for w in my_word :\n",
    "    if w.islower():\n",
    "        lower_case[w]=my_word.count(w)\n",
    "lower_case\n",
    "    "
   ]
  },
  {
   "cell_type": "markdown",
   "id": "1346db18",
   "metadata": {},
   "source": [
    "28. Swap the case of each character in a string."
   ]
  },
  {
   "cell_type": "code",
   "execution_count": 193,
   "id": "2ae68d8c",
   "metadata": {},
   "outputs": [
    {
     "data": {
      "text/plain": [
       "'hELLO hOW aRE yOU ?'"
      ]
     },
     "execution_count": 193,
     "metadata": {},
     "output_type": "execute_result"
    }
   ],
   "source": [
    "my_word = \"Hello How Are You ?\"\n",
    "modified_word = \"\"\n",
    "for w in my_word :\n",
    "    if w.isupper():\n",
    "        modified_word+=w.lower()\n",
    "    else :\n",
    "        modified_word+=w.upper()\n",
    " \n",
    "modified_word\n",
    "        "
   ]
  },
  {
   "cell_type": "code",
   "execution_count": 194,
   "id": "931dc529",
   "metadata": {},
   "outputs": [
    {
     "data": {
      "text/plain": [
       "'hELLO hOW aRE yOU ?'"
      ]
     },
     "execution_count": 194,
     "metadata": {},
     "output_type": "execute_result"
    }
   ],
   "source": [
    "my_word.swapcase()"
   ]
  },
  {
   "cell_type": "markdown",
   "id": "3c0a3453",
   "metadata": {},
   "source": [
    "29. Remove a specific word from a string."
   ]
  },
  {
   "cell_type": "code",
   "execution_count": 199,
   "id": "75302aa4",
   "metadata": {},
   "outputs": [
    {
     "name": "stdout",
     "output_type": "stream",
     "text": [
      "enter the word that you would like to remove: How\n"
     ]
    },
    {
     "data": {
      "text/plain": [
       "'Hello  Are You ?'"
      ]
     },
     "execution_count": 199,
     "metadata": {},
     "output_type": "execute_result"
    }
   ],
   "source": [
    "my_word = \"Hello How Are You ?\"\n",
    "your_word=input(\"enter the word that you would like to remove: \").strip()\n",
    "my_word.replace(your_word,\"\")\n",
    "# def remove_word():\n",
    "#     your_word=input(\"enter the word that you would like to remove: \").strip()\n",
    "#     return my_word.replace(your_word,\"\")\n",
    "# remove_word()"
   ]
  },
  {
   "cell_type": "markdown",
   "id": "a8e0b72a",
   "metadata": {},
   "source": [
    "30. Check if a string is a valid email address."
   ]
  },
  {
   "cell_type": "code",
   "execution_count": 204,
   "id": "b90ddfc6",
   "metadata": {},
   "outputs": [
    {
     "name": "stdout",
     "output_type": "stream",
     "text": [
      "enter your email : rthe wgg\n",
      "not valid\n"
     ]
    }
   ],
   "source": [
    "import re\n",
    "ur_email = input(\"enter your email : \").lower().strip()\n",
    "# Email Pattern => [A-z0-9\\.]+@[A-z0-9]+\\.(com|net|org|info)\n",
    "check = re.search(r\"[A-z0-9\\.]+@[A-z0-9]+\\.(com|net|org|info)\",ur_email)\n",
    "if check :\n",
    "    print(f\"this {ur_email} is a valid email\")\n",
    "else :\n",
    "    print(\"not valid\")"
   ]
  },
  {
   "cell_type": "markdown",
   "id": "d0a9da5d",
   "metadata": {},
   "source": [
    "31. Extract the username from an email address string."
   ]
  },
  {
   "cell_type": "code",
   "execution_count": 208,
   "id": "ea3f8c7f",
   "metadata": {},
   "outputs": [
    {
     "name": "stdout",
     "output_type": "stream",
     "text": [
      "enter your email : motasem@gmail.com\n"
     ]
    },
    {
     "data": {
      "text/plain": [
       "'your username is : motasem'"
      ]
     },
     "execution_count": 208,
     "metadata": {},
     "output_type": "execute_result"
    }
   ],
   "source": [
    "ur_email = input(\"enter your email : \").lower().strip()\n",
    "\n",
    "index = ur_email.index(\"@\")\n",
    "f\"your username is : {ur_email[:index]}\""
   ]
  },
  {
   "cell_type": "markdown",
   "id": "ae46ad54",
   "metadata": {},
   "source": [
    "32. Extract the domain name from an email address string."
   ]
  },
  {
   "cell_type": "code",
   "execution_count": 219,
   "id": "443d8dd1",
   "metadata": {},
   "outputs": [
    {
     "name": "stdout",
     "output_type": "stream",
     "text": [
      "enter your email : mo@gmail.com\n"
     ]
    },
    {
     "data": {
      "text/plain": [
       "'@gmail.com'"
      ]
     },
     "execution_count": 219,
     "metadata": {},
     "output_type": "execute_result"
    }
   ],
   "source": [
    "ur_email = input(\"enter your email : \").lower().strip()\n",
    "\n",
    "index = ur_email.index(\"@\")\n",
    "ur_email[index:]"
   ]
  },
  {
   "cell_type": "markdown",
   "id": "a3a37161",
   "metadata": {},
   "source": [
    "33. Replace multiple spaces in a string with a single space."
   ]
  },
  {
   "cell_type": "code",
   "execution_count": 221,
   "id": "34be9623",
   "metadata": {},
   "outputs": [
    {
     "data": {
      "text/plain": [
       "'This is a string without multiple spaces'"
      ]
     },
     "execution_count": 221,
     "metadata": {},
     "output_type": "execute_result"
    }
   ],
   "source": [
    "string_with_multi_spaces = \"This    is    a    string     with     multiple     spaces\"\n",
    "\" \".join(string_with_multi_spaces.split()).replace(\"with\",\"without\")"
   ]
  },
  {
   "cell_type": "markdown",
   "id": "9d5da61c",
   "metadata": {},
   "source": [
    "34. Check if a string is a valid URL."
   ]
  },
  {
   "cell_type": "code",
   "execution_count": 225,
   "id": "07441faf",
   "metadata": {},
   "outputs": [
    {
     "name": "stdout",
     "output_type": "stream",
     "text": [
      "enter your url : google.com\n",
      "this url \"google.com\" is valid\n"
     ]
    }
   ],
   "source": [
    "ur_url = input(\"enter your url : \").strip().lower()\n",
    "check = re.search(r\"(https?://)?(www\\.)?[A-z0-9]+\\.[A-z]+\",ur_url)\n",
    "if check :\n",
    "    print(f\"this url \\\"{ur_url}\\\" is valid\")\n",
    "else :\n",
    "    print(\"not valid\")"
   ]
  },
  {
   "cell_type": "markdown",
   "id": "96f732a3",
   "metadata": {},
   "source": [
    "35. Extract the protocol (http or https) from a URL string."
   ]
  },
  {
   "cell_type": "code",
   "execution_count": 227,
   "id": "01d71639",
   "metadata": {},
   "outputs": [
    {
     "name": "stdout",
     "output_type": "stream",
     "text": [
      "enter your url :  https://www.amazon.com\n"
     ]
    },
    {
     "data": {
      "text/plain": [
       "'protocol is : https://'"
      ]
     },
     "execution_count": 227,
     "metadata": {},
     "output_type": "execute_result"
    }
   ],
   "source": [
    "ur_url = input(\"enter your url : \").strip().lower()\n",
    "check = re.search(r\"(https?://)?(www\\.)?[A-z0-9]+\\.[A-z]+\",ur_url)\n",
    "f\"protocol is : {check.group(1)}\""
   ]
  },
  {
   "cell_type": "markdown",
   "id": "0e7db5b0",
   "metadata": {},
   "source": [
    "36. Find the frequency of each character in a string.\n"
   ]
  },
  {
   "cell_type": "code",
   "execution_count": 235,
   "id": "31957ed2",
   "metadata": {},
   "outputs": [
    {
     "name": "stdout",
     "output_type": "stream",
     "text": [
      "char m appears 4 times\n",
      "char o appears 2 times\n",
      "char t appears 2 times\n",
      "char a appears 2 times\n",
      "char s appears 2 times\n",
      "char e appears 2 times\n"
     ]
    }
   ],
   "source": [
    "my_string1 = \"mmoottaasseemm\"\n",
    "freq={}\n",
    "for w in my_string1 :\n",
    "    freq[w] = my_string1.count(w)\n",
    "    \n",
    "for k,v in freq.items():\n",
    "    print(f\"char {k} appears {v} times\")\n"
   ]
  },
  {
   "cell_type": "code",
   "execution_count": 236,
   "id": "65950a37",
   "metadata": {},
   "outputs": [
    {
     "data": {
      "text/plain": [
       "{'m': 4, 'o': 2, 't': 2, 'a': 2, 's': 2, 'e': 2}"
      ]
     },
     "execution_count": 236,
     "metadata": {},
     "output_type": "execute_result"
    }
   ],
   "source": [
    "freq"
   ]
  },
  {
   "cell_type": "markdown",
   "id": "3db61ef2",
   "metadata": {},
   "source": [
    "37. Remove all punctuation from a string."
   ]
  },
  {
   "cell_type": "code",
   "execution_count": 242,
   "id": "9b5f101e",
   "metadata": {},
   "outputs": [
    {
     "data": {
      "text/plain": [
       "'Hello world'"
      ]
     },
     "execution_count": 242,
     "metadata": {},
     "output_type": "execute_result"
    }
   ],
   "source": [
    "import re\n",
    "sts= \"Hello @#$ %$# )(*& world\"\n",
    "cleaned = re.sub(r\"[^\\w\\s]\",\"\",sts)\n",
    "\n",
    "\" \".join(cleaned.split())"
   ]
  },
  {
   "cell_type": "markdown",
   "id": "511c9a76",
   "metadata": {},
   "source": [
    "38. Check if a string contains only digits."
   ]
  },
  {
   "cell_type": "code",
   "execution_count": 245,
   "id": "9605b040",
   "metadata": {},
   "outputs": [
    {
     "data": {
      "text/plain": [
       "True"
      ]
     },
     "execution_count": 245,
     "metadata": {},
     "output_type": "execute_result"
    }
   ],
   "source": [
    "st2= \"123\"\n",
    "st2.isdigit()"
   ]
  },
  {
   "cell_type": "markdown",
   "id": "871aaebb",
   "metadata": {},
   "source": [
    "39. Check if a string contains only alphabets."
   ]
  },
  {
   "cell_type": "code",
   "execution_count": 249,
   "id": "404de193",
   "metadata": {},
   "outputs": [
    {
     "data": {
      "text/plain": [
       "False"
      ]
     },
     "execution_count": 249,
     "metadata": {},
     "output_type": "execute_result"
    }
   ],
   "source": [
    "st3 = \"motasem how are you\"\n",
    "st3.isalpha()"
   ]
  },
  {
   "cell_type": "code",
   "execution_count": 251,
   "id": "10a9ea5d",
   "metadata": {},
   "outputs": [
    {
     "data": {
      "text/plain": [
       "True"
      ]
     },
     "execution_count": 251,
     "metadata": {},
     "output_type": "execute_result"
    }
   ],
   "source": [
    "(\"\".join(st3.split())).isalpha()"
   ]
  },
  {
   "cell_type": "markdown",
   "id": "8782f42f",
   "metadata": {},
   "source": [
    "40. Convert a string to a list of characters."
   ]
  },
  {
   "cell_type": "code",
   "execution_count": 256,
   "id": "c89cd544",
   "metadata": {},
   "outputs": [
    {
     "data": {
      "text/plain": [
       "['p', 'w', 's', 'k', 'i', 'l', 'l', 's']"
      ]
     },
     "execution_count": 256,
     "metadata": {},
     "output_type": "execute_result"
    }
   ],
   "source": [
    "st3 = \"pwskills\"\n",
    "st3L=[]\n",
    "for w in st3 :\n",
    "    st3L.append(w)\n",
    "st3L"
   ]
  },
  {
   "cell_type": "markdown",
   "id": "594c1775",
   "metadata": {},
   "source": [
    "41. Check if two strings are anagrams."
   ]
  },
  {
   "cell_type": "code",
   "execution_count": 262,
   "id": "b1ac1148",
   "metadata": {},
   "outputs": [
    {
     "name": "stdout",
     "output_type": "stream",
     "text": [
      "enter 1st word: listen\n",
      "enter 2nd word: silent\n",
      "is anagram\n"
     ]
    }
   ],
   "source": [
    "first_word = input(\"enter 1st word: \").lower().strip()\n",
    "second_word =input(\"enter 2nd word: \").lower().strip()\n",
    "if first_word.split().sort() == second_word.split().sort():\n",
    "    print(\"is anagram\")\n",
    "else : \n",
    "    print(\"not\")"
   ]
  },
  {
   "cell_type": "code",
   "execution_count": 265,
   "id": "4f49c7d1",
   "metadata": {},
   "outputs": [
    {
     "data": {
      "text/plain": [
       "['a', 'e', 'm', 'm', 'o', 's', 't']"
      ]
     },
     "execution_count": 265,
     "metadata": {},
     "output_type": "execute_result"
    }
   ],
   "source": [
    "sorted(\"motasem\")"
   ]
  },
  {
   "cell_type": "markdown",
   "id": "18b8f579",
   "metadata": {},
   "source": [
    "42. Encode a string using a Caesar cipher."
   ]
  },
  {
   "cell_type": "code",
   "execution_count": 275,
   "id": "5ffbf6bc",
   "metadata": {},
   "outputs": [
    {
     "name": "stdout",
     "output_type": "stream",
     "text": [
      "SZVnloov\n"
     ]
    }
   ],
   "source": [
    "def caesar_cipher_encrypt(text,shift):\n",
    "    \n",
    "    encrypted_text = \"\"\n",
    "    \n",
    "    for char in text :\n",
    "        \n",
    "        #check if the character is upper case \n",
    "        if char.isupper(): # 65 is the unicode code for uppercase characters\n",
    "                             \n",
    "                           # ord()  function in Python returns the Unicode code point of the character char\n",
    "                           # (ord(char) - 65): Subtracting 65 from the Unicode code point normalizes the value\n",
    "                           # of the character relative to the uppercase English alphabet\n",
    "                           # % 26: The modulo operator % is used to ensure that the result\n",
    "                           # remains within the range of the alphabet (26 letters) \n",
    "            encrypted_char = chr((ord(char) - 65 + shift) % 26 + 65 )\n",
    "            \n",
    "        #check if the character is upper case \n",
    "        elif char.islower() : \n",
    "            encrypted_char = chr((ord(char) - 97 + shift) % 26 + 97) #97 for lowercase char\n",
    "            \n",
    "        else :\n",
    "            encrypted_char = char\n",
    "        \n",
    "        encrypted_text += encrypted_char\n",
    "    \n",
    "    return encrypted_text\n",
    "\n",
    "print(caesar_cipher_encrypt (\"PWSkills\", 3) )"
   ]
  },
  {
   "cell_type": "markdown",
   "id": "299ff807",
   "metadata": {},
   "source": [
    "43. Decode a Caesar cipher encoded string."
   ]
  },
  {
   "cell_type": "code",
   "execution_count": 277,
   "id": "debb03ad",
   "metadata": {},
   "outputs": [
    {
     "name": "stdout",
     "output_type": "stream",
     "text": [
      "PWSkills\n"
     ]
    }
   ],
   "source": [
    "# the decrption will undo the shift \n",
    "\n",
    "def caesar_cipher_decrypt (text,shift) :\n",
    "    \n",
    "    decrypted_text = \"\"\n",
    "    \n",
    "    for char in text :\n",
    "        \n",
    "        if char.isupper():   ## here we undo the shift to decrypt (ord(char) - 65 - shift )\n",
    "            decrypted_char = chr((ord(char) - 65 - shift) % 26 + 65 )\n",
    "        \n",
    "        elif char.islower() :\n",
    "            decrypted_char = chr((ord(char) - 97 - shift) % 26 +97 )\n",
    "        \n",
    "        else :\n",
    "            decrypted_char = char\n",
    "        \n",
    "        decrypted_text += decrypted_char \n",
    "    \n",
    "    return decrypted_text \n",
    "\n",
    "print( caesar_cipher_decrypt (\"SZVnloov\", 3) )"
   ]
  },
  {
   "cell_type": "markdown",
   "id": "66f07e14",
   "metadata": {},
   "source": [
    "44. Find the most frequent word in a string."
   ]
  },
  {
   "cell_type": "code",
   "execution_count": 282,
   "id": "bf9e5b7d",
   "metadata": {},
   "outputs": [
    {
     "name": "stdout",
     "output_type": "stream",
     "text": [
      "  hello    appears 1 times\n",
      "    i      appears 1 times\n",
      "   love    appears 3 times\n",
      "   the     appears 2 times\n",
      "    of     appears 1 times\n",
      "  python   appears 2 times\n",
      "   and     appears 2 times\n",
      "   sql     appears 2 times\n",
      "    ,      appears 1 times\n"
     ]
    }
   ],
   "source": [
    "phrase = \"hello i love the love of the love python and python and sql , sql\"\n",
    "ll = phrase.split()\n",
    "dict = {}\n",
    "for i in ll :\n",
    "  dict[i]  =ll.count(i)\n",
    "\n",
    "for k,v in dict.items():\n",
    "    print(f\"{k.center(10)} appears {v} times\")\n",
    "\n",
    "    "
   ]
  },
  {
   "cell_type": "code",
   "execution_count": 284,
   "id": "79e3090f",
   "metadata": {},
   "outputs": [
    {
     "data": {
      "text/plain": [
       "'love'"
      ]
     },
     "execution_count": 284,
     "metadata": {},
     "output_type": "execute_result"
    }
   ],
   "source": [
    "max_key = max(dict, key=dict.get) \n",
    "#  max() function is used with the key parameter set to word_counts.get.\n",
    "# This specifies that the maximum value should be determined based on the dictionary values.\n",
    "max_key"
   ]
  },
  {
   "cell_type": "code",
   "execution_count": 286,
   "id": "d327a932",
   "metadata": {},
   "outputs": [
    {
     "data": {
      "text/plain": [
       "3"
      ]
     },
     "execution_count": 286,
     "metadata": {},
     "output_type": "execute_result"
    }
   ],
   "source": [
    "max_value = dict[max_key]\n",
    "max_value"
   ]
  },
  {
   "cell_type": "markdown",
   "id": "2bd84e3c",
   "metadata": {},
   "source": [
    "45. Find all unique words in a string."
   ]
  },
  {
   "cell_type": "code",
   "execution_count": 296,
   "id": "06fe74f9",
   "metadata": {},
   "outputs": [
    {
     "data": {
      "text/plain": [
       "\"unique words , {'hello', 'you', 'how', 'are'}\""
      ]
     },
     "execution_count": 296,
     "metadata": {},
     "output_type": "execute_result"
    }
   ],
   "source": [
    "def unique_words(text):\n",
    "    word = text.split()\n",
    "    \n",
    "    return set(word)\n",
    "\n",
    "unique_w = unique_words(\"hello hello hello how how how  are are are are you \")\n",
    "f\"unique words , {unique_w}\"\n",
    "    \n"
   ]
  },
  {
   "cell_type": "markdown",
   "id": "a29fa436",
   "metadata": {},
   "source": [
    "46. Count the number of syllables in a string."
   ]
  },
  {
   "cell_type": "code",
   "execution_count": 297,
   "id": "ad5c4f06",
   "metadata": {},
   "outputs": [
    {
     "name": "stdout",
     "output_type": "stream",
     "text": [
      "Number of syllables in 'programming': 3\n"
     ]
    }
   ],
   "source": [
    "def count_syllables(word):\n",
    "    vowels = \"aeiouAEIOU\"\n",
    "    count = 0\n",
    "    prev_char_was_vowel = False\n",
    "\n",
    "    for char in word:\n",
    "        if char in vowels:\n",
    "            # If current character is a vowel and previous character was not a vowel,\n",
    "            # it indicates the start of a new syllable\n",
    "            if not prev_char_was_vowel:\n",
    "                count += 1\n",
    "            prev_char_was_vowel = True\n",
    "        else:\n",
    "            prev_char_was_vowel = False\n",
    "\n",
    "    # Adjust count for special cases like 'le' at the end of words\n",
    "    if word.endswith(\"le\"):\n",
    "        count -= 1\n",
    "\n",
    "    return max(count, 1)  # Ensure at least one syllable for non-empty words\n",
    "\n",
    "# Example usage\n",
    "word = \"programming\"\n",
    "syllable_count = count_syllables(word)\n",
    "print(f\"Number of syllables in '{word}': {syllable_count}\")\n"
   ]
  },
  {
   "cell_type": "markdown",
   "id": "27ad41ed",
   "metadata": {},
   "source": [
    "47. Check if a string contains any special characters."
   ]
  },
  {
   "cell_type": "code",
   "execution_count": 298,
   "id": "93bb13a2",
   "metadata": {},
   "outputs": [
    {
     "name": "stdout",
     "output_type": "stream",
     "text": [
      "The string contains special characters.\n"
     ]
    }
   ],
   "source": [
    "import re\n",
    "\n",
    "def contains_special_characters(text):\n",
    "    # Define a regular expression pattern to match special characters\n",
    "    pattern = r'[!@#$%^&*()_+{}\\[\\]:;<>,.?/\\\\~`|\"\\']'\n",
    "\n",
    "    # Use re.search() to find if any special character matches the pattern in the text\n",
    "    if re.search(pattern, text):\n",
    "        return True\n",
    "    else:\n",
    "        return False\n",
    "\n",
    "# Example usage\n",
    "text = \"Hello! How are you?\"\n",
    "if contains_special_characters(text):\n",
    "    print(\"The string contains special characters.\")\n",
    "else:\n",
    "    print(\"The string does not contain any special characters.\")\n"
   ]
  },
  {
   "cell_type": "markdown",
   "id": "36b5541c",
   "metadata": {},
   "source": [
    "48. Remove the nth word from a string."
   ]
  },
  {
   "cell_type": "code",
   "execution_count": 299,
   "id": "58bc84f6",
   "metadata": {},
   "outputs": [
    {
     "name": "stdout",
     "output_type": "stream",
     "text": [
      "Original sentence: This is a sample sentence to test the function\n",
      "New sentence: This is a sentence to test the function\n"
     ]
    }
   ],
   "source": [
    "def remove_nth_word(sentence, n):\n",
    "    # Split the sentence into words\n",
    "    words = sentence.split()\n",
    "\n",
    "    # Check if the nth word exists\n",
    "    if n >= len(words) or n < 0:\n",
    "        return \"Invalid index\"\n",
    "\n",
    "    # Remove the nth word\n",
    "    del words[n]\n",
    "\n",
    "    # Join the words back into a sentence\n",
    "    new_sentence = ' '.join(words)\n",
    "    \n",
    "    return new_sentence\n",
    "\n",
    "# Example usage\n",
    "sentence = \"This is a sample sentence to test the function\"\n",
    "n = 3  # Index of the word \"sample\"\n",
    "new_sentence = remove_nth_word(sentence, n)\n",
    "print(\"Original sentence:\", sentence)\n",
    "print(\"New sentence:\", new_sentence)\n"
   ]
  },
  {
   "cell_type": "code",
   "execution_count": 310,
   "id": "f2634627",
   "metadata": {},
   "outputs": [
    {
     "name": "stdout",
     "output_type": "stream",
     "text": [
      "hello i'm very  today\n"
     ]
    }
   ],
   "source": [
    "def remove_nth_word (word , n):\n",
    "\n",
    "    l = word.split()\n",
    "    l[n] = \"\"\n",
    "    return \" \".join(l)\n",
    "\n",
    "print(remove_nth_word(\"hello i'm very happy today\",3))"
   ]
  },
  {
   "cell_type": "markdown",
   "id": "56bc8686",
   "metadata": {},
   "source": [
    "49. Insert a word at the nth position in a string."
   ]
  },
  {
   "cell_type": "code",
   "execution_count": 300,
   "id": "e8294f96",
   "metadata": {},
   "outputs": [
    {
     "name": "stdout",
     "output_type": "stream",
     "text": [
      "Original sentence: This is a sample sentence\n",
      "New sentence: This is a new sample sentence\n"
     ]
    }
   ],
   "source": [
    "def insert_word_at_nth_position(sentence, word, n):\n",
    "    # Split the sentence into words\n",
    "    words = sentence.split()\n",
    "\n",
    "    # Check if the nth position is valid\n",
    "    if n < 0 or n > len(words):\n",
    "        return \"Invalid position\"\n",
    "\n",
    "    # Insert the word at the nth position\n",
    "    words.insert(n, word)\n",
    "\n",
    "    # Join the words back into a sentence\n",
    "    new_sentence = ' '.join(words)\n",
    "    \n",
    "    return new_sentence\n",
    "\n",
    "# Example usage\n",
    "sentence = \"This is a sample sentence\"\n",
    "word_to_insert = \"new\"\n",
    "position = 3  # Index at which to insert the word\n",
    "new_sentence = insert_word_at_nth_position(sentence, word_to_insert, position)\n",
    "print(\"Original sentence:\", sentence)\n",
    "print(\"New sentence:\", new_sentence)\n"
   ]
  },
  {
   "cell_type": "code",
   "execution_count": 311,
   "id": "ab8086f7",
   "metadata": {},
   "outputs": [
    {
     "name": "stdout",
     "output_type": "stream",
     "text": [
      "hello i'm very happy and excited today\n"
     ]
    }
   ],
   "source": [
    "def insert_word_at_nth_position (sentence , word , n):\n",
    "\n",
    "    l = sentence.split()\n",
    "    l.insert( n, word)\n",
    "    return \" \".join(l)\n",
    "\n",
    "print(insert_word_at_nth_position(\"hello i'm very happy today\",\"and excited\",4))"
   ]
  },
  {
   "cell_type": "markdown",
   "id": "219f671f",
   "metadata": {},
   "source": [
    "50. Convert a CSV string to a list of lists."
   ]
  },
  {
   "cell_type": "code",
   "execution_count": 301,
   "id": "e4311311",
   "metadata": {},
   "outputs": [
    {
     "name": "stdout",
     "output_type": "stream",
     "text": [
      "CSV List: [['1', '2', '3'], ['4', '5', '6'], ['7', '8', '9']]\n"
     ]
    }
   ],
   "source": [
    "def csv_string_to_list(csv_string):\n",
    "    # Split the CSV string into rows\n",
    "    rows = csv_string.strip().split('\\n')\n",
    "\n",
    "    # Split each row into individual values and create a list of lists\n",
    "    csv_list = [row.split(',') for row in rows]\n",
    "\n",
    "    return csv_list\n",
    "\n",
    "# Example usage\n",
    "csv_string = \"1,2,3\\n4,5,6\\n7,8,9\"\n",
    "csv_list = csv_string_to_list(csv_string)\n",
    "print(\"CSV List:\", csv_list)\n"
   ]
  },
  {
   "cell_type": "markdown",
   "id": "a72aff19",
   "metadata": {},
   "source": [
    "# List Based Practice Problem : "
   ]
  },
  {
   "cell_type": "markdown",
   "id": "f00df844",
   "metadata": {},
   "source": [
    "1. Create a list with integers from 1 to 10."
   ]
  },
  {
   "cell_type": "code",
   "execution_count": 316,
   "id": "c1184cb6",
   "metadata": {},
   "outputs": [
    {
     "data": {
      "text/plain": [
       "[1, 2, 3, 4, 5, 6, 7, 8, 9, 10]"
      ]
     },
     "execution_count": 316,
     "metadata": {},
     "output_type": "execute_result"
    }
   ],
   "source": [
    "l=[]\n",
    "for i in range(1,11):\n",
    "    l.append(i)\n",
    "l"
   ]
  },
  {
   "cell_type": "code",
   "execution_count": 318,
   "id": "40e82133",
   "metadata": {},
   "outputs": [
    {
     "data": {
      "text/plain": [
       "[1, 2, 3, 4, 5, 6, 7, 8, 9, 10]"
      ]
     },
     "execution_count": 318,
     "metadata": {},
     "output_type": "execute_result"
    }
   ],
   "source": [
    "l1 = list(i for i in range(1,11))\n",
    "l1"
   ]
  },
  {
   "cell_type": "markdown",
   "id": "3a391ac2",
   "metadata": {},
   "source": [
    "2. Find the length of a list without using the `len()` function."
   ]
  },
  {
   "cell_type": "code",
   "execution_count": 320,
   "id": "20847e4d",
   "metadata": {},
   "outputs": [
    {
     "data": {
      "text/plain": [
       "10"
      ]
     },
     "execution_count": 320,
     "metadata": {},
     "output_type": "execute_result"
    }
   ],
   "source": [
    "count = 0\n",
    "for i in l1 :\n",
    "    count+=1\n",
    "count"
   ]
  },
  {
   "cell_type": "markdown",
   "id": "70f7a7ce",
   "metadata": {},
   "source": [
    "3. Append an element to the end of a list."
   ]
  },
  {
   "cell_type": "code",
   "execution_count": 321,
   "id": "a4682f4b",
   "metadata": {},
   "outputs": [
    {
     "data": {
      "text/plain": [
       "[1, 2, 3, 4, 5, 6, 7, 8, 9, 10, 11]"
      ]
     },
     "execution_count": 321,
     "metadata": {},
     "output_type": "execute_result"
    }
   ],
   "source": [
    "l1.append(11)\n",
    "l1"
   ]
  },
  {
   "cell_type": "markdown",
   "id": "41bffd76",
   "metadata": {},
   "source": [
    "4. Insert an element at a specific index in a list."
   ]
  },
  {
   "cell_type": "code",
   "execution_count": null,
   "id": "4ccae82f",
   "metadata": {},
   "outputs": [
    {
     "data": {
      "text/plain": [
       "[1, 2, 3, 'index', 4, 5, 6, 7, 8, 9, 10, 11]"
      ]
     },
     "execution_count": 322,
     "metadata": {},
     "output_type": "execute_result"
    }
   ],
   "source": [
    "l1.insert(3,\"index\")\n",
    "l1"
   ]
  },
  {
   "cell_type": "markdown",
   "id": "a5b29f4b",
   "metadata": {},
   "source": [
    "5. Remove an element from a list by its value."
   ]
  },
  {
   "cell_type": "code",
   "execution_count": null,
   "id": "27c33729",
   "metadata": {},
   "outputs": [
    {
     "data": {
      "text/plain": [
       "[1, 2, 3, 4, 5, 6, 7, 8, 9, 10, 11]"
      ]
     },
     "execution_count": 323,
     "metadata": {},
     "output_type": "execute_result"
    }
   ],
   "source": [
    "l1.remove('index')\n",
    "l1"
   ]
  },
  {
   "cell_type": "markdown",
   "id": "a09321fd",
   "metadata": {},
   "source": [
    "5. Remove an element from a list by its value."
   ]
  },
  {
   "cell_type": "code",
   "execution_count": 430,
   "id": "6ac57788",
   "metadata": {},
   "outputs": [
    {
     "data": {
      "text/plain": [
       "[1, 2, 4, 5]"
      ]
     },
     "execution_count": 430,
     "metadata": {},
     "output_type": "execute_result"
    }
   ],
   "source": [
    "my_list = [1, 2, 3, 4, 5]\n",
    "my_list.remove(3)\n",
    "my_list"
   ]
  },
  {
   "cell_type": "markdown",
   "id": "41b0afba",
   "metadata": {},
   "source": [
    "6. Remove an element from a list by its index."
   ]
  },
  {
   "cell_type": "code",
   "execution_count": 433,
   "id": "84147998",
   "metadata": {},
   "outputs": [
    {
     "data": {
      "text/plain": [
       "3"
      ]
     },
     "execution_count": 433,
     "metadata": {},
     "output_type": "execute_result"
    }
   ],
   "source": [
    "my_list = [1, 2, 3, 4, 5]\n",
    "removed_element = my_list.pop(2)\n",
    "removed_element"
   ]
  },
  {
   "cell_type": "markdown",
   "id": "35f1d73a",
   "metadata": {},
   "source": [
    "7. Check if an element exists in a list."
   ]
  },
  {
   "cell_type": "code",
   "execution_count": 432,
   "id": "4e1e397c",
   "metadata": {},
   "outputs": [
    {
     "name": "stdout",
     "output_type": "stream",
     "text": [
      "Element 3 exists in the list\n"
     ]
    }
   ],
   "source": [
    "my_list = [1, 2, 3, 4, 5]\n",
    "if 3 in my_list:\n",
    "    print(\"Element 3 exists in the list\")\n",
    "else:\n",
    "    print(\"Element 3 does not exist in the list\")"
   ]
  },
  {
   "cell_type": "markdown",
   "id": "9396239a",
   "metadata": {},
   "source": [
    "8. Find the index of the first occurrence of an element in a list."
   ]
  },
  {
   "cell_type": "code",
   "execution_count": 434,
   "id": "b97d691d",
   "metadata": {},
   "outputs": [
    {
     "name": "stdout",
     "output_type": "stream",
     "text": [
      "Index of the first occurrence: 2\n"
     ]
    }
   ],
   "source": [
    "my_list = [10, 20, 30, 40, 50]\n",
    "element = 30\n",
    "index = my_list.index(element)\n",
    "print(\"Index of the first occurrence:\", index)"
   ]
  },
  {
   "cell_type": "markdown",
   "id": "20a161f1",
   "metadata": {},
   "source": [
    "9. Count the occurrences of an element in a list."
   ]
  },
  {
   "cell_type": "code",
   "execution_count": 435,
   "id": "fd42c336",
   "metadata": {},
   "outputs": [
    {
     "name": "stdout",
     "output_type": "stream",
     "text": [
      "Occurrences of 1 : 3\n"
     ]
    }
   ],
   "source": [
    "my_list = [1, 2, 3, 1, 4, 1, 5]\n",
    "element = 1\n",
    "count = my_list.count(element)\n",
    "print(\"Occurrences of\", element, \":\", count)"
   ]
  },
  {
   "cell_type": "markdown",
   "id": "639eb894",
   "metadata": {},
   "source": [
    "10. Reverse the order of elements in a list."
   ]
  },
  {
   "cell_type": "code",
   "execution_count": 436,
   "id": "54112099",
   "metadata": {},
   "outputs": [
    {
     "name": "stdout",
     "output_type": "stream",
     "text": [
      "Reversed list: [5, 4, 3, 2, 1]\n"
     ]
    }
   ],
   "source": [
    "my_list = [1, 2, 3, 4, 5]\n",
    "my_list.reverse()\n",
    "print(\"Reversed list:\", my_list)"
   ]
  },
  {
   "cell_type": "code",
   "execution_count": 437,
   "id": "d61fdfe8",
   "metadata": {},
   "outputs": [
    {
     "name": "stdout",
     "output_type": "stream",
     "text": [
      "Reversed list: [5, 4, 3, 2, 1]\n"
     ]
    }
   ],
   "source": [
    "my_list = [1, 2, 3, 4, 5]\n",
    "reversed_list = my_list[::-1]\n",
    "print(\"Reversed list:\", reversed_list)"
   ]
  },
  {
   "cell_type": "markdown",
   "id": "f64fd454",
   "metadata": {},
   "source": [
    "11. Sort a list in ascending order."
   ]
  },
  {
   "cell_type": "code",
   "execution_count": 438,
   "id": "bedf29b0",
   "metadata": {},
   "outputs": [
    {
     "name": "stdout",
     "output_type": "stream",
     "text": [
      "Sorted list in ascending order: [1, 1, 2, 3, 3, 4, 5, 5, 6, 9]\n"
     ]
    }
   ],
   "source": [
    "my_list = [3, 1, 4, 1, 5, 9, 2, 6, 5, 3]\n",
    "my_list.sort()\n",
    "print(\"Sorted list in ascending order:\", my_list)"
   ]
  },
  {
   "cell_type": "code",
   "execution_count": 439,
   "id": "ab261875",
   "metadata": {},
   "outputs": [
    {
     "name": "stdout",
     "output_type": "stream",
     "text": [
      "Sorted list in ascending order: [1, 1, 2, 3, 3, 4, 5, 5, 6, 9]\n"
     ]
    }
   ],
   "source": [
    "my_list = [3, 1, 4, 1, 5, 9, 2, 6, 5, 3]\n",
    "sorted_list = sorted(my_list)\n",
    "print(\"Sorted list in ascending order:\", sorted_list)"
   ]
  },
  {
   "cell_type": "markdown",
   "id": "876475af",
   "metadata": {},
   "source": [
    "12. Sort a list in descending order."
   ]
  },
  {
   "cell_type": "code",
   "execution_count": 440,
   "id": "218632d3",
   "metadata": {},
   "outputs": [
    {
     "name": "stdout",
     "output_type": "stream",
     "text": [
      "Sorted list in descending order: [9, 6, 5, 5, 4, 3, 3, 2, 1, 1]\n"
     ]
    }
   ],
   "source": [
    "my_list = [3, 1, 4, 1, 5, 9, 2, 6, 5, 3]\n",
    "my_list.sort(reverse=True)\n",
    "print(\"Sorted list in descending order:\", my_list)"
   ]
  },
  {
   "cell_type": "code",
   "execution_count": 441,
   "id": "2df23458",
   "metadata": {},
   "outputs": [
    {
     "data": {
      "text/plain": [
       "[9, 6, 5, 5, 4, 3, 3, 2, 1, 1]"
      ]
     },
     "execution_count": 441,
     "metadata": {},
     "output_type": "execute_result"
    }
   ],
   "source": [
    "my_list = [3, 1, 4, 1, 5, 9, 2, 6, 5, 3]\n",
    "my_list.sort()\n",
    "my_list[::-1]"
   ]
  },
  {
   "cell_type": "markdown",
   "id": "765f4567",
   "metadata": {},
   "source": [
    "13. Create a list of even numbers from 1 to 20."
   ]
  },
  {
   "cell_type": "code",
   "execution_count": 442,
   "id": "c77d6a8e",
   "metadata": {},
   "outputs": [
    {
     "name": "stdout",
     "output_type": "stream",
     "text": [
      "List of even numbers from 1 to 20: [2, 4, 6, 8, 10, 12, 14, 16, 18, 20]\n"
     ]
    }
   ],
   "source": [
    "even_numbers = [x for x in range(1, 21) if x % 2 == 0]\n",
    "print(\"List of even numbers from 1 to 20:\", even_numbers)"
   ]
  },
  {
   "cell_type": "markdown",
   "id": "217d5e39",
   "metadata": {},
   "source": [
    "14. Create a list of odd numbers from 1 to 20."
   ]
  },
  {
   "cell_type": "code",
   "execution_count": 443,
   "id": "c50bd243",
   "metadata": {},
   "outputs": [
    {
     "name": "stdout",
     "output_type": "stream",
     "text": [
      "List of odd numbers from 1 to 20: [1, 3, 5, 7, 9, 11, 13, 15, 17, 19]\n"
     ]
    }
   ],
   "source": [
    "odd_numbers = [x for x in range(1, 21) if x % 2 != 0]\n",
    "print(\"List of odd numbers from 1 to 20:\", odd_numbers)"
   ]
  },
  {
   "cell_type": "markdown",
   "id": "7833c634",
   "metadata": {},
   "source": [
    "15. Find the sum of all elements in a list."
   ]
  },
  {
   "cell_type": "code",
   "execution_count": 444,
   "id": "693001b7",
   "metadata": {},
   "outputs": [
    {
     "name": "stdout",
     "output_type": "stream",
     "text": [
      "Sum of all elements in the list: 15\n"
     ]
    }
   ],
   "source": [
    "my_list = [1, 2, 3, 4, 5]\n",
    "list_sum = sum(my_list)\n",
    "print(\"Sum of all elements in the list:\", list_sum)"
   ]
  },
  {
   "cell_type": "markdown",
   "id": "033c94fa",
   "metadata": {},
   "source": [
    "16. Find the maximum value in a list."
   ]
  },
  {
   "cell_type": "code",
   "execution_count": 445,
   "id": "5d8d5cbf",
   "metadata": {},
   "outputs": [
    {
     "data": {
      "text/plain": [
       "12"
      ]
     },
     "execution_count": 445,
     "metadata": {},
     "output_type": "execute_result"
    }
   ],
   "source": [
    "my_list = [1, 8, 5, 12, 3]\n",
    "max_value = max(my_list)\n",
    "max_value\n"
   ]
  },
  {
   "cell_type": "markdown",
   "id": "991d0ff2",
   "metadata": {},
   "source": [
    "17. Find the minimum value in a list."
   ]
  },
  {
   "cell_type": "code",
   "execution_count": 446,
   "id": "b5e69b13",
   "metadata": {},
   "outputs": [
    {
     "data": {
      "text/plain": [
       "1"
      ]
     },
     "execution_count": 446,
     "metadata": {},
     "output_type": "execute_result"
    }
   ],
   "source": [
    "min(my_list)"
   ]
  },
  {
   "cell_type": "markdown",
   "id": "804b7825",
   "metadata": {},
   "source": [
    "18. Create a list of squares of numbers from 1 to 10."
   ]
  },
  {
   "cell_type": "code",
   "execution_count": 447,
   "id": "20a2a523",
   "metadata": {},
   "outputs": [
    {
     "name": "stdout",
     "output_type": "stream",
     "text": [
      "[1, 4, 9, 16, 25, 36, 49, 64, 81, 100]\n"
     ]
    }
   ],
   "source": [
    "squares = [x ** 2 for x in range(1, 11)]\n",
    "print(squares)"
   ]
  },
  {
   "cell_type": "markdown",
   "id": "bcefc872",
   "metadata": {},
   "source": [
    "19. Create a list of random numbers."
   ]
  },
  {
   "cell_type": "code",
   "execution_count": 448,
   "id": "3da5b800",
   "metadata": {},
   "outputs": [
    {
     "name": "stdout",
     "output_type": "stream",
     "text": [
      "[4, 99, 14, 15, 63, 46, 28, 40, 45, 6]\n"
     ]
    }
   ],
   "source": [
    "import random\n",
    "\n",
    "# Define the range and size of the list\n",
    "min_value = 1\n",
    "max_value = 100\n",
    "list_size = 10\n",
    "\n",
    "# Generate a list of random numbers\n",
    "random_numbers = [random.randint(min_value, max_value) for _ in range(list_size)]\n",
    "\n",
    "print(random_numbers)\n"
   ]
  },
  {
   "cell_type": "markdown",
   "id": "e2113f2f",
   "metadata": {},
   "source": [
    "20. Remove duplicates from a list."
   ]
  },
  {
   "cell_type": "code",
   "execution_count": 449,
   "id": "17e05f44",
   "metadata": {},
   "outputs": [
    {
     "name": "stdout",
     "output_type": "stream",
     "text": [
      "[1, 2, 3, 4, 5, 6]\n"
     ]
    }
   ],
   "source": [
    "my_list = [1, 2, 3, 2, 4, 5, 1, 6, 3]\n",
    "\n",
    "unique_elements = list(set(my_list))\n",
    "\n",
    "print(unique_elements)"
   ]
  },
  {
   "cell_type": "markdown",
   "id": "36e69832",
   "metadata": {},
   "source": [
    "21. Find the common elements between two lists."
   ]
  },
  {
   "cell_type": "code",
   "execution_count": 450,
   "id": "0b4463d6",
   "metadata": {},
   "outputs": [
    {
     "data": {
      "text/plain": [
       "[4, 5]"
      ]
     },
     "execution_count": 450,
     "metadata": {},
     "output_type": "execute_result"
    }
   ],
   "source": [
    "list1 = [1, 2, 3, 4, 5]\n",
    "list2 = [4, 5, 6, 7, 8]\n",
    "\n",
    "common_elements = list(set(list1) & set(list2))\n",
    "common_elements"
   ]
  },
  {
   "cell_type": "code",
   "execution_count": 458,
   "id": "4975460a",
   "metadata": {},
   "outputs": [
    {
     "data": {
      "text/plain": [
       "[4, 5]"
      ]
     },
     "execution_count": 458,
     "metadata": {},
     "output_type": "execute_result"
    }
   ],
   "source": [
    "common_elements = list(set(list1).intersection(list2))\n",
    "common_elements"
   ]
  },
  {
   "cell_type": "markdown",
   "id": "9be9d6d2",
   "metadata": {},
   "source": [
    "23. Merge two lists."
   ]
  },
  {
   "cell_type": "markdown",
   "id": "c84bebd4",
   "metadata": {},
   "source": [
    "23. Merge two lists."
   ]
  },
  {
   "cell_type": "code",
   "execution_count": 460,
   "id": "851b8d59",
   "metadata": {},
   "outputs": [
    {
     "data": {
      "text/plain": [
       "[1, 2, 3, 4, 5, 6]"
      ]
     },
     "execution_count": 460,
     "metadata": {},
     "output_type": "execute_result"
    }
   ],
   "source": [
    "list1 = [1, 2, 3]\n",
    "list2 = [4, 5, 6]\n",
    "merged_list = list1 + list2\n",
    "merged_list"
   ]
  },
  {
   "cell_type": "code",
   "execution_count": 462,
   "id": "51a56c5e",
   "metadata": {},
   "outputs": [
    {
     "data": {
      "text/plain": [
       "[1, 2, 3, 4, 5, 6]"
      ]
     },
     "execution_count": 462,
     "metadata": {},
     "output_type": "execute_result"
    }
   ],
   "source": [
    "list1 = [1, 2, 3]\n",
    "list2 = [4, 5, 6]\n",
    "list1.extend(list2)\n",
    "merged_list = list1\n",
    "merged_list"
   ]
  },
  {
   "cell_type": "markdown",
   "id": "82f77eb1",
   "metadata": {},
   "source": [
    "24. Multiply all elements in a list by 2."
   ]
  },
  {
   "cell_type": "code",
   "execution_count": 463,
   "id": "31d81415",
   "metadata": {},
   "outputs": [
    {
     "name": "stdout",
     "output_type": "stream",
     "text": [
      "[2, 4, 6, 8, 10]\n"
     ]
    }
   ],
   "source": [
    "my_list = [1, 2, 3, 4, 5]\n",
    "multiplied_list = [x * 2 for x in my_list]\n",
    "print(multiplied_list)"
   ]
  },
  {
   "cell_type": "markdown",
   "id": "b9781a34",
   "metadata": {},
   "source": [
    "25. Filter out all even numbers from a list."
   ]
  },
  {
   "cell_type": "code",
   "execution_count": 464,
   "id": "691b84f2",
   "metadata": {},
   "outputs": [
    {
     "name": "stdout",
     "output_type": "stream",
     "text": [
      "[1, 3, 5, 7, 9]\n"
     ]
    }
   ],
   "source": [
    "my_list = [1, 2, 3, 4, 5, 6, 7, 8, 9, 10]\n",
    "filtered_list = [x for x in my_list if x % 2 != 0]\n",
    "print(filtered_list)"
   ]
  },
  {
   "cell_type": "markdown",
   "id": "8606f87d",
   "metadata": {},
   "source": [
    "26. Convert a list of strings to a list of integers."
   ]
  },
  {
   "cell_type": "code",
   "execution_count": 465,
   "id": "60ab4677",
   "metadata": {},
   "outputs": [
    {
     "name": "stdout",
     "output_type": "stream",
     "text": [
      "[1, 2, 3, 4, 5]\n"
     ]
    }
   ],
   "source": [
    "string_list = [\"1\", \"2\", \"3\", \"4\", \"5\"]\n",
    "integer_list = [int(x) for x in string_list]\n",
    "print(integer_list)\n"
   ]
  },
  {
   "cell_type": "markdown",
   "id": "5262ebe3",
   "metadata": {},
   "source": [
    "27. Convert a list of integers to a list of strings."
   ]
  },
  {
   "cell_type": "code",
   "execution_count": 466,
   "id": "73f9fc53",
   "metadata": {},
   "outputs": [
    {
     "name": "stdout",
     "output_type": "stream",
     "text": [
      "['1', '2', '3', '4', '5']\n"
     ]
    }
   ],
   "source": [
    "integer_list = [1, 2, 3, 4, 5]\n",
    "string_list = [str(x) for x in integer_list]\n",
    "print(string_list)"
   ]
  },
  {
   "cell_type": "markdown",
   "id": "70321d82",
   "metadata": {},
   "source": [
    "28. Flatten a nested list."
   ]
  },
  {
   "cell_type": "code",
   "execution_count": 470,
   "id": "952c8909",
   "metadata": {},
   "outputs": [
    {
     "data": {
      "text/plain": [
       "[1, 2, 3, 4, 5, 6, 7, 8, 9]"
      ]
     },
     "execution_count": 470,
     "metadata": {},
     "output_type": "execute_result"
    }
   ],
   "source": [
    "def flatten_list(nested_list):\n",
    "    flattened_list = []\n",
    "    for item in nested_list:\n",
    "        if isinstance(item, list):\n",
    "            flattened_list.extend(flatten_list(item))\n",
    "        else:\n",
    "            flattened_list.append(item)\n",
    "    return flattened_list\n",
    "\n",
    "nested_list = [[1, 2, 3], [4, 5], [6, [7, 8], 9]]\n",
    "flatten_list(nested_list)"
   ]
  },
  {
   "cell_type": "markdown",
   "id": "3da1d1f7",
   "metadata": {},
   "source": [
    "29. Create a list of the first 10 Fibonacci numbers."
   ]
  },
  {
   "cell_type": "code",
   "execution_count": 477,
   "id": "09e6bcba",
   "metadata": {},
   "outputs": [
    {
     "name": "stdout",
     "output_type": "stream",
     "text": [
      "[0, 1, 1, 2, 3, 5, 8, 13, 21, 34]\n"
     ]
    }
   ],
   "source": [
    "def fibonacci(n):\n",
    "    fibonacci_list = [0, 1]  # Initialize the list with the first two Fibonacci numbers\n",
    "\n",
    "    # Generate the remaining Fibonacci numbers\n",
    "    for i in range(2, n):\n",
    "        next_number = fibonacci_list[-1] + fibonacci_list[-2]\n",
    "        fibonacci_list.append(next_number)\n",
    "\n",
    "    return fibonacci_list\n",
    "\n",
    "# Create a list of the first 10 Fibonacci numbers\n",
    "first_10_fibonacci = fibonacci(10)\n",
    "print(first_10_fibonacci)\n"
   ]
  },
  {
   "cell_type": "markdown",
   "id": "a376de80",
   "metadata": {},
   "source": [
    "30. Check if a list is sorted."
   ]
  },
  {
   "cell_type": "code",
   "execution_count": 478,
   "id": "3b21d0fe",
   "metadata": {},
   "outputs": [
    {
     "name": "stdout",
     "output_type": "stream",
     "text": [
      "True\n",
      "False\n"
     ]
    }
   ],
   "source": [
    "def is_sorted(lst):\n",
    "    \"\"\"\n",
    "    Check if a list is sorted in ascending order.\n",
    "    \"\"\"\n",
    "    for i in range(len(lst) - 1):\n",
    "        if lst[i] > lst[i + 1]:\n",
    "            return False\n",
    "    return True\n",
    "\n",
    "# Test the function\n",
    "list1 = [1, 2, 3, 4, 5]\n",
    "list2 = [5, 4, 3, 2, 1]\n",
    "\n",
    "print(is_sorted(list1))  # True\n",
    "print(is_sorted(list2))  # False\n"
   ]
  },
  {
   "cell_type": "markdown",
   "id": "bde218a6",
   "metadata": {},
   "source": [
    "31. Rotate a list to the left by `n` positions."
   ]
  },
  {
   "cell_type": "code",
   "execution_count": 481,
   "id": "c92909de",
   "metadata": {},
   "outputs": [
    {
     "name": "stdout",
     "output_type": "stream",
     "text": [
      "rotated list [3, 4, 5, 1, 2]\n"
     ]
    }
   ],
   "source": [
    "l = [1, 2, 3, 4, 5]\n",
    "\n",
    "def rotate_left (list , n):\n",
    "   \n",
    "    if n > len(list):\n",
    "        raise f\"out of range error\"\n",
    "    rotated_list = list[n:] + list[:n]\n",
    "\n",
    "    return print(f\"rotated list {rotated_list}\")\n",
    "\n",
    "rotate_left(l,2)"
   ]
  },
  {
   "cell_type": "markdown",
   "id": "a17269dd",
   "metadata": {},
   "source": [
    "32. Rotate a list to the right by `n` positions."
   ]
  },
  {
   "cell_type": "code",
   "execution_count": 484,
   "id": "33d0bc2a",
   "metadata": {},
   "outputs": [
    {
     "data": {
      "text/plain": [
       "[2, 3, 4, 5, 1]"
      ]
     },
     "execution_count": 484,
     "metadata": {},
     "output_type": "execute_result"
    }
   ],
   "source": [
    "l = [1, 2, 3, 4, 5]\n",
    "def rotate_right (list,n):\n",
    "    n %= len(list)\n",
    "    rotated_list = list[-n:] + list[:-n]\n",
    "    return rotated_list \n",
    "rotate_right(l,9) # n will be 4 , 9%5 len(l) = 5/5 =1, remain 4 . "
   ]
  },
  {
   "cell_type": "markdown",
   "id": "f5902e4b",
   "metadata": {},
   "source": [
    "33. Create a list of prime numbers up to 50."
   ]
  },
  {
   "cell_type": "code",
   "execution_count": 488,
   "id": "bcc2e06e",
   "metadata": {},
   "outputs": [
    {
     "name": "stdout",
     "output_type": "stream",
     "text": [
      "[2, 3, 5, 7, 11, 13, 17, 19, 23, 29, 31, 37, 41, 43, 47]\n"
     ]
    }
   ],
   "source": [
    "list_of_prime_numbers = []\n",
    "\n",
    "for n in range(2,50):\n",
    "    is_prime = True\n",
    "    for i in range (2,n):\n",
    "       if  n % i == 0 :\n",
    "           is_prime = False\n",
    "           break\n",
    "    else : list_of_prime_numbers.append(n)\n",
    "           \n",
    "\n",
    "print(list_of_prime_numbers)"
   ]
  },
  {
   "cell_type": "markdown",
   "id": "60a04767",
   "metadata": {},
   "source": [
    "34. Split a list into chunks of size `n`."
   ]
  },
  {
   "cell_type": "code",
   "execution_count": 493,
   "id": "e68d4bf2",
   "metadata": {},
   "outputs": [
    {
     "name": "stdout",
     "output_type": "stream",
     "text": [
      "[[1, 2, 3], [4, 5, 6], [7, 8, 9], [10]]\n"
     ]
    }
   ],
   "source": [
    "def chunkify(lst, n):\n",
    "    \n",
    "   return [lst[i:i + n] for i in range(0, len(lst), n)]\n",
    "\n",
    "my_list = [1, 2, 3, 4, 5, 6, 7, 8, 9, 10]\n",
    "chunk_size = 3\n",
    "chunks = chunkify(my_list, chunk_size)\n",
    "print(chunks)"
   ]
  },
  {
   "cell_type": "markdown",
   "id": "5e92bd2a",
   "metadata": {},
   "source": [
    "35. Find the second largest number in a list."
   ]
  },
  {
   "cell_type": "code",
   "execution_count": 494,
   "id": "fc54b521",
   "metadata": {},
   "outputs": [
    {
     "name": "stdout",
     "output_type": "stream",
     "text": [
      "second largest element : 99\n"
     ]
    }
   ],
   "source": [
    "l = [99,-100,400,2,45,-900]\n",
    "l.sort()\n",
    "second_max = l[-2]\n",
    "print(f\"second largest element : {second_max}\")"
   ]
  },
  {
   "cell_type": "markdown",
   "id": "cc1fc213",
   "metadata": {},
   "source": [
    "36. Replace every element in a list with its square."
   ]
  },
  {
   "cell_type": "code",
   "execution_count": 495,
   "id": "bd509dca",
   "metadata": {},
   "outputs": [
    {
     "data": {
      "text/plain": [
       "[9801, 10000, 160000, 4, 2025, 810000]"
      ]
     },
     "execution_count": 495,
     "metadata": {},
     "output_type": "execute_result"
    }
   ],
   "source": [
    "l = [99,-100,400,2,45,-900]\n",
    "l2 = []\n",
    "for i in l :\n",
    "    i*=i\n",
    "    l2.append(i)\n",
    "l2"
   ]
  },
  {
   "cell_type": "code",
   "execution_count": 497,
   "id": "ac98dc5c",
   "metadata": {},
   "outputs": [
    {
     "data": {
      "text/plain": [
       "[9801, 10000, 160000, 4, 2025, 810000]"
      ]
     },
     "execution_count": 497,
     "metadata": {},
     "output_type": "execute_result"
    }
   ],
   "source": [
    "squared_list = [x**2 for x in l ]\n",
    "squared_list"
   ]
  },
  {
   "cell_type": "markdown",
   "id": "fbda2864",
   "metadata": {},
   "source": [
    "37. Convert a list to a dictionary where list elements become keys and their\n",
    "indices become values."
   ]
  },
  {
   "cell_type": "code",
   "execution_count": 503,
   "id": "d83d524d",
   "metadata": {},
   "outputs": [
    {
     "data": {
      "text/plain": [
       "{1: 0, 2: 1, 3: 2, 4: 3, 5: 4, 6: 5, 7: 6, 8: 7, 9: 8, 10: 9}"
      ]
     },
     "execution_count": 503,
     "metadata": {},
     "output_type": "execute_result"
    }
   ],
   "source": [
    "l = [1, 2, 3, 4, 5, 6, 7, 8, 9, 10]\n",
    "ldict = {}\n",
    "for i in l :\n",
    "   ldict[i] = l.index(i)\n",
    "ldict"
   ]
  },
  {
   "cell_type": "code",
   "execution_count": 502,
   "id": "8c6e72d8",
   "metadata": {},
   "outputs": [
    {
     "data": {
      "text/plain": [
       "{1: 0, 2: 1, 3: 2, 4: 3, 5: 4, 6: 5, 7: 6, 8: 7, 9: 8, 10: 9}"
      ]
     },
     "execution_count": 502,
     "metadata": {},
     "output_type": "execute_result"
    }
   ],
   "source": [
    "ldict = {value : index for index ,value in enumerate (l)}\n",
    "ldict"
   ]
  },
  {
   "cell_type": "markdown",
   "id": "88122ec8",
   "metadata": {},
   "source": [
    "38. Shuffle the elements of a list randomly."
   ]
  },
  {
   "cell_type": "code",
   "execution_count": 510,
   "id": "0c321e69",
   "metadata": {},
   "outputs": [
    {
     "data": {
      "text/plain": [
       "[9, 1, 10, 3, 2, 7, 8, 5, 6, 4]"
      ]
     },
     "execution_count": 510,
     "metadata": {},
     "output_type": "execute_result"
    }
   ],
   "source": [
    "import random\n",
    "l = [1, 2, 3, 4, 5, 6, 7, 8, 9, 10]\n",
    "random.shuffle(l)\n",
    "l"
   ]
  },
  {
   "cell_type": "markdown",
   "id": "4fd62d28",
   "metadata": {},
   "source": [
    "39. Create a list of the first 10 factorial numbers."
   ]
  },
  {
   "cell_type": "code",
   "execution_count": 511,
   "id": "036a80b9",
   "metadata": {},
   "outputs": [
    {
     "data": {
      "text/plain": [
       "[1, 1, 2, 6, 24, 120, 720, 5040, 40320, 362880]"
      ]
     },
     "execution_count": 511,
     "metadata": {},
     "output_type": "execute_result"
    }
   ],
   "source": [
    "def factorial(n):\n",
    "    if n == 0 :\n",
    "        return 1\n",
    "    else:\n",
    "        return n * factorial(n-1)\n",
    "list_of_ten = [factorial(i) for i in range(10)]\n",
    "list_of_ten"
   ]
  },
  {
   "cell_type": "markdown",
   "id": "aa413e6c",
   "metadata": {},
   "source": [
    "40. Check if two lists have at least one element in common."
   ]
  },
  {
   "cell_type": "code",
   "execution_count": 525,
   "id": "c76db471",
   "metadata": {},
   "outputs": [
    {
     "name": "stdout",
     "output_type": "stream",
     "text": [
      "these two lists have one or more elements in commen\n",
      "elements in common {1, 100}\n"
     ]
    }
   ],
   "source": [
    "l1= [100, 2, 34, 1, 5]\n",
    "l2 = [100, 1, 45, 9, 7]\n",
    "set1 = set(l1)\n",
    "set2 = set(l2)\n",
    "\n",
    "if set1.intersection(set2) :\n",
    "    print(f\"these two lists have one or more elements in commen\")\n",
    "    print(f\"elements in common {set1.intersection(set2)}\")\n",
    "else :\n",
    "    print(\"no \")"
   ]
  },
  {
   "cell_type": "markdown",
   "id": "31cc8d06",
   "metadata": {},
   "source": [
    "41. Remove all elements from a list."
   ]
  },
  {
   "cell_type": "code",
   "execution_count": 526,
   "id": "9b3116fa",
   "metadata": {},
   "outputs": [
    {
     "data": {
      "text/plain": [
       "[]"
      ]
     },
     "execution_count": 526,
     "metadata": {},
     "output_type": "execute_result"
    }
   ],
   "source": [
    "l2 = [100, 1, 45, 9, 7]\n",
    "l2=[]\n",
    "l2"
   ]
  },
  {
   "cell_type": "code",
   "execution_count": 527,
   "id": "f2ffcea1",
   "metadata": {},
   "outputs": [
    {
     "data": {
      "text/plain": [
       "[]"
      ]
     },
     "execution_count": 527,
     "metadata": {},
     "output_type": "execute_result"
    }
   ],
   "source": [
    "l1.clear()\n",
    "l1"
   ]
  },
  {
   "cell_type": "markdown",
   "id": "d56e6061",
   "metadata": {},
   "source": [
    "42. Replace negative numbers in a list with 0."
   ]
  },
  {
   "cell_type": "code",
   "execution_count": 533,
   "id": "068bec1e",
   "metadata": {},
   "outputs": [
    {
     "data": {
      "text/plain": [
       "[0, 2, 0, 12, 67]"
      ]
     },
     "execution_count": 533,
     "metadata": {},
     "output_type": "execute_result"
    }
   ],
   "source": [
    "lst = [-200, 2, -45, 12, 67]\n",
    "modified_list = []\n",
    "for x in lst :\n",
    "    if x < 0 :\n",
    "        \n",
    "        modified_list.append(0)\n",
    "    else :\n",
    "        modified_list.append(x)\n",
    "modified_list"
   ]
  },
  {
   "cell_type": "markdown",
   "id": "b15b5b95",
   "metadata": {},
   "source": [
    "43. Convert a string into a list of words."
   ]
  },
  {
   "cell_type": "code",
   "execution_count": 534,
   "id": "fc7e7a52",
   "metadata": {},
   "outputs": [
    {
     "data": {
      "text/plain": [
       "['Hello', 'i', 'love', 'python']"
      ]
     },
     "execution_count": 534,
     "metadata": {},
     "output_type": "execute_result"
    }
   ],
   "source": [
    "st = \"Hello i love python\"\n",
    "st_list = st.split()\n",
    "st_list"
   ]
  },
  {
   "cell_type": "markdown",
   "id": "a2a153f7",
   "metadata": {},
   "source": [
    "44. Convert a list of words into a string."
   ]
  },
  {
   "cell_type": "code",
   "execution_count": 535,
   "id": "dbf6ade6",
   "metadata": {},
   "outputs": [
    {
     "data": {
      "text/plain": [
       "'Hello i love python'"
      ]
     },
     "execution_count": 535,
     "metadata": {},
     "output_type": "execute_result"
    }
   ],
   "source": [
    "\" \".join(st_list)"
   ]
  },
  {
   "cell_type": "markdown",
   "id": "2e905152",
   "metadata": {},
   "source": [
    "45. Create a list of the first `n` powers of 2."
   ]
  },
  {
   "cell_type": "code",
   "execution_count": 538,
   "id": "716f0049",
   "metadata": {},
   "outputs": [
    {
     "data": {
      "text/plain": [
       "[1, 2, 4, 8, 16, 32, 64, 128, 256, 512]"
      ]
     },
     "execution_count": 538,
     "metadata": {},
     "output_type": "execute_result"
    }
   ],
   "source": [
    "def first_n_power_2 (n):\n",
    "    lnp2 = []\n",
    "    for i in range(n):\n",
    "        i=2**i\n",
    "        lnp2.append(i)\n",
    "    return lnp2\n",
    "first_n_power_2(10)"
   ]
  },
  {
   "cell_type": "markdown",
   "id": "71198257",
   "metadata": {},
   "source": [
    "46. Find the longest string in a list of strings."
   ]
  },
  {
   "cell_type": "code",
   "execution_count": 546,
   "id": "391b2218",
   "metadata": {},
   "outputs": [
    {
     "name": "stdout",
     "output_type": "stream",
     "text": [
      "Longest string: kljsbdfvlk\n"
     ]
    }
   ],
   "source": [
    "st_list = ['Hello', 'i', 'love', 'python', 'kljsbdfvlk']\n",
    "longest_string = max(st_list, key=len)\n",
    "print(\"Longest string:\", longest_string) "
   ]
  },
  {
   "cell_type": "code",
   "execution_count": 550,
   "id": "1dcac7f9",
   "metadata": {},
   "outputs": [
    {
     "data": {
      "text/plain": [
       "'kljsbdfvlk'"
      ]
     },
     "execution_count": 550,
     "metadata": {},
     "output_type": "execute_result"
    }
   ],
   "source": [
    "lonest = max(st_list , key = len )\n",
    "lonest"
   ]
  },
  {
   "cell_type": "markdown",
   "id": "e4091cf6",
   "metadata": {},
   "source": [
    "47. Find the shortest string in a list of strings."
   ]
  },
  {
   "cell_type": "code",
   "execution_count": 551,
   "id": "8a73ecf6",
   "metadata": {},
   "outputs": [
    {
     "data": {
      "text/plain": [
       "'i'"
      ]
     },
     "execution_count": 551,
     "metadata": {},
     "output_type": "execute_result"
    }
   ],
   "source": [
    "min_st = min(st_list , key = len)\n",
    "min_st"
   ]
  },
  {
   "cell_type": "markdown",
   "id": "a6316b17",
   "metadata": {},
   "source": [
    "48. Create a list of the first `n` triangular numbers."
   ]
  },
  {
   "cell_type": "code",
   "execution_count": 557,
   "id": "f4d1f619",
   "metadata": {},
   "outputs": [
    {
     "data": {
      "text/plain": [
       "[1, 3, 6, 10, 15, 21, 28, 36, 45]"
      ]
     },
     "execution_count": 557,
     "metadata": {},
     "output_type": "execute_result"
    }
   ],
   "source": [
    "def triangualr_num (n) :\n",
    "    nlist = []\n",
    "    for i in range(1,n+1) :\n",
    "         i = (i * (i + 1) // 2)\n",
    "         nlist.append(i)\n",
    "    return nlist\n",
    "triangualr_num(9)"
   ]
  },
  {
   "cell_type": "markdown",
   "id": "5f06b2b5",
   "metadata": {},
   "source": [
    "49. Check if a list contains another list as a subsequence."
   ]
  },
  {
   "cell_type": "code",
   "execution_count": 559,
   "id": "9967d14b",
   "metadata": {},
   "outputs": [
    {
     "name": "stdout",
     "output_type": "stream",
     "text": [
      "True\n"
     ]
    }
   ],
   "source": [
    "def is_subsequence(main_list, subsequence):\n",
    "    # Initialize pointers for the main list and the subsequence\n",
    "    main_ptr = 0\n",
    "    sub_ptr = 0\n",
    "    \n",
    "    # Iterate through the main list\n",
    "    while main_ptr < len(main_list) and sub_ptr < len(subsequence):\n",
    "        # If the current element in the main list matches the current element in the subsequence\n",
    "        if main_list[main_ptr] == subsequence[sub_ptr]:\n",
    "            # Move to the next element in the subsequence\n",
    "            sub_ptr += 1\n",
    "        # Move to the next element in the main list\n",
    "        main_ptr += 1\n",
    "    \n",
    "    # If we reached the end of the subsequence, it is a subsequence of the main list\n",
    "    return sub_ptr == len(subsequence)\n",
    "\n",
    "# Example usage:\n",
    "main_list = [1, 2, 3, 4, 5, 6, 7, 8, 9]\n",
    "subsequence = [2, 4, 6, 8]\n",
    "print(is_subsequence(main_list, subsequence))  # Output: True\n"
   ]
  },
  {
   "cell_type": "markdown",
   "id": "ad00fcb9",
   "metadata": {},
   "source": [
    "50. Swap two elements in a list by their indices."
   ]
  },
  {
   "cell_type": "code",
   "execution_count": 560,
   "id": "46dfdb9f",
   "metadata": {},
   "outputs": [
    {
     "name": "stdout",
     "output_type": "stream",
     "text": [
      "[1, 4, 3, 2, 5]\n"
     ]
    }
   ],
   "source": [
    "def swap_elements(lst, idx1, idx2):\n",
    "    # Check if the indices are valid\n",
    "    if 0 <= idx1 < len(lst) and 0 <= idx2 < len(lst):\n",
    "        # Swap the elements at the given indices\n",
    "        lst[idx1], lst[idx2] = lst[idx2], lst[idx1]\n",
    "\n",
    "# Example usage:\n",
    "my_list = [1, 2, 3, 4, 5]\n",
    "swap_elements(my_list, 1, 3)\n",
    "print(my_list)  # Output: [1, 4, 3, 2, 5]\n"
   ]
  },
  {
   "cell_type": "code",
   "execution_count": 561,
   "id": "ebd4626b",
   "metadata": {},
   "outputs": [
    {
     "data": {
      "text/plain": [
       "[1, 4, 3, 2, 5]"
      ]
     },
     "execution_count": 561,
     "metadata": {},
     "output_type": "execute_result"
    }
   ],
   "source": [
    "my_list = [1, 2, 3, 4, 5]\n",
    "my_list[1] , my_list[3] = my_list[3] , my_list[1]\n",
    "my_list"
   ]
  },
  {
   "cell_type": "markdown",
   "id": "4cda91b9",
   "metadata": {},
   "source": [
    "# Tuple Based Practice Problem :"
   ]
  },
  {
   "cell_type": "markdown",
   "id": "cd34e465",
   "metadata": {},
   "source": [
    "1. Create a tuple with integers from 1 to 5."
   ]
  },
  {
   "cell_type": "code",
   "execution_count": 562,
   "id": "81225cd4",
   "metadata": {},
   "outputs": [
    {
     "data": {
      "text/plain": [
       "(1, 2, 3, 4, 5)"
      ]
     },
     "execution_count": 562,
     "metadata": {},
     "output_type": "execute_result"
    }
   ],
   "source": [
    "my_tuple = (1, 2, 3, 4, 5)\n",
    "my_tuple"
   ]
  },
  {
   "cell_type": "markdown",
   "id": "f88bc47d",
   "metadata": {},
   "source": [
    "2. Access the third element of a tuple."
   ]
  },
  {
   "cell_type": "code",
   "execution_count": 563,
   "id": "bebdb489",
   "metadata": {},
   "outputs": [
    {
     "data": {
      "text/plain": [
       "3"
      ]
     },
     "execution_count": 563,
     "metadata": {},
     "output_type": "execute_result"
    }
   ],
   "source": [
    "my_tuple[2]"
   ]
  },
  {
   "cell_type": "markdown",
   "id": "0cbb668d",
   "metadata": {},
   "source": [
    "3. Find the length of a tuple without using the `len()` function."
   ]
  },
  {
   "cell_type": "code",
   "execution_count": 568,
   "id": "89134f65",
   "metadata": {},
   "outputs": [
    {
     "data": {
      "text/plain": [
       "5"
      ]
     },
     "execution_count": 568,
     "metadata": {},
     "output_type": "execute_result"
    }
   ],
   "source": [
    "counter = 0\n",
    "for _ in my_tuple :\n",
    "    counter+=1\n",
    "counter"
   ]
  },
  {
   "cell_type": "markdown",
   "id": "0ed1e46c",
   "metadata": {},
   "source": [
    "4. Count the occurrences of an element in a tuple."
   ]
  },
  {
   "cell_type": "code",
   "execution_count": 570,
   "id": "c52f42ed",
   "metadata": {},
   "outputs": [
    {
     "data": {
      "text/plain": [
       "{1: 4, 2: 2, 3: 1}"
      ]
     },
     "execution_count": 570,
     "metadata": {},
     "output_type": "execute_result"
    }
   ],
   "source": [
    "t1 = (1,2,3,1,2,1,1)\n",
    "tdict = {}\n",
    "for i in t1 :\n",
    "    tdict[i] = t1.count(i)\n",
    "tdict\n"
   ]
  },
  {
   "cell_type": "code",
   "execution_count": 571,
   "id": "0d117e8d",
   "metadata": {},
   "outputs": [
    {
     "name": "stdout",
     "output_type": "stream",
     "text": [
      "The element 2 occurs 4 times in the tuple.\n"
     ]
    }
   ],
   "source": [
    "my_tuple = (1, 2, 2, 3, 2, 4, 5, 2)   \n",
    "element_to_count = 2   \n",
    "occurrences = my_tuple.count(element_to_count)\n",
    "\n",
    "print(f\"The element {element_to_count} occurs {occurrences} times in the tuple.\")\n"
   ]
  },
  {
   "cell_type": "markdown",
   "id": "ad0d53b1",
   "metadata": {},
   "source": [
    "5. Find the index of the first occurrence of an element in a tuple."
   ]
  },
  {
   "cell_type": "code",
   "execution_count": 572,
   "id": "918a2660",
   "metadata": {},
   "outputs": [
    {
     "data": {
      "text/plain": [
       "1"
      ]
     },
     "execution_count": 572,
     "metadata": {},
     "output_type": "execute_result"
    }
   ],
   "source": [
    "my_tuple = (1, 2, 2, 3, 2, 4, 5, 2)\n",
    "my_tuple.index(2)"
   ]
  },
  {
   "cell_type": "markdown",
   "id": "6ed45af6",
   "metadata": {},
   "source": [
    "6. Check if an element exists in a tuple."
   ]
  },
  {
   "cell_type": "code",
   "execution_count": 574,
   "id": "c6ed726b",
   "metadata": {},
   "outputs": [
    {
     "name": "stdout",
     "output_type": "stream",
     "text": [
      "doesn't exist\n"
     ]
    }
   ],
   "source": [
    "elem = 7 \n",
    "if elem in my_tuple :\n",
    "    print(f\"{elem} exists in this tuple\")\n",
    "else :\n",
    "    print(\"doesn't exist\")"
   ]
  },
  {
   "cell_type": "markdown",
   "id": "2d665fc0",
   "metadata": {},
   "source": [
    "7. Convert a tuple to a list."
   ]
  },
  {
   "cell_type": "code",
   "execution_count": 575,
   "id": "139df10b",
   "metadata": {},
   "outputs": [
    {
     "data": {
      "text/plain": [
       "[1, 2, 2, 3, 2, 4, 5, 2]"
      ]
     },
     "execution_count": 575,
     "metadata": {},
     "output_type": "execute_result"
    }
   ],
   "source": [
    "lt = list(my_tuple)\n",
    "lt"
   ]
  },
  {
   "cell_type": "markdown",
   "id": "52867b24",
   "metadata": {},
   "source": [
    "8. Convert a list to a tuple."
   ]
  },
  {
   "cell_type": "code",
   "execution_count": 576,
   "id": "70af626e",
   "metadata": {},
   "outputs": [
    {
     "data": {
      "text/plain": [
       "(1, 2, 2, 3, 2, 4, 5, 2)"
      ]
     },
     "execution_count": 576,
     "metadata": {},
     "output_type": "execute_result"
    }
   ],
   "source": [
    "tl = tuple(lt)\n",
    "tl"
   ]
  },
  {
   "cell_type": "markdown",
   "id": "1af4fdd0",
   "metadata": {},
   "source": [
    "9. Unpack the elements of a tuple into variables."
   ]
  },
  {
   "cell_type": "code",
   "execution_count": 580,
   "id": "22c9f263",
   "metadata": {},
   "outputs": [
    {
     "data": {
      "text/plain": [
       "1"
      ]
     },
     "execution_count": 580,
     "metadata": {},
     "output_type": "execute_result"
    }
   ],
   "source": [
    "my_tuple = (1, 2, 3) \n",
    "a, b, c = my_tuple\n",
    "a "
   ]
  },
  {
   "cell_type": "markdown",
   "id": "be30dd16",
   "metadata": {},
   "source": [
    "10. Create a tuple of even numbers from 1 to 10."
   ]
  },
  {
   "cell_type": "code",
   "execution_count": 592,
   "id": "2a1d13fb",
   "metadata": {},
   "outputs": [
    {
     "data": {
      "text/plain": [
       "(2, 4, 6, 8, 10)"
      ]
     },
     "execution_count": 592,
     "metadata": {},
     "output_type": "execute_result"
    }
   ],
   "source": [
    "even_tuple = tuple ( i for i in range(1,11) if i % 2 ==0 ) # or range(2,11,2) from 2 .. two steps 2, 4, 6 ...\n",
    "even_tuple"
   ]
  },
  {
   "cell_type": "markdown",
   "id": "87ef043e",
   "metadata": {},
   "source": [
    "11. Create a tuple of odd numbers from 1 to 10."
   ]
  },
  {
   "cell_type": "code",
   "execution_count": 591,
   "id": "8f945bc2",
   "metadata": {},
   "outputs": [
    {
     "data": {
      "text/plain": [
       "(1, 3, 5, 7, 9)"
      ]
     },
     "execution_count": 591,
     "metadata": {},
     "output_type": "execute_result"
    }
   ],
   "source": [
    "odd_tuple =tuple(i for i in range(1,11,2)) # from 1,  two steps , 3, 5, 7.... \n",
    "odd_tuple                                  # or i % 2 != 0 "
   ]
  },
  {
   "cell_type": "markdown",
   "id": "b4d12236",
   "metadata": {},
   "source": [
    "12. Concatenate two tuples."
   ]
  },
  {
   "cell_type": "code",
   "execution_count": 595,
   "id": "66d59382",
   "metadata": {},
   "outputs": [
    {
     "data": {
      "text/plain": [
       "(1, 3, 5, 7, 9, 2, 4, 6, 8, 10)"
      ]
     },
     "execution_count": 595,
     "metadata": {},
     "output_type": "execute_result"
    }
   ],
   "source": [
    "all_tuple = odd_tuple +even_tuple\n",
    "all_tuple"
   ]
  },
  {
   "cell_type": "markdown",
   "id": "88e86e83",
   "metadata": {},
   "source": [
    "13. Repeat a tuple three times."
   ]
  },
  {
   "cell_type": "code",
   "execution_count": 598,
   "id": "680d69c6",
   "metadata": {},
   "outputs": [
    {
     "name": "stdout",
     "output_type": "stream",
     "text": [
      "(1, 3, 5, 7, 9, 2, 4, 6, 8, 10, 1, 3, 5, 7, 9, 2, 4, 6, 8, 10, 1, 3, 5, 7, 9, 2, 4, 6, 8, 10) "
     ]
    }
   ],
   "source": [
    "repeated_tuple = all_tuple *3\n",
    "print(repeated_tuple,end=\" \")"
   ]
  },
  {
   "cell_type": "markdown",
   "id": "5da28814",
   "metadata": {},
   "source": [
    "14. Check if a tuple is empty."
   ]
  },
  {
   "cell_type": "code",
   "execution_count": 610,
   "id": "38b0e4dc",
   "metadata": {},
   "outputs": [
    {
     "name": "stdout",
     "output_type": "stream",
     "text": [
      "test_tuple : (1,)\n"
     ]
    },
    {
     "data": {
      "text/plain": [
       "tuple"
      ]
     },
     "execution_count": 610,
     "metadata": {},
     "output_type": "execute_result"
    }
   ],
   "source": [
    "test_tuple = (1,) # the (,) if the tuple has one element  \n",
    "if not test_tuple :  # or len(test_tuple) == 0\n",
    "    print(f\"test_tuple is empty\")\n",
    "else :\n",
    "    print(f\"test_tuple : {test_tuple}\")\n",
    "type(test_tuple)"
   ]
  },
  {
   "cell_type": "markdown",
   "id": "384f7d7d",
   "metadata": {},
   "source": [
    "15. Create a nested tuple."
   ]
  },
  {
   "cell_type": "code",
   "execution_count": 611,
   "id": "3841e159",
   "metadata": {},
   "outputs": [
    {
     "data": {
      "text/plain": [
       "((1, 'A'), (2, 'B'), (3, 'C'))"
      ]
     },
     "execution_count": 611,
     "metadata": {},
     "output_type": "execute_result"
    }
   ],
   "source": [
    "nested_tuple = ((1, \"A\"), (2, \"B\"), (3, \"C\"))\n",
    "nested_tuple"
   ]
  },
  {
   "cell_type": "markdown",
   "id": "07b5b54d",
   "metadata": {},
   "source": [
    "16. Access the first element of a nested tuple.\n"
   ]
  },
  {
   "cell_type": "code",
   "execution_count": 613,
   "id": "8e98780e",
   "metadata": {},
   "outputs": [
    {
     "data": {
      "text/plain": [
       "1"
      ]
     },
     "execution_count": 613,
     "metadata": {},
     "output_type": "execute_result"
    }
   ],
   "source": [
    "nested_tuple[0][0]"
   ]
  },
  {
   "cell_type": "markdown",
   "id": "0baef12c",
   "metadata": {},
   "source": [
    "17. Create a tuple with a single element."
   ]
  },
  {
   "cell_type": "code",
   "execution_count": 615,
   "id": "e62f64d5",
   "metadata": {},
   "outputs": [
    {
     "data": {
      "text/plain": [
       "(1,)"
      ]
     },
     "execution_count": 615,
     "metadata": {},
     "output_type": "execute_result"
    }
   ],
   "source": [
    "single_element_tuple = (1,)\n",
    "single_element_tuple"
   ]
  },
  {
   "cell_type": "markdown",
   "id": "1891196c",
   "metadata": {},
   "source": [
    "18. Compare two tuples."
   ]
  },
  {
   "cell_type": "code",
   "execution_count": 617,
   "id": "89ba2299",
   "metadata": {},
   "outputs": [
    {
     "data": {
      "text/plain": [
       "{2, 4}"
      ]
     },
     "execution_count": 617,
     "metadata": {},
     "output_type": "execute_result"
    }
   ],
   "source": [
    "tuple1 = (1, 2, 3, 4)\n",
    "tuple2 = (2, 4, 88, 9)\n",
    "set(tuple1).intersection(set(tuple2))"
   ]
  },
  {
   "cell_type": "code",
   "execution_count": 618,
   "id": "26c4cf6c",
   "metadata": {},
   "outputs": [
    {
     "data": {
      "text/plain": [
       "(2, 4)"
      ]
     },
     "execution_count": 618,
     "metadata": {},
     "output_type": "execute_result"
    }
   ],
   "source": [
    "common_items = tuple (i for i in tuple1 if i in tuple2)\n",
    "common_items"
   ]
  },
  {
   "cell_type": "markdown",
   "id": "0e233fe9",
   "metadata": {},
   "source": [
    "19. Delete a tuple."
   ]
  },
  {
   "cell_type": "code",
   "execution_count": 633,
   "id": "43d9b82e",
   "metadata": {},
   "outputs": [],
   "source": [
    "t1 = (1,2,3)\n",
    "del t1\n"
   ]
  },
  {
   "cell_type": "markdown",
   "id": "03be9209",
   "metadata": {},
   "source": [
    "20. Slice a tuple."
   ]
  },
  {
   "cell_type": "code",
   "execution_count": 636,
   "id": "162c74c5",
   "metadata": {},
   "outputs": [
    {
     "data": {
      "text/plain": [
       "(1, 3, 5, 7, 9)"
      ]
     },
     "execution_count": 636,
     "metadata": {},
     "output_type": "execute_result"
    }
   ],
   "source": [
    "tuple1 = (1, 2, 3, 4, 5, 6, 7, 8, 9, 10)\n",
    "tuple1[::2]"
   ]
  },
  {
   "cell_type": "code",
   "execution_count": 637,
   "id": "ad307ad2",
   "metadata": {},
   "outputs": [
    {
     "data": {
      "text/plain": [
       "(3, 4, 5, 6, 7)"
      ]
     },
     "execution_count": 637,
     "metadata": {},
     "output_type": "execute_result"
    }
   ],
   "source": [
    "tuple1[2:7]"
   ]
  },
  {
   "cell_type": "code",
   "execution_count": 638,
   "id": "2e4c5757",
   "metadata": {},
   "outputs": [
    {
     "data": {
      "text/plain": [
       "(10, 9, 8, 7, 6, 5, 4, 3, 2, 1)"
      ]
     },
     "execution_count": 638,
     "metadata": {},
     "output_type": "execute_result"
    }
   ],
   "source": [
    "tuple1[::-1]"
   ]
  },
  {
   "cell_type": "code",
   "execution_count": 641,
   "id": "1cc2d93e",
   "metadata": {},
   "outputs": [
    {
     "data": {
      "text/plain": [
       "(10, 9, 8)"
      ]
     },
     "execution_count": 641,
     "metadata": {},
     "output_type": "execute_result"
    }
   ],
   "source": [
    "tuple1[-1:-4:-1]"
   ]
  },
  {
   "cell_type": "markdown",
   "id": "9b229e17",
   "metadata": {},
   "source": [
    "21. Find the maximum value in a tuple."
   ]
  },
  {
   "cell_type": "code",
   "execution_count": 642,
   "id": "96ef2e1b",
   "metadata": {},
   "outputs": [
    {
     "data": {
      "text/plain": [
       "10"
      ]
     },
     "execution_count": 642,
     "metadata": {},
     "output_type": "execute_result"
    }
   ],
   "source": [
    "max(tuple1)"
   ]
  },
  {
   "cell_type": "markdown",
   "id": "eddb6eac",
   "metadata": {},
   "source": [
    "22. Find the minimum value in a tuple."
   ]
  },
  {
   "cell_type": "code",
   "execution_count": 643,
   "id": "d39c230e",
   "metadata": {},
   "outputs": [
    {
     "data": {
      "text/plain": [
       "1"
      ]
     },
     "execution_count": 643,
     "metadata": {},
     "output_type": "execute_result"
    }
   ],
   "source": [
    "min(tuple1)"
   ]
  },
  {
   "cell_type": "markdown",
   "id": "f324c06e",
   "metadata": {},
   "source": [
    "23. Convert a string to a tuple of characters."
   ]
  },
  {
   "cell_type": "code",
   "execution_count": 653,
   "id": "75c6df0e",
   "metadata": {},
   "outputs": [
    {
     "name": "stdout",
     "output_type": "stream",
     "text": [
      "('h', 'i', ' ', 'i', ' ', 'l', 'o', 'v', 'e', ' ', 'p', 'y', 't', 'h', 'o', 'n')"
     ]
    }
   ],
   "source": [
    "text= \"hi i love python\"\n",
    "chars_tuple = tuple(text)\n",
    "print(chars_tuple,end = \"\")"
   ]
  },
  {
   "cell_type": "markdown",
   "id": "0bd506dd",
   "metadata": {},
   "source": [
    "24. Convert a tuple of characters to a string."
   ]
  },
  {
   "cell_type": "code",
   "execution_count": 656,
   "id": "afaa7958",
   "metadata": {},
   "outputs": [
    {
     "data": {
      "text/plain": [
       "'hi i love python'"
      ]
     },
     "execution_count": 656,
     "metadata": {},
     "output_type": "execute_result"
    }
   ],
   "source": [
    "str_t = \"\".join(chars_tuple)\n",
    "str_t"
   ]
  },
  {
   "cell_type": "markdown",
   "id": "5ab3c435",
   "metadata": {},
   "source": [
    "25. Create a tuple from multiple data types."
   ]
  },
  {
   "cell_type": "code",
   "execution_count": 657,
   "id": "059fe79f",
   "metadata": {},
   "outputs": [
    {
     "data": {
      "text/plain": [
       "('A', 1, False)"
      ]
     },
     "execution_count": 657,
     "metadata": {},
     "output_type": "execute_result"
    }
   ],
   "source": [
    "multiple_data_tuple = (\"A\" ,1,False)\n",
    "multiple_data_tuple"
   ]
  },
  {
   "cell_type": "markdown",
   "id": "3b4aa3e3",
   "metadata": {},
   "source": [
    "26. Check if two tuples are identical."
   ]
  },
  {
   "cell_type": "code",
   "execution_count": 663,
   "id": "bb2a91b4",
   "metadata": {},
   "outputs": [
    {
     "name": "stdout",
     "output_type": "stream",
     "text": [
      "tuples are identical\n"
     ]
    }
   ],
   "source": [
    "t1 = (1,2,3)\n",
    "t2 = (1,2,3)\n",
    "if t1 == t2 :\n",
    "    print(\"tuples are identical\")\n",
    "else :\n",
    "    print(\"not identical\")"
   ]
  },
  {
   "cell_type": "markdown",
   "id": "9da763de",
   "metadata": {},
   "source": [
    "27. Sort the elements of a tuple."
   ]
  },
  {
   "cell_type": "code",
   "execution_count": 675,
   "id": "71b5216d",
   "metadata": {},
   "outputs": [
    {
     "data": {
      "text/plain": [
       "(1, 2, 3, 4, 5, 6, 7, 8, 9, 10)"
      ]
     },
     "execution_count": 675,
     "metadata": {},
     "output_type": "execute_result"
    }
   ],
   "source": [
    "tu1 = (10, 2, 7, 9, 5, 6, 3, 8, 4, 1)\n",
    "tu1L = []\n",
    "for i in tu1 :\n",
    "    tu1L.append(i)\n",
    "tu1L.sort()\n",
    "tuple(tu1L)"
   ]
  },
  {
   "cell_type": "code",
   "execution_count": 676,
   "id": "c495a7ef",
   "metadata": {},
   "outputs": [
    {
     "data": {
      "text/plain": [
       "(1, 2, 3, 4, 5, 6, 7, 8, 9, 10)"
      ]
     },
     "execution_count": 676,
     "metadata": {},
     "output_type": "execute_result"
    }
   ],
   "source": [
    "sorted_tuple = tuple(sorted(tu1))\n",
    "sorted_tuple"
   ]
  },
  {
   "cell_type": "markdown",
   "id": "5be28894",
   "metadata": {},
   "source": [
    "28. Convert a tuple of integers to a tuple of strings."
   ]
  },
  {
   "cell_type": "code",
   "execution_count": 683,
   "id": "5ec49003",
   "metadata": {},
   "outputs": [
    {
     "data": {
      "text/plain": [
       "('1', '2', '3', '4', '5', '6', '7', '8', '9', '10')"
      ]
     },
     "execution_count": 683,
     "metadata": {},
     "output_type": "execute_result"
    }
   ],
   "source": [
    "stringT = tuple(str(w) for w in sorted_tuple)\n",
    "stringT"
   ]
  },
  {
   "cell_type": "markdown",
   "id": "a957d6f4",
   "metadata": {},
   "source": [
    "29. Convert a tuple of strings to a tuple of integers."
   ]
  },
  {
   "cell_type": "code",
   "execution_count": 684,
   "id": "cc2e9de6",
   "metadata": {},
   "outputs": [
    {
     "data": {
      "text/plain": [
       "(1, 2, 3, 4, 5, 6, 7, 8, 9, 10)"
      ]
     },
     "execution_count": 684,
     "metadata": {},
     "output_type": "execute_result"
    }
   ],
   "source": [
    "string_int = tuple(int(x) for x in stringT)\n",
    "string_int"
   ]
  },
  {
   "cell_type": "markdown",
   "id": "a13788b9",
   "metadata": {},
   "source": [
    "30. Merge two tuples."
   ]
  },
  {
   "cell_type": "code",
   "execution_count": 686,
   "id": "8b04ad7c",
   "metadata": {},
   "outputs": [
    {
     "name": "stdout",
     "output_type": "stream",
     "text": [
      "('1', '2', '3', '4', '5', '6', '7', '8', '9', '10', 1, 2, 3, 4, 5, 6, 7, 8, 9, 10)"
     ]
    }
   ],
   "source": [
    "print(stringT+string_int , end = \"\")"
   ]
  },
  {
   "cell_type": "markdown",
   "id": "9ba0b2b9",
   "metadata": {},
   "source": [
    "31. Flatten a nested tuple."
   ]
  },
  {
   "cell_type": "code",
   "execution_count": 702,
   "id": "fd27fd99",
   "metadata": {},
   "outputs": [
    {
     "name": "stdout",
     "output_type": "stream",
     "text": [
      "(1, 2, 1, 2, 3)\n"
     ]
    }
   ],
   "source": [
    "nestedT = (1, 2, (1, 2, 3))\n",
    "flattened_t = []\n",
    "\n",
    "for i in nestedT:\n",
    "    if isinstance(i, tuple):\n",
    "        flattened_t.extend(i)\n",
    "    else:\n",
    "        flattened_t.append(i)\n",
    "\n",
    "flattened_t = tuple(flattened_t)\n",
    "print(flattened_t)\n",
    "   "
   ]
  },
  {
   "cell_type": "code",
   "execution_count": 704,
   "id": "5f558e59",
   "metadata": {},
   "outputs": [
    {
     "data": {
      "text/plain": [
       "[1, 2, 3, 1, 2, 3]"
      ]
     },
     "execution_count": 704,
     "metadata": {},
     "output_type": "execute_result"
    }
   ],
   "source": [
    "nes_l = [1,2,3,[1,2,3]]\n",
    "fl = []\n",
    "for i in nes_l :\n",
    "    if isinstance(i, list):\n",
    "       fl.extend(i)\n",
    "    else :\n",
    "        fl.append(i)\n",
    "fl"
   ]
  },
  {
   "cell_type": "markdown",
   "id": "77b5b8e5",
   "metadata": {},
   "source": [
    "32. Create a tuple of the first 5 prime numbers."
   ]
  },
  {
   "cell_type": "code",
   "execution_count": 709,
   "id": "e6ae5688",
   "metadata": {},
   "outputs": [
    {
     "name": "stdout",
     "output_type": "stream",
     "text": [
      "(2, 3, 5, 7, 11)\n"
     ]
    }
   ],
   "source": [
    "pt = []\n",
    "for i in range(2,20) :\n",
    "    is_prime = True \n",
    "    for n in range(2,i) :\n",
    "        if i%n == 0 :\n",
    "         is_prime = False\n",
    "         break\n",
    "    else :\n",
    "       pt.append(i)\n",
    "print(tuple(pt)[:5])"
   ]
  },
  {
   "cell_type": "markdown",
   "id": "5a82f664",
   "metadata": {},
   "source": [
    "33. Check if a tuple is a palindrome."
   ]
  },
  {
   "cell_type": "code",
   "execution_count": 714,
   "id": "62d3d943",
   "metadata": {},
   "outputs": [
    {
     "name": "stdout",
     "output_type": "stream",
     "text": [
      "is palindrome\n"
     ]
    }
   ],
   "source": [
    "t1 = (1, 2, 3, 2, 1)\n",
    "def is_palindrome(t) :\n",
    "    if t == t[::-1]:\n",
    "      print(\"is palindrome\")\n",
    "    else :\n",
    "        return print(\"no\")\n",
    "is_palindrome(t1)"
   ]
  },
  {
   "cell_type": "markdown",
   "id": "e0c678aa",
   "metadata": {},
   "source": [
    "34. Create a tuple of squares of numbers from 1 to 5."
   ]
  },
  {
   "cell_type": "code",
   "execution_count": 719,
   "id": "0478ef07",
   "metadata": {},
   "outputs": [
    {
     "data": {
      "text/plain": [
       "(1, 4, 9, 16, 25)"
      ]
     },
     "execution_count": 719,
     "metadata": {},
     "output_type": "execute_result"
    }
   ],
   "source": [
    "tuple_square = tuple(x**2 for x in range(1,6))\n",
    "tuple_square"
   ]
  },
  {
   "cell_type": "markdown",
   "id": "0aff7921",
   "metadata": {},
   "source": [
    "35. Filter out all even numbers from a tuple.\n",
    "\n",
    "\n",
    "\n"
   ]
  },
  {
   "cell_type": "code",
   "execution_count": 723,
   "id": "c805666d",
   "metadata": {},
   "outputs": [
    {
     "data": {
      "text/plain": [
       "(2, 4, 6, 8, 10)"
      ]
     },
     "execution_count": 723,
     "metadata": {},
     "output_type": "execute_result"
    }
   ],
   "source": [
    "even_tuple = tuple(x for x in range(1,11) if x % 2 == 0)\n",
    "even_tuple"
   ]
  },
  {
   "cell_type": "markdown",
   "id": "cbb53bc8",
   "metadata": {},
   "source": [
    "36. Multiply all elements in a tuple by 2."
   ]
  },
  {
   "cell_type": "code",
   "execution_count": 727,
   "id": "30dad942",
   "metadata": {},
   "outputs": [
    {
     "data": {
      "text/plain": [
       "(4, 8, 12, 16, 20)"
      ]
     },
     "execution_count": 727,
     "metadata": {},
     "output_type": "execute_result"
    }
   ],
   "source": [
    "mult_tuple = tuple(x*2 for x in even_tuple)\n",
    "mult_tuple"
   ]
  },
  {
   "cell_type": "markdown",
   "id": "79caf17f",
   "metadata": {},
   "source": [
    "37. Create a tuple of random numbers."
   ]
  },
  {
   "cell_type": "code",
   "execution_count": 742,
   "id": "7b0f5e1f",
   "metadata": {},
   "outputs": [
    {
     "data": {
      "text/plain": [
       "(0, 1, 2, 3, 4, 5, 6, 7)"
      ]
     },
     "execution_count": 742,
     "metadata": {},
     "output_type": "execute_result"
    }
   ],
   "source": [
    "import random \n",
    "rand_tuple = tuple(x for x in range(random.randint(1,11)))\n",
    "rand_tuple"
   ]
  },
  {
   "cell_type": "code",
   "execution_count": 738,
   "id": "16e91997",
   "metadata": {},
   "outputs": [
    {
     "data": {
      "text/plain": [
       "(10, 94, 82, 79, 36, 72, 44)"
      ]
     },
     "execution_count": 738,
     "metadata": {},
     "output_type": "execute_result"
    }
   ],
   "source": [
    "import random \n",
    "rand_tuple = tuple(random.randint(1, 100) for _ in range(random.randint(1, 11)))\n",
    "rand_tuple"
   ]
  },
  {
   "cell_type": "markdown",
   "id": "390ac970",
   "metadata": {},
   "source": [
    "38. Check if a tuple is sorted."
   ]
  },
  {
   "cell_type": "code",
   "execution_count": 753,
   "id": "91ced12c",
   "metadata": {},
   "outputs": [
    {
     "name": "stdout",
     "output_type": "stream",
     "text": [
      "not sorted\n"
     ]
    }
   ],
   "source": [
    "ts = (1, -2,2, 3, 4)\n",
    "\n",
    "for i in range(len(ts) - 1):\n",
    "    if ts[i] > ts[i + 1]:\n",
    "        print(\"not sorted\")\n",
    "        break\n",
    "else:\n",
    "    print(\"sorted\")\n"
   ]
  },
  {
   "cell_type": "markdown",
   "id": "b94b43db",
   "metadata": {},
   "source": [
    "39. Rotate a tuple to the left by `n` positions."
   ]
  },
  {
   "cell_type": "code",
   "execution_count": 757,
   "id": "e6314444",
   "metadata": {},
   "outputs": [
    {
     "data": {
      "text/plain": [
       "(3, 4, 5, 6, 1, 2)"
      ]
     },
     "execution_count": 757,
     "metadata": {},
     "output_type": "execute_result"
    }
   ],
   "source": [
    "tr = (1, 2, 3, 4, 5, 6)\n",
    "\n",
    "def rotate_left (t, n) :\n",
    "    trl = list(t)\n",
    "    modified_l = trl[n:] + trl[:n]  \n",
    "    trm = tuple(modified_l)\n",
    "    return trm\n",
    "rotate_left(tr,2)"
   ]
  },
  {
   "cell_type": "markdown",
   "id": "85fb5359",
   "metadata": {},
   "source": [
    "40. Rotate a tuple to the right by `n` positions."
   ]
  },
  {
   "cell_type": "code",
   "execution_count": 760,
   "id": "e66c69e2",
   "metadata": {},
   "outputs": [
    {
     "data": {
      "text/plain": [
       "(5, 6, 1, 2, 3, 4)"
      ]
     },
     "execution_count": 760,
     "metadata": {},
     "output_type": "execute_result"
    }
   ],
   "source": [
    "def rotate_right(t , n) :\n",
    "    tl = list(t)\n",
    "    modified_l = tl[-n:] + tl[:-n]\n",
    "    tm = tuple(modified_l)\n",
    "    return tm\n",
    "rotate_right(tr,2)"
   ]
  },
  {
   "cell_type": "markdown",
   "id": "265df696",
   "metadata": {},
   "source": [
    "41. Create a tuple of the first 5 Fibonacci numbers."
   ]
  },
  {
   "cell_type": "code",
   "execution_count": 761,
   "id": "ec3a0933",
   "metadata": {},
   "outputs": [
    {
     "name": "stdout",
     "output_type": "stream",
     "text": [
      "(0, 1, 1, 2, 3)\n"
     ]
    }
   ],
   "source": [
    "def generate_fibonacci(limit):\n",
    "    fibonacci_numbers = [0, 1]  # Seed values for Fibonacci sequence\n",
    "    while len(fibonacci_numbers) < limit:\n",
    "        next_fibonacci = fibonacci_numbers[-1] + fibonacci_numbers[-2]\n",
    "        fibonacci_numbers.append(next_fibonacci)\n",
    "    return tuple(fibonacci_numbers)\n",
    "\n",
    "# Generate the first 5 Fibonacci numbers\n",
    "first_five_fibonacci = generate_fibonacci(5)\n",
    "print(first_five_fibonacci)"
   ]
  },
  {
   "cell_type": "markdown",
   "id": "90b9b3ac",
   "metadata": {},
   "source": [
    "42. Create a tuple from user input."
   ]
  },
  {
   "cell_type": "code",
   "execution_count": 774,
   "id": "241115f0",
   "metadata": {},
   "outputs": [
    {
     "name": "stdout",
     "output_type": "stream",
     "text": [
      "enter the elements separated by spaces : 1 2 3 4\n",
      "('1', '2', '3', '4')\n"
     ]
    }
   ],
   "source": [
    "user_input = input(\"enter the elements separated by spaces : \")\n",
    "ul = (user_input.split())\n",
    "print(tuple(ul))"
   ]
  },
  {
   "cell_type": "markdown",
   "id": "1df86be6",
   "metadata": {},
   "source": [
    "43. Swap two elements in a tuple."
   ]
  },
  {
   "cell_type": "code",
   "execution_count": 776,
   "id": "6e2bf668",
   "metadata": {},
   "outputs": [
    {
     "data": {
      "text/plain": [
       "(3, 2, 1, 4, 5)"
      ]
     },
     "execution_count": 776,
     "metadata": {},
     "output_type": "execute_result"
    }
   ],
   "source": [
    "def sswap (t ,index1,index2) :\n",
    "    l = list(t)\n",
    "    l[index1] , l[index2] = l[index2] , l[index1]\n",
    "    return tuple(l)\n",
    "t = (1, 2, 3, 4, 5)\n",
    "sswap(t,0,2)"
   ]
  },
  {
   "cell_type": "markdown",
   "id": "5ef5f443",
   "metadata": {},
   "source": [
    "44. Reverse the elements of a tuple."
   ]
  },
  {
   "cell_type": "code",
   "execution_count": 779,
   "id": "a1eb16f7",
   "metadata": {},
   "outputs": [
    {
     "data": {
      "text/plain": [
       "(5, 4, 3, 2, 1)"
      ]
     },
     "execution_count": 779,
     "metadata": {},
     "output_type": "execute_result"
    }
   ],
   "source": [
    "l = list(t)[::-1]\n",
    "tl= tuple(l)\n",
    "tl"
   ]
  },
  {
   "cell_type": "markdown",
   "id": "0b864068",
   "metadata": {},
   "source": [
    "\n",
    "45. Create a tuple of the first `n` powers of 2."
   ]
  },
  {
   "cell_type": "code",
   "execution_count": 784,
   "id": "e1a8ba10",
   "metadata": {},
   "outputs": [
    {
     "name": "stdout",
     "output_type": "stream",
     "text": [
      "(1, 2, 4, 8, 16)\n"
     ]
    }
   ],
   "source": [
    "def first_n_powers_of_2(n):\n",
    "    return tuple(2 ** i for i in range(n))\n",
    "\n",
    "# Example usage:\n",
    "n = 5\n",
    "powers_of_2 = first_n_powers_of_2(n)\n",
    "print(powers_of_2)  # Output: (1, 2, 4, 8, 16)\n"
   ]
  },
  {
   "cell_type": "markdown",
   "id": "9c45f14d",
   "metadata": {},
   "source": [
    "46. Find the longest string in a tuple of strings."
   ]
  },
  {
   "cell_type": "code",
   "execution_count": 785,
   "id": "d5374400",
   "metadata": {},
   "outputs": [
    {
     "name": "stdout",
     "output_type": "stream",
     "text": [
      "strawberry\n"
     ]
    }
   ],
   "source": [
    "def longest_string_in_tuple(t):\n",
    "    return max(t, key=len)\n",
    "\n",
    "# Example usage:\n",
    "strings_tuple = ('apple', 'banana', 'kiwi', 'strawberry')\n",
    "longest = longest_string_in_tuple(strings_tuple)\n",
    "print(longest)  # Output: 'strawberry'\n"
   ]
  },
  {
   "cell_type": "markdown",
   "id": "96e07f87",
   "metadata": {},
   "source": [
    "47. Find the shortest string in a tuple of strings."
   ]
  },
  {
   "cell_type": "code",
   "execution_count": 786,
   "id": "080dfaba",
   "metadata": {},
   "outputs": [
    {
     "name": "stdout",
     "output_type": "stream",
     "text": [
      "kiwi\n"
     ]
    }
   ],
   "source": [
    "def shortest_string_in_tuple(t):\n",
    "    return min(t, key=len)\n",
    "\n",
    "# Example usage:\n",
    "strings_tuple = ('apple', 'banana', 'kiwi', 'strawberry')\n",
    "shortest = shortest_string_in_tuple(strings_tuple)\n",
    "print(shortest)  # Output: 'kiwi'\n"
   ]
  },
  {
   "cell_type": "markdown",
   "id": "7ba6adf0",
   "metadata": {},
   "source": [
    "48. Create a tuple of the first `n` triangular numbers."
   ]
  },
  {
   "cell_type": "code",
   "execution_count": 787,
   "id": "978234ae",
   "metadata": {},
   "outputs": [
    {
     "name": "stdout",
     "output_type": "stream",
     "text": [
      "(1, 3, 6, 10, 15)\n"
     ]
    }
   ],
   "source": [
    "def triangular_numbers(n):\n",
    "    return tuple(i * (i + 1) // 2 for i in range(1, n + 1))\n",
    "\n",
    "# Example usage:\n",
    "n = 5\n",
    "triangular = triangular_numbers(n)\n",
    "print(triangular)  # Output: (1, 3, 6, 10, 15)\n"
   ]
  },
  {
   "cell_type": "markdown",
   "id": "a8bb9057",
   "metadata": {},
   "source": [
    "49. Check if a tuple contains another tuple as a subsequence."
   ]
  },
  {
   "cell_type": "code",
   "execution_count": 788,
   "id": "15174ab7",
   "metadata": {},
   "outputs": [
    {
     "name": "stdout",
     "output_type": "stream",
     "text": [
      "True\n"
     ]
    }
   ],
   "source": [
    "def contains_subsequence(main_tuple, sub_tuple):\n",
    "    return any(sub_tuple == main_tuple[i:i+len(sub_tuple)] for i in range(len(main_tuple) - len(sub_tuple) + 1))\n",
    "\n",
    "# Example usage:\n",
    "main = (1, 2, 3, 4, 5, 6)\n",
    "sub = (3, 4, 5)\n",
    "print(contains_subsequence(main, sub))  # Output: True"
   ]
  },
  {
   "cell_type": "markdown",
   "id": "06748887",
   "metadata": {},
   "source": [
    "50. Create a tuple of alternating 1s and 0s of length `n`."
   ]
  },
  {
   "cell_type": "code",
   "execution_count": 789,
   "id": "ccade21c",
   "metadata": {},
   "outputs": [
    {
     "name": "stdout",
     "output_type": "stream",
     "text": [
      "(1, 0, 1, 0, 1, 0, 1)\n"
     ]
    }
   ],
   "source": [
    "def alternating_ones_and_zeroes(n):\n",
    "    return tuple(1 if i % 2 == 0 else 0 for i in range(n))\n",
    "\n",
    "# Example usage:\n",
    "n = 7\n",
    "alternating = alternating_ones_and_zeroes(n)\n",
    "print(alternating)  # Output: (1, 0, 1, 0, 1, 0, 1)"
   ]
  },
  {
   "cell_type": "markdown",
   "id": "e5f804cc",
   "metadata": {},
   "source": [
    "# Set Based Practice Problem :"
   ]
  },
  {
   "cell_type": "markdown",
   "id": "6d36d89a",
   "metadata": {},
   "source": [
    "1. Create a set with integers from 1 to 5."
   ]
  },
  {
   "cell_type": "code",
   "execution_count": 796,
   "id": "742e2be0",
   "metadata": {},
   "outputs": [
    {
     "data": {
      "text/plain": [
       "{1, 2, 3, 4, 5}"
      ]
     },
     "execution_count": 796,
     "metadata": {},
     "output_type": "execute_result"
    }
   ],
   "source": [
    "my_set = {1, 2, 3, 4, 5}\n",
    "my_set"
   ]
  },
  {
   "cell_type": "markdown",
   "id": "9e98f4ef",
   "metadata": {},
   "source": [
    "2. Add an element to a set."
   ]
  },
  {
   "cell_type": "code",
   "execution_count": 797,
   "id": "18606100",
   "metadata": {},
   "outputs": [
    {
     "data": {
      "text/plain": [
       "{1, 2, 3, 4, 5, 6}"
      ]
     },
     "execution_count": 797,
     "metadata": {},
     "output_type": "execute_result"
    }
   ],
   "source": [
    "my_set.add(6)\n",
    "my_set"
   ]
  },
  {
   "cell_type": "markdown",
   "id": "e7444e00",
   "metadata": {},
   "source": [
    "3. Remove an element from a set."
   ]
  },
  {
   "cell_type": "code",
   "execution_count": 798,
   "id": "2703dc82",
   "metadata": {},
   "outputs": [
    {
     "data": {
      "text/plain": [
       "{1, 2, 3, 4, 5}"
      ]
     },
     "execution_count": 798,
     "metadata": {},
     "output_type": "execute_result"
    }
   ],
   "source": [
    "my_set.remove(6)\n",
    "my_set"
   ]
  },
  {
   "cell_type": "code",
   "execution_count": 800,
   "id": "2d127ef6",
   "metadata": {},
   "outputs": [
    {
     "data": {
      "text/plain": [
       "{1, 2, 3, 4, 5, 6}"
      ]
     },
     "execution_count": 800,
     "metadata": {},
     "output_type": "execute_result"
    }
   ],
   "source": [
    "my_set.update({6})\n",
    "my_set"
   ]
  },
  {
   "cell_type": "code",
   "execution_count": 801,
   "id": "d361ee39",
   "metadata": {},
   "outputs": [
    {
     "data": {
      "text/plain": [
       "{1, 2, 3, 4, 5}"
      ]
     },
     "execution_count": 801,
     "metadata": {},
     "output_type": "execute_result"
    }
   ],
   "source": [
    "my_set.discard(6)\n",
    "my_set"
   ]
  },
  {
   "cell_type": "markdown",
   "id": "b2aafc54",
   "metadata": {},
   "source": [
    "4. Check if an element exists in a set."
   ]
  },
  {
   "cell_type": "code",
   "execution_count": 803,
   "id": "3f8b6b00",
   "metadata": {},
   "outputs": [
    {
     "name": "stdout",
     "output_type": "stream",
     "text": [
      "no\n"
     ]
    }
   ],
   "source": [
    "if 7 in my_set : \n",
    "    print(\"yes\")\n",
    "else :\n",
    "    print(\"no\")"
   ]
  },
  {
   "cell_type": "markdown",
   "id": "faa099e5",
   "metadata": {},
   "source": [
    "5. Find the length of a set without using the `len()` function."
   ]
  },
  {
   "cell_type": "code",
   "execution_count": 804,
   "id": "261a9d7e",
   "metadata": {},
   "outputs": [
    {
     "data": {
      "text/plain": [
       "5"
      ]
     },
     "execution_count": 804,
     "metadata": {},
     "output_type": "execute_result"
    }
   ],
   "source": [
    "count = 0\n",
    "for i in my_set :\n",
    "    count+=1\n",
    "count"
   ]
  },
  {
   "cell_type": "markdown",
   "id": "b60f278b",
   "metadata": {},
   "source": [
    "6. Clear all elements from a set."
   ]
  },
  {
   "cell_type": "code",
   "execution_count": 806,
   "id": "890045f2",
   "metadata": {},
   "outputs": [
    {
     "data": {
      "text/plain": [
       "set()"
      ]
     },
     "execution_count": 806,
     "metadata": {},
     "output_type": "execute_result"
    }
   ],
   "source": [
    "my_set.clear()\n",
    "my_set"
   ]
  },
  {
   "cell_type": "markdown",
   "id": "5a18d918",
   "metadata": {},
   "source": [
    "7. Create a set of even numbers from 1 to 10."
   ]
  },
  {
   "cell_type": "code",
   "execution_count": 809,
   "id": "6613d9a5",
   "metadata": {},
   "outputs": [
    {
     "data": {
      "text/plain": [
       "{2, 4, 6, 8, 10}"
      ]
     },
     "execution_count": 809,
     "metadata": {},
     "output_type": "execute_result"
    }
   ],
   "source": [
    "my_even_set = set(x for x in range(1,11) if x%2 ==0)\n",
    "my_even_set\n"
   ]
  },
  {
   "cell_type": "markdown",
   "id": "4d3eb612",
   "metadata": {},
   "source": [
    "8. Create a set of odd numbers from 1 to 10."
   ]
  },
  {
   "cell_type": "code",
   "execution_count": 810,
   "id": "6d3b48c8",
   "metadata": {},
   "outputs": [
    {
     "data": {
      "text/plain": [
       "{1, 3, 5, 7, 9}"
      ]
     },
     "execution_count": 810,
     "metadata": {},
     "output_type": "execute_result"
    }
   ],
   "source": [
    "my_odd_set = set(x for x in range(1,11) if x%2 !=0)\n",
    "my_odd_set"
   ]
  },
  {
   "cell_type": "markdown",
   "id": "5622c8f0",
   "metadata": {},
   "source": [
    "9. Find the union of two sets."
   ]
  },
  {
   "cell_type": "code",
   "execution_count": 811,
   "id": "6e34579f",
   "metadata": {},
   "outputs": [
    {
     "data": {
      "text/plain": [
       "{1, 2, 5, 'A', 'B'}"
      ]
     },
     "execution_count": 811,
     "metadata": {},
     "output_type": "execute_result"
    }
   ],
   "source": [
    "set1 = {\"A\", 2, 1, 5}\n",
    "set2 = {2, \"B\", 1}\n",
    "set1.union(set2)"
   ]
  },
  {
   "cell_type": "markdown",
   "id": "1a89c28c",
   "metadata": {},
   "source": [
    "10. Find the intersection of two sets."
   ]
  },
  {
   "cell_type": "code",
   "execution_count": 812,
   "id": "47724ed8",
   "metadata": {},
   "outputs": [
    {
     "data": {
      "text/plain": [
       "{1, 2}"
      ]
     },
     "execution_count": 812,
     "metadata": {},
     "output_type": "execute_result"
    }
   ],
   "source": [
    "set1.intersection(set2)"
   ]
  },
  {
   "cell_type": "markdown",
   "id": "0e55d1ec",
   "metadata": {},
   "source": [
    "11. Find the difference between two sets."
   ]
  },
  {
   "cell_type": "code",
   "execution_count": 813,
   "id": "2b1c3414",
   "metadata": {},
   "outputs": [
    {
     "data": {
      "text/plain": [
       "{5, 'A'}"
      ]
     },
     "execution_count": 813,
     "metadata": {},
     "output_type": "execute_result"
    }
   ],
   "source": [
    "set1.difference(set2)"
   ]
  },
  {
   "cell_type": "code",
   "execution_count": 814,
   "id": "fc3ee006",
   "metadata": {},
   "outputs": [
    {
     "data": {
      "text/plain": [
       "{5, 'A'}"
      ]
     },
     "execution_count": 814,
     "metadata": {},
     "output_type": "execute_result"
    }
   ],
   "source": [
    "set1-set2"
   ]
  },
  {
   "cell_type": "markdown",
   "id": "95c1d1ba",
   "metadata": {},
   "source": [
    "12. Check if a set is a subset of another set."
   ]
  },
  {
   "cell_type": "code",
   "execution_count": 816,
   "id": "bbbc918b",
   "metadata": {},
   "outputs": [
    {
     "data": {
      "text/plain": [
       "True"
      ]
     },
     "execution_count": 816,
     "metadata": {},
     "output_type": "execute_result"
    }
   ],
   "source": [
    "set1 = {1, 2, 3}\n",
    "set2 = {1, 2, 3, 4, 5}\n",
    "set1.issubset(set2)"
   ]
  },
  {
   "cell_type": "markdown",
   "id": "96142f45",
   "metadata": {},
   "source": [
    "13. Check if a set is a superset of another set."
   ]
  },
  {
   "cell_type": "code",
   "execution_count": 817,
   "id": "3fcde148",
   "metadata": {},
   "outputs": [
    {
     "data": {
      "text/plain": [
       "True"
      ]
     },
     "execution_count": 817,
     "metadata": {},
     "output_type": "execute_result"
    }
   ],
   "source": [
    "set2.issuperset(set1)"
   ]
  },
  {
   "cell_type": "markdown",
   "id": "38a2f1fa",
   "metadata": {},
   "source": [
    "14. Create a set from a list."
   ]
  },
  {
   "cell_type": "code",
   "execution_count": 819,
   "id": "76bce77c",
   "metadata": {},
   "outputs": [
    {
     "data": {
      "text/plain": [
       "{1, 2, 3, 4}"
      ]
     },
     "execution_count": 819,
     "metadata": {},
     "output_type": "execute_result"
    }
   ],
   "source": [
    "l = [1,2,3,4]\n",
    "setl = set(l)\n",
    "setl"
   ]
  },
  {
   "cell_type": "markdown",
   "id": "47240fd9",
   "metadata": {},
   "source": [
    "15. Convert a set to a list."
   ]
  },
  {
   "cell_type": "code",
   "execution_count": 820,
   "id": "d9b5eb87",
   "metadata": {},
   "outputs": [
    {
     "data": {
      "text/plain": [
       "[1, 2, 3, 4]"
      ]
     },
     "execution_count": 820,
     "metadata": {},
     "output_type": "execute_result"
    }
   ],
   "source": [
    "lset = list(setl)\n",
    "lset"
   ]
  },
  {
   "cell_type": "markdown",
   "id": "3a327255",
   "metadata": {},
   "source": [
    "16. Remove a random element from a set."
   ]
  },
  {
   "cell_type": "code",
   "execution_count": 856,
   "id": "445c9dbc",
   "metadata": {},
   "outputs": [
    {
     "data": {
      "text/plain": [
       "{2, 3, 4, 5}"
      ]
     },
     "execution_count": 856,
     "metadata": {},
     "output_type": "execute_result"
    }
   ],
   "source": [
    "import random\n",
    "my_set = {1, 2, 3, 4, 5}\n",
    "random_index = (random .randint(0,len(my_set)-1))\n",
    "l = list(my_set)\n",
    "l.remove(l[random_index])\n",
    "rset = set(l)\n",
    "rset\n"
   ]
  },
  {
   "cell_type": "markdown",
   "id": "41f6fe75",
   "metadata": {},
   "source": [
    "17. Pop an element from a set.\n"
   ]
  },
  {
   "cell_type": "code",
   "execution_count": 858,
   "id": "9d2744af",
   "metadata": {},
   "outputs": [
    {
     "data": {
      "text/plain": [
       "{2, 3, 4, 5}"
      ]
     },
     "execution_count": 858,
     "metadata": {},
     "output_type": "execute_result"
    }
   ],
   "source": [
    "my_set1 = {1,2,3,4,5}\n",
    "my_set1.pop()\n",
    "my_set1"
   ]
  },
  {
   "cell_type": "markdown",
   "id": "704c4566",
   "metadata": {},
   "source": [
    "18. Check if two sets have no elements in common."
   ]
  },
  {
   "cell_type": "code",
   "execution_count": 860,
   "id": "7d322464",
   "metadata": {},
   "outputs": [
    {
     "name": "stdout",
     "output_type": "stream",
     "text": [
      "s1 and s2 have  \"{1}\" in common\n"
     ]
    }
   ],
   "source": [
    "s1 = {1,3,5,7}\n",
    "s2 = {1,2,4,6}\n",
    "incommon = s1.intersection(s2)\n",
    "print(f\"s1 and s2 have  \\\"{incommon}\\\" in common\")"
   ]
  },
  {
   "cell_type": "code",
   "execution_count": 863,
   "id": "0275c20d",
   "metadata": {},
   "outputs": [
    {
     "name": "stdout",
     "output_type": "stream",
     "text": [
      "The sets have elements in common.\n"
     ]
    }
   ],
   "source": [
    "if s1.isdisjoint(s2):\n",
    "    print(\"The sets have no elements in common.\")\n",
    "else:\n",
    "    print(\"The sets have elements in common.\")\n"
   ]
  },
  {
   "cell_type": "markdown",
   "id": "8edc4d68",
   "metadata": {},
   "source": [
    "19. Find the symmetric difference between two sets."
   ]
  },
  {
   "cell_type": "code",
   "execution_count": 866,
   "id": "1bb9201f",
   "metadata": {},
   "outputs": [
    {
     "data": {
      "text/plain": [
       "{2, 3, 4, 5, 6, 7}"
      ]
     },
     "execution_count": 866,
     "metadata": {},
     "output_type": "execute_result"
    }
   ],
   "source": [
    "symmetric_difference = s1.symmetric_difference(s2)\n",
    "symmetric_difference"
   ]
  },
  {
   "cell_type": "markdown",
   "id": "6afd7ae4",
   "metadata": {},
   "source": [
    "20. Update a set with elements from another set."
   ]
  },
  {
   "cell_type": "code",
   "execution_count": 867,
   "id": "e8d3e5ac",
   "metadata": {},
   "outputs": [
    {
     "data": {
      "text/plain": [
       "{1, 2, 3, 4, 5, 6, 7}"
      ]
     },
     "execution_count": 867,
     "metadata": {},
     "output_type": "execute_result"
    }
   ],
   "source": [
    "s3 = s1.union(s2)\n",
    "s3"
   ]
  },
  {
   "cell_type": "markdown",
   "id": "c23e5c24",
   "metadata": {},
   "source": [
    "21. Create a set of the first 5 prime numbers."
   ]
  },
  {
   "cell_type": "code",
   "execution_count": 889,
   "id": "92869fe5",
   "metadata": {},
   "outputs": [
    {
     "data": {
      "text/plain": [
       "{2, 3, 5, 7, 11}"
      ]
     },
     "execution_count": 889,
     "metadata": {},
     "output_type": "execute_result"
    }
   ],
   "source": [
    "pl = []\n",
    "for i in range(2,20) :\n",
    "    is_prime = True \n",
    "    for n in range(2,i) :\n",
    "        if i%n == 0 :\n",
    "         is_prime = False\n",
    "         break\n",
    "    else :\n",
    "        pl.append(i)\n",
    "ps = set(pl[:5])\n",
    "ps"
   ]
  },
  {
   "cell_type": "markdown",
   "id": "aff22e81",
   "metadata": {},
   "source": [
    "22. Check if two sets are identical."
   ]
  },
  {
   "cell_type": "code",
   "execution_count": 894,
   "id": "ec8acd5a",
   "metadata": {},
   "outputs": [
    {
     "name": "stdout",
     "output_type": "stream",
     "text": [
      "is identical\n"
     ]
    }
   ],
   "source": [
    "se1 = {1,2,3,4}\n",
    "se2 = {1,2,3,4}\n",
    "if se1 == se2:\n",
    "    print(\"is identical\")\n",
    "else :\n",
    "    print(\"not\")"
   ]
  },
  {
   "cell_type": "markdown",
   "id": "870f8f72",
   "metadata": {},
   "source": [
    "23. Create a frozen set."
   ]
  },
  {
   "cell_type": "code",
   "execution_count": 895,
   "id": "a17b4d28",
   "metadata": {},
   "outputs": [
    {
     "data": {
      "text/plain": [
       "frozenset({1, 2, 3, 4})"
      ]
     },
     "execution_count": 895,
     "metadata": {},
     "output_type": "execute_result"
    }
   ],
   "source": [
    "my_s = {1,2,3,4}\n",
    "my_frozen_set = frozenset(my_s)\n",
    "my_frozen_set"
   ]
  },
  {
   "cell_type": "markdown",
   "id": "c00d594b",
   "metadata": {},
   "source": [
    "24. Check if a set is disjoint with another set."
   ]
  },
  {
   "cell_type": "code",
   "execution_count": 896,
   "id": "459c624a",
   "metadata": {},
   "outputs": [
    {
     "data": {
      "text/plain": [
       "False"
      ]
     },
     "execution_count": 896,
     "metadata": {},
     "output_type": "execute_result"
    }
   ],
   "source": [
    "se1.isdisjoint (se2)\n"
   ]
  },
  {
   "cell_type": "markdown",
   "id": "7af813da",
   "metadata": {},
   "source": [
    "25. Create a set of squares of numbers from 1 to 5."
   ]
  },
  {
   "cell_type": "code",
   "execution_count": 899,
   "id": "63400314",
   "metadata": {},
   "outputs": [
    {
     "data": {
      "text/plain": [
       "{1, 4, 9, 16}"
      ]
     },
     "execution_count": 899,
     "metadata": {},
     "output_type": "execute_result"
    }
   ],
   "source": [
    "lsq = set(x**2 for x in range(1,5) )\n",
    "lsq"
   ]
  },
  {
   "cell_type": "markdown",
   "id": "52fe97bf",
   "metadata": {},
   "source": [
    "26. Filter out all even numbers from a set."
   ]
  },
  {
   "cell_type": "code",
   "execution_count": 901,
   "id": "e6bc9c37",
   "metadata": {},
   "outputs": [
    {
     "data": {
      "text/plain": [
       "{1, 3, 5, 7, 9}"
      ]
     },
     "execution_count": 901,
     "metadata": {},
     "output_type": "execute_result"
    }
   ],
   "source": [
    "s = {1,2,3,4,5,6,7,8,9,10}\n",
    "filtered = set(x for x in s if x%2!=0)\n",
    "filtered"
   ]
  },
  {
   "cell_type": "markdown",
   "id": "3222f8d8",
   "metadata": {},
   "source": [
    "27. Multiply all elements in a set by 2."
   ]
  },
  {
   "cell_type": "code",
   "execution_count": 902,
   "id": "8cea0fcb",
   "metadata": {},
   "outputs": [
    {
     "data": {
      "text/plain": [
       "{2, 4, 6, 8, 10, 12, 14, 16, 18, 20}"
      ]
     },
     "execution_count": 902,
     "metadata": {},
     "output_type": "execute_result"
    }
   ],
   "source": [
    "m2 = set (x*2 for x in s)\n",
    "m2"
   ]
  },
  {
   "cell_type": "markdown",
   "id": "52d87614",
   "metadata": {},
   "source": [
    "28. Create a set of random numbers."
   ]
  },
  {
   "cell_type": "code",
   "execution_count": 905,
   "id": "219814a9",
   "metadata": {},
   "outputs": [
    {
     "data": {
      "text/plain": [
       "{4, 5, 8, 16, 25, 42, 45, 50, 83, 92}"
      ]
     },
     "execution_count": 905,
     "metadata": {},
     "output_type": "execute_result"
    }
   ],
   "source": [
    "import random \n",
    "sr = set (random.randint(1,100) for _ in range(10))\n",
    "sr"
   ]
  },
  {
   "cell_type": "markdown",
   "id": "2f54610c",
   "metadata": {},
   "source": [
    "29. Check if a set is empty."
   ]
  },
  {
   "cell_type": "code",
   "execution_count": 908,
   "id": "48478fc2",
   "metadata": {},
   "outputs": [
    {
     "name": "stdout",
     "output_type": "stream",
     "text": [
      "empty\n"
     ]
    }
   ],
   "source": [
    "s = set()\n",
    "\n",
    "if len(s) == 0:\n",
    "    print(\"empty\")\n",
    "else:\n",
    "    print(\"not\")\n"
   ]
  },
  {
   "cell_type": "markdown",
   "id": "f86edd10",
   "metadata": {},
   "source": [
    "30. Create a nested set (hint: use frozenset)."
   ]
  },
  {
   "cell_type": "code",
   "execution_count": 914,
   "id": "a44bf1c9",
   "metadata": {},
   "outputs": [
    {
     "data": {
      "text/plain": [
       "{1, 2, 3, frozenset({1, 2, 3})}"
      ]
     },
     "execution_count": 914,
     "metadata": {},
     "output_type": "execute_result"
    }
   ],
   "source": [
    "ns = {1,2,3,frozenset({1,2,3})}\n",
    "ns"
   ]
  },
  {
   "cell_type": "markdown",
   "id": "2fdaedd7",
   "metadata": {},
   "source": [
    "31. Remove an element from a set using the discard method."
   ]
  },
  {
   "cell_type": "code",
   "execution_count": 916,
   "id": "8f59ff7c",
   "metadata": {},
   "outputs": [
    {
     "data": {
      "text/plain": [
       "{1, 3, 4, 5, 6, 7, 8, 9}"
      ]
     },
     "execution_count": 916,
     "metadata": {},
     "output_type": "execute_result"
    }
   ],
   "source": [
    "s = {1,2,3,4,5,6,7,8,9}\n",
    "s.discard(2)\n",
    "s"
   ]
  },
  {
   "cell_type": "markdown",
   "id": "4417a969",
   "metadata": {},
   "source": [
    "32. Compare two sets."
   ]
  },
  {
   "cell_type": "code",
   "execution_count": 917,
   "id": "20825ec3",
   "metadata": {},
   "outputs": [
    {
     "data": {
      "text/plain": [
       "{1, 3}"
      ]
     },
     "execution_count": 917,
     "metadata": {},
     "output_type": "execute_result"
    }
   ],
   "source": [
    "s1= {1,2,3,4}\n",
    "s2 = {1,3,7,9}\n",
    "s1.intersection(s2)"
   ]
  },
  {
   "cell_type": "markdown",
   "id": "7aa0d344",
   "metadata": {},
   "source": [
    "33. Create a set from a string."
   ]
  },
  {
   "cell_type": "code",
   "execution_count": 919,
   "id": "6e11a840",
   "metadata": {},
   "outputs": [
    {
     "data": {
      "text/plain": [
       "{'Hello', 'i', 'love', 'python'}"
      ]
     },
     "execution_count": 919,
     "metadata": {},
     "output_type": "execute_result"
    }
   ],
   "source": [
    "st = (\"Hello i love python\")\n",
    "lst = st.split()\n",
    "sst = set(lst)\n",
    "sst"
   ]
  },
  {
   "cell_type": "markdown",
   "id": "d7210f1a",
   "metadata": {},
   "source": [
    "34. Convert a set of strings to a set of integers."
   ]
  },
  {
   "cell_type": "code",
   "execution_count": 929,
   "id": "ba08fdb9",
   "metadata": {},
   "outputs": [
    {
     "data": {
      "text/plain": [
       "{1, 2, 3}"
      ]
     },
     "execution_count": 929,
     "metadata": {},
     "output_type": "execute_result"
    }
   ],
   "source": [
    "ss = {\"1\", \"2\", \"3\"}\n",
    "sint = set(int(x) for x in ss)\n",
    "sint"
   ]
  },
  {
   "cell_type": "markdown",
   "id": "7b9ed842",
   "metadata": {},
   "source": [
    "35. Convert a set of integers to a set of strings."
   ]
  },
  {
   "cell_type": "code",
   "execution_count": 932,
   "id": "385d7efd",
   "metadata": {},
   "outputs": [
    {
     "data": {
      "text/plain": [
       "{'1', '2', '3', '4', '5'}"
      ]
     },
     "execution_count": 932,
     "metadata": {},
     "output_type": "execute_result"
    }
   ],
   "source": [
    "se= {1,2,3,4,5}\n",
    "sstr = set (str(x) for x in se)\n",
    "sstr"
   ]
  },
  {
   "cell_type": "markdown",
   "id": "95896553",
   "metadata": {},
   "source": [
    "36. Create a set from a tuple."
   ]
  },
  {
   "cell_type": "code",
   "execution_count": 933,
   "id": "18002200",
   "metadata": {},
   "outputs": [
    {
     "data": {
      "text/plain": [
       "{1, 2, 3, 4, 5}"
      ]
     },
     "execution_count": 933,
     "metadata": {},
     "output_type": "execute_result"
    }
   ],
   "source": [
    "tp = (1,2,3,4,5)\n",
    "st = set(x for x in tp)\n",
    "st"
   ]
  },
  {
   "cell_type": "code",
   "execution_count": 935,
   "id": "21387eec",
   "metadata": {},
   "outputs": [
    {
     "data": {
      "text/plain": [
       "{1, 2, 3, 4, 5}"
      ]
     },
     "execution_count": 935,
     "metadata": {},
     "output_type": "execute_result"
    }
   ],
   "source": [
    "set_from_tuple = set(tp)\n",
    "set_from_tuple"
   ]
  },
  {
   "cell_type": "markdown",
   "id": "ac34e1c0",
   "metadata": {},
   "source": [
    "37. Convert a set to a tuple."
   ]
  },
  {
   "cell_type": "code",
   "execution_count": 936,
   "id": "8aef0632",
   "metadata": {},
   "outputs": [
    {
     "data": {
      "text/plain": [
       "(1, 2, 3, 4, 5)"
      ]
     },
     "execution_count": 936,
     "metadata": {},
     "output_type": "execute_result"
    }
   ],
   "source": [
    "tfs = tuple(set_from_tuple)\n",
    "tfs"
   ]
  },
  {
   "cell_type": "markdown",
   "id": "9d30f856",
   "metadata": {},
   "source": [
    "38. Find the maximum value in a set."
   ]
  },
  {
   "cell_type": "code",
   "execution_count": 937,
   "id": "8ca4ab59",
   "metadata": {},
   "outputs": [
    {
     "data": {
      "text/plain": [
       "5"
      ]
     },
     "execution_count": 937,
     "metadata": {},
     "output_type": "execute_result"
    }
   ],
   "source": [
    "max_v = max(tfs)\n",
    "max_v"
   ]
  },
  {
   "cell_type": "markdown",
   "id": "f18a3b4e",
   "metadata": {},
   "source": [
    "39. Find the minimum value in a set."
   ]
  },
  {
   "cell_type": "code",
   "execution_count": 938,
   "id": "54e746fb",
   "metadata": {},
   "outputs": [
    {
     "data": {
      "text/plain": [
       "1"
      ]
     },
     "execution_count": 938,
     "metadata": {},
     "output_type": "execute_result"
    }
   ],
   "source": [
    "min_v = min(tfs)\n",
    "min_v"
   ]
  },
  {
   "cell_type": "markdown",
   "id": "d2018e63",
   "metadata": {},
   "source": [
    "40. Create a set from user input."
   ]
  },
  {
   "cell_type": "code",
   "execution_count": 941,
   "id": "3760fb44",
   "metadata": {},
   "outputs": [
    {
     "name": "stdout",
     "output_type": "stream",
     "text": [
      "enter the element separated by spaces 1 2 3 4 5\n"
     ]
    },
    {
     "data": {
      "text/plain": [
       "{1, 2, 3, 4, 5}"
      ]
     },
     "execution_count": 941,
     "metadata": {},
     "output_type": "execute_result"
    }
   ],
   "source": [
    "user_input = input(\"enter the element separated by spaces \")\n",
    "lfi = \"\".join(user_input)\n",
    "ll = lfi.split()\n",
    "\n",
    "sfu=set (int(x) for x in ll )\n",
    "sfu"
   ]
  },
  {
   "cell_type": "markdown",
   "id": "b2a574b1",
   "metadata": {},
   "source": [
    "41. Check if the intersection of two sets is empty."
   ]
  },
  {
   "cell_type": "code",
   "execution_count": 944,
   "id": "f7b73d4e",
   "metadata": {},
   "outputs": [
    {
     "name": "stdout",
     "output_type": "stream",
     "text": [
      "intersection is empty\n"
     ]
    }
   ],
   "source": [
    "s= {1,2,3,4}\n",
    "s1 = {5,6,7,8}\n",
    "c = s.intersection(s1)\n",
    "if len(c) == 0:\n",
    "    print(\"intersection is empty\")\n",
    "else :\n",
    "    print(\"not empty\")"
   ]
  },
  {
   "cell_type": "markdown",
   "id": "f0540344",
   "metadata": {},
   "source": [
    "42. Create a set of the first 5 Fibonacci numbers."
   ]
  },
  {
   "cell_type": "code",
   "execution_count": 945,
   "id": "b9a4a5a3",
   "metadata": {},
   "outputs": [
    {
     "name": "stdout",
     "output_type": "stream",
     "text": [
      "{0, 1, 2, 3}\n"
     ]
    }
   ],
   "source": [
    "def fibonacci(n):\n",
    "    fib_set = set()\n",
    "    a, b = 0, 1\n",
    "    for _ in range(n):\n",
    "        fib_set.add(a)\n",
    "        a, b = b, a + b\n",
    "    return fib_set\n",
    "\n",
    "first_5_fibonacci = fibonacci(5)\n",
    "print(first_5_fibonacci)\n"
   ]
  },
  {
   "cell_type": "markdown",
   "id": "d7d0e64a",
   "metadata": {},
   "source": [
    "43. Remove duplicates from a list using sets."
   ]
  },
  {
   "cell_type": "code",
   "execution_count": 947,
   "id": "a3b42aff",
   "metadata": {},
   "outputs": [
    {
     "data": {
      "text/plain": [
       "[1, 2, 3, 4]"
      ]
     },
     "execution_count": 947,
     "metadata": {},
     "output_type": "execute_result"
    }
   ],
   "source": [
    "def remove_dublicates (lst) :\n",
    "    return list(set(lst))\n",
    "remove_dublicates([1,1,2,2,3,3,4,4])\n"
   ]
  },
  {
   "cell_type": "markdown",
   "id": "a287fdb3",
   "metadata": {},
   "source": [
    "44. Check if two sets have the same elements, regardless of their count."
   ]
  },
  {
   "cell_type": "code",
   "execution_count": 948,
   "id": "46ee346a",
   "metadata": {},
   "outputs": [
    {
     "name": "stdout",
     "output_type": "stream",
     "text": [
      "True\n",
      "False\n"
     ]
    }
   ],
   "source": [
    "def same_element(set1,set2) :\n",
    "    return set1.symmetric_difference(set2) == set()\n",
    "\n",
    "set1 = {1, 2, 3}\n",
    "set2 = {3, 2, 1}\n",
    "set3 = {1, 2, 3, 4}\n",
    "print(same_element(set1,set2))\n",
    "print(same_element(set1,set3))"
   ]
  },
  {
   "cell_type": "markdown",
   "id": "b089089e",
   "metadata": {},
   "source": [
    "45. Create a set of the first `n` powers of 2."
   ]
  },
  {
   "cell_type": "code",
   "execution_count": 951,
   "id": "01f11056",
   "metadata": {},
   "outputs": [
    {
     "data": {
      "text/plain": [
       "{1, 2, 4, 8, 16}"
      ]
     },
     "execution_count": 951,
     "metadata": {},
     "output_type": "execute_result"
    }
   ],
   "source": [
    "limit = 5\n",
    "s2 = set(2**n for n in range(limit))\n",
    "s2"
   ]
  },
  {
   "cell_type": "markdown",
   "id": "bf2e59f3",
   "metadata": {},
   "source": [
    "46. Find the common elements between a set and a list."
   ]
  },
  {
   "cell_type": "code",
   "execution_count": 953,
   "id": "916e2d56",
   "metadata": {},
   "outputs": [
    {
     "data": {
      "text/plain": [
       "{1, 2, 3, 4}"
      ]
     },
     "execution_count": 953,
     "metadata": {},
     "output_type": "execute_result"
    }
   ],
   "source": [
    "l = [1,2,3,4]\n",
    "st = {1,2,3,4,5}\n",
    "st.intersection(set(l))"
   ]
  },
  {
   "cell_type": "markdown",
   "id": "ef2ff543",
   "metadata": {},
   "source": [
    "47. Create a set of the first `n` triangular numbers."
   ]
  },
  {
   "cell_type": "code",
   "execution_count": 955,
   "id": "bbff70e9",
   "metadata": {},
   "outputs": [
    {
     "name": "stdout",
     "output_type": "stream",
     "text": [
      "{1, 3, 6, 10, 15}\n"
     ]
    }
   ],
   "source": [
    "def triangular_numbers(n):\n",
    "    return {i * (i + 1) // 2 for i in range(1, n + 1)}\n",
    "\n",
    "n = 5  # Number of triangular numbers\n",
    "triangular_set = triangular_numbers(n)\n",
    "print(triangular_set)"
   ]
  },
  {
   "cell_type": "markdown",
   "id": "dfa08459",
   "metadata": {},
   "source": [
    "48. Check if a set contains another set as a subset."
   ]
  },
  {
   "cell_type": "code",
   "execution_count": 956,
   "id": "fc59a0d2",
   "metadata": {},
   "outputs": [
    {
     "name": "stdout",
     "output_type": "stream",
     "text": [
      "set2 is a subset of set1\n"
     ]
    }
   ],
   "source": [
    "set1 = {1, 2, 3, 4, 5}\n",
    "set2 = {3, 4}\n",
    "\n",
    "if set2.issubset(set1):\n",
    "    print(\"set2 is a subset of set1\")\n",
    "else:\n",
    "    print(\"set2 is not a subset of set1\")\n"
   ]
  },
  {
   "cell_type": "markdown",
   "id": "bc02a58b",
   "metadata": {},
   "source": [
    "49. Create a set of alternating 1s and 0s of length n."
   ]
  },
  {
   "cell_type": "code",
   "execution_count": 957,
   "id": "7cce8872",
   "metadata": {},
   "outputs": [
    {
     "name": "stdout",
     "output_type": "stream",
     "text": [
      "{0, 1}\n"
     ]
    }
   ],
   "source": [
    "def alternating_set(n):\n",
    "    return {i % 2 for i in range(n)}\n",
    "\n",
    "n = 5  # Length of the set\n",
    "alternating = alternating_set(n)\n",
    "print(alternating)"
   ]
  },
  {
   "cell_type": "markdown",
   "id": "2ae6b695",
   "metadata": {},
   "source": [
    "50. Merge multiple sets into one."
   ]
  },
  {
   "cell_type": "code",
   "execution_count": 958,
   "id": "07ed2796",
   "metadata": {},
   "outputs": [
    {
     "name": "stdout",
     "output_type": "stream",
     "text": [
      "{1, 2, 3, 4, 5, 6, 7}\n"
     ]
    }
   ],
   "source": [
    "set1 = {1, 2, 3}\n",
    "set2 = {3, 4, 5}\n",
    "set3 = {5, 6, 7}\n",
    "\n",
    "merged_set = set1.union(set2, set3)\n",
    "print(merged_set)\n"
   ]
  },
  {
   "cell_type": "code",
   "execution_count": null,
   "id": "58eb35ef",
   "metadata": {},
   "outputs": [],
   "source": []
  }
 ],
 "metadata": {
  "kernelspec": {
   "display_name": "Python 3 (ipykernel)",
   "language": "python",
   "name": "python3"
  },
  "language_info": {
   "codemirror_mode": {
    "name": "ipython",
    "version": 3
   },
   "file_extension": ".py",
   "mimetype": "text/x-python",
   "name": "python",
   "nbconvert_exporter": "python",
   "pygments_lexer": "ipython3",
   "version": "3.9.12"
  }
 },
 "nbformat": 4,
 "nbformat_minor": 5
}
