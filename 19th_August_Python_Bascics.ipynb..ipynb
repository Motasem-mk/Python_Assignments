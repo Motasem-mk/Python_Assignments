{
 "cells": [
  {
   "cell_type": "markdown",
   "id": "505a7c79-cd2d-4e9d-bd46-bcb5b8fd8a0d",
   "metadata": {},
   "source": [
    "                    TOPIC: Python Basics Variable\n"
   ]
  },
  {
   "cell_type": "markdown",
   "id": "bccbb666-a905-4404-a3ad-cb0e256111d9",
   "metadata": {},
   "source": [
    "1. Declare two variables, `x` and `y`, and assign them integer values.\n",
    "Swap the values of these variables without using any temporary\n",
    "variable."
   ]
  },
  {
   "cell_type": "code",
   "execution_count": 5,
   "id": "fd3715ef-3ee4-4fc1-b8a6-918f03d2d701",
   "metadata": {},
   "outputs": [
    {
     "data": {
      "text/plain": [
       "10"
      ]
     },
     "execution_count": 5,
     "metadata": {},
     "output_type": "execute_result"
    }
   ],
   "source": [
    "x= 10 \n",
    "x"
   ]
  },
  {
   "cell_type": "code",
   "execution_count": 9,
   "id": "d2db4588-79ce-463d-8ecd-3cc6853427df",
   "metadata": {},
   "outputs": [
    {
     "data": {
      "text/plain": [
       "5"
      ]
     },
     "execution_count": 9,
     "metadata": {},
     "output_type": "execute_result"
    }
   ],
   "source": [
    "y = 5\n",
    "y"
   ]
  },
  {
   "cell_type": "code",
   "execution_count": 7,
   "id": "cdc2b452-4471-4235-a669-1e20fa742e9e",
   "metadata": {},
   "outputs": [
    {
     "data": {
      "text/plain": [
       "5"
      ]
     },
     "execution_count": 7,
     "metadata": {},
     "output_type": "execute_result"
    }
   ],
   "source": [
    "x = x-y\n",
    "x # x = 5  after swiping the values "
   ]
  },
  {
   "cell_type": "code",
   "execution_count": 8,
   "id": "e15e0e44-4ea9-4152-8836-e3adbbe0d191",
   "metadata": {},
   "outputs": [
    {
     "data": {
      "text/plain": [
       "10"
      ]
     },
     "execution_count": 8,
     "metadata": {},
     "output_type": "execute_result"
    }
   ],
   "source": [
    "y = x+y\n",
    "y # now  y = 10"
   ]
  },
  {
   "cell_type": "markdown",
   "id": "6d1eecaa-328d-4550-8c73-a7f048786ff0",
   "metadata": {},
   "source": [
    "2. Create a program that calculates the area of a rectangle. Take the\n",
    "length and width as inputs from the user and store them in variables.\n",
    "Calculate and display the area.\n"
   ]
  },
  {
   "cell_type": "code",
   "execution_count": 10,
   "id": "0559c6c4-b7f6-4bcf-b62a-639a64fa0654",
   "metadata": {},
   "outputs": [
    {
     "name": "stdin",
     "output_type": "stream",
     "text": [
      "Enter the width of the rectangle 10\n"
     ]
    }
   ],
   "source": [
    "width = int(input(\"Enter the width of the rectangle\"))"
   ]
  },
  {
   "cell_type": "code",
   "execution_count": 13,
   "id": "fd6450cd-7441-4199-b8e7-4016831dfe43",
   "metadata": {},
   "outputs": [
    {
     "name": "stdin",
     "output_type": "stream",
     "text": [
      "enter the length og the rectangle 10\n"
     ]
    }
   ],
   "source": [
    "length = int(input(\"enter the length og the rectangle\"))"
   ]
  },
  {
   "cell_type": "code",
   "execution_count": 14,
   "id": "9a3937a6-c7b3-4e1f-980c-8fb7e1d7506a",
   "metadata": {},
   "outputs": [
    {
     "data": {
      "text/plain": [
       "100"
      ]
     },
     "execution_count": 14,
     "metadata": {},
     "output_type": "execute_result"
    }
   ],
   "source": [
    "area = width * length\n",
    "area"
   ]
  },
  {
   "cell_type": "markdown",
   "id": "25ebb0b4-78ae-4ece-97ce-28f0ce15b50d",
   "metadata": {},
   "source": [
    "3. Write a Python program that converts temperature from Celsius to\n",
    "Fahrenheit. Take the temperature in Celsius as input, store it in a\n",
    "variable, convert it to Fahrenheit, and display the result."
   ]
  },
  {
   "cell_type": "code",
   "execution_count": 16,
   "id": "74bf1026-75aa-49d7-bbcc-43a74501e6a4",
   "metadata": {},
   "outputs": [
    {
     "name": "stdin",
     "output_type": "stream",
     "text": [
      "Enter the temp in celsius 30\n"
     ]
    }
   ],
   "source": [
    "celsius = int(input('Enter the temp in celsius'))"
   ]
  },
  {
   "cell_type": "code",
   "execution_count": 20,
   "id": "0f1640c5-bff8-418b-9277-c9abc59ad338",
   "metadata": {},
   "outputs": [],
   "source": [
    "fahrenheit = celsius *9/5 +32"
   ]
  },
  {
   "cell_type": "code",
   "execution_count": 21,
   "id": "7e414f8c-d913-4768-bcc5-a45eeeb32bc2",
   "metadata": {},
   "outputs": [
    {
     "data": {
      "text/plain": [
       "86.0"
      ]
     },
     "execution_count": 21,
     "metadata": {},
     "output_type": "execute_result"
    }
   ],
   "source": [
    "fahrenheit"
   ]
  },
  {
   "cell_type": "markdown",
   "id": "debb88a1-83ad-439d-9224-49ffb87b3de9",
   "metadata": {},
   "source": [
    "             \n",
    "                    TOPIC: String Based Questions"
   ]
  },
  {
   "cell_type": "markdown",
   "id": "d45312b0-a636-46b5-9adc-45a3c09dab87",
   "metadata": {},
   "source": [
    "1. Write a Python program that takes a string as input and prints the\n",
    "length of the string."
   ]
  },
  {
   "cell_type": "code",
   "execution_count": 22,
   "id": "2c09197f-88a6-4e35-ad5a-cf56c470010a",
   "metadata": {},
   "outputs": [
    {
     "name": "stdin",
     "output_type": "stream",
     "text": [
      "Enter your string Hello world\n"
     ]
    }
   ],
   "source": [
    "s = input('Enter your string')"
   ]
  },
  {
   "cell_type": "code",
   "execution_count": 24,
   "id": "0072d971-6500-4dfc-8e3d-0109a11f37a3",
   "metadata": {},
   "outputs": [
    {
     "data": {
      "text/plain": [
       "11"
      ]
     },
     "execution_count": 24,
     "metadata": {},
     "output_type": "execute_result"
    }
   ],
   "source": [
    "theLength = len(s)\n",
    "theLength"
   ]
  },
  {
   "cell_type": "markdown",
   "id": "ad6a5520-5e64-41b4-9baf-256157b85205",
   "metadata": {},
   "source": [
    "\n",
    "\n",
    "2. Create a program that takes a sentence from the user and counts the\n",
    "number of vowels (a, e, i, o, u) in the string.\n",
    "\n"
   ]
  },
  {
   "cell_type": "code",
   "execution_count": 25,
   "id": "0990d8a3-92de-4f96-8839-70dc8936a7fa",
   "metadata": {},
   "outputs": [
    {
     "name": "stdin",
     "output_type": "stream",
     "text": [
      "enter you sentence Hello my name is Motasem\n"
     ]
    }
   ],
   "source": [
    "sentence = input(\"enter you sentence\")"
   ]
  },
  {
   "cell_type": "code",
   "execution_count": 27,
   "id": "186295ff-fb63-4037-82ab-706a9fa0d2e0",
   "metadata": {},
   "outputs": [
    {
     "data": {
      "text/plain": [
       "2"
      ]
     },
     "execution_count": 27,
     "metadata": {},
     "output_type": "execute_result"
    }
   ],
   "source": [
    "numOf_a = sentence.count('a')\n",
    "numOf_a"
   ]
  },
  {
   "cell_type": "code",
   "execution_count": 32,
   "id": "f9279502-e5b5-4043-9e0d-fa883bf32db5",
   "metadata": {},
   "outputs": [
    {
     "data": {
      "text/plain": [
       "3"
      ]
     },
     "execution_count": 32,
     "metadata": {},
     "output_type": "execute_result"
    }
   ],
   "source": [
    "numOf_e = sentence.count('e')\n",
    "numOf_e"
   ]
  },
  {
   "cell_type": "code",
   "execution_count": 33,
   "id": "14c6feb1-1194-4ade-896c-dbe5a9c6ee97",
   "metadata": {},
   "outputs": [
    {
     "data": {
      "text/plain": [
       "1"
      ]
     },
     "execution_count": 33,
     "metadata": {},
     "output_type": "execute_result"
    }
   ],
   "source": [
    "numOf_i = sentence.count('i')\n",
    "numOf_i"
   ]
  },
  {
   "cell_type": "code",
   "execution_count": 34,
   "id": "fb3ef14b-444a-45e9-ba8f-56d280cfbeb1",
   "metadata": {},
   "outputs": [
    {
     "data": {
      "text/plain": [
       "2"
      ]
     },
     "execution_count": 34,
     "metadata": {},
     "output_type": "execute_result"
    }
   ],
   "source": [
    "numOf_o = sentence.count('o')\n",
    "numOf_o"
   ]
  },
  {
   "cell_type": "code",
   "execution_count": 35,
   "id": "c852c9ba-16f0-4854-8bcd-fa8d85bbdd39",
   "metadata": {},
   "outputs": [
    {
     "data": {
      "text/plain": [
       "0"
      ]
     },
     "execution_count": 35,
     "metadata": {},
     "output_type": "execute_result"
    }
   ],
   "source": [
    "numOf_u = sentence.count('u')\n",
    "numOf_u"
   ]
  },
  {
   "cell_type": "markdown",
   "id": "86b6b3d2-12d7-4437-8188-e3bda2fb4cf2",
   "metadata": {},
   "source": [
    "3. Given a string, reverse the order of characters using string slicing and\n",
    "print the reversed string."
   ]
  },
  {
   "cell_type": "code",
   "execution_count": 36,
   "id": "fd934368-fde9-4ac0-a3d0-ebd3f9380288",
   "metadata": {},
   "outputs": [
    {
     "name": "stdin",
     "output_type": "stream",
     "text": [
      "enter your sentence i love python\n"
     ]
    }
   ],
   "source": [
    "st = input('enter your sentence')"
   ]
  },
  {
   "cell_type": "code",
   "execution_count": 37,
   "id": "4f2fd4cd-0c5b-4feb-a50d-774eb45630c4",
   "metadata": {},
   "outputs": [
    {
     "data": {
      "text/plain": [
       "'nohtyp evol i'"
      ]
     },
     "execution_count": 37,
     "metadata": {},
     "output_type": "execute_result"
    }
   ],
   "source": [
    "st[::-1]"
   ]
  },
  {
   "cell_type": "markdown",
   "id": "98bb458e-e0a8-4b44-b047-12b0a4b34269",
   "metadata": {},
   "source": [
    "4. Write a program that takes a string as input and checks if it is a\n",
    "palindrome (reads the same forwards and backwards)."
   ]
  },
  {
   "cell_type": "code",
   "execution_count": 42,
   "id": "d6e9190d-859c-407f-b4ae-293f52fab19d",
   "metadata": {},
   "outputs": [
    {
     "name": "stdin",
     "output_type": "stream",
     "text": [
      "enter your string :  motom\n"
     ]
    }
   ],
   "source": [
    "s1 = input(\"enter your string : \")\n",
    "\n"
   ]
  },
  {
   "cell_type": "code",
   "execution_count": 43,
   "id": "de0e21f2-d00d-43bc-a0e5-db0e3a6fae9d",
   "metadata": {},
   "outputs": [],
   "source": [
    "forward= s1[::1]\n",
    "reversed = s1[::-1]"
   ]
  },
  {
   "cell_type": "code",
   "execution_count": 44,
   "id": "22165663-9035-4626-a3ef-c7bce3e99c48",
   "metadata": {},
   "outputs": [
    {
     "name": "stdout",
     "output_type": "stream",
     "text": [
      "motom = motom it is palindrome \n"
     ]
    }
   ],
   "source": [
    "if forward == reversed : \n",
    "    print(f\"{forward} = {reversed} it is palindrome \")\n",
    "else :\n",
    "    print('it is not ')"
   ]
  },
  {
   "cell_type": "markdown",
   "id": "57e3bc8a-3faa-44f1-b92b-92b160f73e8f",
   "metadata": {},
   "source": [
    "\n",
    "\n",
    "\n",
    "\n",
    "5-Create a program that takes a string as input and removes all the\n",
    "spaces from it. Print the modified string without spaces.\n",
    "\n"
   ]
  },
  {
   "cell_type": "code",
   "execution_count": 38,
   "id": "85e01b3e-0180-4e14-bff1-08e60e96a9ab",
   "metadata": {},
   "outputs": [
    {
     "name": "stdin",
     "output_type": "stream",
     "text": [
      "enter your string hello i love pythong\n"
     ]
    }
   ],
   "source": [
    "st1 = input ('enter your string')"
   ]
  },
  {
   "cell_type": "code",
   "execution_count": 40,
   "id": "68ddfdd3-5e21-4ebf-a893-63e95085759b",
   "metadata": {},
   "outputs": [
    {
     "data": {
      "text/plain": [
       "'helloilovepythong'"
      ]
     },
     "execution_count": 40,
     "metadata": {},
     "output_type": "execute_result"
    }
   ],
   "source": [
    "st1.replace(' ','')"
   ]
  }
 ],
 "metadata": {
  "kernelspec": {
   "display_name": "Python 3 (ipykernel)",
   "language": "python",
   "name": "python3"
  },
  "language_info": {
   "codemirror_mode": {
    "name": "ipython",
    "version": 3
   },
   "file_extension": ".py",
   "mimetype": "text/x-python",
   "name": "python",
   "nbconvert_exporter": "python",
   "pygments_lexer": "ipython3",
   "version": "3.10.8"
  }
 },
 "nbformat": 4,
 "nbformat_minor": 5
}
