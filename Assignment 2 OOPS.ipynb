{
 "cells": [
  {
   "cell_type": "markdown",
   "id": "585ea09d",
   "metadata": {},
   "source": [
    "# Constructor:"
   ]
  },
  {
   "cell_type": "markdown",
   "id": "81c972f4",
   "metadata": {},
   "source": [
    "1. What is a constructor in Python? Explain its purpose and usage."
   ]
  },
  {
   "cell_type": "markdown",
   "id": "112ea900",
   "metadata": {},
   "source": [
    "A constructor in Python, denoted by __init__, initializes object attributes when instances of a class are created. It ensures objects start with predefined or default values. Example:"
   ]
  },
  {
   "cell_type": "code",
   "execution_count": 2,
   "id": "c114edd1",
   "metadata": {},
   "outputs": [],
   "source": [
    "class Person:\n",
    "    def __init__(self, name, age):\n",
    "        self.name = name\n",
    "        self.age = age\n",
    "\n",
    "person1 = Person(\"Alice\", 30)"
   ]
  },
  {
   "cell_type": "markdown",
   "id": "624e5fc3",
   "metadata": {},
   "source": [
    "2. Differentiate between a parameterless constructor and a parameterized constructor in Python."
   ]
  },
  {
   "cell_type": "markdown",
   "id": "b6bca360",
   "metadata": {},
   "source": [
    "A parameterless constructor in Python is a constructor method that takes no parameters. It initializes the object's attributes with default values or performs other setup tasks without needing any input.\n",
    "\n",
    "A parameterized constructor, on the other hand, is a constructor method that accepts parameters. It allows the initialization of object attributes with specific values provided by the caller during object instantiation.\n",
    "\n",
    "Here's a basic comparison:"
   ]
  },
  {
   "cell_type": "code",
   "execution_count": 3,
   "id": "0dce3564",
   "metadata": {},
   "outputs": [],
   "source": [
    "class MyClass:\n",
    "    def __init__(self):\n",
    "        self.attribute = \"default_value\"\n"
   ]
  },
  {
   "cell_type": "markdown",
   "id": "cd94d632",
   "metadata": {},
   "source": [
    "Parameterized Constructor:"
   ]
  },
  {
   "cell_type": "code",
   "execution_count": 4,
   "id": "36375ac6",
   "metadata": {},
   "outputs": [],
   "source": [
    "class MyClass:\n",
    "    def __init__(self, value):\n",
    "        self.attribute = value\n"
   ]
  },
  {
   "cell_type": "markdown",
   "id": "228101ca",
   "metadata": {},
   "source": [
    "In the first example, the constructor initializes the attribute with a default value. In the second example, the constructor allows the caller to specify the initial value for the attribute when creating an instance of the class."
   ]
  },
  {
   "cell_type": "markdown",
   "id": "91feb5f1",
   "metadata": {},
   "source": [
    "^^^^^^^^^^^^^^^^^^^^^^^^^^^^^^^^^^^^^^^^^^^^^^^^^^^^^^^^^^^^^^^^^^^^^^^^^^^^^^^^^^^^^^^^^^^^^^^^^^^^^^^^^^^^^^^^"
   ]
  },
  {
   "cell_type": "markdown",
   "id": "222b20a0",
   "metadata": {},
   "source": [
    "3. How do you define a constructor in a Python class? Provide an example."
   ]
  },
  {
   "cell_type": "markdown",
   "id": "5e535f49",
   "metadata": {},
   "source": [
    "using the special method __init__(self) "
   ]
  },
  {
   "cell_type": "code",
   "execution_count": 5,
   "id": "534aa9fb",
   "metadata": {},
   "outputs": [],
   "source": [
    "class MyClass:\n",
    "    def __init__(self, attribute1, attribute2):\n",
    "        self.attribute1 = attribute1\n",
    "        self.attribute2 = attribute2\n",
    "\n",
    "# Creating an object of the class and passing values to the constructor\n",
    "obj = MyClass(\"value1\", \"value2\")\n"
   ]
  },
  {
   "cell_type": "markdown",
   "id": "c553724a",
   "metadata": {},
   "source": [
    "4. Explain the `__init__` method in Python and its role in constructors."
   ]
  },
  {
   "cell_type": "markdown",
   "id": "0ac9092e",
   "metadata": {},
   "source": [
    "The `__init__` method in Python is a constructor used to initialize newly created objects. It automatically initializes object attributes based on arguments passed during object creation. Its primary role is to set up the initial state of objects."
   ]
  },
  {
   "cell_type": "markdown",
   "id": "abcb62eb",
   "metadata": {},
   "source": [
    "5. In a class named `Person`, create a constructor that initializes the `name` and `age` attributes. Provide an\n",
    "example of creating an object of this class."
   ]
  },
  {
   "cell_type": "code",
   "execution_count": 8,
   "id": "de4008cc",
   "metadata": {},
   "outputs": [
    {
     "data": {
      "text/plain": [
       "'motasem'"
      ]
     },
     "execution_count": 8,
     "metadata": {},
     "output_type": "execute_result"
    }
   ],
   "source": [
    "class person:\n",
    "    def __init__(self,name,age):\n",
    "        self.name = name\n",
    "        self.age = age\n",
    "user1 = person(\"motasem\",21)\n",
    "user1.name"
   ]
  },
  {
   "cell_type": "markdown",
   "id": "8cccbe93",
   "metadata": {},
   "source": [
    "6. How can you call a constructor explicitly in Python? Give an example."
   ]
  },
  {
   "cell_type": "code",
   "execution_count": 18,
   "id": "56578c82",
   "metadata": {},
   "outputs": [],
   "source": [
    "class MyClass:\n",
    "    def __init__(self, x):\n",
    "        self.x = x\n",
    "\n",
    "    def display(self):\n",
    "        print(\"Value of x:\", self.x)\n",
    "\n",
    "# Explicitly calling the constructor\n",
    "obj = MyClass.__init__(MyClass, 10)"
   ]
  },
  {
   "cell_type": "markdown",
   "id": "e8a528c8",
   "metadata": {},
   "source": [
    "7. What is the significance of the `self` parameter in Python constructors? Explain with an example."
   ]
  },
  {
   "cell_type": "markdown",
   "id": "463d7dcb",
   "metadata": {},
   "source": [
    "In Python, the self parameter in constructors (and other methods) refers to the instance of the class itself. It is used to access variables and methods associated with the current object within the class.\n",
    "\n",
    "Here's an example to illustrate the significance of the self parameter in constructors:"
   ]
  },
  {
   "cell_type": "code",
   "execution_count": 20,
   "id": "b199c9d4",
   "metadata": {},
   "outputs": [
    {
     "name": "stdout",
     "output_type": "stream",
     "text": [
      "Value: 10\n"
     ]
    }
   ],
   "source": [
    "class MyClass:\n",
    "    def __init__(self, value):\n",
    "        self.value = value  \n",
    "\n",
    "    def display(self):\n",
    "        print(\"Value:\", self.value)  \n",
    "obj1 = MyClass(10)\n",
    "obj1.display()  \n"
   ]
  },
  {
   "cell_type": "markdown",
   "id": "d858a7b2",
   "metadata": {},
   "source": [
    "8. Discuss the concept of default constructors in Python. When are they used?"
   ]
  },
  {
   "cell_type": "markdown",
   "id": "10a58192",
   "metadata": {},
   "source": [
    "Default constructors in Python are automatically invoked when an object of a class is created without an explicit constructor definition. They are used when no specific initialization logic is required for the class attributes."
   ]
  },
  {
   "cell_type": "markdown",
   "id": "5f803fb8",
   "metadata": {},
   "source": [
    "9. Create a Python class called `Rectangle` with a constructor that initializes the `width` and `height`\n",
    "attributes. Provide a method to calculate the area of the rectangle."
   ]
  },
  {
   "cell_type": "code",
   "execution_count": 21,
   "id": "49ba774d",
   "metadata": {},
   "outputs": [
    {
     "name": "stdout",
     "output_type": "stream",
     "text": [
      "area = 6\n"
     ]
    }
   ],
   "source": [
    "class rectangle:\n",
    "    def __init__(self,width,height):\n",
    "        self.width = width\n",
    "        self.height =height\n",
    "    \n",
    "    def area (self):\n",
    "        print(f\"area = {self.width *self.height}\")\n",
    "r= rectangle(2,3)\n",
    "r.area()"
   ]
  },
  {
   "cell_type": "markdown",
   "id": "03a0fd27",
   "metadata": {},
   "source": [
    "10. How can you have multiple constructors in a Python class? Explain with an example."
   ]
  },
  {
   "cell_type": "markdown",
   "id": "2b248635",
   "metadata": {},
   "source": [
    "In Python, you cannot have multiple constructors like in some other programming languages such as Java or C++. However, you can simulate the behavior of multiple constructors using default parameter values or by using class methods as alternative constructors."
   ]
  },
  {
   "cell_type": "code",
   "execution_count": 22,
   "id": "e27bf1cd",
   "metadata": {},
   "outputs": [
    {
     "name": "stdout",
     "output_type": "stream",
     "text": [
      "0\n",
      "10\n"
     ]
    }
   ],
   "source": [
    "class MyClass:\n",
    "    def __init__(self, value=None):\n",
    "        if value is None:\n",
    "            self.value = 0\n",
    "        else:\n",
    "            self.value = value\n",
    "obj1 = MyClass()  \n",
    "print(obj1.value)  \n",
    "\n",
    "obj2 = MyClass(10)  \n",
    "print(obj2.value)  \n"
   ]
  },
  {
   "cell_type": "markdown",
   "id": "12e9e224",
   "metadata": {},
   "source": [
    "11. What is method overloading, and how is it related to constructors in Python?"
   ]
  },
  {
   "cell_type": "markdown",
   "id": "a28aeb13",
   "metadata": {},
   "source": [
    "Method overloading in Python involves defining multiple methods with the same name but different parameters. It's not directly supported like in some other languages, but you can achieve similar functionality using default parameter values or class methods as alternative constructors."
   ]
  },
  {
   "cell_type": "markdown",
   "id": "3c16fc82",
   "metadata": {},
   "source": [
    "12. Explain the use of the `super()` function in Python constructors. Provide an example."
   ]
  },
  {
   "cell_type": "markdown",
   "id": "b9a8bd23",
   "metadata": {},
   "source": [
    "The super() function in Python is used to call the constructor of the parent class from the child class. It allows the child class to inherit and extend the behavior of the parent class's constructor."
   ]
  },
  {
   "cell_type": "code",
   "execution_count": 24,
   "id": "b4cae675",
   "metadata": {},
   "outputs": [
    {
     "name": "stdout",
     "output_type": "stream",
     "text": [
      "Alice\n",
      "25\n"
     ]
    }
   ],
   "source": [
    "class Parent:\n",
    "    def __init__(self, name):\n",
    "        self.name = name\n",
    "\n",
    "class Child(Parent):\n",
    "    def __init__(self, name, age):\n",
    "        super().__init__(name)   \n",
    "        self.age = age\n",
    "\n",
    "child = Child(\"Alice\", 25)\n",
    "print(child.name)   \n",
    "print(child.age)    \n"
   ]
  },
  {
   "cell_type": "markdown",
   "id": "2195fbc9",
   "metadata": {},
   "source": [
    "13. Create a class called `Book` with a constructor that initializes the `title`, `author`, and `published_year`\n",
    "attributes. Provide a method to display book details."
   ]
  },
  {
   "cell_type": "code",
   "execution_count": 53,
   "id": "5bc688f1",
   "metadata": {},
   "outputs": [
    {
     "name": "stdout",
     "output_type": "stream",
     "text": [
      "1: {'title': 'python', 'author': 'mk', 'published_year': 2015}\n",
      "2: {'title': 'hadoop', 'author': 'ano', 'published_year': 2022}\n",
      "3: {'title': 'Hive', 'author': 'Addy', 'published_year': 2021}\n",
      "Book No: 2\n",
      "Title: hadoop\n",
      "Author: ano\n",
      "Published Year: 2022\n"
     ]
    }
   ],
   "source": [
    "class Book:\n",
    "    books = {}  # Class-level variable to store all books\n",
    "    \n",
    "    def __init__(self, title, author, published_year, book_no):\n",
    "        self.title = title\n",
    "        self.author = author\n",
    "        self.published_year = published_year\n",
    "        self.book_no = book_no\n",
    "        # Automatically append the book information when an instance is created\n",
    "        self.append_info()\n",
    "\n",
    "    def append_info(self):\n",
    "        Book.books[self.book_no] = {\n",
    "            \"title\": self.title,\n",
    "            \"author\": self.author,\n",
    "            \"published_year\": self.published_year\n",
    "        }\n",
    "\n",
    "    @classmethod\n",
    "    def display_books(cls):\n",
    "        for k, v in cls.books.items():\n",
    "            print(f\"{k}: {v}\")\n",
    "    \n",
    "    def display_instance_info(self):\n",
    "        print(f\"Book No: {self.book_no}\")\n",
    "        print(f\"Title: {self.title}\")\n",
    "        print(f\"Author: {self.author}\")\n",
    "        print(f\"Published Year: {self.published_year}\")\n",
    "        \n",
    "\n",
    "# Create instances (append_info will be called automatically)\n",
    "book1 = Book(\"python\", \"mk\", 2015, 1)\n",
    "book2 = Book(\"hadoop\", \"ano\", 2022, 2)\n",
    "book3 = Book(\"Hive\", \"Addy\", 2021, 3)\n",
    "\n",
    "# Display all books\n",
    "Book.display_books()\n",
    "book2.display_instance_info()"
   ]
  },
  {
   "cell_type": "markdown",
   "id": "a674cdaa",
   "metadata": {},
   "source": [
    "14. Discuss the differences between constructors and regular methods in Python classes."
   ]
  },
  {
   "cell_type": "markdown",
   "id": "4d801a92",
   "metadata": {},
   "source": [
    "### Differences Between Constructors and Regular Methods in Python:\n",
    "\n",
    "1. **Purpose**:\n",
    "   - **Constructors**: Initialize object attributes upon creation (defined by `__init__`).\n",
    "   - **Regular Methods**: Define behaviors or operations that objects can perform.\n",
    "\n",
    "2. **Invocation**:\n",
    "   - **Constructors**: Automatically called when a class instance is created.\n",
    "   - **Regular Methods**: Must be explicitly called using the object.\n",
    "\n",
    "3. **Return Type**:\n",
    "   - **Constructors**: Do not return a value (implicitly return `None`).\n",
    "   - **Regular Methods**: Can return any value.\n",
    "\n",
    "4. **Access**:\n",
    "   - **Constructors**: Set up instance variables at object creation.\n",
    "   - **Regular Methods**: Can modify instance variables and perform actions.\n",
    "\n",
    "5. **Frequency of Calls**:\n",
    "   - **Constructors**: Called once per object instantiation.\n",
    "   - **Regular Methods**: Can be called multiple times on the same object.\n",
    "\n",
    "In summary, constructors set up an object’s initial state, while regular methods allow for interaction with the object after it is created."
   ]
  },
  {
   "cell_type": "markdown",
   "id": "1604ac0b",
   "metadata": {},
   "source": [
    "15. Explain the role of the `self` parameter in instance variable initialization within a constructor."
   ]
  },
  {
   "cell_type": "markdown",
   "id": "ede7ab1b",
   "metadata": {},
   "source": [
    "The `self` parameter in Python's instance methods, including constructors, serves as a reference to the current instance of the class. Its primary roles are:\n",
    "\n",
    "1. **Accessing Instance Variables**: It allows the constructor to initialize instance variables specific to that object. For example, in `self.title = title`, `self.title` refers to the instance variable, while `title` is the parameter passed to the constructor.\n",
    "\n",
    "2. **Distinguishing Between Instance and Local Variables**: Using `self` helps differentiate between instance variables and local variables with the same name, ensuring clarity and correctness in the assignment.\n",
    "\n",
    "3. **Enabling Method Access**: It allows instance methods to modify the object's state and access other methods, maintaining encapsulation and organization within the class.\n",
    "\n",
    "In summary, `self` is essential for referring to the instance being created or modified, enabling proper initialization and interaction with the class's attributes and methods. \n",
    "\n",
    "For more information on the role of `self`, you can visit this [link](https://docs.python.org/3/tutorial/classes.html#class-and-instance-variables)."
   ]
  },
  {
   "cell_type": "markdown",
   "id": "708abeb1",
   "metadata": {},
   "source": [
    "16. How do you prevent a class from having multiple instances by using constructors in Python? Provide an\n",
    "example."
   ]
  },
  {
   "cell_type": "code",
   "execution_count": 57,
   "id": "1b695a2c",
   "metadata": {},
   "outputs": [
    {
     "name": "stdout",
     "output_type": "stream",
     "text": [
      "True\n"
     ]
    }
   ],
   "source": [
    "class Singleton : #This defines a new class called Singleton. All logic for ensuring a single instance will be implemented within this class. \n",
    "    _instance = None  # Class-level variable to hold the single instance \n",
    "                      # the leading underscore _  is a convention used to indicate that a variable or method is intended for internal use within a class or module\n",
    "    def __new__(cls,*args, **kwargs):\n",
    "                if cls._instance == None :\n",
    "                    cls._instance=super(Singleton, cls).__new__(cls)\n",
    "                return cls._instance\n",
    "# Usage\n",
    "singleton1 = Singleton()\n",
    "singleton2 = Singleton()\n",
    "\n",
    "print(singleton1 is singleton2)  # Output: True (both variables point to the same instance)"
   ]
  },
  {
   "cell_type": "markdown",
   "id": "81945d8a",
   "metadata": {},
   "source": [
    "17. Create a Python class called `Student` with a constructor that takes a list of subjects as a parameter and\n",
    "initializes the `subjects` attribute."
   ]
  },
  {
   "cell_type": "code",
   "execution_count": 60,
   "id": "91b0274c",
   "metadata": {},
   "outputs": [
    {
     "name": "stdout",
     "output_type": "stream",
     "text": [
      "subjects enrolled : \n",
      "Math\n",
      "Science\n",
      "History\n"
     ]
    }
   ],
   "source": [
    "class Student :\n",
    "    \n",
    "    def __init__(self,subjects):\n",
    "        self.subjects = subjects\n",
    "    def display_subjects (self):\n",
    "        print(\"subjects enrolled : \")\n",
    "        for i in self.subjects :\n",
    "            print(i)\n",
    "student1 = Student([\"Math\", \"Science\", \"History\"])\n",
    "student1.display_subjects()"
   ]
  },
  {
   "cell_type": "markdown",
   "id": "0a002ef1",
   "metadata": {},
   "source": [
    "___________________________________________________________________________________________________________________\n",
    "18. What is the purpose of the `__del__` method in Python classes, and how does it relate to constructors?"
   ]
  },
  {
   "cell_type": "markdown",
   "id": "40a85089",
   "metadata": {},
   "source": [
    "The `__del__` method in Python classes is known as a destructor. Its primary purpose is to define actions that should be taken when an object is about to be destroyed or removed from memory. This can include releasing resources, closing files, or cleaning up network connections.\n",
    "\n",
    "### Relationship to Constructors\n",
    "- **Complementary Role**: While the constructor (`__init__`) is called when an instance of a class is created, the destructor (`__del__`) is called when the instance is about to be destroyed.\n",
    "- **Resource Management**: The `__del__` method is useful for managing resources and ensuring that all necessary cleanup occurs, which is especially important in resource-intensive applications.\n",
    "\n",
    "### Important Notes\n",
    "- The exact timing of the `__del__` method call is not guaranteed, as it depends on Python's garbage collection process.\n",
    "- Using `__del__` can lead to complications, particularly with circular references, as the timing of object destruction may not be predictable.\n",
    "\n"
   ]
  },
  {
   "cell_type": "code",
   "execution_count": 62,
   "id": "9a08e530",
   "metadata": {},
   "outputs": [
    {
     "name": "stdout",
     "output_type": "stream",
     "text": [
      "Resource acquired.\n",
      "Resource released.\n"
     ]
    }
   ],
   "source": [
    "\n",
    "class Resource:\n",
    "    def __init__(self):\n",
    "        print(\"Resource acquired.\")\n",
    "\n",
    "    def __del__(self):\n",
    "        print(\"Resource released.\")\n",
    "\n",
    "# Example usage\n",
    "res = Resource()  # Output: Resource acquired.\n",
    "del res           # Output: Resource released."
   ]
  },
  {
   "cell_type": "markdown",
   "id": "7a248325",
   "metadata": {},
   "source": [
    "19. Explain the use of constructor chaining in Python. Provide a practical example."
   ]
  },
  {
   "cell_type": "markdown",
   "id": "abdd2a3c",
   "metadata": {},
   "source": [
    "\n",
    "### Constructor chaining : \n",
    " in Python refers to the practice of calling one constructor from another within the same class or from a parent class to avoid code duplication and to streamline the initialization process. This allows for better organization of code and makes it easier to manage complex initialization logic.\n",
    "\n",
    "Key Points of Constructor Chaining\n",
    "Code Reusability: It prevents repetition by allowing a subclass to call the constructor of its superclass.\n",
    "Initialization Flexibility: It provides flexibility to initialize an object with additional parameters while still leveraging the existing initialization logic.\n",
    "Enhanced Clarity: It improves code readability and maintainability by encapsulating related initialization logic.\n",
    "Practical Example\n",
    "Consider a scenario where we have a base class Person and a derived class Student that extends the functionality of Person."
   ]
  },
  {
   "cell_type": "code",
   "execution_count": 63,
   "id": "90c46fb5",
   "metadata": {},
   "outputs": [
    {
     "name": "stdout",
     "output_type": "stream",
     "text": [
      "Initialized Person: Alice, Age: 20\n",
      "Initialized Student: Alice, ID: S12345\n"
     ]
    }
   ],
   "source": [
    "class Person:\n",
    "    def __init__(self, name, age):\n",
    "        self.name = name\n",
    "        self.age = age\n",
    "        print(f\"Initialized Person: {self.name}, Age: {self.age}\")\n",
    "\n",
    "class Student(Person):\n",
    "    def __init__(self, name, age, student_id):\n",
    "        # Chaining the constructor of the Person class\n",
    "        super().__init__(name, age)  # Call to the parent class constructor\n",
    "        self.student_id = student_id\n",
    "        print(f\"Initialized Student: {self.name}, ID: {self.student_id}\")\n",
    "\n",
    "# Example usage\n",
    "student = Student(\"Alice\", 20, \"S12345\")\n"
   ]
  },
  {
   "cell_type": "markdown",
   "id": "de0cf1f8",
   "metadata": {},
   "source": [
    "20. Create a Python class called `Car` with a default constructor that initializes the `make` and `model`\n",
    "attributes. Provide a method to display car information."
   ]
  },
  {
   "cell_type": "code",
   "execution_count": 68,
   "id": "9551448f",
   "metadata": {},
   "outputs": [
    {
     "name": "stdout",
     "output_type": "stream",
     "text": [
      "Car Make: Unknown, Model: Unknown\n",
      "Car Make: Toyota, Model: Corola\n"
     ]
    }
   ],
   "source": [
    "class Cars :\n",
    "    car = {}\n",
    "    def __init__(self, make=\"Unknown\", model=\"Unknown\"):\n",
    "        self.make = make\n",
    "        self.model = model\n",
    "    \n",
    "    def display_info(self):\n",
    "        print(f\"Car Make: {self.make}, Model: {self.model}\")\n",
    "    \n",
    "\n",
    "car1 = Cars(\"Toyota\",\"Corola\")\n",
    "default_car = Cars()\n",
    "default_car.display_info()\n",
    "car1.display_info()"
   ]
  },
  {
   "cell_type": "markdown",
   "id": "4d128a40",
   "metadata": {},
   "source": [
    "## Inheritance:"
   ]
  },
  {
   "cell_type": "markdown",
   "id": "cee5273a",
   "metadata": {},
   "source": [
    "1. What is inheritance in Python? Explain its significance in object-oriented programming."
   ]
  },
  {
   "cell_type": "markdown",
   "id": "7ed7211a",
   "metadata": {},
   "source": [
    "Inheritance in Python allows a class (child/subclass) to inherit attributes and methods from\n",
    "another class (parent/superclass).\n",
    "It's important in object-oriented programming (OOP) because it promotes code reuse, reduces redundancy,\n",
    "and enables method overriding, allowing subclasses to modify inherited methods. It also supports polymorphism, where different objects can be treated as instances of a common superclass. This enhances code maintainability and scalability. \n",
    "\n",
    "\n"
   ]
  },
  {
   "cell_type": "code",
   "execution_count": 69,
   "id": "a57a92ec",
   "metadata": {},
   "outputs": [],
   "source": [
    "class Animal:\n",
    "    def speak(self):\n",
    "        return \"Animal speaks\"\n",
    "class Dog(Animal):\n",
    "    def speak(self):\n",
    "        return \"Woof!\""
   ]
  },
  {
   "cell_type": "markdown",
   "id": "c4c0aac8",
   "metadata": {},
   "source": [
    "2. Differentiate between single inheritance and multiple inheritance in Python. Provide examples for each."
   ]
  },
  {
   "cell_type": "markdown",
   "id": "1c44701d",
   "metadata": {},
   "source": [
    "\n",
    "Single Inheritance involves a class inheriting from one parent class. It allows the child class to reuse the functionality of a single base class."
   ]
  },
  {
   "cell_type": "code",
   "execution_count": 72,
   "id": "6a2fc205",
   "metadata": {},
   "outputs": [
    {
     "name": "stdout",
     "output_type": "stream",
     "text": [
      "Animal voice\n",
      "Meow\n"
     ]
    }
   ],
   "source": [
    "'''Example'''\n",
    "class Animal :\n",
    "    def speak(self):\n",
    "        return \"Animal voice\"\n",
    "    \n",
    "class Cat (Animal):\n",
    "    def speak(self):\n",
    "        return\"Meow\"\n",
    "\n",
    "cow = Animal()\n",
    "cat = Cat()\n",
    "print(cow.speak())\n",
    "print(cat.speak()   )"
   ]
  },
  {
   "cell_type": "markdown",
   "id": "fc568649",
   "metadata": {},
   "source": [
    "Multiple Inheritance occurs when a class inherits from more than one parent class, combining functionality from multiple sources.\n",
    "\n"
   ]
  },
  {
   "cell_type": "code",
   "execution_count": 83,
   "id": "9bd7c4ab",
   "metadata": {},
   "outputs": [
    {
     "name": "stdout",
     "output_type": "stream",
     "text": [
      "Animal voice\n",
      "Vehicle moves\n"
     ]
    }
   ],
   "source": [
    "'''Example'''\n",
    "class Animal :\n",
    "    def speak(self):\n",
    "        return \"Animal voice\"\n",
    "    \n",
    "class Vehicle (Animal):\n",
    "    def move(self):\n",
    "        return \"Vehicle moves\"\n",
    "\n",
    "class Robot(Vehicle,Animal):\n",
    "    pass\n",
    "r = Robot()\n",
    "# print(r.move())\n",
    "print(r.speak())\n",
    "print(r.move())"
   ]
  },
  {
   "cell_type": "markdown",
   "id": "aef2f281",
   "metadata": {},
   "source": [
    "3. Create a Python class called `Vehicle` with attributes `color` and `speed`. Then, create a child class called\n",
    "`Car` that inherits from `Vehicle` and adds a `brand` attribute. Provide an example of creating a `Car` object."
   ]
  },
  {
   "cell_type": "code",
   "execution_count": 94,
   "id": "33b36676",
   "metadata": {},
   "outputs": [
    {
     "data": {
      "text/plain": [
       "'the brand of the car is SEAT, and its color is Black and the speed is 280 km\\\\h'"
      ]
     },
     "execution_count": 94,
     "metadata": {},
     "output_type": "execute_result"
    }
   ],
   "source": [
    "class Vehicle :\n",
    "    def __init__(self,color,speed):\n",
    "        self.color=color\n",
    "        self.speed=speed\n",
    "        \n",
    "    def specs(self):\n",
    "        return f\"the color of the car is {self.color} and the speed : {self.speed}\"\n",
    "    \n",
    "class Car(Vehicle):\n",
    "    def __init__(self,color,speed,brand):\n",
    "        super().__init__(color,speed)\n",
    "        self.brand =brand\n",
    "    def brand_specs_car(self):\n",
    "        return f\"the brand of the car is {self.brand}, and its color is {self.color} and the speed is {self.speed}\"\n",
    "\n",
    "car1 = Car(\"Black\", \"280 km\\h\",\"SEAT\")\n",
    "# car1.specs()\n",
    "car1.brand_specs_car()"
   ]
  },
  {
   "cell_type": "markdown",
   "id": "8ef90fe7",
   "metadata": {},
   "source": [
    "4. Explain the concept of method overriding in inheritance. Provide a practical example."
   ]
  },
  {
   "cell_type": "markdown",
   "id": "02884c37",
   "metadata": {},
   "source": [
    "\n",
    "Method overriding is a feature in OOP where a child class redefines a method inherited from its parent class. It allows the child class to provide a specific implementation of the method that differs from the parent class. This is useful when you want the behavior of a method to be specific to the child class, even though it shares the same method name with the parent."
   ]
  },
  {
   "cell_type": "code",
   "execution_count": 96,
   "id": "a59916d1",
   "metadata": {},
   "outputs": [
    {
     "name": "stdout",
     "output_type": "stream",
     "text": [
      "Meow\n",
      "Bark\n"
     ]
    }
   ],
   "source": [
    "class Animal :\n",
    "    def speak (self):\n",
    "        return \"animal voice \"\n",
    "class Cat (Animal):\n",
    "    def speak(self):\n",
    "        return \"Meow\"\n",
    "class Dog (Animal):\n",
    "    def speak(self):\n",
    "        return \"Bark\"\n",
    "\n",
    "c = Cat()\n",
    "d = Dog()\n",
    "print(c.speak())\n",
    "print(d.speak())"
   ]
  },
  {
   "cell_type": "markdown",
   "id": "8a54eb47",
   "metadata": {},
   "source": [
    "5. How can you access the methods and attributes of a parent class from a child class in Python? Give an\n",
    "example."
   ]
  },
  {
   "cell_type": "markdown",
   "id": "3afa9836",
   "metadata": {},
   "source": [
    "\n",
    "In Python, you can access the methods and attributes of a parent class from a child class using the super() function. This allows you to call a method from the parent class within the child class, or initialize the parent class's attributes in the child's constructor."
   ]
  },
  {
   "cell_type": "code",
   "execution_count": 105,
   "id": "b86c0a98",
   "metadata": {},
   "outputs": [
    {
     "data": {
      "text/plain": [
       "'kitty voice  voice , the breed is street kat'"
      ]
     },
     "execution_count": 105,
     "metadata": {},
     "output_type": "execute_result"
    }
   ],
   "source": [
    "class Animal:\n",
    "    def __init__(self,name):\n",
    "        self.name = name\n",
    "    def speak (self):\n",
    "        return f\"{self.name} voice \"\n",
    "    \n",
    "class Cat(Animal):\n",
    "    def __init__(self,name ,breed):\n",
    "        super().__init__(name) # Using super() to access the parent class's __init__ method\n",
    "        self.breed = breed\n",
    "    \n",
    "    def speak(self) :\n",
    "        Parent_speak = super().speak()\n",
    "        return f\"{ Parent_speak} voice , the breed is {self.breed}\"\n",
    "a = Animal(\"lolo\")\n",
    "ca=Cat(\"kitty\",\"street kat\")\n",
    "ca.speak()"
   ]
  },
  {
   "cell_type": "markdown",
   "id": "8cdb4149",
   "metadata": {},
   "source": [
    "6. Discuss the use of the `super()` function in Python inheritance. When and why is it used? Provide an\n",
    "example."
   ]
  },
  {
   "cell_type": "markdown",
   "id": "77e43531",
   "metadata": {},
   "source": [
    "\n",
    "The super() function in Python is used to give access to methods and properties of a parent class within a child class. It allows you to call methods from the parent class without explicitly referring to the parent class by name, making it useful in inheritance and for method overriding.\n",
    "\n",
    "When and Why to Use super():\n",
    "Method Overriding: When you override a method in a child class but still want to call the parent class’s version of that method, super() allows you to do so.\n",
    "Code Reusability: By calling super(), you can reuse code from the parent class, making your program more modular and avoiding code duplication.\n",
    "Multiple Inheritance: It helps avoid issues in multiple inheritance by ensuring that the correct class's method is called in the Method Resolution Order (MRO)."
   ]
  },
  {
   "cell_type": "code",
   "execution_count": 107,
   "id": "b2e56992",
   "metadata": {},
   "outputs": [
    {
     "name": "stdout",
     "output_type": "stream",
     "text": [
      "Buddy makes a sound. The dog is a Golden Retriever.\n"
     ]
    }
   ],
   "source": [
    "class Animal:\n",
    "    def __init__(self, name):\n",
    "        self.name = name\n",
    "    \n",
    "    def speak(self):\n",
    "        return f\"{self.name} makes a sound.\"\n",
    "\n",
    "class Dog(Animal):\n",
    "    def __init__(self, name, breed):\n",
    "        super().__init__(name)  # Calling the parent class's constructor\n",
    "        self.breed = breed\n",
    "    \n",
    "    def speak(self):\n",
    "        parent_speak = super().speak()  # Calling the parent class's speak method\n",
    "        return f\"{parent_speak} The dog is a {self.breed}.\"\n",
    "\n",
    "# Creating an instance of Dog\n",
    "dog1 = Dog(\"Buddy\", \"Golden Retriever\")\n",
    "print(dog1.speak())\n"
   ]
  },
  {
   "cell_type": "markdown",
   "id": "69086018",
   "metadata": {},
   "source": [
    "7. Create a Python class called `Animal` with a method `speak()`. Then, create child classes `Dog` and `Cat`"
   ]
  },
  {
   "cell_type": "code",
   "execution_count": 108,
   "id": "69d2e3a6",
   "metadata": {},
   "outputs": [
    {
     "name": "stdout",
     "output_type": "stream",
     "text": [
      "Woof! Woof!\n",
      "Meow!\n"
     ]
    }
   ],
   "source": [
    "class Animal:\n",
    "    def speak(self):\n",
    "        return \"Animal speaks\"\n",
    "\n",
    "class Dog(Animal):\n",
    "    def speak(self):\n",
    "        return \"Woof! Woof!\"\n",
    "\n",
    "class Cat(Animal):\n",
    "    def speak(self):\n",
    "        return \"Meow!\"\n",
    "\n",
    "# Creating instances of Dog and Cat\n",
    "dog = Dog()\n",
    "cat = Cat()\n",
    "\n",
    "# Calling the speak method\n",
    "print(dog.speak())  # Output: Woof! Woof!\n",
    "print(cat.speak())  # Output: Meow!\n"
   ]
  },
  {
   "cell_type": "markdown",
   "id": "0424bffd",
   "metadata": {},
   "source": [
    "8. Explain the role of the `isinstance()` function in Python and how it relates to inheritance."
   ]
  },
  {
   "cell_type": "markdown",
   "id": "15fb7c96",
   "metadata": {},
   "source": [
    "\n",
    "The isinstance() function in Python is used to check if an object is an instance of a specific class or a subclass thereof. This function is particularly useful in the context of inheritance because it allows you to determine the type of an object at runtime, enabling dynamic type checking.\n",
    "\n",
    "Role of isinstance()\n",
    "Type Checking: isinstance(obj, class) returns True if obj is an instance of class or any subclass of class. This is helpful when you want to ensure that a certain object is of a specific type before performing operations on it.\n",
    "\n",
    "Support for Inheritance: When dealing with classes that are part of an inheritance hierarchy, isinstance() recognizes the relationship between parent and child classes. For example, if Dog inherits from Animal, isinstance(dog_instance, Animal) will return True."
   ]
  },
  {
   "cell_type": "code",
   "execution_count": 109,
   "id": "c680ae01",
   "metadata": {},
   "outputs": [
    {
     "name": "stdout",
     "output_type": "stream",
     "text": [
      "True\n",
      "True\n",
      "True\n",
      "False\n"
     ]
    }
   ],
   "source": [
    "class Animal:\n",
    "    def speak(self):\n",
    "        return \"Animal speaks\"\n",
    "\n",
    "class Dog(Animal):\n",
    "    def speak(self):\n",
    "        return \"Woof!\"\n",
    "\n",
    "# Create an instance of Dog\n",
    "dog = Dog()\n",
    "\n",
    "# Check types using isinstance()\n",
    "print(isinstance(dog, Dog))      \n",
    "print(isinstance(dog, Animal))   \n",
    "print(isinstance(dog, object))   \n",
    "print(isinstance(dog, str))      \n"
   ]
  },
  {
   "cell_type": "markdown",
   "id": "07e479b8",
   "metadata": {},
   "source": [
    "9. What is the purpose of the `issubclass()` function in Python? Provide an example."
   ]
  },
  {
   "cell_type": "markdown",
   "id": "6e0a4898",
   "metadata": {},
   "source": [
    "\n",
    "The issubclass() :\n",
    "function in Python is used to check if a class is a subclass of another class. It takes two arguments: the first is the class you want to check, and the second is the class you want to check against. If the first class is a subclass of the second class (or the same class), it returns True; otherwise, it returns False.\n",
    "Purpose of issubclass()\n",
    "Type Checking: It helps in determining the relationship between classes in terms of inheritance.\n",
    "Code Clarity: It makes code more readable and maintainable by clearly expressing class relationships.\n",
    "Dynamic Behavior: It allows for more dynamic programming, where behavior can change based on class hierarchies."
   ]
  },
  {
   "cell_type": "code",
   "execution_count": 112,
   "id": "daf0efc2",
   "metadata": {},
   "outputs": [
    {
     "name": "stdout",
     "output_type": "stream",
     "text": [
      "True\n",
      "True\n",
      "False\n"
     ]
    }
   ],
   "source": [
    "class Animal:\n",
    "    pass\n",
    "class Cat(Animal):\n",
    "    pass\n",
    "class Dog(Animal):\n",
    "    pass\n",
    "print(issubclass(Dog,Animal))\n",
    "print(issubclass(Cat,Animal))\n",
    "print(issubclass(Animal,Dog))"
   ]
  },
  {
   "cell_type": "markdown",
   "id": "74bc63fd",
   "metadata": {},
   "source": [
    "10. Discuss the concept of constructor inheritance in Python. How are constructors inherited in child classes?"
   ]
  },
  {
   "cell_type": "markdown",
   "id": "369dd8f0",
   "metadata": {},
   "source": [
    "Constructor inheritance allows a child class to inherit the constructor (__init__ method) from its parent class. If a child class defines its own constructor, it can call the parent’s constructor using super(), ensuring that all inherited attributes are properly initialized."
   ]
  },
  {
   "cell_type": "code",
   "execution_count": 113,
   "id": "ab1b28ef",
   "metadata": {},
   "outputs": [
    {
     "name": "stdout",
     "output_type": "stream",
     "text": [
      "Buddy\n",
      "Golden Retriever\n"
     ]
    }
   ],
   "source": [
    "class Animal:\n",
    "    def __init__(self, name):\n",
    "        self.name = name\n",
    "\n",
    "class Dog(Animal):\n",
    "    def __init__(self, name, breed):\n",
    "        super().__init__(name)  # Call parent constructor\n",
    "        self.breed = breed\n",
    "\n",
    "dog = Dog(\"Buddy\", \"Golden Retriever\")\n",
    "print(dog.name)  # Output: Buddy\n",
    "print(dog.breed) # Output: Golden Retriever\n"
   ]
  },
  {
   "cell_type": "markdown",
   "id": "9c7e9c7b",
   "metadata": {},
   "source": [
    "11. Create a Python class called `Shape` with a method `area()` that calculates the area of a shape. Then, create child classes `Circle` and `Rectangle` that inherit from `Shape` and implement the `area()` method accordingly. Provide an example."
   ]
  },
  {
   "cell_type": "code",
   "execution_count": 122,
   "id": "1dea2373",
   "metadata": {},
   "outputs": [
    {
     "name": "stdout",
     "output_type": "stream",
     "text": [
      "Area of circle = 28.26\n",
      "Area of rectangle = 20\n"
     ]
    }
   ],
   "source": [
    "class Shape:\n",
    "    def __init__(self, length, width, height):\n",
    "        self.length = length\n",
    "        self.width = width\n",
    "        self.height = height\n",
    "        \n",
    "    def area(self):\n",
    "        return \"Area\"\n",
    "\n",
    "class Circle(Shape):\n",
    "    def __init__(self, r):\n",
    "        self.r = r\n",
    "        super().__init__(length=None, width=None, height=None)  # Circle does not use these dimensions\n",
    "\n",
    "    def area(self):\n",
    "        return f\"Area of circle = {3.14 * self.r**2}\"\n",
    "       \n",
    "\n",
    "class Rectangle(Shape):\n",
    "    def __init__(self, length, width):\n",
    "        super().__init__(length, width, height=None)  # height is not used for rectangles\n",
    "\n",
    "    def area(self):\n",
    "        return f\"Area of rectangle = {self.length * self.width}\"\n",
    "\n",
    "\n",
    "\n",
    "\n",
    "# Create instances and calculate areas\n",
    "c1 = Circle(3)\n",
    "print(c1.area())  # Output: Area of circle = 28.26\n",
    "\n",
    "r1 = Rectangle(4, 5)\n",
    "print(r1.area())  # Output: Area of rectangle = 20\n"
   ]
  },
  {
   "cell_type": "markdown",
   "id": "4152c835",
   "metadata": {},
   "source": [
    "12. Explain the use of abstract base classes (ABCs) in Python and how they relate to inheritance. Provide an\n",
    "example using the `abc` module."
   ]
  },
  {
   "cell_type": "markdown",
   "id": "37e47a37",
   "metadata": {},
   "source": [
    "\n",
    "Abstract Base Classes (ABCs) in Python are a mechanism for defining a common interface for a group of related classes, promoting code reuse and establishing a formal contract for subclasses. They are part of the abc module, which stands for Abstract Base Class, and provide a way to enforce that certain methods are implemented in derived classes.\n",
    "\n",
    "Key Points about ABCs:\n",
    "Interface Enforcement: ABCs can define methods that must be implemented by any subclass. If a subclass does not implement these methods, it cannot be instantiated.\n",
    "Inheritance: ABCs enable a clear structure in inheritance hierarchies. Subclasses are required to follow the interface defined by the ABC, ensuring consistent behavior.\n",
    "Polymorphism: Using ABCs allows for polymorphism where different subclasses can be treated as instances of the ABC type, promoting flexibility and code maintainability."
   ]
  },
  {
   "cell_type": "code",
   "execution_count": 133,
   "id": "897bed78",
   "metadata": {},
   "outputs": [
    {
     "name": "stdout",
     "output_type": "stream",
     "text": [
      "area of circle is : 28.26\n",
      "perimeter of circle : 18.84\n",
      "Rectangle Area: 24\n",
      "Rectangle Perimeter: 20\n"
     ]
    }
   ],
   "source": [
    "from abc import ABC , abstractmethod\n",
    "\n",
    "class Shape(ABC):\n",
    "    \n",
    "    @abstractmethod\n",
    "    def area(self): # abstract method that must be implemented in the subclass \n",
    "        pass\n",
    "    \n",
    "    @abstractmethod\n",
    "    def perimeter(self):\n",
    "        pass\n",
    "    \n",
    "class Circle(Shape): #inherit from class shape ABC\n",
    "    def __init__(self,r):\n",
    "        self.r = r\n",
    "    \n",
    "    def area(self): # Implementation of the abstract method\n",
    "        return f\"area of circle is : {3.14*self.r**2}\"\n",
    "    \n",
    "    def perimeter(self):\n",
    "        return f\"perimeter of circle : {2 * 3.14 * self.r}\" \n",
    "    \n",
    "    \n",
    "class Rectangle(Shape):  # Another subclass of the ABC\n",
    "    def __init__(self, width, height):\n",
    "        self.width = width\n",
    "        self.height = height\n",
    "\n",
    "    def area(self):\n",
    "        return self.width * self.height  # Implementation of the abstract method\n",
    "\n",
    "    def perimeter(self):\n",
    "        return 2 * (self.width + self.height)  # Implementation of the abstract method\n",
    "\n",
    "\n",
    "    \n",
    "c1=Circle(3)\n",
    "print(c1.area())\n",
    "print(c1.perimeter())\n",
    "rectangle = Rectangle(4, 6)\n",
    "print(f\"Rectangle Area: {rectangle.area()}\")\n",
    "print(f\"Rectangle Perimeter: {rectangle.perimeter()}\")"
   ]
  },
  {
   "cell_type": "markdown",
   "id": "f4ba2f2f",
   "metadata": {},
   "source": [
    "13. How can you prevent a child class from modifying certain attributes or methods inherited from a parent\n",
    "class in Python?"
   ]
  },
  {
   "cell_type": "markdown",
   "id": "272a50d3",
   "metadata": {},
   "source": [
    "1-Use Private Attributes or Methods: In Python, attributes or methods prefixed with a double underscore (__) become \"private,\" meaning they cannot be easily accessed or overridden by the child class."
   ]
  },
  {
   "cell_type": "code",
   "execution_count": 134,
   "id": "309d8e0f",
   "metadata": {},
   "outputs": [],
   "source": [
    "class Parent:\n",
    "    def __init__(self):\n",
    "        self.__private_attr = \"This is private\"\n",
    "    \n",
    "    def __private_method(self):\n",
    "        return \"This method is private\"\n"
   ]
  },
  {
   "cell_type": "markdown",
   "id": "eabe3a4d",
   "metadata": {},
   "source": [
    "2-Final Methods or Properties (Custom): Python doesn’t have a direct keyword like final in other languages (e.g., Java) to prevent method overriding. However, you can create a custom approach by raising exceptions if overriding occurs, or by documenting certain methods that should not be overridden."
   ]
  },
  {
   "cell_type": "code",
   "execution_count": 135,
   "id": "d1efcb1c",
   "metadata": {},
   "outputs": [],
   "source": [
    "class Parent:\n",
    "    def final_method(self):\n",
    "        raise NotImplementedError(\"This method should not be overridden.\")\n"
   ]
  },
  {
   "cell_type": "markdown",
   "id": "70e44743",
   "metadata": {},
   "source": [
    "3-Read-Only Properties: You can define properties using the @property decorator that make an attribute read-only. This prevents the child class from modifying it."
   ]
  },
  {
   "cell_type": "code",
   "execution_count": 136,
   "id": "da210e9b",
   "metadata": {},
   "outputs": [],
   "source": [
    "class Parent:\n",
    "    def __init__(self):\n",
    "        self._value = 42\n",
    "\n",
    "    @property\n",
    "    def value(self):\n",
    "        return self._value\n"
   ]
  },
  {
   "cell_type": "markdown",
   "id": "50df3a11",
   "metadata": {},
   "source": [
    "14. Create a Python class called `Employee` with attributes `name` and `salary`. Then, create a child class\n",
    "`Manager` that inherits from `Employee` and adds an attribute `department`. Provide an example."
   ]
  },
  {
   "cell_type": "code",
   "execution_count": 139,
   "id": "c984a83b",
   "metadata": {},
   "outputs": [
    {
     "name": "stdout",
     "output_type": "stream",
     "text": [
      "Name: MK, Salary: 15000, Department: HR\n",
      "Employee Ano , his  salary : 5000\n"
     ]
    }
   ],
   "source": [
    "class Employee :\n",
    "    def __init__(self, name, salary):\n",
    "        self.name = name\n",
    "        self.salary = salary\n",
    "    def display_info (self):\n",
    "        return f\"Employee {self.name} , his  salary : {self.salary}\"\n",
    "        \n",
    "class Manager(Employee):\n",
    "    def __init__(self, name, salary, department):\n",
    "        super().__init__(name, salary)\n",
    "        self.department = department\n",
    "    \n",
    "    def display_info(self):\n",
    "        # Overriding the parent method to include department\n",
    "        return f\"Name: {self.name}, Salary: {self.salary}, Department: {self.department}\"\n",
    "\n",
    "e = Employee(\"Ano\", 5000) \n",
    "m = Manager(\"MK\", 15000, \"HR\")\n",
    "print(m.display_info())\n",
    "print(e.display_info())\n",
    "        \n",
    "    "
   ]
  },
  {
   "cell_type": "markdown",
   "id": "3605dae9",
   "metadata": {},
   "source": [
    "15. Discuss the concept of method overloading in Python inheritance. How does it differ from method\n",
    "overriding?"
   ]
  },
  {
   "cell_type": "markdown",
   "id": "2e421b5a",
   "metadata": {},
   "source": [
    "\n",
    "In Python, method overloading refers to defining multiple methods with the same name but different parameters. However, Python does not support method overloading in the traditional sense like some other languages (e.g., Java or C++). Instead, it achieves similar functionality through default arguments or by using variable-length argument lists (*args and **kwargs)\n",
    "\n",
    "using parameters :\n"
   ]
  },
  {
   "cell_type": "code",
   "execution_count": 140,
   "id": "051f63bc",
   "metadata": {},
   "outputs": [
    {
     "name": "stdout",
     "output_type": "stream",
     "text": [
      "5\n",
      "8\n",
      "10\n"
     ]
    }
   ],
   "source": [
    "class Calculator:\n",
    "    def add(self, a, b=0, c=0):\n",
    "        return a + b + c\n",
    "\n",
    "calc = Calculator()\n",
    "\n",
    "# Overloaded methods based on number of arguments\n",
    "print(calc.add(5))        # Output: 5 (one argument)\n",
    "print(calc.add(5, 3))     # Output: 8 (two arguments)\n",
    "print(calc.add(5, 3, 2))  # Output: 10 (three arguments)\n"
   ]
  },
  {
   "cell_type": "markdown",
   "id": "0a3c55af",
   "metadata": {},
   "source": [
    "Using *args : "
   ]
  },
  {
   "cell_type": "code",
   "execution_count": 141,
   "id": "9a1e4cb1",
   "metadata": {},
   "outputs": [
    {
     "name": "stdout",
     "output_type": "stream",
     "text": [
      "5\n",
      "8\n",
      "10\n"
     ]
    }
   ],
   "source": [
    "class Calculator:\n",
    "    def add(self, *args):\n",
    "        return sum(args)\n",
    "\n",
    "calc = Calculator()\n",
    "\n",
    "# Overloaded method handling a variable number of arguments\n",
    "print(calc.add(5))           # Output: 5 (one argument)\n",
    "print(calc.add(5, 3))        # Output: 8 (two arguments)\n",
    "print(calc.add(5, 3, 2))     # Output: 10 (three arguments)\n"
   ]
  },
  {
   "cell_type": "markdown",
   "id": "7aa42dc8",
   "metadata": {},
   "source": [
    "16. Explain the purpose of the `__init__()` method in Python inheritance and how it is utilized in child classes.\n",
    " "
   ]
  },
  {
   "cell_type": "markdown",
   "id": "5af6b61f",
   "metadata": {},
   "source": [
    "The __init__() method in Python is a constructor used to initialize attributes of an object when it is created. In inheritance, it plays a crucial role in setting up the parent class’s properties for the child class.\n",
    "\n",
    "When a child class inherits from a parent class, it can call the parent's __init__() method using the super() function to ensure that the parent class’s attributes are properly initialized, along with any additional attributes specific to the child class. This is essential when a child class needs to extend the functionality of the parent class while still maintaining its initialization behavior."
   ]
  },
  {
   "cell_type": "code",
   "execution_count": 142,
   "id": "cbca6263",
   "metadata": {},
   "outputs": [
    {
     "name": "stdout",
     "output_type": "stream",
     "text": [
      "Dog's Name: Buddy, Breed: Golden Retriever\n"
     ]
    }
   ],
   "source": [
    "class Animal:\n",
    "    def __init__(self, name):\n",
    "        self.name = name\n",
    "\n",
    "class Dog(Animal):\n",
    "    def __init__(self, name, breed):\n",
    "        super().__init__(name)  # Calls the parent class's __init__ method\n",
    "        self.breed = breed  # Child class specific attribute\n",
    "\n",
    "    def display_info(self):\n",
    "        return f\"Dog's Name: {self.name}, Breed: {self.breed}\"\n",
    "\n",
    "dog1 = Dog(\"Buddy\", \"Golden Retriever\")\n",
    "print(dog1.display_info())  # Output: Dog's Name: Buddy, Breed: Golden Retriever\n"
   ]
  },
  {
   "cell_type": "markdown",
   "id": "5cb83939",
   "metadata": {},
   "source": [
    "17. Create a Python class called `Bird` with a method `fly()`. Then, create child classes `Eagle` and `Sparrow` that inherit from `Bird` and implement the `fly()` method differently. Provide an example of using these\n",
    "classes."
   ]
  },
  {
   "cell_type": "code",
   "execution_count": 148,
   "id": "edcff18e",
   "metadata": {},
   "outputs": [
    {
     "data": {
      "text/plain": [
       "'Eagle flies'"
      ]
     },
     "execution_count": 148,
     "metadata": {},
     "output_type": "execute_result"
    }
   ],
   "source": [
    "class Bird :\n",
    "    def fly(self) :\n",
    "        raise NotImplementedError (\"must be implemented\")\n",
    "class Sparrow(Bird):\n",
    "    def fly (self):\n",
    "        return \"Sparrow flies\"\n",
    "class Eagle(Bird):\n",
    "    def fly(self):\n",
    "        return \"Eagle flies\"\n",
    "      \n",
    "\n",
    "s = Sparrow()\n",
    "e = Eagle()\n",
    "e.fly()\n",
    "        "
   ]
  },
  {
   "cell_type": "markdown",
   "id": "ef27b72b",
   "metadata": {},
   "source": [
    "18. What is the \"diamond problem\" in multiple inheritance, and how does Python address it?"
   ]
  },
  {
   "cell_type": "markdown",
   "id": "aa89bfa0",
   "metadata": {},
   "source": [
    "\n",
    "The \"diamond problem\" occurs in multiple inheritance when a class inherits from two classes that both inherit from a common base class, creating a diamond-shaped inheritance structure. This can cause ambiguity about which path to follow when calling a method from the common base class.\n",
    "\n",
    "For example:"
   ]
  },
  {
   "cell_type": "code",
   "execution_count": 149,
   "id": "caf61fee",
   "metadata": {},
   "outputs": [
    {
     "name": "stdout",
     "output_type": "stream",
     "text": [
      "Method from class D\n"
     ]
    }
   ],
   "source": [
    "class A:\n",
    "    def method(self):\n",
    "        print(\"Method from class A\")\n",
    "class B(A):\n",
    "    def method(self):\n",
    "        print(\"Method from class B \")\n",
    "\n",
    "class C(A):\n",
    "    def method(self):\n",
    "        print(\"Method from class C\")\n",
    "\n",
    "class D(B,C):\n",
    "    def method(self):\n",
    "        print(\"Method from class D\")\n",
    "d = D()\n",
    "d.method()"
   ]
  },
  {
   "cell_type": "markdown",
   "id": "f60ba592",
   "metadata": {},
   "source": [
    "In this case, class D inherits from both B and C, which both inherit from A. When d.method() is called, Python has to decide whether to use B's or C's method.\n",
    "\n",
    "How Python addresses it:\n",
    "Python uses the Method Resolution Order (MRO) to solve the diamond problem. MRO determines the order in which base classes are searched when calling a method. Python uses the C3 linearization algorithm to ensure a consistent order that respects inheritance chains.\n",
    "\n",
    "In the example above, the D class will first search in B, then in C, and finally in A based on MRO. You can check the MRO of a class using the __mro__ attribute or the mro() method:"
   ]
  },
  {
   "cell_type": "markdown",
   "id": "36817b9c",
   "metadata": {},
   "source": [
    "19. Discuss the concept of \"is-a\" and \"has-a\" relationships in inheritance, and provide examples of each."
   ]
  },
  {
   "cell_type": "code",
   "execution_count": null,
   "id": "684f3a10",
   "metadata": {},
   "outputs": [],
   "source": []
  },
  {
   "cell_type": "markdown",
   "id": "78a3031b",
   "metadata": {},
   "source": [
    "20. Create a Python class hierarchy for a university system. Start with a base class `Person` and create child\n",
    "classes `Student` and `Professor`, each with their own attributes and methods. Provide an example of using\n",
    "these classes in a university context."
   ]
  },
  {
   "cell_type": "code",
   "execution_count": 154,
   "id": "27b35b75",
   "metadata": {},
   "outputs": [
    {
     "name": "stdout",
     "output_type": "stream",
     "text": [
      "name : Ano, age : 33, Student ID : 11811 , Major : Accounting\n",
      "name : MK, age : 41 , Employee ID : 122, Department: Data Engineering\n"
     ]
    }
   ],
   "source": [
    "class Person : \n",
    "    def __init__(self , name, age):\n",
    "        self.name = name\n",
    "        self.age = age \n",
    "    \n",
    "    def get_info(self):\n",
    "        return f\"name : {self.name}, age : {self.age}\"\n",
    "    \n",
    "\n",
    "class Student(Person):\n",
    "    def __init__(self, name, age, student_id, major):\n",
    "        super().__init__(name, age)\n",
    "        self.student_id = student_id\n",
    "        self.major = major\n",
    "    \n",
    "    def get_info(self):\n",
    "        return f\"{super().get_info()}, Student ID : {self.student_id} , Major : {self.major}\"\n",
    "    \n",
    "    \n",
    "class Professor(Person):\n",
    "    def __init__(self, name, age, emplyee_id , department):\n",
    "        super().__init__(name, age)\n",
    "        self.emplyee_id = emplyee_id\n",
    "        self.department = department\n",
    "    \n",
    "    def get_info(self):\n",
    "        return f\"{super().get_info()} , Employee ID : {self.emplyee_id}, Department: {self.department}\"\n",
    "    \n",
    "s=Student(\"Ano\", 33 , 11811, \"Accounting\")\n",
    "p = Professor(\"MK\", 41, 122 , \"Data Engineering\")\n",
    "\n",
    "print(s.get_info())\n",
    "print(p.get_info())"
   ]
  },
  {
   "cell_type": "markdown",
   "id": "342ead31",
   "metadata": {},
   "source": [
    "## Encapsulation:"
   ]
  },
  {
   "cell_type": "markdown",
   "id": "4bf7662f",
   "metadata": {},
   "source": [
    "1. Explain the concept of encapsulation in Python. What is its role in object-oriented programming?"
   ]
  },
  {
   "cell_type": "markdown",
   "id": "809a0dfa",
   "metadata": {},
   "source": [
    "Encapsulation in Python is a fundamental concept of object-oriented programming (OOP) that involves bundling data (attributes) and methods (functions) that operate on the data into a single unit, typically a class. The primary purpose of encapsulation is to restrict access to the inner workings of an object, thus protecting its data and ensuring that it is manipulated only in well-defined ways.\n",
    "\n",
    "### Role in OOP:\n",
    "- **Data protection**: By controlling access to attributes using access specifiers (like public, protected, or private), encapsulation helps prevent accidental or unauthorized changes to an object's internal state.\n",
    "- **Abstraction**: It hides the complex implementation details and exposes only the necessary interface to the user, making it easier to understand and work with.\n",
    "- **Flexibility**: The internal implementation of a class can be changed without affecting external code that uses the class, allowing for easier maintenance and evolution of programs.\n",
    "\n",
    "In Python, encapsulation is achieved using naming conventions:\n",
    "- Attributes prefixed with a single underscore (`_attribute`) are considered **protected** and should not be accessed directly, although they are still accessible.\n",
    "- Attributes prefixed with double underscores (`__attribute`) are **private**, meaning they cannot be accessed from outside the class directly and require getter or setter methods for access.\n",
    "\n",
    "\n",
    "\n",
    "In this example, the `__age` attribute is private, and you must use the `get_age` and `set_age` methods to access or modify it."
   ]
  },
  {
   "cell_type": "code",
   "execution_count": 155,
   "id": "400fca45",
   "metadata": {},
   "outputs": [
    {
     "name": "stdout",
     "output_type": "stream",
     "text": [
      "Alice\n",
      "30\n",
      "35\n"
     ]
    }
   ],
   "source": [
    "\n",
    "class Person:\n",
    "    def __init__(self, name, age):\n",
    "        self._name = name    # Protected attribute\n",
    "        self.__age = age     # Private attribute\n",
    "\n",
    "    # we have to set a get() & set() methodes for private attributes to be able to access and modifiy them\n",
    "    def get_age(self):        # Getter method\n",
    "        return self.__age\n",
    "\n",
    "    def set_age(self, age):   # Setter method\n",
    "        if age > 0:\n",
    "            self.__age = age\n",
    "        else:\n",
    "            print(\"Invalid age\")\n",
    "\n",
    "# Using the class\n",
    "person = Person(\"Alice\", 30)\n",
    "print(person._name)       # Can be accessed but it's discouraged (protected)\n",
    "print(person.get_age())   # Access private attribute via getter\n",
    "\n",
    "person.set_age(35)        # Changing private attribute via setter\n",
    "print(person.get_age())\n"
   ]
  },
  {
   "cell_type": "markdown",
   "id": "01e70d9d",
   "metadata": {},
   "source": [
    "2. Describe the key principles of encapsulation, including access control and data hiding."
   ]
  },
  {
   "cell_type": "markdown",
   "id": "494737d7",
   "metadata": {},
   "source": [
    "Encapsulation in Python involves controlling access to an object's data and methods. Key principles include:\n",
    "\n",
    "1. **Access Control**: Public, protected (`_attribute`), and private (`__attribute`) attributes limit how attributes and methods are accessed.\n",
    "2. **Data Hiding**: Encapsulation hides the internal details of a class, allowing modification only through defined interfaces (like getters and setters).\n",
    "3. **Abstraction**: It allows users to interact with objects at a higher level without needing to understand the internal complexity.\n",
    "\n",
    "Encapsulation enhances data security and integrity in object-oriented programming."
   ]
  },
  {
   "cell_type": "code",
   "execution_count": 168,
   "id": "6cc58445",
   "metadata": {},
   "outputs": [],
   "source": [
    "class Person:\n",
    "    def __init__(self, name, age):\n",
    "        self._name = name       # Protected attribute\n",
    "        self.__age = age        # Private attribute\n",
    "\n",
    "    def get_age(self):\n",
    "        return self.__age       # Getter method for private attribute\n",
    "\n",
    "    def set_age(self, age):\n",
    "        if age > 0:\n",
    "            self.__age = age    # Setter method with validation\n",
    "        else:\n",
    "            print(\"Invalid age\")\n"
   ]
  },
  {
   "cell_type": "markdown",
   "id": "806060e8",
   "metadata": {},
   "source": [
    "3. How can you achieve encapsulation in Python classes? Provide an example."
   ]
  },
  {
   "cell_type": "code",
   "execution_count": 169,
   "id": "47137ec2",
   "metadata": {},
   "outputs": [
    {
     "name": "stdout",
     "output_type": "stream",
     "text": [
      "John\n",
      "Engineer\n",
      "30\n",
      "5000\n"
     ]
    }
   ],
   "source": [
    "class Person:\n",
    "    def __init__(self, name, age):\n",
    "        self.name = name  # Public attribute\n",
    "        self._job = \"Engineer\"  # Protected attribute\n",
    "        self.__salary = age  # Private attribute\n",
    "\n",
    "    def get_salary(self):\n",
    "        return self.__salary  # Public method to access private attribute\n",
    "\n",
    "    def set_salary(self, amount):\n",
    "        if amount > 0:\n",
    "            self.__salary = amount  # Setter method to modify private attribute\n",
    "        else:\n",
    "            print(\"Invalid salary amount\")\n",
    "            \n",
    "person = Person(\"John\", 30)\n",
    "\n",
    "# Accessing public attribute\n",
    "print(person.name)  # John\n",
    "\n",
    "# Accessing protected attribute\n",
    "print(person._job)  # Engineer\n",
    "\n",
    "# Accessing private attribute (through a getter)\n",
    "print(person.get_salary())  # 30\n",
    "\n",
    "# Modifying private attribute\n",
    "person.set_salary(5000)\n",
    "print(person.get_salary())  # 5000"
   ]
  },
  {
   "cell_type": "markdown",
   "id": "40eb6452",
   "metadata": {},
   "source": [
    "4. Discuss the difference between public, private, and protected access modifiers in Python."
   ]
  },
  {
   "cell_type": "markdown",
   "id": "5ea4cd77",
   "metadata": {},
   "source": [
    "Public: Attributes or methods defined without any leading underscore are public, meaning they can be accessed from anywhere, both within and outside the class."
   ]
  },
  {
   "cell_type": "code",
   "execution_count": 170,
   "id": "1c82c5cf",
   "metadata": {},
   "outputs": [
    {
     "name": "stdout",
     "output_type": "stream",
     "text": [
      "John\n"
     ]
    }
   ],
   "source": [
    "class Person:\n",
    "    def __init__(self, name):\n",
    "        self.name = name  # Public attribute\n",
    "p = Person(\"John\")\n",
    "print(p.name)  # Accessed directly\n"
   ]
  },
  {
   "cell_type": "markdown",
   "id": "dd7c3db0",
   "metadata": {},
   "source": [
    "Protected: Attributes prefixed with a single underscore (_attribute) are considered protected. They are intended to be accessed within the class and its subclasses. However, they are still accessible outside the class by convention, but developers are discouraged from doing so"
   ]
  },
  {
   "cell_type": "code",
   "execution_count": 171,
   "id": "6a002eeb",
   "metadata": {},
   "outputs": [
    {
     "name": "stdout",
     "output_type": "stream",
     "text": [
      "Engineer\n"
     ]
    }
   ],
   "source": [
    "class Person:\n",
    "    def __init__(self, name):\n",
    "        self._job = \"Engineer\"  # Protected attribute\n",
    "p = Person(\"John\")\n",
    "print(p._job)  # Can still access, but it's discouraged\n"
   ]
  },
  {
   "cell_type": "markdown",
   "id": "6b399b0d",
   "metadata": {},
   "source": [
    "Private: Attributes prefixed with double underscores (__attribute) are private and cannot be accessed directly from outside the class. Python uses name mangling to ensure private attributes are not accidentally overwritten or accessed.\n",
    "To access or modify private attributes, getter and setter methods are typically used.\n",
    "\n"
   ]
  },
  {
   "cell_type": "code",
   "execution_count": 173,
   "id": "d822723b",
   "metadata": {},
   "outputs": [
    {
     "ename": "AttributeError",
     "evalue": "'Person' object has no attribute '__age'",
     "output_type": "error",
     "traceback": [
      "\u001b[0;31m---------------------------------------------------------------------------\u001b[0m",
      "\u001b[0;31mAttributeError\u001b[0m                            Traceback (most recent call last)",
      "Input \u001b[0;32mIn [173]\u001b[0m, in \u001b[0;36m<cell line: 7>\u001b[0;34m()\u001b[0m\n\u001b[1;32m      4\u001b[0m         \u001b[38;5;28mself\u001b[39m\u001b[38;5;241m.\u001b[39m__age \u001b[38;5;241m=\u001b[39m age  \u001b[38;5;66;03m#Private attribute\u001b[39;00m\n\u001b[1;32m      6\u001b[0m p \u001b[38;5;241m=\u001b[39m Person(\u001b[38;5;124m\"\u001b[39m\u001b[38;5;124mJohn\u001b[39m\u001b[38;5;124m\"\u001b[39m, \u001b[38;5;241m30\u001b[39m)\n\u001b[0;32m----> 7\u001b[0m \u001b[38;5;28mprint\u001b[39m(\u001b[43mp\u001b[49m\u001b[38;5;241;43m.\u001b[39;49m\u001b[43m__age\u001b[49m)\n",
      "\u001b[0;31mAttributeError\u001b[0m: 'Person' object has no attribute '__age'"
     ]
    }
   ],
   "source": [
    "class Person:\n",
    "    def __init__(self,name,age):\n",
    "        self .__name = name #Private attribute\n",
    "        self.__age = age  #Private attribute\n",
    "\n",
    "p = Person(\"John\", 30)\n",
    "print(p.__age)  # Raises an AttributeError\n"
   ]
  },
  {
   "cell_type": "markdown",
   "id": "5981d645",
   "metadata": {},
   "source": [
    "5. Create a Python class called `Person` with a private attribute `__name`. Provide methods to get and set the\n",
    "name attribute."
   ]
  },
  {
   "cell_type": "code",
   "execution_count": 186,
   "id": "e60fd708",
   "metadata": {},
   "outputs": [
    {
     "name": "stdout",
     "output_type": "stream",
     "text": [
      "mk\n",
      "Ano\n"
     ]
    }
   ],
   "source": [
    "class Person :\n",
    "    def __init__(self ,name):\n",
    "        self.__name = name\n",
    "    \n",
    "    def get_name (self):\n",
    "        return f\"{self.__name}\"\n",
    "    \n",
    "    def set_name (self,name) :\n",
    "        if isinstance(name,str) and name !=\"\":\n",
    "            self.__name = name\n",
    "        else : \n",
    "            print(\"Invalid name\")\n",
    "#         return f\"new name : {self.__name}\"\n",
    "p = Person (\"mk\")\n",
    "print(p.get_name())\n",
    "p.set_name(\"Ano\")\n",
    "print(p.get_name())\n"
   ]
  },
  {
   "cell_type": "markdown",
   "id": "f88f3faf",
   "metadata": {},
   "source": [
    "6. Explain the purpose of getter and setter methods in encapsulation. Provide examples."
   ]
  },
  {
   "cell_type": "markdown",
   "id": "de167479",
   "metadata": {},
   "source": [
    "\n",
    "Getter and setter methods in Python are used to provide controlled access to class attributes, ensuring that the internal state of an object is modified or accessed safely, following the principles of encapsulation.\n",
    "\n",
    "Getters allow for the retrieval of the value of a private or protected attribute.\n",
    "Setters allow for controlled modification of that attribute, often with validation.\n",
    "Purpose:\n",
    "Data Protection: Ensures that sensitive data is not modified directly, especially if it requires validation.\n",
    "Control Over Attribute Access: Allows for logic (e.g., checks) to be applied before modifying or returning attribute values.\n",
    "Consistency: By using getters and setters, all attribute modifications are funneled through a single method, ensuring consistent behavior."
   ]
  },
  {
   "cell_type": "code",
   "execution_count": 187,
   "id": "8a5c7721",
   "metadata": {},
   "outputs": [
    {
     "name": "stdout",
     "output_type": "stream",
     "text": [
      "John\n",
      "Alice\n",
      "Invalid name\n"
     ]
    }
   ],
   "source": [
    "class Person:\n",
    "    def __init__(self, name):\n",
    "        self.__name = name  # Private attribute\n",
    "    \n",
    "    def get_name(self):\n",
    "        return self.__name  # Getter method\n",
    "    \n",
    "    def set_name(self, name):\n",
    "        if isinstance(name, str) and name != \"\":\n",
    "            self.__name = name  # Setter method with validation\n",
    "        else:\n",
    "            print(\"Invalid name\")\n",
    "\n",
    "# Example usage:\n",
    "p = Person(\"John\")\n",
    "print(p.get_name())  # Output: John\n",
    "\n",
    "p.set_name(\"Alice\")  # Valid change\n",
    "print(p.get_name())  # Output: Alice\n",
    "\n",
    "p.set_name(\"\")  # Invalid change\n",
    "# Output: Invalid name\n"
   ]
  },
  {
   "cell_type": "markdown",
   "id": "1f401e86",
   "metadata": {},
   "source": [
    "7. What is name mangling in Python, and how does it affect encapsulation?"
   ]
  },
  {
   "cell_type": "markdown",
   "id": "fd973ee1",
   "metadata": {},
   "source": [
    "**Name mangling** in Python is a mechanism that alters the names of class attributes to make them harder to access from outside the class. It is primarily used to protect private attributes from being overridden or accidentally accessed in subclasses.\n",
    "\n",
    "### How Name Mangling Works:\n",
    "When an attribute is defined in a class with two leading underscores (e.g., `__attribute`), Python automatically changes its name to `_ClassName__attribute`. For example, if you have a class `Person` with a private attribute `__name`, it will be internally transformed to `_Person__name`.\n",
    "\n",
    "### Impact on Encapsulation:\n",
    "1. **Encapsulation Strength**: Name mangling adds an extra layer of protection for private attributes, preventing them from being easily accessed or modified from outside the class. This aligns with the principle of encapsulation, where the internal state of an object is hidden from the outside, exposing only what is necessary through public methods.\n",
    "\n",
    "2. **Avoiding Name Conflicts**: It helps prevent naming conflicts in subclasses, where a child class might accidentally define an attribute with the same name as a private attribute in its parent class. This ensures that private attributes remain unique to their class.\n",
    "\n",
    "### Example:\n",
    "Here’s a simple example to illustrate name mangling:\n",
    "\n"
   ]
  },
  {
   "cell_type": "code",
   "execution_count": 189,
   "id": "7035a2d1",
   "metadata": {},
   "outputs": [
    {
     "name": "stdout",
     "output_type": "stream",
     "text": [
      "John\n",
      "John\n"
     ]
    }
   ],
   "source": [
    "\n",
    "class Person:\n",
    "    def __init__(self, name):\n",
    "        self.__name = name  # Private attribute\n",
    "\n",
    "    def get_name(self):\n",
    "        return self.__name  # Accessing the private attribute through a method\n",
    "\n",
    "# Example usage\n",
    "p = Person(\"John\")\n",
    "print(p.get_name())  # Outputs: John\n",
    "\n",
    "# Attempting to access the private attribute directly (will fail)\n",
    "# print(p.__name)  # Raises AttributeError\n",
    "\n",
    "# Accessing the mangled name\n",
    "print(p._Person__name)  # Outputs: John\n",
    "\n",
    "\n"
   ]
  },
  {
   "cell_type": "markdown",
   "id": "79048a9d",
   "metadata": {},
   "source": [
    "8. Create a Python class called `BankAccount` with private attributes for the account balance (`__balance`) and account number (__acount_number) provide methods for depositing and withdrawing money "
   ]
  },
  {
   "cell_type": "code",
   "execution_count": 16,
   "id": "08a33093",
   "metadata": {},
   "outputs": [
    {
     "name": "stdout",
     "output_type": "stream",
     "text": [
      "Hello MK, your balance is 3000\n",
      "Hello MK, your balance is 3430\n",
      "Hello MK, your balance is 930\n",
      "Insufficient balance or invalid amount.\n",
      "Hello MK, your balance is 930\n"
     ]
    }
   ],
   "source": [
    "class BankAccount: \n",
    "    def __init__(self, name, balance):\n",
    "        self.__name = name\n",
    "        self.__balance = balance  # Private attribute\n",
    "    \n",
    "    def get_balance_info(self):\n",
    "        return f\"Hello {self.__name}, your balance is {self.__balance}\"\n",
    "    \n",
    "    def set_deposit(self, add_balance):\n",
    "        if isinstance(add_balance, int) and add_balance > 0:\n",
    "            self.__balance += add_balance\n",
    "        else:\n",
    "            print(\"Invalid deposit amount. Please enter a positive integer.\")\n",
    "    \n",
    "    def set_withdraw(self, withdraw_balance):\n",
    "        if isinstance(withdraw_balance, int) and withdraw_balance <= self.__balance:\n",
    "            self.__balance -= withdraw_balance\n",
    "        else:\n",
    "            print(\"Insufficient balance or invalid amount.\")\n",
    "       \n",
    "\n",
    "# Example usage\n",
    "client1 = BankAccount(\"MK\", 3000)\n",
    "print(client1.get_balance_info())\n",
    "\n",
    "client1.set_deposit(430)\n",
    "print(client1.get_balance_info())\n",
    "\n",
    "client1.set_withdraw(2500)\n",
    "print(client1.get_balance_info())\n",
    "\n",
    "client1.set_withdraw(1000)  # Trying to withdraw more than the balance will fail\n",
    "print(client1.get_balance_info())\n"
   ]
  },
  {
   "cell_type": "markdown",
   "id": "7ac0682f",
   "metadata": {},
   "source": [
    "9. Discuss the advantages of encapsulation in terms of code maintainability and security."
   ]
  },
  {
   "cell_type": "markdown",
   "id": "3caedd6e",
   "metadata": {},
   "source": [
    "Encapsulation in Python offers several advantages in terms of code maintainability and security:\n",
    "\n",
    "Data Hiding: Encapsulation allows restricting access to certain attributes and methods, protecting the internal state of an object. This prevents accidental modification of critical data, ensuring the object’s integrity.\n",
    "\n",
    "Controlled Access: By providing getter and setter methods, encapsulation allows controlled and regulated access to private attributes. Developers can enforce rules (e.g., validation) when getting or setting values.\n",
    "\n",
    "Modularity and Flexibility: Encapsulation helps create modular code, where objects are responsible for managing their own data. This makes the code easier to maintain, as changes in one class don't impact others. For example, if the internal implementation of a class changes, other parts of the code interacting with the class remain unaffected.\n",
    "\n",
    "Security: Encapsulation provides an additional layer of security by hiding sensitive data and exposing only necessary functions. This reduces the risk of vulnerabilities, as unauthorized access is restricted to critical parts of the system."
   ]
  },
  {
   "cell_type": "markdown",
   "id": "e98f7560",
   "metadata": {},
   "source": [
    "10. How can you access private attributes in Python? Provide an example demonstrating the use of name\n",
    "mangling."
   ]
  },
  {
   "cell_type": "markdown",
   "id": "e59c4d04",
   "metadata": {},
   "source": [
    "In Python, private attributes (those prefixed with `__`) can be accessed through **name mangling**, which alters the attribute name to prevent direct access. Python automatically changes the attribute name to include the class name, allowing access to private attributes indirectly.\n",
    "\n",
    "Here's an example demonstrating name mangling:\n",
    "\n",
    "In the below example, although `__name` and `__age` are private, they can still be accessed using the syntax `_ClassName__attribute`, where `ClassName` is the name of the class (`Person` in this case).\n",
    "\n",
    "### Purpose of Name Mangling:\n",
    "- **Prevents accidental access or modification** of private attributes from outside the class.\n",
    "- **Encourages encapsulation**, while still allowing access when absolutely necessary (e.g., for debugging or testing). \n",
    "\n",
    "This mechanism ensures that the private attributes can’t be easily overridden or accessed inadvertently but can still be accessed when required."
   ]
  },
  {
   "cell_type": "code",
   "execution_count": 17,
   "id": "3c86bf39",
   "metadata": {},
   "outputs": [
    {
     "name": "stdout",
     "output_type": "stream",
     "text": [
      "John\n",
      "30\n"
     ]
    }
   ],
   "source": [
    "class Person:\n",
    "    def __init__(self, name, age):\n",
    "        self.__name = name  # Private attribute\n",
    "        self.__age = age    # Private attribute\n",
    "    \n",
    "    def display_info(self):\n",
    "        return f\"Name: {self.__name}, Age: {self.__age}\"\n",
    "\n",
    "p = Person(\"John\", 30)\n",
    "\n",
    "# Accessing private attributes indirectly using name mangling\n",
    "print(p._Person__name)  # Outputs: John\n",
    "print(p._Person__age)   # Outputs: 30"
   ]
  },
  {
   "cell_type": "markdown",
   "id": "dd792fd9",
   "metadata": {},
   "source": [
    "11. Create a Python class hierarchy for a school system, including classes for students, teachers, and courses,\n",
    "and implement encapsulation principles to protect sensitive information."
   ]
  },
  {
   "cell_type": "code",
   "execution_count": 54,
   "id": "a00ebb8b",
   "metadata": {},
   "outputs": [
    {
     "name": "stdout",
     "output_type": "stream",
     "text": [
      "Bob is already enrolled in Math 101\n",
      "Name: Alice, Age: 35\n",
      "Salary: $5000\n",
      "{'Math 101': 88}\n",
      "['Student: Bob, ID: S001', 'Student: MK, ID: W345']\n"
     ]
    }
   ],
   "source": [
    "# Base class for common attributes\n",
    "class Person:\n",
    "    def __init__(self, name, age):\n",
    "        self.name = name\n",
    "        self.age = age\n",
    "\n",
    "    def get_info(self):\n",
    "        return f\"Name: {self.name}, Age: {self.age}\"\n",
    "\n",
    "# Student class inherits from Person\n",
    "class Student(Person):\n",
    "    def __init__(self, name, age, student_id):\n",
    "        super().__init__(name, age)\n",
    "        self.student_id = student_id\n",
    "        self.__grades = {}  # Private attribute to store grades\n",
    "\n",
    "    def add_grade(self, course, grade):\n",
    "        if isinstance(grade, (int, float)) and 0 <= grade <= 100:\n",
    "            self.__grades[course] = grade\n",
    "        else:\n",
    "            print(\"Invalid grade\")\n",
    "\n",
    "    def get_grades(self):\n",
    "        return self.__grades\n",
    "\n",
    "    def __str__(self):\n",
    "        return f\"Student: {self.name}, ID: {self.student_id}\"\n",
    "\n",
    "# Teacher class inherits from Person\n",
    "class Teacher(Person):\n",
    "    def __init__(self, name, age, teacher_id, salary):\n",
    "        super().__init__(name, age)\n",
    "        self.teacher_id = teacher_id\n",
    "        self.__salary = salary  # Private attribute to protect salary\n",
    "\n",
    "    def get_salary(self):\n",
    "        return f\"Salary: ${self.__salary}\"\n",
    "\n",
    "    def set_salary(self, new_salary):\n",
    "        if new_salary > 0:\n",
    "            self.__salary = new_salary\n",
    "        else:\n",
    "            print(\"Invalid salary\")\n",
    "\n",
    "# Course class with teacher and student enrollments\n",
    "class Course:\n",
    "    def __init__(self, course_name, course_code):\n",
    "        self.course_name = course_name\n",
    "        self.course_code = course_code\n",
    "        self.students = []\n",
    "        self.teacher = None\n",
    "\n",
    "    def enroll_student(self, student):\n",
    "        if isinstance(student, Student):\n",
    "            if student not in self.students:\n",
    "                self.students.append(student)\n",
    "            else:\n",
    "                print(f\"{student.name} is already enrolled in {self.course_name}\")\n",
    "        else:\n",
    "            print(\"Only students can be enrolled\")\n",
    "\n",
    "    def assign_teacher(self, teacher):\n",
    "        if isinstance(teacher, Teacher):\n",
    "            self.teacher = teacher\n",
    "        else:\n",
    "            print(\"Only teachers can be assigned\")\n",
    "\n",
    "    def list_students(self):\n",
    "        return [str(student) for student in self.students]\n",
    "\n",
    "# Example usage:\n",
    "teacher1 = Teacher(\"Alice\", 35, \"T001\", 5000)\n",
    "student1 = Student(\"Bob\", 20, \"S001\")\n",
    "student2 = Student(\"MK\", 33, \"W345\")\n",
    "course1 = Course(\"Math 101\", \"MATH101\")\n",
    "\n",
    "# Assign teacher and enroll students in the course\n",
    "course1.assign_teacher(teacher1)\n",
    "course1.enroll_student(student1)\n",
    "course1.enroll_student(student2)\n",
    "\n",
    "# Prevent duplicate enrollment\n",
    "course1.enroll_student(student1)\n",
    "\n",
    "# Display information\n",
    "print(teacher1.get_info())  # Teacher info\n",
    "print(teacher1.get_salary())  # Teacher salary info\n",
    "\n",
    "# Add grade for student and retrieve\n",
    "student1.add_grade(\"Math 101\", 88)\n",
    "print(student1.get_grades())  # Student's grades\n",
    "\n",
    "# List all enrolled students\n",
    "print(course1.list_students())\n",
    "\n"
   ]
  },
  {
   "cell_type": "markdown",
   "id": "5382d3c8",
   "metadata": {},
   "source": [
    "12. Explain the concept of property decorators in Python and how they relate to encapsulation."
   ]
  },
  {
   "cell_type": "markdown",
   "id": "5d162701",
   "metadata": {},
   "source": [
    "Property decorators in Python manage how attributes are accessed and modified, supporting encapsulation by controlling access to private or protected attributes. \n",
    "\n",
    "- `@property` defines a getter, allowing access to an attribute like it's public.\n",
    "- `@<property>.setter` allows modification with added logic or validation.\n",
    "\n",
    "This maintains encapsulation while allowing controlled access to the private attribute."
   ]
  },
  {
   "cell_type": "code",
   "execution_count": 57,
   "id": "14b164e0",
   "metadata": {},
   "outputs": [],
   "source": [
    "class Person:\n",
    "    def __init__(self, name):\n",
    "        self.__name = name  # Private attribute\n",
    "\n",
    "    @property\n",
    "    def name(self):\n",
    "        return self.__name\n",
    "\n",
    "    @name.setter\n",
    "    def name(self, new_name):\n",
    "        if isinstance(new_name, str) and new_name != \"\":\n",
    "            self.__name = new_name"
   ]
  },
  {
   "cell_type": "markdown",
   "id": "1f4ed9f6",
   "metadata": {},
   "source": [
    "13. What is data hiding, and why is it important in encapsulation? Provide examples."
   ]
  },
  {
   "cell_type": "markdown",
   "id": "f4b9c29b",
   "metadata": {},
   "source": [
    "Data hiding is a principle in encapsulation where internal object details (like variables) are kept hidden from external access. This protects the integrity of an object's data, ensuring that it can only be accessed or modified through defined methods, such as getters and setters. It is important because it prevents unintended changes, maintains data consistency, and enforces control over how data is accessed or updated.\n",
    "In this example, `__salary` is hidden and can only be accessed or modified through the provided methods. This ensures salary updates are controlled."
   ]
  },
  {
   "cell_type": "code",
   "execution_count": 58,
   "id": "ed209e50",
   "metadata": {},
   "outputs": [],
   "source": [
    "class Employee:\n",
    "    def __init__(self, name, salary):\n",
    "        self.name = name\n",
    "        self.__salary = salary  # Private attribute\n",
    "    \n",
    "    def get_salary(self):\n",
    "        return self.__salary\n",
    "    \n",
    "    def set_salary(self, salary):\n",
    "        if salary > 0:\n",
    "            self.__salary = salary\n",
    "        else:\n",
    "            print(\"Invalid salary\")\n",
    "            "
   ]
  },
  {
   "cell_type": "markdown",
   "id": "a334a106",
   "metadata": {},
   "source": [
    "14. Create a Python class called `Employee` with private attributes for salary (`__salary`) and employee ID (__employee_id) .Provide a method to calculate yearly bonuses"
   ]
  },
  {
   "cell_type": "code",
   "execution_count": 59,
   "id": "2d148572",
   "metadata": {},
   "outputs": [
    {
     "name": "stdout",
     "output_type": "stream",
     "text": [
      "Yearly bonus for employee ID E123 is: $6000.00\n"
     ]
    }
   ],
   "source": [
    "class Employee:\n",
    "    def __init__(self, employee_id, salary):\n",
    "        self.__employee_id = employee_id  # Private attribute\n",
    "        self.__salary = salary              # Private attribute\n",
    "\n",
    "    def calculate_bonus(self, percentage):\n",
    "        \"\"\"Calculate yearly bonus based on the salary.\"\"\"\n",
    "        if percentage < 0:\n",
    "            print(\"Bonus percentage cannot be negative.\")\n",
    "            return 0\n",
    "        return self.__salary * (percentage / 100)\n",
    "\n",
    "    def get_employee_id(self):\n",
    "        return self.__employee_id\n",
    "\n",
    "    def get_salary(self):\n",
    "        return self.__salary\n",
    "\n",
    "# Example usage\n",
    "emp1 = Employee(\"E123\", 60000)\n",
    "bonus = emp1.calculate_bonus(10)  # 10% bonus\n",
    "print(f\"Yearly bonus for employee ID {emp1.get_employee_id()} is: ${bonus:.2f}\")\n"
   ]
  },
  {
   "cell_type": "markdown",
   "id": "bc280db4",
   "metadata": {},
   "source": [
    "15. Discuss the use of accessors and mutators in encapsulation. How do they help maintain control over\n",
    "attribute access?"
   ]
  },
  {
   "cell_type": "markdown",
   "id": "c2e25339",
   "metadata": {},
   "source": [
    "\n",
    "Accessors and Mutators in Encapsulation\n",
    "Accessors (often referred to as getter methods) and mutators (often referred to as setter methods) are essential components of encapsulation in object-oriented programming, particularly in Python. They provide controlled access to an object's attributes while enforcing rules for how these attributes can be modified. Here's how they contribute to maintaining control over attribute access:\n",
    "\n",
    "Controlled Access:\n",
    "\n",
    "Accessors allow external code to retrieve the value of a private attribute without directly accessing it. This helps protect the integrity of the data, as the internal representation of the attribute can change without affecting external code.\n",
    "Mutators enable external code to modify an attribute, but only after validating the new value. This validation process can include type checks, range checks, or other business logic that ensures the data remains consistent and valid.\n",
    "Encapsulation:\n",
    "\n",
    "By using accessors and mutators, a class can hide its internal state and expose only what is necessary. This encapsulation is a key principle of object-oriented design, which promotes modularity and maintainability.\n",
    "For example, consider a class Employee with a private salary attribute. Instead of allowing direct access, the class provides methods to get the salary and set a new salary, enforcing rules such as not allowing a negative salary.\n",
    "Maintainability and Flexibility:\n",
    "\n",
    "Accessors and mutators provide a layer of abstraction. If the internal implementation changes (e.g., changing how a salary is stored), the public interface (getters and setters) remains unchanged, minimizing the impact on the code that uses the class.\n",
    "This separation allows developers to modify the internal workings without breaking existing functionality, which is crucial for maintaining larger systems"
   ]
  },
  {
   "cell_type": "code",
   "execution_count": 60,
   "id": "dda64baa",
   "metadata": {},
   "outputs": [
    {
     "name": "stdout",
     "output_type": "stream",
     "text": [
      "50000\n",
      "55000\n"
     ]
    }
   ],
   "source": [
    "class Employee:\n",
    "    def __init__(self, name, salary):\n",
    "        self.__name = name\n",
    "        self.__salary = salary\n",
    "\n",
    "    def get_salary(self):\n",
    "        return self.__salary\n",
    "\n",
    "    def set_salary(self, new_salary):\n",
    "        if new_salary >= 0:\n",
    "            self.__salary = new_salary\n",
    "        else:\n",
    "            print(\"Salary must be non-negative.\")\n",
    "\n",
    "# Example usage\n",
    "emp = Employee(\"Alice\", 50000)\n",
    "print(emp.get_salary())  # Access salary via accessor\n",
    "emp.set_salary(55000)    # Update salary via mutator\n",
    "print(emp.get_salary())\n"
   ]
  },
  {
   "cell_type": "markdown",
   "id": "bf271274",
   "metadata": {},
   "source": [
    "16. What are the potential drawbacks or disadvantages of using encapsulation in Python?"
   ]
  },
  {
   "cell_type": "markdown",
   "id": "66e4bf0a",
   "metadata": {},
   "source": [
    "Here are some potential drawbacks of using encapsulation in Python:\n",
    "\n",
    "1. **Complexity**: Encapsulation can make code more complex due to the need for additional methods (getters/setters) for accessing attributes, potentially cluttering the codebase.\n",
    "\n",
    "2. **Performance Overhead**: Using methods to access attributes can introduce a slight performance hit, although it’s often negligible in practice.\n",
    "\n",
    "3. **Rigidity**: Strict encapsulation can reduce flexibility. Changes in the internal state might require multiple updates to accessor methods.\n",
    "\n",
    "4. **Pythonic Philosophy**: Python embraces the philosophy of trusting developers to manage access, so excessive encapsulation can feel unnecessary or contrary to Python's principles.\n",
    "\n",
    "5. **Boilerplate Code**: Implementing encapsulation can lead to repetitive code, particularly in classes with many attributes, making maintenance harder.\n",
    "\n"
   ]
  },
  {
   "cell_type": "markdown",
   "id": "08200554",
   "metadata": {},
   "source": [
    "17. Create a Python class for a library system that encapsulates book information, including titles, authors,\n",
    "and availability status."
   ]
  },
  {
   "cell_type": "code",
   "execution_count": 61,
   "id": "c320a69c",
   "metadata": {},
   "outputs": [
    {
     "name": "stdout",
     "output_type": "stream",
     "text": [
      "'1984' by George Orwell is available: True\n",
      "You have checked out '1984' by George Orwell.\n",
      "You have returned '1984'.\n",
      "'To Kill a Mockingbird' by Harper Lee is available: False\n",
      "'To Kill a Mockingbird' is currently not available.\n"
     ]
    }
   ],
   "source": [
    "class Book:\n",
    "    def __init__(self, title, author, available=True):\n",
    "        self.__title = title           # Private attribute for book title\n",
    "        self.__author = author         # Private attribute for book author\n",
    "        self.__available = available    # Private attribute for availability status\n",
    "\n",
    "    def get_title(self):\n",
    "        return self.__title\n",
    "\n",
    "    def get_author(self):\n",
    "        return self.__author\n",
    "\n",
    "    def is_available(self):\n",
    "        return self.__available\n",
    "\n",
    "    def check_out(self):\n",
    "        if self.__available:\n",
    "            self.__available = False\n",
    "            print(f\"You have checked out '{self.__title}' by {self.__author}.\")\n",
    "        else:\n",
    "            print(f\"'{self.__title}' is currently not available.\")\n",
    "\n",
    "    def return_book(self):\n",
    "        if not self.__available:\n",
    "            self.__available = True\n",
    "            print(f\"You have returned '{self.__title}'.\")\n",
    "        else:\n",
    "            print(f\"'{self.__title}' was not checked out.\")\n",
    "\n",
    "\n",
    "# Example usage\n",
    "book1 = Book(\"1984\", \"George Orwell\")\n",
    "book2 = Book(\"To Kill a Mockingbird\", \"Harper Lee\", available=False)\n",
    "\n",
    "# Checking book availability\n",
    "print(f\"'{book1.get_title()}' by {book1.get_author()} is available: {book1.is_available()}\")\n",
    "book1.check_out()  # Check out book1\n",
    "book1.return_book()  # Return book1\n",
    "\n",
    "print(f\"'{book2.get_title()}' by {book2.get_author()} is available: {book2.is_available()}\")\n",
    "book2.check_out()  # Attempt to check out book2\n"
   ]
  },
  {
   "cell_type": "markdown",
   "id": "34e037fb",
   "metadata": {},
   "source": [
    "18. Explain how encapsulation enhances code reusability and modularity in Python programs."
   ]
  },
  {
   "cell_type": "markdown",
   "id": "eacde98f",
   "metadata": {},
   "source": [
    "Encapsulation enhances code reusability and modularity in Python through the following key aspects:\n",
    "\n",
    "### 1. **Reusability**\n",
    "   - **Self-Contained Units**: Encapsulated classes can be reused across different projects without needing to understand their internal workings. For example, a `BankAccount` class can be implemented once and reused in multiple applications.\n",
    "   - **Modular Design**: Encapsulation promotes a modular approach, allowing components to be developed and tested independently, reducing redundancy and increasing efficiency.\n",
    "\n",
    "### 2. **Modularity**\n",
    "   - **Separation of Concerns**: Grouping related functionalities within classes leads to clear boundaries and improved organization of code, making it easier to maintain and understand.\n",
    "   - **Controlled Interfaces**: By exposing only public methods and hiding implementation details, changes can be made without affecting dependent code, enhancing maintainability.\n",
    "\n",
    "### 3. **Data Hiding**\n",
    "   - **Integrity Protection**: Private attributes ensure that critical data cannot be accessed directly, which helps maintain data integrity. Accessors (getters) and mutators (setters) provide controlled ways to interact with this data.\n",
    "\n",
    "### Example\n",
    "A `Library` class can manage `Book` objects, allowing it to operate without needing to know how each book tracks its availability:\n",
    "\n",
    "\n",
    "### Conclusion\n",
    "Encapsulation leads to more organized, maintainable, and reusable code, which is essential for building complex systems efficiently. For more information, check out resources like [GeeksforGeeks](https://www.geeksforgeeks.org/object-oriented-programming-oops-python/) and [Real Python](https://realpython.com/python-oop/)."
   ]
  },
  {
   "cell_type": "code",
   "execution_count": 62,
   "id": "862b9c09",
   "metadata": {},
   "outputs": [],
   "source": [
    "class Book:\n",
    "    def __init__(self, title):\n",
    "        self.__title = title\n",
    "        self.__available = True\n",
    "\n",
    "    def check_out(self):\n",
    "        if self.__available:\n",
    "            self.__available = False\n",
    "            return f\"{self.__title} checked out.\"\n",
    "        return f\"{self.__title} is not available.\"\n",
    "\n",
    "class Library:\n",
    "    def __init__(self):\n",
    "        self.books = []\n",
    "\n",
    "    def add_book(self, book):\n",
    "        self.books.append(book)"
   ]
  },
  {
   "cell_type": "markdown",
   "id": "98a9a0ef",
   "metadata": {},
   "source": [
    "19. Describe the concept of information hiding in encapsulation. Why is it essential in software development?"
   ]
  },
  {
   "cell_type": "markdown",
   "id": "9ff760cd",
   "metadata": {},
   "source": [
    "### Information Hiding in Encapsulation\n",
    "\n",
    "**Concept**: Information hiding is a core principle of encapsulation that restricts direct access to certain data within an object, exposing only what is necessary through well-defined interfaces. This is achieved by making attributes private and providing public methods (getters and setters) to interact with those attributes.\n",
    "\n",
    "**Importance**:\n",
    "1. **Data Integrity**: By controlling access to sensitive information, information hiding prevents unintended modifications and ensures that data remains consistent and valid.\n",
    "2. **Reduced Complexity**: It simplifies the interface of classes, allowing users to interact with objects without needing to understand the underlying implementation details.\n",
    "3. **Ease of Maintenance**: Changes to a class’s internal implementation can be made without affecting other parts of the program that rely on its public interface, which promotes easier code updates and bug fixes.\n",
    "\n",
    "### Conclusion\n",
    "Information hiding is essential for developing robust, maintainable, and scalable software systems, enabling developers to manage complexity while protecting critical data.\n",
    "\n",
    "For further reading on this topic, check out sources like [GeeksforGeeks](https://www.geeksforgeeks.org/information-hiding-in-oops/) and [TutorialsPoint](https://www.tutorialspoint.com/python/python_encapsulation.htm)."
   ]
  },
  {
   "cell_type": "markdown",
   "id": "46af8258",
   "metadata": {},
   "source": [
    "20. Create a Python class called `Customer` with private attributes for customer details like name, address,\n",
    "and contact information. Implement encapsulation to ensure data integrity and security."
   ]
  },
  {
   "cell_type": "code",
   "execution_count": 63,
   "id": "d30c5c7e",
   "metadata": {},
   "outputs": [
    {
     "name": "stdout",
     "output_type": "stream",
     "text": [
      "John Doe\n",
      "456 Oak St\n"
     ]
    }
   ],
   "source": [
    "\n",
    "class Customer:\n",
    "    def __init__(self, name, address, contact_info):\n",
    "        self.__name = name           # Private attribute for customer name\n",
    "        self.__address = address     # Private attribute for customer address\n",
    "        self.__contact_info = contact_info  # Private attribute for contact information\n",
    "\n",
    "    # Getter method for name\n",
    "    def get_name(self):\n",
    "        return self.__name\n",
    "\n",
    "    # Setter method for name\n",
    "    def set_name(self, name):\n",
    "        if isinstance(name, str) and name:\n",
    "            self.__name = name\n",
    "        else:\n",
    "            print(\"Invalid name\")\n",
    "\n",
    "    # Getter method for address\n",
    "    def get_address(self):\n",
    "        return self.__address\n",
    "\n",
    "    # Setter method for address\n",
    "    def set_address(self, address):\n",
    "        if isinstance(address, str) and address:\n",
    "            self.__address = address\n",
    "        else:\n",
    "            print(\"Invalid address\")\n",
    "\n",
    "    # Getter method for contact information\n",
    "    def get_contact_info(self):\n",
    "        return self.__contact_info\n",
    "\n",
    "    # Setter method for contact information\n",
    "    def set_contact_info(self, contact_info):\n",
    "        if isinstance(contact_info, str) and contact_info:\n",
    "            self.__contact_info = contact_info\n",
    "        else:\n",
    "            print(\"Invalid contact information\")\n",
    "\n",
    "# Example usage\n",
    "customer1 = Customer(\"John Doe\", \"123 Elm St\", \"555-1234\")\n",
    "print(customer1.get_name())  # Output: John Doe\n",
    "customer1.set_address(\"456 Oak St\")\n",
    "print(customer1.get_address())  # Output: 456 Oak St\n",
    "\n",
    "        "
   ]
  },
  {
   "cell_type": "markdown",
   "id": "ce6329a4",
   "metadata": {},
   "source": [
    "## Polymorphism:"
   ]
  },
  {
   "cell_type": "markdown",
   "id": "7149e6ca",
   "metadata": {},
   "source": [
    "1. What is polymorphism in Python? Explain how it is related to object-oriented programming."
   ]
  },
  {
   "cell_type": "code",
   "execution_count": null,
   "id": "08af86fa",
   "metadata": {},
   "outputs": [],
   "source": [
    "Polymorphism in Python is a fundamental concept in object-oriented programming (OOP) that allows methods to do different things based on the object it is acting upon. In essence, polymorphism enables the same method to operate on different classes, resulting in a single interface that can be utilized by multiple implementations. This is often achieved through method overriding and operator overloading.\n",
    "\n",
    "### Key Points:\n",
    "\n",
    "1. **Method Overriding**: Subclasses can define their version of a method that is already defined in their superclass. When the method is called on an instance of the subclass, the subclass's method is executed instead of the superclass's.\n",
    "\n",
    "2. **Operator Overloading**: This allows the same operator to have different meanings based on the context, such as using `+` for both integer addition and string concatenation.\n",
    "\n",
    "In the example below , the `make_sound` function demonstrates polymorphism by calling the `sound` method on different `Animal` subclasses, allowing for different behaviors based on the object type.\n",
    "\n",
    "### Relation to OOP:\n",
    "Polymorphism is closely tied to the principles of OOP as it promotes code reusability and flexibility, allowing programmers to write more generic and scalable code. It helps in achieving a higher level of abstraction and can make systems easier to maintain.\n",
    "\n",
    "For further details, you can check out resources like [GeeksforGeeks on Polymorphism](https://www.geeksforgeeks.org/polymorphism-in-python/) and [Real Python](https://realpython.com/python-polymorphism/)."
   ]
  },
  {
   "cell_type": "code",
   "execution_count": 64,
   "id": "78e4d58b",
   "metadata": {},
   "outputs": [
    {
     "name": "stdout",
     "output_type": "stream",
     "text": [
      "Bark\n",
      "Meow\n"
     ]
    }
   ],
   "source": [
    "class Animal:\n",
    "    def sound(self):\n",
    "        return \"Some sound\"\n",
    "\n",
    "class Dog(Animal):\n",
    "    def sound(self):\n",
    "        return \"Bark\"\n",
    "\n",
    "class Cat(Animal):\n",
    "    def sound(self):\n",
    "        return \"Meow\"\n",
    "\n",
    "def make_sound(animal):\n",
    "    print(animal.sound())\n",
    "\n",
    "make_sound(Dog())  # Output: Bark\n",
    "make_sound(Cat())  # Output: Meow"
   ]
  },
  {
   "cell_type": "markdown",
   "id": "a29f34a2",
   "metadata": {},
   "source": [
    "2. Describe the difference between compile-time polymorphism and runtime polymorphism in Python."
   ]
  },
  {
   "cell_type": "markdown",
   "id": "3305150f",
   "metadata": {},
   "source": [
    "Compile-Time vs. Runtime Polymorphism\n",
    "Compile-Time Polymorphism: Resolved during compilation (e.g., method overloading using default parameters).\n",
    "Runtime Polymorphism: Resolved during execution, typically through method overriding in subclasses."
   ]
  },
  {
   "cell_type": "markdown",
   "id": "e2c54997",
   "metadata": {},
   "source": [
    "3. Create a Python class hierarchy for shapes (e.g., circle, square, triangle) and demonstrate polymorphism\n",
    "through a common method, such as `calculate_area()`."
   ]
  },
  {
   "cell_type": "code",
   "execution_count": 65,
   "id": "142ec1b0",
   "metadata": {},
   "outputs": [
    {
     "name": "stdout",
     "output_type": "stream",
     "text": [
      "78.5\n",
      "16\n"
     ]
    }
   ],
   "source": [
    "class Shape:\n",
    "    def calculate_area(self):\n",
    "        pass\n",
    "\n",
    "class Circle(Shape):\n",
    "    def __init__(self, radius):\n",
    "        self.radius = radius\n",
    "\n",
    "    def calculate_area(self):\n",
    "        return 3.14 * self.radius ** 2\n",
    "\n",
    "class Square(Shape):\n",
    "    def __init__(self, side):\n",
    "        self.side = side\n",
    "\n",
    "    def calculate_area(self):\n",
    "        return self.side ** 2\n",
    "\n",
    "shapes = [Circle(5), Square(4)]\n",
    "for shape in shapes:\n",
    "    print(shape.calculate_area())\n"
   ]
  },
  {
   "cell_type": "markdown",
   "id": "c042a15f",
   "metadata": {},
   "source": [
    "4. Explain the concept of method overriding in polymorphism. Provide an example."
   ]
  },
  {
   "cell_type": "markdown",
   "id": "b85faa4a",
   "metadata": {},
   "source": [
    "Concept: Subclass provides a specific implementation of a method that is already defined in its superclass."
   ]
  },
  {
   "cell_type": "code",
   "execution_count": 66,
   "id": "dacd8a92",
   "metadata": {},
   "outputs": [
    {
     "name": "stdout",
     "output_type": "stream",
     "text": [
      "Hi\n"
     ]
    }
   ],
   "source": [
    "class Parent:\n",
    "    def greet(self):\n",
    "        return \"Hello\"\n",
    "\n",
    "class Child(Parent):\n",
    "    def greet(self):\n",
    "        return \"Hi\"\n",
    "\n",
    "child = Child()\n",
    "print(child.greet())  # Output: Hi\n"
   ]
  },
  {
   "cell_type": "markdown",
   "id": "8c016102",
   "metadata": {},
   "source": [
    "5. How is polymorphism different from method overloading in Python? Provide examples for both."
   ]
  },
  {
   "cell_type": "markdown",
   "id": "9bcedcb4",
   "metadata": {},
   "source": [
    "## Polymorphism vs. Method Overloading\n",
    "Polymorphism: Different classes can define the same method name but with different behaviors (runtime).\n",
    "Method Overloading: Same method name but different signatures (not natively supported in Python)."
   ]
  },
  {
   "cell_type": "code",
   "execution_count": 67,
   "id": "7e720228",
   "metadata": {},
   "outputs": [
    {
     "name": "stdout",
     "output_type": "stream",
     "text": [
      "A\n",
      "B\n"
     ]
    }
   ],
   "source": [
    "# Polymorphism\n",
    "class A:\n",
    "    def show(self):\n",
    "        print(\"A\")\n",
    "\n",
    "class B:\n",
    "    def show(self):\n",
    "        print(\"B\")\n",
    "\n",
    "for obj in (A(), B()):\n",
    "    obj.show()  # Outputs: A, B\n",
    "\n",
    "# Method Overloading Example (using default parameters)\n",
    "def add(a, b=0):\n",
    "    return a + b\n"
   ]
  },
  {
   "cell_type": "markdown",
   "id": "63e5bfa4",
   "metadata": {},
   "source": [
    "6. Create a Python class called `Animal` with a method `speak()`. Then, create child classes like `Dog`, `Cat`, and `Bird`, each with their own `speak()` method. Demonstrate polymorphism by calling the `speak()` method\n",
    "on objects of different subclasses."
   ]
  },
  {
   "cell_type": "code",
   "execution_count": 70,
   "id": "ac26dbc2",
   "metadata": {},
   "outputs": [
    {
     "name": "stdout",
     "output_type": "stream",
     "text": [
      "Woof!\n",
      "Meow!\n",
      "Tweet!\n"
     ]
    }
   ],
   "source": [
    "class Animal:\n",
    "    def speak(self):\n",
    "        pass\n",
    "\n",
    "class Dog(Animal):\n",
    "    def speak(self):\n",
    "        return \"Woof!\"\n",
    "\n",
    "class Cat(Animal):\n",
    "    def speak(self):\n",
    "        return \"Meow!\"\n",
    "class Bird (Animal):\n",
    "    def speak(self):\n",
    "        return \"Tweet!\"\n",
    "\n",
    "for animal in [Dog(), Cat(), Bird()]:\n",
    "    print(animal.speak())  # Outputs: Woof!, Meow!, Tweet \n"
   ]
  },
  {
   "cell_type": "markdown",
   "id": "bd0248ba",
   "metadata": {},
   "source": [
    "7. Discuss the use of abstract methods and classes in achieving polymorphism in Python. Provide an example\n",
    "using the `abc` module."
   ]
  },
  {
   "cell_type": "markdown",
   "id": "7d992ebc",
   "metadata": {},
   "source": [
    "Abstract Methods and Classes\n",
    "Concept: Define a method in an abstract class that must be implemented in derived classes."
   ]
  },
  {
   "cell_type": "code",
   "execution_count": 71,
   "id": "65ada56c",
   "metadata": {},
   "outputs": [],
   "source": [
    "from abc import ABC, abstractmethod\n",
    "\n",
    "class AbstractAnimal(ABC):\n",
    "    @abstractmethod\n",
    "    def speak(self):  # Has to be implemented in the subclasses\n",
    "        pass\n",
    "\n",
    "class Dog(AbstractAnimal):\n",
    "    def speak(self):\n",
    "        return \"Woof!\"\n"
   ]
  },
  {
   "cell_type": "markdown",
   "id": "85836913",
   "metadata": {},
   "source": [
    "8. Create a Python class hierarchy for a vehicle system (e.g., car, bicycle, boat) and implement a polymorphic `start()` method that prints a message specific to each vehicle type."
   ]
  },
  {
   "cell_type": "code",
   "execution_count": 72,
   "id": "cc29efd3",
   "metadata": {},
   "outputs": [
    {
     "name": "stdout",
     "output_type": "stream",
     "text": [
      "Car starting\n",
      "Bicycle starting\n",
      "Boat starting\n"
     ]
    }
   ],
   "source": [
    "class Vehicle:\n",
    "    def start(self):\n",
    "        pass\n",
    "\n",
    "class Car(Vehicle):\n",
    "    def start(self):\n",
    "        return \"Car starting\"\n",
    "\n",
    "class Bicycle(Vehicle):\n",
    "    def start(self):\n",
    "        return \"Bicycle starting\"\n",
    "\n",
    "class Boat (Vehicle):\n",
    "    def start(self):\n",
    "        return \"Boat starting\"\n",
    "\n",
    "for vehicle in [Car(), Bicycle(),Boat()]:\n",
    "    print(vehicle.start())  # Outputs: Car starting, Bicycle starting\n"
   ]
  },
  {
   "cell_type": "markdown",
   "id": "5a1fff39",
   "metadata": {},
   "source": [
    "9. Explain the significance of the `isinstance()` and `issubclass()` functions in Python polymorphism."
   ]
  },
  {
   "cell_type": "markdown",
   "id": "e1ba56aa",
   "metadata": {},
   "source": [
    "## isinstance() and issubclass()\n",
    "isinstance(): Checks if an object is an instance of a class or tuple of classes.\n",
    "issubclass(): Checks if a class is a subclass of another class.\n",
    "Significance: Essential for type checking in polymorphism."
   ]
  },
  {
   "cell_type": "markdown",
   "id": "9f723b39",
   "metadata": {},
   "source": [
    "10. What is the role of the `@abstractmethod` decorator in achieving polymorphism in Python? Provide an\n",
    "example."
   ]
  },
  {
   "cell_type": "markdown",
   "id": "1918c797",
   "metadata": {},
   "source": [
    "@abstractmethod Decorator\n",
    "Role: Indicates a method that must be overridden in derived classes."
   ]
  },
  {
   "cell_type": "code",
   "execution_count": 73,
   "id": "e4b2603d",
   "metadata": {},
   "outputs": [],
   "source": [
    "from abc import ABC, abstractmethod\n",
    "\n",
    "class Vehicle(ABC):\n",
    "    @abstractmethod\n",
    "    def drive(self):\n",
    "        pass\n",
    "\n",
    "class Car(Vehicle):\n",
    "    def drive(self):\n",
    "        return \"Driving a car\"\n"
   ]
  },
  {
   "cell_type": "markdown",
   "id": "5314b704",
   "metadata": {},
   "source": [
    "\n",
    "11. Create a Python class called `Shape` with a polymorphic method `area()` that calculates the area of different shapes (e.g., circle, rectangle, triangle)."
   ]
  },
  {
   "cell_type": "code",
   "execution_count": 74,
   "id": "5d23a454",
   "metadata": {},
   "outputs": [],
   "source": [
    "class Shape:\n",
    "    def area(self):\n",
    "        pass\n",
    "\n",
    "class Circle(Shape):\n",
    "    def __init__(self, radius):\n",
    "        self.radius = radius\n",
    "\n",
    "    def area(self):\n",
    "        return 3.14 * self.radius ** 2\n"
   ]
  },
  {
   "cell_type": "markdown",
   "id": "5cf5ec74",
   "metadata": {},
   "source": [
    "12. Discuss the benefits of polymorphism in terms of code reusability and flexibility in Python programs."
   ]
  },
  {
   "cell_type": "markdown",
   "id": "0a1dadcf",
   "metadata": {},
   "source": [
    " Benefits of Polymorphism\n",
    "Code Reusability: Common interfaces allow for code reuse across different classes.\n",
    "Flexibility: Easy to extend code with new classes without changing existing code."
   ]
  },
  {
   "cell_type": "markdown",
   "id": "ae5210bf",
   "metadata": {},
   "source": [
    "13. Explain the use of the `super()` function in Python polymorphism. How does it help call methods of parent\n",
    "classes?"
   ]
  },
  {
   "cell_type": "markdown",
   "id": "1b53ede9",
   "metadata": {},
   "source": [
    "Role: Allows calling methods of the parent class."
   ]
  },
  {
   "cell_type": "code",
   "execution_count": 75,
   "id": "0bf0b0bf",
   "metadata": {},
   "outputs": [
    {
     "name": "stdout",
     "output_type": "stream",
     "text": [
      "Hello, Hi!\n"
     ]
    }
   ],
   "source": [
    "class Parent:\n",
    "    def greet(self):\n",
    "        return \"Hello\"\n",
    "\n",
    "class Child(Parent):\n",
    "    def greet(self):\n",
    "        return super().greet() + \", Hi!\"\n",
    "\n",
    "child = Child()\n",
    "print(child.greet())  # Outputs: Hello, Hi!\n"
   ]
  },
  {
   "cell_type": "markdown",
   "id": "f29832c0",
   "metadata": {},
   "source": [
    "14. Create a Python class hierarchy for a banking system with various account types (e.g., savings, checking, credit card) and demonstrate polymorphism by implementing a common `withdraw()` method.\n"
   ]
  },
  {
   "cell_type": "code",
   "execution_count": 76,
   "id": "22bd25be",
   "metadata": {},
   "outputs": [
    {
     "name": "stdout",
     "output_type": "stream",
     "text": [
      "Withdraw from savings\n",
      "Withdraw from checking\n"
     ]
    }
   ],
   "source": [
    "class Account:\n",
    "    def withdraw(self):\n",
    "        pass\n",
    "\n",
    "class SavingsAccount(Account):\n",
    "    def withdraw(self):\n",
    "        return \"Withdraw from savings\"\n",
    "\n",
    "class CheckingAccount(Account):\n",
    "    def withdraw(self):\n",
    "        return \"Withdraw from checking\"\n",
    "\n",
    "for account in [SavingsAccount(), CheckingAccount()]:\n",
    "    print(account.withdraw())\n"
   ]
  },
  {
   "cell_type": "markdown",
   "id": "bf19a619",
   "metadata": {},
   "source": [
    "\n",
    "15. Describe the concept of operator overloading in Python and how it relates to polymorphism. Provide\n",
    "examples using operators like `+` and `*`."
   ]
  },
  {
   "cell_type": "markdown",
   "id": "02c92127",
   "metadata": {},
   "source": [
    "Concept: Allows defining custom behavior for operators based on class attributes."
   ]
  },
  {
   "cell_type": "code",
   "execution_count": 78,
   "id": "a3bca16d",
   "metadata": {},
   "outputs": [
    {
     "name": "stdout",
     "output_type": "stream",
     "text": [
      "6 8\n"
     ]
    }
   ],
   "source": [
    "class Vector:\n",
    "    def __init__(self, x, y):\n",
    "        self.x = x\n",
    "        self.y = y\n",
    "\n",
    "    def __add__(self, other):\n",
    "        return Vector(self.x + other.x, self.y + other.y)\n",
    "\n",
    "v1 = Vector(2, 3)\n",
    "v2 = Vector(4, 5)\n",
    "result = v1 + v2\n",
    "print(result.x, result.y)  # Outputs: 6 8\n"
   ]
  },
  {
   "cell_type": "markdown",
   "id": "ea07f3a2",
   "metadata": {},
   "source": [
    "16. What is dynamic polymorphism, and how is it achieved in Python?"
   ]
  },
  {
   "cell_type": "markdown",
   "id": "e27ec9de",
   "metadata": {},
   "source": [
    "Definition: Achieved through method overriding, allowing method calls to be resolved at runtime"
   ]
  },
  {
   "cell_type": "markdown",
   "id": "bb90b40c",
   "metadata": {},
   "source": [
    "\n",
    "17. Create a Python class hierarchy for employees in a company (e.g., manager, developer, designer) and implement polymorphism through a common `calculate_salary()` method.\n",
    " "
   ]
  },
  {
   "cell_type": "code",
   "execution_count": 79,
   "id": "96047826",
   "metadata": {},
   "outputs": [
    {
     "name": "stdout",
     "output_type": "stream",
     "text": [
      "Manager salary\n",
      "Developer salary\n"
     ]
    }
   ],
   "source": [
    "class Employee:\n",
    "    def calculate_salary(self):\n",
    "        pass\n",
    "\n",
    "class Manager(Employee):\n",
    "    def calculate_salary(self):\n",
    "        return \"Manager salary\"\n",
    "\n",
    "class Developer(Employee):\n",
    "    def calculate_salary(self):\n",
    "        return \"Developer salary\"\n",
    "\n",
    "for emp in [Manager(), Developer()]:\n",
    "    print(emp.calculate_salary())\n"
   ]
  },
  {
   "cell_type": "markdown",
   "id": "24b77805",
   "metadata": {},
   "source": [
    "18. Discuss the concept of function pointers and how they can be used to achieve polymorphism in Python."
   ]
  },
  {
   "cell_type": "markdown",
   "id": "3446e84a",
   "metadata": {},
   "source": [
    "Concept: Assign functions to variables and use them interchangeably, allowing dynamic method resolution."
   ]
  },
  {
   "cell_type": "code",
   "execution_count": 80,
   "id": "a64b99b1",
   "metadata": {},
   "outputs": [
    {
     "name": "stdout",
     "output_type": "stream",
     "text": [
      "Function A\n"
     ]
    }
   ],
   "source": [
    "def function_a():\n",
    "    return \"Function A\"\n",
    "\n",
    "def function_b():\n",
    "    return \"Function B\"\n",
    "\n",
    "function_pointer = function_a\n",
    "print(function_pointer())  # Outputs: Function A\n"
   ]
  },
  {
   "cell_type": "markdown",
   "id": "705198a4",
   "metadata": {},
   "source": [
    " \n",
    "19. Explain the role of interfaces and abstract classes in polymorphism, drawing comparisons between them.\n",
    " "
   ]
  },
  {
   "cell_type": "markdown",
   "id": "28fe63df",
   "metadata": {},
   "source": [
    "Interfaces: Define a contract for classes without implementing any behavior.\n",
    "Abstract Classes: Can have both abstract and concrete methods, providing some shared functionality."
   ]
  },
  {
   "cell_type": "markdown",
   "id": "2a4f38d3",
   "metadata": {},
   "source": [
    "20. Create a Python class for a zoo simulation, demonstrating polymorphism with different animal types (e.g., mammals, birds, reptiles) and their behavior (e.g., eating, sleeping, making sounds)."
   ]
  },
  {
   "cell_type": "code",
   "execution_count": 82,
   "id": "8d6e6132",
   "metadata": {},
   "outputs": [
    {
     "name": "stdout",
     "output_type": "stream",
     "text": [
      "Roar!\n",
      "Ooh Ooh!\n"
     ]
    }
   ],
   "source": [
    "class Animal:\n",
    "    def speak(self):\n",
    "        pass\n",
    "\n",
    "class Lion(Animal):\n",
    "    def speak(self):\n",
    "        return \"Roar!\"\n",
    "\n",
    "class Monkey(Animal):\n",
    "    def speak(self):\n",
    "        return \"Ooh Ooh!\"\n",
    "\n",
    "for animal in [Lion(), Monkey()]:\n",
    "    print(animal.speak())\n"
   ]
  },
  {
   "cell_type": "markdown",
   "id": "8a0c1f1a",
   "metadata": {},
   "source": [
    "# Abstraction:"
   ]
  },
  {
   "cell_type": "markdown",
   "id": "aaecdcb2",
   "metadata": {},
   "source": [
    "1. What is abstraction in Python, and how does it relate to object-oriented programming?"
   ]
  },
  {
   "cell_type": "markdown",
   "id": "b51ac025",
   "metadata": {},
   "source": [
    "1. Abstraction in Python\n",
    "Abstraction is the process of hiding complex implementation details and exposing only the essential features of an object. In object-oriented programming (OOP), it allows developers to interact with objects without needing to understand their inner workings, promoting simplicity and modularity.\n",
    "\n",
    " "
   ]
  },
  {
   "cell_type": "markdown",
   "id": "c5becd3e",
   "metadata": {},
   "source": [
    "2. Describe the benefits of abstraction in terms of code organization and complexity reduction."
   ]
  },
  {
   "cell_type": "markdown",
   "id": "d67c5b29",
   "metadata": {},
   "source": [
    " Benefits of Abstraction\n",
    "Code Organization: Simplifies code by separating interface from implementation.\n",
    "Complexity Reduction: Reduces the cognitive load on developers, allowing them to focus on high-level functionalities."
   ]
  },
  {
   "cell_type": "markdown",
   "id": "d8b8ff21",
   "metadata": {},
   "source": [
    "3. Create a Python class called `Shape` with an abstract method `calculate_area()`. Then, create child classes (e.g., `Circle`, `Rectangle`) that implement the `calculate_area()` method. Provide an example of\n",
    "using these classes."
   ]
  },
  {
   "cell_type": "code",
   "execution_count": 83,
   "id": "17f478db",
   "metadata": {},
   "outputs": [
    {
     "name": "stdout",
     "output_type": "stream",
     "text": [
      "78.53981633974483\n",
      "24\n"
     ]
    }
   ],
   "source": [
    "from abc import ABC, abstractmethod\n",
    "import math\n",
    "\n",
    "class Shape(ABC):\n",
    "    @abstractmethod\n",
    "    def calculate_area(self):\n",
    "        pass\n",
    "\n",
    "class Circle(Shape):\n",
    "    def __init__(self, radius):\n",
    "        self.radius = radius\n",
    "\n",
    "    def calculate_area(self):\n",
    "        return math.pi * (self.radius ** 2)\n",
    "\n",
    "class Rectangle(Shape):\n",
    "    def __init__(self, width, height):\n",
    "        self.width = width\n",
    "        self.height = height\n",
    "\n",
    "    def calculate_area(self):\n",
    "        return self.width * self.height\n",
    "\n",
    "circle = Circle(5)\n",
    "rectangle = Rectangle(4, 6)\n",
    "print(circle.calculate_area())  # Output: Area of circle\n",
    "print(rectangle.calculate_area())  # Output: Area of rectangle\n"
   ]
  },
  {
   "cell_type": "markdown",
   "id": "494f2766",
   "metadata": {},
   "source": [
    "4. Explain the concept of abstract classes in Python and how they are defined using the `abc` module. Provide\n",
    "an example."
   ]
  },
  {
   "cell_type": "markdown",
   "id": "5c835ad4",
   "metadata": {},
   "source": [
    "Abstract Classes in Python ::\n",
    "Abstract classes define a blueprint for subclasses using the abc module. They cannot be instantiated and must implement abstract methods in derived classes."
   ]
  },
  {
   "cell_type": "code",
   "execution_count": 84,
   "id": "8361688f",
   "metadata": {},
   "outputs": [],
   "source": [
    "from abc import ABC, abstractmethod\n",
    "\n",
    "class Animal(ABC):\n",
    "    @abstractmethod\n",
    "    def sound(self):\n",
    "        pass\n",
    "\n",
    "class Dog(Animal):\n",
    "    def sound(self):\n",
    "        return \"Bark\"\n"
   ]
  },
  {
   "cell_type": "markdown",
   "id": "98175e62",
   "metadata": {},
   "source": [
    "5. How do abstract classes differ from regular classes in Python? Discuss their use cases."
   ]
  },
  {
   "cell_type": "markdown",
   "id": "78e8e7bf",
   "metadata": {},
   "source": [
    "- **Abstract Classes**: Cannot be instantiated and may contain abstract methods; they are designed to be subclassed.\n",
    "-**Regular Classes** : Can be instantiated and have concrete implementations.\n",
    "**Use Cases**: Abstract classes are used when you want to enforce certain methods in subclasses, while regular classes are used for concrete objects."
   ]
  },
  {
   "cell_type": "markdown",
   "id": "dda5c910",
   "metadata": {},
   "source": [
    "6. Create a Python class for a bank account and demonstrate abstraction by hiding the account balance and\n",
    "providing methods to deposit and withdraw funds."
   ]
  },
  {
   "cell_type": "code",
   "execution_count": 86,
   "id": "2474f431",
   "metadata": {},
   "outputs": [
    {
     "name": "stdout",
     "output_type": "stream",
     "text": [
      "Deposited 500. New balance is 500.\n",
      "Withdrew 200. New balance is 300.\n",
      "Current balance for John Doe: 300\n"
     ]
    }
   ],
   "source": [
    "class BankAccount:\n",
    "    def __init__(self, account_holder):\n",
    "        self.__balance = 0  # Private attribute to hide the account balance\n",
    "        self.account_holder = account_holder\n",
    "\n",
    "    def deposit(self, amount):\n",
    "        if amount > 0:\n",
    "            self.__balance += amount\n",
    "            print(f\"Deposited {amount}. New balance is {self.__balance}.\")\n",
    "        else:\n",
    "            print(\"Deposit amount must be positive.\")\n",
    "\n",
    "    def withdraw(self, amount):\n",
    "        if 0 < amount <= self.__balance:\n",
    "            self.__balance -= amount\n",
    "            print(f\"Withdrew {amount}. New balance is {self.__balance}.\")\n",
    "        else:\n",
    "            print(\"Insufficient balance or invalid withdrawal amount.\")\n",
    "\n",
    "    def get_balance(self):\n",
    "        return f\"Current balance for {self.account_holder}: {self.__balance}\"\n",
    "\n",
    "# Example usage\n",
    "account = BankAccount(\"John Doe\")\n",
    "account.deposit(500)       # Deposits 500 into the account\n",
    "account.withdraw(200)      # Withdraws 200 from the account\n",
    "print(account.get_balance())  # Displays the current balance\n",
    "\n"
   ]
  },
  {
   "cell_type": "markdown",
   "id": "fa16e541",
   "metadata": {},
   "source": [
    "7. Discuss the concept of interface classes in Python and their role in achieving abstraction."
   ]
  },
  {
   "cell_type": "markdown",
   "id": "83788813",
   "metadata": {},
   "source": [
    "Interface classes in Python define a contract for other classes without providing implementation. They serve as a guide for how other classes should behave, promoting abstraction."
   ]
  },
  {
   "cell_type": "markdown",
   "id": "4ee5f9a2",
   "metadata": {},
   "source": [
    "8. Create a Python class hierarchy for animals and implement abstraction by defining common methods (e.g., `eat()`, `sleep()`) in an abstract base class.\n",
    " "
   ]
  },
  {
   "cell_type": "code",
   "execution_count": 87,
   "id": "2d269be7",
   "metadata": {},
   "outputs": [],
   "source": [
    "from abc import ABC, abstractmethod\n",
    "\n",
    "class Animal(ABC):\n",
    "    @abstractmethod\n",
    "    def eat(self):\n",
    "        pass\n",
    "\n",
    "    @abstractmethod\n",
    "    def sleep(self):\n",
    "        pass\n",
    "\n",
    "class Cat(Animal):\n",
    "    def eat(self):\n",
    "        return \"Cat eats\"\n",
    "\n",
    "    def sleep(self):\n",
    "        return \"Cat sleeps\"\n"
   ]
  },
  {
   "cell_type": "markdown",
   "id": "6f35d8d5",
   "metadata": {},
   "source": [
    "9. Explain the significance of encapsulation in achieving abstraction. Provide examples."
   ]
  },
  {
   "cell_type": "markdown",
   "id": "25ea8e43",
   "metadata": {},
   "source": [
    "**Encapsulation and abstraction** are closely related concepts in object-oriented programming, and encapsulation plays a significant role in achieving abstraction.\n",
    "\n",
    "**Encapsulation** involves bundling the data (attributes) and methods (functions) that operate on the data into a single unit or class while restricting direct access to some of the object's components. This is done using private attributes and providing public methods to interact with them.\n",
    "\n",
    "**Abstraction**, on the other hand, focuses on hiding the complex implementation details and exposing only the essential features to the user. It simplifies interaction with objects by showing the functionality without revealing the internal workings.\n",
    "\n",
    "**How Encapsulation Supports Abstraction:**\n",
    "Encapsulation enforces abstraction by controlling access to an object's internal data, allowing only selected operations (through methods) while hiding the unnecessary implementation details. For example, a bank account class can hide the balance attribute and only allow changes through well-defined methods like deposit() and withdraw(). The user of the class doesn't need to know how the balance is stored or calculated, they just use the methods to interact with it.."
   ]
  },
  {
   "cell_type": "code",
   "execution_count": 88,
   "id": "6ae5f504",
   "metadata": {},
   "outputs": [
    {
     "name": "stdout",
     "output_type": "stream",
     "text": [
      "1000\n",
      "800\n"
     ]
    }
   ],
   "source": [
    "class BankAccount:\n",
    "    def __init__(self):\n",
    "        self.__balance = 0  # Private attribute to hide implementation details\n",
    "\n",
    "    def deposit(self, amount):\n",
    "        if amount > 0:\n",
    "            self.__balance += amount\n",
    "        else:\n",
    "            print(\"Invalid amount\")\n",
    "\n",
    "    def withdraw(self, amount):\n",
    "        if 0 < amount <= self.__balance:\n",
    "            self.__balance -= amount\n",
    "        else:\n",
    "            print(\"Insufficient funds or invalid amount\")\n",
    "\n",
    "    def get_balance(self):\n",
    "        return self.__balance\n",
    "\n",
    "# Example Usage\n",
    "account = BankAccount()\n",
    "account.deposit(1000)\n",
    "print(account.get_balance())  # Access via method, not directly\n",
    "account.withdraw(200)\n",
    "print(account.get_balance())\n",
    "\n"
   ]
  },
  {
   "cell_type": "markdown",
   "id": "2ed68d11",
   "metadata": {},
   "source": [
    "10. What is the purpose of abstract methods, and how do they enforce abstraction in Python classes?\n",
    " "
   ]
  },
  {
   "cell_type": "markdown",
   "id": "23c24047",
   "metadata": {},
   "source": [
    "**Abstract methods** in Python are used to enforce abstraction by defining a blueprint for methods that must be implemented in subclasses. These methods are declared in abstract classes but do not provide any functionality themselves. Instead, subclasses must override and implement them.\n",
    "\n",
    "**Purpose**:\n",
    "Enforce abstraction: Abstract methods ensure that subclasses implement specific methods, defining a common interface that all subclasses must follow.\n",
    "Provide structure: They set a clear contract for developers, specifying which methods need to be implemented in derived classes.\n",
    "\n",
    "**How they enforce abstraction**:\n",
    "When a class contains at least one abstract method, it becomes an abstract class and cannot be instantiated directly. This forces subclasses to provide concrete implementations for those methods, ensuring that they conform to the expected interface."
   ]
  },
  {
   "cell_type": "code",
   "execution_count": 89,
   "id": "71e480b2",
   "metadata": {},
   "outputs": [
    {
     "name": "stdout",
     "output_type": "stream",
     "text": [
      "78.5\n"
     ]
    }
   ],
   "source": [
    "from abc import ABC, abstractmethod\n",
    "\n",
    "class Shape(ABC):\n",
    "    @abstractmethod\n",
    "    def calculate_area(self):\n",
    "        pass  # Abstract method with no implementation\n",
    "\n",
    "class Circle(Shape):\n",
    "    def __init__(self, radius):\n",
    "        self.radius = radius\n",
    "\n",
    "    def calculate_area(self):\n",
    "        return 3.14 * self.radius ** 2  # Concrete implementation\n",
    "\n",
    "# shape = Shape()  # Cannot instantiate abstract class\n",
    "circle = Circle(5)\n",
    "print(circle.calculate_area())  # Output: 78.5\n"
   ]
  },
  {
   "cell_type": "markdown",
   "id": "afab178a",
   "metadata": {},
   "source": [
    "11. Create a Python class for a vehicle system and demonstrate abstraction by defining common methods (e.g., `start()`, `stop()`) in an abstract base class.\n",
    " "
   ]
  },
  {
   "cell_type": "code",
   "execution_count": 90,
   "id": "84b0aab0",
   "metadata": {},
   "outputs": [],
   "source": [
    "from abc import ABC, abstractmethod\n",
    "\n",
    "class Vehicle(ABC):\n",
    "    @abstractmethod\n",
    "    def start(self):\n",
    "        pass\n",
    "\n",
    "    @abstractmethod\n",
    "    def stop(self):\n",
    "        pass\n",
    "\n",
    "class Car(Vehicle):\n",
    "    def start(self):\n",
    "        return \"Car starting\"\n",
    "\n",
    "    def stop(self):\n",
    "        return \"Car stopping\"\n"
   ]
  },
  {
   "cell_type": "markdown",
   "id": "1bbccefb",
   "metadata": {},
   "source": [
    "12. Describe the use of abstract properties in Python and how they can be employed in abstract classes."
   ]
  },
  {
   "cell_type": "markdown",
   "id": "d26414c6",
   "metadata": {},
   "source": [
    "\n",
    "Abstract properties in Python are used to define properties in abstract classes that must be implemented in subclasses. They are part of Python’s abc (Abstract Base Classes) module and allow for the enforcement of property implementation, similar to how abstract methods work. Abstract properties are used when you want to create a consistent interface across subclasses but need to ensure specific attributes (properties) are defined and behave in a certain way.\n",
    "\n",
    "**How they can be employed in abstract classes**:\n",
    "\n",
    "**-Define abstract properties**: Use the @property decorator along with @abstractmethod to declare abstract properties.\n",
    "\n",
    "**-Subclasses must implement properties**: Derived classes are required to provide a concrete implementation of the abstract properties"
   ]
  },
  {
   "cell_type": "code",
   "execution_count": 91,
   "id": "c12b4799",
   "metadata": {},
   "outputs": [
    {
     "name": "stdout",
     "output_type": "stream",
     "text": [
      "60000\n"
     ]
    }
   ],
   "source": [
    "from abc import ABC, abstractmethod\n",
    "\n",
    "class Employee(ABC):\n",
    "    @property\n",
    "    @abstractmethod\n",
    "    def salary(self):\n",
    "        pass\n",
    "\n",
    "class Manager(Employee):\n",
    "    def __init__(self, base_salary):\n",
    "        self._salary = base_salary\n",
    "\n",
    "    @property\n",
    "    def salary(self):\n",
    "        return self._salary\n",
    "\n",
    "manager = Manager(60000)\n",
    "print(manager.salary)  # Output: 60000\n"
   ]
  },
  {
   "cell_type": "markdown",
   "id": "99a7100b",
   "metadata": {},
   "source": [
    "13. Create a Python class hierarchy for employees in a company (e.g., manager, developer, designer) and implement abstraction by defining a common `get_salary()` method.\n",
    " "
   ]
  },
  {
   "cell_type": "code",
   "execution_count": 93,
   "id": "ba253971",
   "metadata": {},
   "outputs": [
    {
     "name": "stdout",
     "output_type": "stream",
     "text": [
      "3000\n",
      "5000\n"
     ]
    }
   ],
   "source": [
    "from abc import ABC, abstractmethod\n",
    "\n",
    "class Employee(ABC):\n",
    "    @abstractmethod\n",
    "    def get_salary(self):\n",
    "        pass\n",
    "\n",
    "class Developer(Employee):\n",
    "    def get_salary(self,salary):\n",
    "        self.salary = salary\n",
    "        return self.salary\n",
    "\n",
    "class Manager(Employee):\n",
    "    def get_salary(self,salary):\n",
    "        self.salary = salary\n",
    "        return self.salary\n",
    "d = Developer()\n",
    "m = Manager()\n",
    "print(m.get_salary(3000))\n",
    "print(d.get_salary(5000))"
   ]
  },
  {
   "cell_type": "markdown",
   "id": "9a5746d9",
   "metadata": {},
   "source": [
    "14. Discuss the differences between abstract classes and concrete classes in Python, including their\n",
    "instantiation.\n",
    " "
   ]
  },
  {
   "cell_type": "markdown",
   "id": "dad98bc6",
   "metadata": {},
   "source": [
    "\n",
    "Abstract classes and concrete classes in Python differ primarily in their purpose, use cases, and how they handle instantiation:\n",
    "\n",
    "**Definition and Purpose:**\n",
    "\n",
    "**Abstract classes**: These are classes that cannot be instantiated directly. They are designed to provide a blueprint for other classes. Abstract classes often include abstract methods (methods that are declared but contain no implementation) that must be implemented by any subclass.\n",
    "\n",
    "**Concrete classes**: These are regular classes that can be instantiated. They contain complete implementations for all methods and are meant to be used to create objects directly.\n",
    "Instantiation:\n",
    "\n",
    "**Abstract classes**: Cannot be instantiated. If you attempt to create an object of an abstract class, Python will raise an error (TypeError). They are meant to be subclassed, and the subclass must provide concrete implementations of all abstract methods.\n",
    "\n",
    "**Concrete classe**s: Can be instantiated directly, meaning you can create objects from them without any restrictions.\n",
    "\n",
    "**Abstract Methods and Properties:**\n",
    "\n",
    "**Abstract classes**: Typically contain one or more abstract methods, which are methods declared using the @abstractmethod decorator from the abc module. These methods don’t have a body in the abstract class and force subclasses to implement them.\n",
    "\n",
    "**Concrete classes**: Have all methods fully implemented and do not have abstract methods.\n",
    "Use Cases:\n",
    "\n",
    "**Abstract classes**: Used when you want to enforce certain methods to be present in all subclasses, ensuring a consistent interface. They are useful in designing frameworks or libraries where specific behavior must be implemented in derived classes.\n",
    "\n",
    "**Concrete classes**: Used when the class is fully defined and can be instantiated to create objects with specific behaviors."
   ]
  },
  {
   "cell_type": "code",
   "execution_count": 94,
   "id": "2ddbc7e4",
   "metadata": {},
   "outputs": [
    {
     "name": "stdout",
     "output_type": "stream",
     "text": [
      "Bark\n"
     ]
    }
   ],
   "source": [
    "from abc import ABC, abstractmethod\n",
    "\n",
    "class Animal(ABC):\n",
    "    @abstractmethod\n",
    "    def sound(self):\n",
    "        pass\n",
    "\n",
    "class Dog(Animal):\n",
    "    def sound(self):\n",
    "        return \"Bark\"\n",
    "\n",
    "# This will work:\n",
    "dog = Dog()\n",
    "print(dog.sound())  # Output: Bark\n",
    "\n",
    "# This will raise an error because Animal is abstract:\n",
    "# animal = Animal()  # TypeError: Can't instantiate abstract class Animal\n"
   ]
  },
  {
   "cell_type": "code",
   "execution_count": 96,
   "id": "4b90fafa",
   "metadata": {},
   "outputs": [
    {
     "name": "stdout",
     "output_type": "stream",
     "text": [
      "Car is starting\n"
     ]
    }
   ],
   "source": [
    "## Concrete class:\n",
    "class Car:\n",
    "    def start(self):\n",
    "        return \"Car is starting\"\n",
    "\n",
    "car = Car()  # Instantiation works fine\n",
    "print(car.start())  # Output: Car is starting\n"
   ]
  },
  {
   "cell_type": "markdown",
   "id": "9f707298",
   "metadata": {},
   "source": [
    "15. Explain the concept of abstract data types (ADTs) and their role in achieving abstraction in Python."
   ]
  },
  {
   "cell_type": "markdown",
   "id": "4229ddc6",
   "metadata": {},
   "source": [
    "**An Abstract Data Type (ADT)** is a theoretical model used to define data structures by their behavior (operations and properties), rather than their implementation details. ADTs focus on what operations can be performed, without specifying how these operations are implemented. This promotes abstraction by hiding the underlying data representation and complexity, allowing developers to work with high-level interfaces.\n",
    "\n",
    "**Key Features of ADTs:**\n",
    "\n",
    "**Encapsulation:** ADTs encapsulate the data and provide operations to manipulate that data without exposing the internal representation.\n",
    "\n",
    "**Interface-based:** ADTs are defined by a set of operations (methods) like insertion, deletion, etc., but don't reveal how these methods are implemented.\n",
    "\n",
    "**Data Hiding:** ADTs emphasize data hiding, ensuring that users interact with the data only through defined methods.\n",
    "\n",
    "**Role of ADTs in Abstraction:**\n",
    "\n",
    "**Data Integrity**: By controlling how data is accessed and modified, ADTs ensure data integrity.\n",
    "\n",
    "**Modularity:** ADTs allow developers to work on different parts of a system independently. One can change the implementation details without affecting how others interact with the data structure.\n",
    "\n",
    "**Code Reusability:** ADTs provide reusable components that can be used across different programs, enhancing modularity and reducing redundancy.\n",
    "\n",
    "**Example of ADTs in Python:**\n",
    "Some examples of ADTs include stacks, queues, and lists. In Python, we can define an ADT for a stack:"
   ]
  },
  {
   "cell_type": "code",
   "execution_count": 97,
   "id": "5cf9e858",
   "metadata": {},
   "outputs": [],
   "source": [
    "class StackADT:\n",
    "    def __init__(self):\n",
    "        self.stack = []\n",
    "\n",
    "    def push(self, item):\n",
    "        self.stack.append(item)\n",
    "\n",
    "    def pop(self):\n",
    "        if not self.is_empty():\n",
    "            return self.stack.pop()\n",
    "        return None\n",
    "\n",
    "    def is_empty(self):\n",
    "        return len(self.stack) == 0\n"
   ]
  },
  {
   "cell_type": "markdown",
   "id": "3696fcb0",
   "metadata": {},
   "source": [
    "16. Create a Python class for a computer system, demonstrating abstraction by defining common methods (e.g., `power_on()`, `shutdown()`) in an abstract base class.\n",
    " "
   ]
  },
  {
   "cell_type": "code",
   "execution_count": 98,
   "id": "c1ec73b9",
   "metadata": {},
   "outputs": [],
   "source": [
    "from abc import ABC, abstractmethod\n",
    "\n",
    "class ComputerSystem(ABC):\n",
    "    @abstractmethod\n",
    "    def power_on(self):\n",
    "        pass\n",
    "\n",
    "    @abstractmethod\n",
    "    def shutdown(self):\n",
    "        pass\n",
    "\n",
    "class Desktop(ComputerSystem):\n",
    "    def power_on(self):\n",
    "        return \"Desktop powering on\"\n",
    "\n",
    "    def shutdown(self):\n",
    "        return \"Desktop shutting down\"\n"
   ]
  },
  {
   "cell_type": "markdown",
   "id": "4fbec68f",
   "metadata": {},
   "source": [
    "17. Discuss the benefits of using abstraction in large-scale software development projects.\n",
    " "
   ]
  },
  {
   "cell_type": "markdown",
   "id": "8869b290",
   "metadata": {},
   "source": [
    "** Benefits of Abstraction in Large-Scale Projects**\n",
    "Abstraction simplifies code management, improves modularity, and enhances maintainability by allowing developers to work at a higher level of design without getting bogged down by implementation details.\n",
    "\n",
    " "
   ]
  },
  {
   "cell_type": "markdown",
   "id": "ec539f32",
   "metadata": {},
   "source": [
    "18. Explain how abstraction enhances code reusability and modularity in Python programs.\n",
    " "
   ]
  },
  {
   "cell_type": "markdown",
   "id": "5a8f1425",
   "metadata": {},
   "source": [
    "**Abstraction and Code Reusability**\n",
    "Abstraction promotes code reusability by allowing developers to define generic interfaces. Different implementations can be swapped without modifying the code that uses them, enhancing modularity."
   ]
  },
  {
   "cell_type": "markdown",
   "id": "ade35aeb",
   "metadata": {},
   "source": [
    "19. Create a Python class for a library system, implementing abstraction by defining common methods (e.g., `add_book()`, `borrow_book()`) in an abstract base class.\n",
    " "
   ]
  },
  {
   "cell_type": "code",
   "execution_count": 99,
   "id": "baf1d084",
   "metadata": {},
   "outputs": [],
   "source": [
    "from abc import ABC, abstractmethod\n",
    "class Library (ABC):\n",
    "    @abstractmethod\n",
    "    def add_book(self):\n",
    "        pass\n",
    "    @abstractmethod\n",
    "    def borow_book(self):\n",
    "        pass\n",
    "class MyLibrary(Library):\n",
    "    \n",
    "    def add_book(self, book):\n",
    "        return f\"{book} added.\"\n",
    "\n",
    "    def borrow_book(self, book):\n",
    "        return f\"{book} borrowed.\""
   ]
  },
  {
   "cell_type": "markdown",
   "id": "3580e2df",
   "metadata": {},
   "source": [
    "20. Describe the concept of method abstraction in Python and how it relates to polymorphism."
   ]
  },
  {
   "cell_type": "markdown",
   "id": "404eadf9",
   "metadata": {},
   "source": [
    "**Method abstraction** in Python refers to the process of hiding the implementation details of a method and only exposing its essential behavior to the user. This is typically achieved using abstract methods, where the method is defined but not implemented in an abstract base class. Subclasses must provide their own implementation for the abstract methods, ensuring that a general interface is followed.\n",
    "\n",
    "This concept is closely related to **polymorphism** because different subclasses can implement the abstract method in their unique ways, while maintaining a common interface. Polymorphism allows these different methods to be used interchangeably through the base class reference.\n",
    "\n",
    "\n",
    "In this example:\n",
    "- `Shape` is an abstract class with an abstract method `area()`.\n",
    "- `Circle` and `Rectangle` implement their own versions of the `area()` method.\n",
    "- **Polymorphism** occurs when instances of `Circle` and `Rectangle` are treated as instances of the `Shape` class, but their respective `area()` implementations are called based on the object’s actual type. \n",
    "\n",
    "Thus, method abstraction ensures a consistent interface, while polymorphism enables flexibility in handling different types of objects."
   ]
  },
  {
   "cell_type": "code",
   "execution_count": 100,
   "id": "44217035",
   "metadata": {},
   "outputs": [],
   "source": [
    "\n",
    "### Example of Method Abstraction:\n",
    "## Using the `abc` module in Python:\n",
    "\n",
    "\n",
    "from abc import ABC, abstractmethod\n",
    "\n",
    "class Shape(ABC):\n",
    "    @abstractmethod\n",
    "    def area(self):\n",
    "        pass\n",
    "\n",
    "class Circle(Shape):\n",
    "    def __init__(self, radius):\n",
    "        self.radius = radius\n",
    "    \n",
    "    def area(self):\n",
    "        return 3.14 * self.radius * self.radius\n",
    "\n",
    "class Rectangle(Shape):\n",
    "    def __init__(self, width, height):\n",
    "        self.width = width\n",
    "        self.height = height\n",
    "    \n",
    "    def area(self):\n",
    "        return self.width * self.height"
   ]
  },
  {
   "cell_type": "markdown",
   "id": "08dee2b0",
   "metadata": {},
   "source": [
    "\n",
    "## Composition:"
   ]
  },
  {
   "cell_type": "markdown",
   "id": "7afe6222",
   "metadata": {},
   "source": [
    "1. Explain the concept of composition in Python and how it is used to build complex objects from simpler ones.\n",
    " ."
   ]
  },
  {
   "cell_type": "markdown",
   "id": "6f86857d",
   "metadata": {},
   "source": [
    "Composition in Python is a design principle where a class is composed of one or more objects from other classes. This allows for building complex objects using simpler, reusable components. For instance, a Car class may include Engine, Wheel, and Transmission objects, allowing for more flexibility and modularity."
   ]
  },
  {
   "cell_type": "markdown",
   "id": "47fcbb74",
   "metadata": {},
   "source": [
    "2. Describe the difference between composition and inheritance in object-oriented programming.\n",
    " "
   ]
  },
  {
   "cell_type": "markdown",
   "id": "644879c4",
   "metadata": {},
   "source": [
    "**Composition**: Creates a \"has-a\" relationship, where one class contains objects of another class. It promotes reusability and flexibility.\n",
    "\n",
    "**Inheritance**: Creates an \"is-a\" relationship, where a subclass derives from a parent class. It promotes code reuse but can lead to a rigid hierarchy."
   ]
  },
  {
   "cell_type": "markdown",
   "id": "0d2d6fbe",
   "metadata": {},
   "source": [
    "3. Create a Python class called `Author` with attributes for name and birthdate. Then, create a `Book` class\n",
    "that contains an instance of `Author` as a composition. Provide an example of creating a `Book` object.\n",
    " "
   ]
  },
  {
   "cell_type": "code",
   "execution_count": 104,
   "id": "25a23188",
   "metadata": {},
   "outputs": [
    {
     "data": {
      "text/plain": [
       "'Ano'"
      ]
     },
     "execution_count": 104,
     "metadata": {},
     "output_type": "execute_result"
    }
   ],
   "source": [
    "class Author:\n",
    "    def __init__(self, name, birthdate):\n",
    "        self.name = name\n",
    "        self.birthdate = birthdate\n",
    "class Book:\n",
    "    def __init__(self, title, author = Author):\n",
    "        self.title=title\n",
    "        self.author = author\n",
    "\n",
    "writer = Author(\"Ano\", \"12-12-1991\")\n",
    "book = Book(\"Love under the same Moon\",writer)\n",
    "book.author.name"
   ]
  },
  {
   "cell_type": "markdown",
   "id": "38374383",
   "metadata": {},
   "source": [
    "4. Discuss the benefits of using composition over inheritance in Python, especially in terms of code flexibility\n",
    "and reusability"
   ]
  },
  {
   "cell_type": "markdown",
   "id": "a3c671e1",
   "metadata": {},
   "source": [
    "Composition offers greater flexibility as it allows you to change or replace components dynamically without affecting the entire class structure. This promotes code reuse, as components can be used in different contexts without inheriting unnecessary methods or properties."
   ]
  },
  {
   "cell_type": "markdown",
   "id": "4472d66d",
   "metadata": {},
   "source": [
    "5. How can you implement composition in Python classes? Provide examples of using composition to create\n",
    "complex objects.\n",
    " "
   ]
  },
  {
   "cell_type": "markdown",
   "id": "a3700f59",
   "metadata": {},
   "source": [
    "Composition can be implemented by including instances of one class within another class. For example, in a House class, you could include instances of Room, Furniture, and Appliance"
   ]
  },
  {
   "cell_type": "code",
   "execution_count": 111,
   "id": "58e3c314",
   "metadata": {},
   "outputs": [
    {
     "name": "stdout",
     "output_type": "stream",
     "text": [
      "Bedroom\n"
     ]
    }
   ],
   "source": [
    "class Room :\n",
    "    def __init__(self,name):\n",
    "        self.name = name\n",
    "    def __str__(self):\n",
    "        return self.name\n",
    "        \n",
    "class House :\n",
    "    def __init__(self):\n",
    "        self.rooms =[]\n",
    "    \n",
    "    def add_room(self,room=Room):\n",
    "        self.rooms.append(room)\n",
    "    \n",
    "    def show_rooms(self):\n",
    "        for room in self.rooms:\n",
    "            print(room)\n",
    "r = Room(\"Bedroom\")\n",
    "my_house = House()\n",
    "my_house.add_room(r)\n",
    "my_house.show_rooms()\n"
   ]
  },
  {
   "cell_type": "markdown",
   "id": "d6314b0f",
   "metadata": {},
   "source": [
    "6. Create a Python class hierarchy for a music player system, using composition to represent playlists and\n",
    "songs.\n",
    " "
   ]
  },
  {
   "cell_type": "code",
   "execution_count": 124,
   "id": "62f91636",
   "metadata": {},
   "outputs": [
    {
     "name": "stdout",
     "output_type": "stream",
     "text": [
      "Song : After Love ,  Artist : Cher\n",
      "Song :  No scrub  ,  Artist : TLC\n",
      "Song :  Delimma   ,  Artist : Nilly & Killy\n"
     ]
    }
   ],
   "source": [
    "class Song : \n",
    "    def __init__(self, title, singer):\n",
    "        self.title=title\n",
    "        self.singer=singer\n",
    "    def __str__(self):\n",
    "        return f\"Song : {self.title.center(10)} ,  Artist : {self.singer}\"\n",
    "\n",
    "class Play_list:\n",
    "    def __init__(self):\n",
    "        self.songs=[]\n",
    "    def add_song (self, song = Song):\n",
    "        self.songs.append(song)\n",
    "    def show_songs(self):\n",
    "        for s in self.songs:\n",
    "            print(s)\n",
    "class Music_player:\n",
    "    def __init__(self):\n",
    "        self.play_lists = []\n",
    "    def create_playlist (self, play_list = Play_list):\n",
    "        self.play_lists.append(play_list)\n",
    "\n",
    "song1 = Song(\"After Love\", \"Cher\")\n",
    "song2 = Song(\"No scrub\", \"TLC\")\n",
    "song3 = Song(\"Delimma\", \"Nilly & Killy\")\n",
    "playlist1 = Play_list()\n",
    "playlist1.add_song(song1)\n",
    "playlist1.add_song(song2)\n",
    "playlist1.add_song(song3)\n",
    "mp=Music_player()\n",
    "mp.create_playlist(playlist1)\n",
    "playlist1.show_songs()"
   ]
  },
  {
   "cell_type": "markdown",
   "id": "da8d68ed",
   "metadata": {},
   "source": [
    "7. Explain the concept of \"has-a\" relationships in composition and how it helps design software systems.\n",
    " "
   ]
  },
  {
   "cell_type": "markdown",
   "id": "1fd6653a",
   "metadata": {},
   "source": [
    "A \"has-a\" relationship indicates that a class contains instances of other classes. This relationship allows for modular design, where complex objects can be built from simpler ones. It enhances code organization and allows for easy updates or changes to components without affecting the entire system."
   ]
  },
  {
   "cell_type": "markdown",
   "id": "060322bc",
   "metadata": {},
   "source": [
    " \n",
    "8. Create a Python class for a computer system, using composition to represent components like CPU, RAM,\n",
    "and storage devices.\n",
    " "
   ]
  },
  {
   "cell_type": "code",
   "execution_count": 125,
   "id": "e90ebd43",
   "metadata": {},
   "outputs": [],
   "source": [
    "class CPU:\n",
    "    def __init__(self, brand):\n",
    "        self.brand = brand\n",
    "\n",
    "class RAM:\n",
    "    def __init__(self, size):\n",
    "        self.size = size\n",
    "\n",
    "class Storage:\n",
    "    def __init__(self, capacity):\n",
    "        self.capacity = capacity\n",
    "\n",
    "class Computer:\n",
    "    def __init__(self, cpu: CPU, ram: RAM, storage: Storage):\n",
    "        self.cpu = cpu\n",
    "        self.ram = ram\n",
    "        self.storage = storage\n",
    "\n",
    "# Example usage\n",
    "computer = Computer(CPU(\"Intel\"), RAM(\"16GB\"), Storage(\"1TB\"))\n"
   ]
  },
  {
   "cell_type": "markdown",
   "id": "216ae662",
   "metadata": {},
   "source": [
    " .\n",
    "9. Describe the concept of \"delegation\" in composition and how it simplifies the design of complex systems.\n",
    " "
   ]
  },
  {
   "cell_type": "markdown",
   "id": "bdf44977",
   "metadata": {},
   "source": [
    "Delegation allows one object to rely on another to perform tasks or responsibilities. In composition, this simplifies complex systems by letting components handle their own logic, which reduces the need for a single class to manage everything. This leads to clearer code and easier maintenance."
   ]
  },
  {
   "cell_type": "markdown",
   "id": "7b1f3cb5",
   "metadata": {},
   "source": [
    "10. Create a Python class for a car, using composition to represent components like the engine, wheels, and\n",
    "transmission."
   ]
  },
  {
   "cell_type": "code",
   "execution_count": 134,
   "id": "b7466c9d",
   "metadata": {},
   "outputs": [
    {
     "data": {
      "text/plain": [
       "'Diesel'"
      ]
     },
     "execution_count": 134,
     "metadata": {},
     "output_type": "execute_result"
    }
   ],
   "source": [
    "class Engine : \n",
    "    def __init__(self,engine_type):\n",
    "        self.engine_type = engine_type\n",
    "class Wheels :\n",
    "    def __init__(self,wheels_type):\n",
    "        self.wheels_type = wheels_type\n",
    "\n",
    "class Transmission:  \n",
    "    def __init__(self, transmission_type):  \n",
    "        self.transmission_type = transmission_type\n",
    "\n",
    "class Car:  \n",
    "    def __init__(self, engine: Engine, wheel: Wheels, transmission: Transmission): \n",
    "        self.engine = engine\n",
    "        self.wheel = wheel\n",
    "        self.transmission = transmission\n",
    "engine = Engine(\"Diesel\") \n",
    "wheel = Wheels(\"RIMS\")\n",
    "transmission = Transmission(\"Automatic\")\n",
    "car = Car(engine, wheel, transmission)\n",
    "car.engine.engine_type\n"
   ]
  },
  {
   "cell_type": "markdown",
   "id": "07df5251",
   "metadata": {},
   "source": [
    "11. How can you encapsulate and hide the details of composed objects in Python classes to maintain\n",
    "abstraction?\n",
    " "
   ]
  },
  {
   "cell_type": "markdown",
   "id": "b0a49f7b",
   "metadata": {},
   "source": [
    "You can encapsulate details by defining private attributes for composed objects and providing public methods to interact with them. This hides the implementation details and exposes only the necessary interfaces for interacting with the objects."
   ]
  },
  {
   "cell_type": "markdown",
   "id": "7c255b42",
   "metadata": {},
   "source": [
    "12. Create a Python class for a university course, using composition to represent students, instructors, and\n",
    "course materials.\n",
    " "
   ]
  },
  {
   "cell_type": "code",
   "execution_count": 135,
   "id": "393bdae3",
   "metadata": {},
   "outputs": [],
   "source": [
    "class Student:\n",
    "    def __init__(self, name):\n",
    "        self.name = name\n",
    "\n",
    "class Instructor:\n",
    "    def __init__(self, name):\n",
    "        self.name = name\n",
    "\n",
    "class CourseMaterial:\n",
    "    def __init__(self, material):\n",
    "        self.material = material\n",
    "\n",
    "class Course:\n",
    "    def __init__(self, instructor: Instructor):\n",
    "        self.instructor = instructor\n",
    "        self.students = []\n",
    "        self.materials = []\n",
    "\n",
    "    def add_student(self, student: Student):\n",
    "        self.students.append(student)\n",
    "\n",
    "    def add_material(self, material: CourseMaterial):\n",
    "        self.materials.append(material)\n",
    "\n",
    "# Example usage\n",
    "course = Course(Instructor(\"Dr. Smith\"))\n",
    "course.add_student(Student(\"Alice\"))\n",
    "course.add_material(CourseMaterial(\"Syllabus\"))\n"
   ]
  },
  {
   "cell_type": "markdown",
   "id": "2098950f",
   "metadata": {},
   "source": [
    "13. Discuss the challenges and drawbacks of composition, such as increased complexity and potential for\n",
    "tight coupling between objects.\n",
    " "
   ]
  },
  {
   "cell_type": "markdown",
   "id": "e1506870",
   "metadata": {},
   "source": [
    "Composition can lead to increased complexity due to the need to manage multiple object lifecycles and interactions. Additionally, it may create tight coupling if composed objects are heavily dependent on each other, making changes more challenging."
   ]
  },
  {
   "cell_type": "markdown",
   "id": "18765b98",
   "metadata": {},
   "source": [
    "14. Create a Python class hierarchy for a restaurant system, using composition to represent menus, dishes,\n",
    "and ingredients.\n",
    " "
   ]
  },
  {
   "cell_type": "code",
   "execution_count": 159,
   "id": "90fd0f66",
   "metadata": {},
   "outputs": [
    {
     "name": "stdout",
     "output_type": "stream",
     "text": [
      "The Menu : \n",
      "fish and chips,=>ingredients : veges, Fish\n",
      "Burger and chips,=>ingredients : veges, Meat\n"
     ]
    }
   ],
   "source": [
    "class Ingredients : \n",
    "    def __init__(self,name):\n",
    "        self.name=name\n",
    "   \n",
    "    def __str__(self):\n",
    "        return self.name\n",
    "class Dish : \n",
    "    def __init__(self,name,ingredients):\n",
    "        self.name = name\n",
    "        self.ingredients = ingredients\n",
    "       \n",
    "    def __str__(self):\n",
    "        ingredients_str = \", \".join(str(ingredient) for ingredient in self.ingredients)\n",
    "        return f\"{self.name}=>ingredients : {ingredients_str}\"\n",
    "class Menu:\n",
    "    def __init__(self):\n",
    "        \n",
    "        self.dishes=[]\n",
    "    def add_dishes (self,dish:Dish):\n",
    "        self.dishes.append(dish)\n",
    "    \n",
    "    def __str__(self):\n",
    "        return \"\\n\".join(str(dish) for dish in self.dishes)\n",
    "    \n",
    "class Resturant : \n",
    "    def __init__(self):\n",
    "        self.menus=[]\n",
    "    def add_menu (self,menu:Menu):\n",
    "        self.menus.append(menu)\n",
    "    \n",
    "    def show(self):\n",
    "        for c, menu in enumerate(self.menus,1):\n",
    "            print(\"The Menu : \")\n",
    "            print(f\"{menu}\")\n",
    "            \n",
    "            \n",
    "ing1 = Ingredients(\"veges\")\n",
    "ing2 = Ingredients(\"Fish\")\n",
    "ing3 = Ingredients(\"Meat\")\n",
    "d1 = Dish(\"fish and chips,\",[ing1,ing2])\n",
    "d2 = Dish(\"Burger and chips,\", [ing1,ing3])\n",
    "m = Menu()\n",
    "m.add_dishes(d1)\n",
    "m.add_dishes(d2)\n",
    "r = Resturant()\n",
    "r.add_menu(m)\n",
    "r.show()\n"
   ]
  },
  {
   "cell_type": "markdown",
   "id": "61a1ac75",
   "metadata": {},
   "source": [
    "15. Explain how composition enhances code maintainability and modularity in Python programs.\n",
    " "
   ]
  },
  {
   "cell_type": "markdown",
   "id": "211c484c",
   "metadata": {},
   "source": [
    "Composition enhances maintainability by allowing you to update or replace components independently without affecting other parts of the system. This modularity makes it easier to understand, test, and debug the code, promoting better organization and collaboration among developers."
   ]
  },
  {
   "cell_type": "markdown",
   "id": "1f995dc6",
   "metadata": {},
   "source": [
    "16. Create a Python class for a computer game character, using composition to represent attributes like\n",
    "weapons, armor, and inventory.\n",
    " "
   ]
  },
  {
   "cell_type": "code",
   "execution_count": 192,
   "id": "474f805c",
   "metadata": {},
   "outputs": [
    {
     "name": "stdout",
     "output_type": "stream",
     "text": [
      "Character: Rambo\n",
      "Weapon:Gun , Damage : 100\n",
      "Armor : vest bullet protection, Defense : 50\n",
      "invetory\n",
      "Item : Bullets, Quantity : 100\n",
      "Item : Bombs, Quantity : 5\n",
      "Rambo attacks with Gun for 100 damage!\n",
      "Rambo defends with vest bullet protection, reducing damage by 50!  \n"
     ]
    }
   ],
   "source": [
    "class Weapon :\n",
    "    def __init__(self,name,damage):\n",
    "        self.name= name\n",
    "        self.damage=damage\n",
    "    def __str__(self):\n",
    "        return f\"Weapon:{self.name} , Damage : {self.damage}\"\n",
    "\n",
    "class Armor:\n",
    "    def __init__(self,name,defense):\n",
    "        self.name=name\n",
    "        self.defense = defense\n",
    "    \n",
    "    def __str__(self):\n",
    "        return f\"Armor : {self.name}, Defense : {self.defense}\"\n",
    "\n",
    "class Inventory:\n",
    "    def __init__(self,name,quantity):\n",
    "        self.name=name\n",
    "        self.quantity = quantity\n",
    "    \n",
    "    def __str__(self):\n",
    "            return f\"Item : {self.name}, Quantity : {self.quantity}\"\n",
    "\n",
    "#character class using composition\n",
    "class Character:\n",
    "    def __init__(self,name, weapon:Weapon, armor : Armor):\n",
    "        self.name=name\n",
    "        self.weapon=weapon\n",
    "        self.armor=armor\n",
    "        self.inventory=[]\n",
    "    \n",
    "    def add_to_inventory(self,item:Inventory):\n",
    "        self.inventory.append(item)\n",
    "        \n",
    "    def show_stats(self):\n",
    "        print(f\"Character: {self.name}\")\n",
    "        print(self.weapon)\n",
    "        print(self.armor)\n",
    "        print(\"invetory\")\n",
    "        if self.inventory:\n",
    "            for item in self.inventory:\n",
    "                 print(item)\n",
    "        else :\n",
    "            print(\"Inventory is empty\")\n",
    "    def attack(self):\n",
    "        print(f\"{self.name} attacks with {self.weapon.name} for {self.weapon.damage} damage!\")\n",
    "    \n",
    "    def defend(self):\n",
    "        print( f\"{self.name} defends with {self.armor.name}, reducing damage by {self.armor.defense}!  \" )\n",
    "        \n",
    "#weapon and Armor       \n",
    "gun = Weapon(\"Gun\", 100)\n",
    "vest_bullet_protection =Armor(\"vest bullet protection\",50)\n",
    "\n",
    "#create a character\n",
    "hero = Character(\"Rambo\",gun,vest_bullet_protection)\n",
    "\n",
    "#Add to inventory \n",
    "bullets = Inventory(\"Bullets\",100)\n",
    "bombs = Inventory(\"Bombs\",5)\n",
    "\n",
    "hero.add_to_inventory(bullets)\n",
    "hero.add_to_inventory(bombs)\n",
    "\n",
    "#Show the character stats \n",
    "hero.show_stats()\n",
    "hero.attack()\n",
    "hero.defend()"
   ]
  },
  {
   "cell_type": "markdown",
   "id": "33ad8700",
   "metadata": {},
   "source": [
    "17. Describe the concept of \"aggregation\" in composition and how it differs from simple composition.\n",
    " "
   ]
  },
  {
   "cell_type": "markdown",
   "id": "6da4bc48",
   "metadata": {},
   "source": [
    "Aggregation is a specialized form of composition where the contained objects can exist independently of the container. In contrast, in simple composition, the contained objects cannot exist without the container. For example, a Team class (aggregation) can exist without its Player objects, while a Car class (composition) cannot exist without its Engine."
   ]
  },
  {
   "cell_type": "markdown",
   "id": "dc1e4ac1",
   "metadata": {},
   "source": [
    "18. Create a Python class for a house, using composition to represent rooms, furniture, and appliances.\n",
    " "
   ]
  },
  {
   "cell_type": "code",
   "execution_count": 206,
   "id": "5092beb2",
   "metadata": {},
   "outputs": [
    {
     "name": "stdout",
     "output_type": "stream",
     "text": [
      "The house has a Living Room\n",
      "The furniture in the room:\n",
      " - Couch\n",
      " - Table\n",
      " - Rug\n",
      "The appliances in the room:\n",
      " - TV\n",
      " - Air Conditioner\n"
     ]
    }
   ],
   "source": [
    "class Appliances:\n",
    "    def __init__(self, name):\n",
    "        self.name = name\n",
    "    \n",
    "    def __str__(self):\n",
    "        return f\"{self.name}\"\n",
    "\n",
    "class Furniture:\n",
    "    def __init__(self, name):\n",
    "        self.name = name\n",
    "    \n",
    "    def __str__(self):\n",
    "        return f\"{self.name}\"\n",
    "\n",
    "class Room:\n",
    "    def __init__(self, name):\n",
    "        self.name = name\n",
    "        self.appliances = []\n",
    "        self.furniture = []\n",
    "\n",
    "    def add_appliance(self, appliance: Appliances):\n",
    "        self.appliances.append(appliance)\n",
    "        \n",
    "    def add_furniture(self, furniture: Furniture):\n",
    "        self.furniture.append(furniture)\n",
    "\n",
    "    def __str__(self):\n",
    "        return self.name\n",
    "\n",
    "class House:\n",
    "    def __init__(self, room: Room):\n",
    "        self.room = room\n",
    "\n",
    "    def display(self):\n",
    "        print(f\"The house has a {self.room}\")\n",
    "        \n",
    "        print(\"The furniture in the room:\")\n",
    "        for furniture in self.room.furniture:\n",
    "            print(f\" - {furniture}\")\n",
    "        \n",
    "        print(\"The appliances in the room:\")\n",
    "        for appliance in self.room.appliances:\n",
    "            print(f\" - {appliance}\")\n",
    "\n",
    "# Example Usage\n",
    "r1 = Room(\"Living Room\")\n",
    "f1 = Furniture(\"Couch\")\n",
    "f2 = Furniture(\"Table\")\n",
    "f3 = Furniture(\"Rug\")\n",
    "a1 = Appliances(\"TV\")\n",
    "a2 = Appliances(\"Air Conditioner\")\n",
    "\n",
    "r1.add_furniture(f1)\n",
    "r1.add_furniture(f2)\n",
    "r1.add_furniture(f3)\n",
    "r1.add_appliance(a1)\n",
    "r1.add_appliance(a2)\n",
    "\n",
    "my_house = House(r1)\n",
    "my_house.display()\n"
   ]
  },
  {
   "cell_type": "markdown",
   "id": "4e90ef65",
   "metadata": {},
   "source": [
    "\n",
    "19. How can you achieve flexibility in composed objects by allowing them to be replaced or modified\n",
    "dynamically at runtime?\n",
    " "
   ]
  },
  {
   "cell_type": "markdown",
   "id": "932bb70f",
   "metadata": {},
   "source": [
    "Flexibility in composed objects can be achieved by allowing for dynamic replacement or modification of their components at runtime. Here are a few strategies:\n",
    "\n",
    "**Using Interfaces or Abstract Base Classes**: Define common interfaces or abstract base classes that all composed objects adhere to. This allows you to swap components without changing the overall structure of the composed object."
   ]
  },
  {
   "cell_type": "code",
   "execution_count": 173,
   "id": "aaa223ce",
   "metadata": {},
   "outputs": [],
   "source": [
    "from abc import ABC ,abstractmethod\n",
    "\n",
    "class Post (ABC): #Base abstract class \n",
    "    @abstractmethod\n",
    "    def display(self):\n",
    "        pass\n",
    "    \n",
    "class TextPost:\n",
    "    def __init__(self,content):\n",
    "        self.content=content\n",
    "        \n",
    "    def display(self): # Must be implemented \n",
    "        return f\"Text: {self.content}\"\n",
    "\n",
    "class ImagePost:\n",
    "    \n",
    "    def __init__(self,image_url):\n",
    "        self.image_url=image_url\n",
    "        \n",
    "    def display(self): # Must be implemented \n",
    "        return f\"Image : {self.image_url}\"\n",
    "    \n",
    "\n"
   ]
  },
  {
   "cell_type": "markdown",
   "id": "c814816f",
   "metadata": {},
   "source": [
    "**Composition with Setters**: Use setter methods to replace or modify components dynamically. This allows for changing the internal state of the composed objects without needing to recreate them."
   ]
  },
  {
   "cell_type": "code",
   "execution_count": 174,
   "id": "7f0b2250",
   "metadata": {},
   "outputs": [],
   "source": [
    "class SocialMedia:\n",
    "    def __init__(self, post):\n",
    "        self.post = post\n",
    "\n",
    "    def update_post(self, new_post):\n",
    "        self.post = new_post\n"
   ]
  },
  {
   "cell_type": "markdown",
   "id": "58e34347",
   "metadata": {},
   "source": [
    "**Dependency Injection**: Pass composed components as parameters to the constructor or through methods. This allows for easy swapping of components at runtime."
   ]
  },
  {
   "cell_type": "code",
   "execution_count": 175,
   "id": "98133545",
   "metadata": {},
   "outputs": [],
   "source": [
    "class Feed:\n",
    "    def __init__(self, posts):\n",
    "        self.posts = posts\n",
    "\n",
    "    def display_feed(self):\n",
    "        for post in self.posts:\n",
    "            print(post.display())\n"
   ]
  },
  {
   "cell_type": "markdown",
   "id": "dbe59ae0",
   "metadata": {},
   "source": [
    "**Dynamic Attributes**: Use Python’s dynamic typing to change attributes on the fly, allowing you to modify how components behave without the need for strict typing.\n",
    "\n",
    "By implementing these techniques, you can create systems where the components can be easily modified or replaced, increasing flexibility and reducing coupling."
   ]
  },
  {
   "cell_type": "markdown",
   "id": "6b463c33",
   "metadata": {},
   "source": [
    "20. Create a Python class for a social media application, using composition to represent users, posts, and\n",
    "comments."
   ]
  },
  {
   "cell_type": "code",
   "execution_count": 170,
   "id": "7e15d242",
   "metadata": {},
   "outputs": [
    {
     "name": "stdout",
     "output_type": "stream",
     "text": [
      "Alice: posted Hello, world!\n",
      "  Bob: Hi Alice!\n",
      "  Charlie: Welcome to social media!\n",
      "Alice: posted Hey guys i'm Hungry\n",
      "  MK: oh Baby call me and lets meet up \n"
     ]
    }
   ],
   "source": [
    "class Comment:\n",
    "    def __init__(self, user, content):\n",
    "        self.user = user\n",
    "        self.content = content\n",
    "    \n",
    "    def __str__(self):\n",
    "        return f\"{self.user}: {self.content}\"\n",
    "\n",
    "class Post:\n",
    "    def __init__(self, user, content):\n",
    "        self.user = user\n",
    "        self.content = content\n",
    "        self.comments = []\n",
    "\n",
    "    def add_comment(self, comment: Comment):   \n",
    "        self.comments.append(comment)\n",
    "\n",
    "    def display_post(self):\n",
    "        print(f\"{self.user}: posted {self.content}\")\n",
    "        for comment in self.comments:   \n",
    "            print(\"  \" + str(comment))   \n",
    "\n",
    "class User:\n",
    "    def __init__(self, username):\n",
    "        self.username = username\n",
    "        self.posts = []\n",
    "    \n",
    "    def create_post(self, content):\n",
    "        post = Post(self.username, content)\n",
    "        self.posts.append(post)\n",
    "        return post\n",
    "\n",
    "# Example usage\n",
    "user1 = User(\"Alice\")\n",
    "post1 = user1.create_post(\"Hello, world!\")\n",
    "post1.add_comment(Comment(\"Bob\", \"Hi Alice!\"))\n",
    "post1.add_comment(Comment(\"Charlie\", \"Welcome to social media!\"))\n",
    "post2=user1.create_post(\"Hey guys i'm Hungry\")\n",
    "post2.add_comment(Comment(\"MK\",\"oh Baby call me and lets meet up \"))\n",
    "\n",
    "# Display the post with comments\n",
    "post1.display_post()\n",
    "post2.display_post()\n",
    "\n"
   ]
  },
  {
   "cell_type": "code",
   "execution_count": null,
   "id": "c77bc0f5",
   "metadata": {},
   "outputs": [],
   "source": []
  }
 ],
 "metadata": {
  "kernelspec": {
   "display_name": "Python 3 (ipykernel)",
   "language": "python",
   "name": "python3"
  },
  "language_info": {
   "codemirror_mode": {
    "name": "ipython",
    "version": 3
   },
   "file_extension": ".py",
   "mimetype": "text/x-python",
   "name": "python",
   "nbconvert_exporter": "python",
   "pygments_lexer": "ipython3",
   "version": "3.9.12"
  }
 },
 "nbformat": 4,
 "nbformat_minor": 5
}
